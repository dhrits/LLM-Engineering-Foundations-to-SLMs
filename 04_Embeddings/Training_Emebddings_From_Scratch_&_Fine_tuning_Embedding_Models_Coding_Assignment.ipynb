{
  "nbformat": 4,
  "nbformat_minor": 0,
  "metadata": {
    "colab": {
      "provenance": [],
      "machine_shape": "hm",
      "gpuType": "L4",
      "toc_visible": true,
      "include_colab_link": true
    },
    "kernelspec": {
      "name": "python3",
      "display_name": "Python 3"
    },
    "language_info": {
      "name": "python"
    },
    "accelerator": "GPU",
    "widgets": {
      "application/vnd.jupyter.widget-state+json": {
        "55ea7cb3609f4e138e1c7c17a93203c3": {
          "model_module": "@jupyter-widgets/controls",
          "model_name": "HBoxModel",
          "model_module_version": "1.5.0",
          "state": {
            "_dom_classes": [],
            "_model_module": "@jupyter-widgets/controls",
            "_model_module_version": "1.5.0",
            "_model_name": "HBoxModel",
            "_view_count": null,
            "_view_module": "@jupyter-widgets/controls",
            "_view_module_version": "1.5.0",
            "_view_name": "HBoxView",
            "box_style": "",
            "children": [
              "IPY_MODEL_2bdf54d17b3246cf8f1d045413e6e9df",
              "IPY_MODEL_c64d9a0379fa4988affb8d783e397836",
              "IPY_MODEL_21a1eac162d047bdbfd641161f8b91db"
            ],
            "layout": "IPY_MODEL_008aba61b0c043a3ae3b351f7684ff42"
          }
        },
        "2bdf54d17b3246cf8f1d045413e6e9df": {
          "model_module": "@jupyter-widgets/controls",
          "model_name": "HTMLModel",
          "model_module_version": "1.5.0",
          "state": {
            "_dom_classes": [],
            "_model_module": "@jupyter-widgets/controls",
            "_model_module_version": "1.5.0",
            "_model_name": "HTMLModel",
            "_view_count": null,
            "_view_module": "@jupyter-widgets/controls",
            "_view_module_version": "1.5.0",
            "_view_name": "HTMLView",
            "description": "",
            "description_tooltip": null,
            "layout": "IPY_MODEL_6091276eb46b492ab480a128dc8c6432",
            "placeholder": "​",
            "style": "IPY_MODEL_0c0fa6c348d840d4814fc90e8fb83101",
            "value": "modules.json: 100%"
          }
        },
        "c64d9a0379fa4988affb8d783e397836": {
          "model_module": "@jupyter-widgets/controls",
          "model_name": "FloatProgressModel",
          "model_module_version": "1.5.0",
          "state": {
            "_dom_classes": [],
            "_model_module": "@jupyter-widgets/controls",
            "_model_module_version": "1.5.0",
            "_model_name": "FloatProgressModel",
            "_view_count": null,
            "_view_module": "@jupyter-widgets/controls",
            "_view_module_version": "1.5.0",
            "_view_name": "ProgressView",
            "bar_style": "success",
            "description": "",
            "description_tooltip": null,
            "layout": "IPY_MODEL_17e178cf19e743ddb1dbebab3c4b2b82",
            "max": 349,
            "min": 0,
            "orientation": "horizontal",
            "style": "IPY_MODEL_618e2b5a83534b79adf08ddda7236793",
            "value": 349
          }
        },
        "21a1eac162d047bdbfd641161f8b91db": {
          "model_module": "@jupyter-widgets/controls",
          "model_name": "HTMLModel",
          "model_module_version": "1.5.0",
          "state": {
            "_dom_classes": [],
            "_model_module": "@jupyter-widgets/controls",
            "_model_module_version": "1.5.0",
            "_model_name": "HTMLModel",
            "_view_count": null,
            "_view_module": "@jupyter-widgets/controls",
            "_view_module_version": "1.5.0",
            "_view_name": "HTMLView",
            "description": "",
            "description_tooltip": null,
            "layout": "IPY_MODEL_ba9f05347aa54cd4b7a0f2dcd588fa12",
            "placeholder": "​",
            "style": "IPY_MODEL_9babf01b46214da2aca53f64141faf5d",
            "value": " 349/349 [00:00&lt;00:00, 27.2kB/s]"
          }
        },
        "008aba61b0c043a3ae3b351f7684ff42": {
          "model_module": "@jupyter-widgets/base",
          "model_name": "LayoutModel",
          "model_module_version": "1.2.0",
          "state": {
            "_model_module": "@jupyter-widgets/base",
            "_model_module_version": "1.2.0",
            "_model_name": "LayoutModel",
            "_view_count": null,
            "_view_module": "@jupyter-widgets/base",
            "_view_module_version": "1.2.0",
            "_view_name": "LayoutView",
            "align_content": null,
            "align_items": null,
            "align_self": null,
            "border": null,
            "bottom": null,
            "display": null,
            "flex": null,
            "flex_flow": null,
            "grid_area": null,
            "grid_auto_columns": null,
            "grid_auto_flow": null,
            "grid_auto_rows": null,
            "grid_column": null,
            "grid_gap": null,
            "grid_row": null,
            "grid_template_areas": null,
            "grid_template_columns": null,
            "grid_template_rows": null,
            "height": null,
            "justify_content": null,
            "justify_items": null,
            "left": null,
            "margin": null,
            "max_height": null,
            "max_width": null,
            "min_height": null,
            "min_width": null,
            "object_fit": null,
            "object_position": null,
            "order": null,
            "overflow": null,
            "overflow_x": null,
            "overflow_y": null,
            "padding": null,
            "right": null,
            "top": null,
            "visibility": null,
            "width": null
          }
        },
        "6091276eb46b492ab480a128dc8c6432": {
          "model_module": "@jupyter-widgets/base",
          "model_name": "LayoutModel",
          "model_module_version": "1.2.0",
          "state": {
            "_model_module": "@jupyter-widgets/base",
            "_model_module_version": "1.2.0",
            "_model_name": "LayoutModel",
            "_view_count": null,
            "_view_module": "@jupyter-widgets/base",
            "_view_module_version": "1.2.0",
            "_view_name": "LayoutView",
            "align_content": null,
            "align_items": null,
            "align_self": null,
            "border": null,
            "bottom": null,
            "display": null,
            "flex": null,
            "flex_flow": null,
            "grid_area": null,
            "grid_auto_columns": null,
            "grid_auto_flow": null,
            "grid_auto_rows": null,
            "grid_column": null,
            "grid_gap": null,
            "grid_row": null,
            "grid_template_areas": null,
            "grid_template_columns": null,
            "grid_template_rows": null,
            "height": null,
            "justify_content": null,
            "justify_items": null,
            "left": null,
            "margin": null,
            "max_height": null,
            "max_width": null,
            "min_height": null,
            "min_width": null,
            "object_fit": null,
            "object_position": null,
            "order": null,
            "overflow": null,
            "overflow_x": null,
            "overflow_y": null,
            "padding": null,
            "right": null,
            "top": null,
            "visibility": null,
            "width": null
          }
        },
        "0c0fa6c348d840d4814fc90e8fb83101": {
          "model_module": "@jupyter-widgets/controls",
          "model_name": "DescriptionStyleModel",
          "model_module_version": "1.5.0",
          "state": {
            "_model_module": "@jupyter-widgets/controls",
            "_model_module_version": "1.5.0",
            "_model_name": "DescriptionStyleModel",
            "_view_count": null,
            "_view_module": "@jupyter-widgets/base",
            "_view_module_version": "1.2.0",
            "_view_name": "StyleView",
            "description_width": ""
          }
        },
        "17e178cf19e743ddb1dbebab3c4b2b82": {
          "model_module": "@jupyter-widgets/base",
          "model_name": "LayoutModel",
          "model_module_version": "1.2.0",
          "state": {
            "_model_module": "@jupyter-widgets/base",
            "_model_module_version": "1.2.0",
            "_model_name": "LayoutModel",
            "_view_count": null,
            "_view_module": "@jupyter-widgets/base",
            "_view_module_version": "1.2.0",
            "_view_name": "LayoutView",
            "align_content": null,
            "align_items": null,
            "align_self": null,
            "border": null,
            "bottom": null,
            "display": null,
            "flex": null,
            "flex_flow": null,
            "grid_area": null,
            "grid_auto_columns": null,
            "grid_auto_flow": null,
            "grid_auto_rows": null,
            "grid_column": null,
            "grid_gap": null,
            "grid_row": null,
            "grid_template_areas": null,
            "grid_template_columns": null,
            "grid_template_rows": null,
            "height": null,
            "justify_content": null,
            "justify_items": null,
            "left": null,
            "margin": null,
            "max_height": null,
            "max_width": null,
            "min_height": null,
            "min_width": null,
            "object_fit": null,
            "object_position": null,
            "order": null,
            "overflow": null,
            "overflow_x": null,
            "overflow_y": null,
            "padding": null,
            "right": null,
            "top": null,
            "visibility": null,
            "width": null
          }
        },
        "618e2b5a83534b79adf08ddda7236793": {
          "model_module": "@jupyter-widgets/controls",
          "model_name": "ProgressStyleModel",
          "model_module_version": "1.5.0",
          "state": {
            "_model_module": "@jupyter-widgets/controls",
            "_model_module_version": "1.5.0",
            "_model_name": "ProgressStyleModel",
            "_view_count": null,
            "_view_module": "@jupyter-widgets/base",
            "_view_module_version": "1.2.0",
            "_view_name": "StyleView",
            "bar_color": null,
            "description_width": ""
          }
        },
        "ba9f05347aa54cd4b7a0f2dcd588fa12": {
          "model_module": "@jupyter-widgets/base",
          "model_name": "LayoutModel",
          "model_module_version": "1.2.0",
          "state": {
            "_model_module": "@jupyter-widgets/base",
            "_model_module_version": "1.2.0",
            "_model_name": "LayoutModel",
            "_view_count": null,
            "_view_module": "@jupyter-widgets/base",
            "_view_module_version": "1.2.0",
            "_view_name": "LayoutView",
            "align_content": null,
            "align_items": null,
            "align_self": null,
            "border": null,
            "bottom": null,
            "display": null,
            "flex": null,
            "flex_flow": null,
            "grid_area": null,
            "grid_auto_columns": null,
            "grid_auto_flow": null,
            "grid_auto_rows": null,
            "grid_column": null,
            "grid_gap": null,
            "grid_row": null,
            "grid_template_areas": null,
            "grid_template_columns": null,
            "grid_template_rows": null,
            "height": null,
            "justify_content": null,
            "justify_items": null,
            "left": null,
            "margin": null,
            "max_height": null,
            "max_width": null,
            "min_height": null,
            "min_width": null,
            "object_fit": null,
            "object_position": null,
            "order": null,
            "overflow": null,
            "overflow_x": null,
            "overflow_y": null,
            "padding": null,
            "right": null,
            "top": null,
            "visibility": null,
            "width": null
          }
        },
        "9babf01b46214da2aca53f64141faf5d": {
          "model_module": "@jupyter-widgets/controls",
          "model_name": "DescriptionStyleModel",
          "model_module_version": "1.5.0",
          "state": {
            "_model_module": "@jupyter-widgets/controls",
            "_model_module_version": "1.5.0",
            "_model_name": "DescriptionStyleModel",
            "_view_count": null,
            "_view_module": "@jupyter-widgets/base",
            "_view_module_version": "1.2.0",
            "_view_name": "StyleView",
            "description_width": ""
          }
        },
        "82b1774633b04afbbb550a8bf1c2136c": {
          "model_module": "@jupyter-widgets/controls",
          "model_name": "HBoxModel",
          "model_module_version": "1.5.0",
          "state": {
            "_dom_classes": [],
            "_model_module": "@jupyter-widgets/controls",
            "_model_module_version": "1.5.0",
            "_model_name": "HBoxModel",
            "_view_count": null,
            "_view_module": "@jupyter-widgets/controls",
            "_view_module_version": "1.5.0",
            "_view_name": "HBoxView",
            "box_style": "",
            "children": [
              "IPY_MODEL_0b9da8331c5749c8858e63d5adbdc0a1",
              "IPY_MODEL_63bd5ade81674d93890b09af4b7779da",
              "IPY_MODEL_cdb41fe1ddd1433584df09939c0fbff3"
            ],
            "layout": "IPY_MODEL_d1513ba6e8d54dafa37ce4fd4a0479e8"
          }
        },
        "0b9da8331c5749c8858e63d5adbdc0a1": {
          "model_module": "@jupyter-widgets/controls",
          "model_name": "HTMLModel",
          "model_module_version": "1.5.0",
          "state": {
            "_dom_classes": [],
            "_model_module": "@jupyter-widgets/controls",
            "_model_module_version": "1.5.0",
            "_model_name": "HTMLModel",
            "_view_count": null,
            "_view_module": "@jupyter-widgets/controls",
            "_view_module_version": "1.5.0",
            "_view_name": "HTMLView",
            "description": "",
            "description_tooltip": null,
            "layout": "IPY_MODEL_ae0379d0b8da488d93eb30c832156903",
            "placeholder": "​",
            "style": "IPY_MODEL_318b4f4a8f21401484acbb9da5f558ad",
            "value": "config_sentence_transformers.json: 100%"
          }
        },
        "63bd5ade81674d93890b09af4b7779da": {
          "model_module": "@jupyter-widgets/controls",
          "model_name": "FloatProgressModel",
          "model_module_version": "1.5.0",
          "state": {
            "_dom_classes": [],
            "_model_module": "@jupyter-widgets/controls",
            "_model_module_version": "1.5.0",
            "_model_name": "FloatProgressModel",
            "_view_count": null,
            "_view_module": "@jupyter-widgets/controls",
            "_view_module_version": "1.5.0",
            "_view_name": "ProgressView",
            "bar_style": "success",
            "description": "",
            "description_tooltip": null,
            "layout": "IPY_MODEL_2b802f0900804befb7da9086221369be",
            "max": 124,
            "min": 0,
            "orientation": "horizontal",
            "style": "IPY_MODEL_d0f202fdf4054f5f9729e28f07bbd49f",
            "value": 124
          }
        },
        "cdb41fe1ddd1433584df09939c0fbff3": {
          "model_module": "@jupyter-widgets/controls",
          "model_name": "HTMLModel",
          "model_module_version": "1.5.0",
          "state": {
            "_dom_classes": [],
            "_model_module": "@jupyter-widgets/controls",
            "_model_module_version": "1.5.0",
            "_model_name": "HTMLModel",
            "_view_count": null,
            "_view_module": "@jupyter-widgets/controls",
            "_view_module_version": "1.5.0",
            "_view_name": "HTMLView",
            "description": "",
            "description_tooltip": null,
            "layout": "IPY_MODEL_628c9a21bdc849549a531fbab3ff1c94",
            "placeholder": "​",
            "style": "IPY_MODEL_0f4198ddc0cd4ab7a7ea9bed85153c11",
            "value": " 124/124 [00:00&lt;00:00, 10.1kB/s]"
          }
        },
        "d1513ba6e8d54dafa37ce4fd4a0479e8": {
          "model_module": "@jupyter-widgets/base",
          "model_name": "LayoutModel",
          "model_module_version": "1.2.0",
          "state": {
            "_model_module": "@jupyter-widgets/base",
            "_model_module_version": "1.2.0",
            "_model_name": "LayoutModel",
            "_view_count": null,
            "_view_module": "@jupyter-widgets/base",
            "_view_module_version": "1.2.0",
            "_view_name": "LayoutView",
            "align_content": null,
            "align_items": null,
            "align_self": null,
            "border": null,
            "bottom": null,
            "display": null,
            "flex": null,
            "flex_flow": null,
            "grid_area": null,
            "grid_auto_columns": null,
            "grid_auto_flow": null,
            "grid_auto_rows": null,
            "grid_column": null,
            "grid_gap": null,
            "grid_row": null,
            "grid_template_areas": null,
            "grid_template_columns": null,
            "grid_template_rows": null,
            "height": null,
            "justify_content": null,
            "justify_items": null,
            "left": null,
            "margin": null,
            "max_height": null,
            "max_width": null,
            "min_height": null,
            "min_width": null,
            "object_fit": null,
            "object_position": null,
            "order": null,
            "overflow": null,
            "overflow_x": null,
            "overflow_y": null,
            "padding": null,
            "right": null,
            "top": null,
            "visibility": null,
            "width": null
          }
        },
        "ae0379d0b8da488d93eb30c832156903": {
          "model_module": "@jupyter-widgets/base",
          "model_name": "LayoutModel",
          "model_module_version": "1.2.0",
          "state": {
            "_model_module": "@jupyter-widgets/base",
            "_model_module_version": "1.2.0",
            "_model_name": "LayoutModel",
            "_view_count": null,
            "_view_module": "@jupyter-widgets/base",
            "_view_module_version": "1.2.0",
            "_view_name": "LayoutView",
            "align_content": null,
            "align_items": null,
            "align_self": null,
            "border": null,
            "bottom": null,
            "display": null,
            "flex": null,
            "flex_flow": null,
            "grid_area": null,
            "grid_auto_columns": null,
            "grid_auto_flow": null,
            "grid_auto_rows": null,
            "grid_column": null,
            "grid_gap": null,
            "grid_row": null,
            "grid_template_areas": null,
            "grid_template_columns": null,
            "grid_template_rows": null,
            "height": null,
            "justify_content": null,
            "justify_items": null,
            "left": null,
            "margin": null,
            "max_height": null,
            "max_width": null,
            "min_height": null,
            "min_width": null,
            "object_fit": null,
            "object_position": null,
            "order": null,
            "overflow": null,
            "overflow_x": null,
            "overflow_y": null,
            "padding": null,
            "right": null,
            "top": null,
            "visibility": null,
            "width": null
          }
        },
        "318b4f4a8f21401484acbb9da5f558ad": {
          "model_module": "@jupyter-widgets/controls",
          "model_name": "DescriptionStyleModel",
          "model_module_version": "1.5.0",
          "state": {
            "_model_module": "@jupyter-widgets/controls",
            "_model_module_version": "1.5.0",
            "_model_name": "DescriptionStyleModel",
            "_view_count": null,
            "_view_module": "@jupyter-widgets/base",
            "_view_module_version": "1.2.0",
            "_view_name": "StyleView",
            "description_width": ""
          }
        },
        "2b802f0900804befb7da9086221369be": {
          "model_module": "@jupyter-widgets/base",
          "model_name": "LayoutModel",
          "model_module_version": "1.2.0",
          "state": {
            "_model_module": "@jupyter-widgets/base",
            "_model_module_version": "1.2.0",
            "_model_name": "LayoutModel",
            "_view_count": null,
            "_view_module": "@jupyter-widgets/base",
            "_view_module_version": "1.2.0",
            "_view_name": "LayoutView",
            "align_content": null,
            "align_items": null,
            "align_self": null,
            "border": null,
            "bottom": null,
            "display": null,
            "flex": null,
            "flex_flow": null,
            "grid_area": null,
            "grid_auto_columns": null,
            "grid_auto_flow": null,
            "grid_auto_rows": null,
            "grid_column": null,
            "grid_gap": null,
            "grid_row": null,
            "grid_template_areas": null,
            "grid_template_columns": null,
            "grid_template_rows": null,
            "height": null,
            "justify_content": null,
            "justify_items": null,
            "left": null,
            "margin": null,
            "max_height": null,
            "max_width": null,
            "min_height": null,
            "min_width": null,
            "object_fit": null,
            "object_position": null,
            "order": null,
            "overflow": null,
            "overflow_x": null,
            "overflow_y": null,
            "padding": null,
            "right": null,
            "top": null,
            "visibility": null,
            "width": null
          }
        },
        "d0f202fdf4054f5f9729e28f07bbd49f": {
          "model_module": "@jupyter-widgets/controls",
          "model_name": "ProgressStyleModel",
          "model_module_version": "1.5.0",
          "state": {
            "_model_module": "@jupyter-widgets/controls",
            "_model_module_version": "1.5.0",
            "_model_name": "ProgressStyleModel",
            "_view_count": null,
            "_view_module": "@jupyter-widgets/base",
            "_view_module_version": "1.2.0",
            "_view_name": "StyleView",
            "bar_color": null,
            "description_width": ""
          }
        },
        "628c9a21bdc849549a531fbab3ff1c94": {
          "model_module": "@jupyter-widgets/base",
          "model_name": "LayoutModel",
          "model_module_version": "1.2.0",
          "state": {
            "_model_module": "@jupyter-widgets/base",
            "_model_module_version": "1.2.0",
            "_model_name": "LayoutModel",
            "_view_count": null,
            "_view_module": "@jupyter-widgets/base",
            "_view_module_version": "1.2.0",
            "_view_name": "LayoutView",
            "align_content": null,
            "align_items": null,
            "align_self": null,
            "border": null,
            "bottom": null,
            "display": null,
            "flex": null,
            "flex_flow": null,
            "grid_area": null,
            "grid_auto_columns": null,
            "grid_auto_flow": null,
            "grid_auto_rows": null,
            "grid_column": null,
            "grid_gap": null,
            "grid_row": null,
            "grid_template_areas": null,
            "grid_template_columns": null,
            "grid_template_rows": null,
            "height": null,
            "justify_content": null,
            "justify_items": null,
            "left": null,
            "margin": null,
            "max_height": null,
            "max_width": null,
            "min_height": null,
            "min_width": null,
            "object_fit": null,
            "object_position": null,
            "order": null,
            "overflow": null,
            "overflow_x": null,
            "overflow_y": null,
            "padding": null,
            "right": null,
            "top": null,
            "visibility": null,
            "width": null
          }
        },
        "0f4198ddc0cd4ab7a7ea9bed85153c11": {
          "model_module": "@jupyter-widgets/controls",
          "model_name": "DescriptionStyleModel",
          "model_module_version": "1.5.0",
          "state": {
            "_model_module": "@jupyter-widgets/controls",
            "_model_module_version": "1.5.0",
            "_model_name": "DescriptionStyleModel",
            "_view_count": null,
            "_view_module": "@jupyter-widgets/base",
            "_view_module_version": "1.2.0",
            "_view_name": "StyleView",
            "description_width": ""
          }
        },
        "bd2f48a2b52147ffaaabfc75d3b5ae3e": {
          "model_module": "@jupyter-widgets/controls",
          "model_name": "HBoxModel",
          "model_module_version": "1.5.0",
          "state": {
            "_dom_classes": [],
            "_model_module": "@jupyter-widgets/controls",
            "_model_module_version": "1.5.0",
            "_model_name": "HBoxModel",
            "_view_count": null,
            "_view_module": "@jupyter-widgets/controls",
            "_view_module_version": "1.5.0",
            "_view_name": "HBoxView",
            "box_style": "",
            "children": [
              "IPY_MODEL_9e1e2def823f467597d96ea18ebd215e",
              "IPY_MODEL_539b2bcdb0f94fd8b22a4e3ec3260aa6",
              "IPY_MODEL_c9fcadbe8cb7413ab6e7abae2e716b80"
            ],
            "layout": "IPY_MODEL_55bbdcc805934fe88b474a35c0e2d0e8"
          }
        },
        "9e1e2def823f467597d96ea18ebd215e": {
          "model_module": "@jupyter-widgets/controls",
          "model_name": "HTMLModel",
          "model_module_version": "1.5.0",
          "state": {
            "_dom_classes": [],
            "_model_module": "@jupyter-widgets/controls",
            "_model_module_version": "1.5.0",
            "_model_name": "HTMLModel",
            "_view_count": null,
            "_view_module": "@jupyter-widgets/controls",
            "_view_module_version": "1.5.0",
            "_view_name": "HTMLView",
            "description": "",
            "description_tooltip": null,
            "layout": "IPY_MODEL_f15d5104fd2241308fce6b379442df04",
            "placeholder": "​",
            "style": "IPY_MODEL_94ebb10654954ce68fccb18c17cf0c67",
            "value": "README.md: 100%"
          }
        },
        "539b2bcdb0f94fd8b22a4e3ec3260aa6": {
          "model_module": "@jupyter-widgets/controls",
          "model_name": "FloatProgressModel",
          "model_module_version": "1.5.0",
          "state": {
            "_dom_classes": [],
            "_model_module": "@jupyter-widgets/controls",
            "_model_module_version": "1.5.0",
            "_model_name": "FloatProgressModel",
            "_view_count": null,
            "_view_module": "@jupyter-widgets/controls",
            "_view_module_version": "1.5.0",
            "_view_name": "ProgressView",
            "bar_style": "success",
            "description": "",
            "description_tooltip": null,
            "layout": "IPY_MODEL_425e715589274e94ad5284872725e3be",
            "max": 90797,
            "min": 0,
            "orientation": "horizontal",
            "style": "IPY_MODEL_83a227aa969d44caa1b7a0634601fe9a",
            "value": 90797
          }
        },
        "c9fcadbe8cb7413ab6e7abae2e716b80": {
          "model_module": "@jupyter-widgets/controls",
          "model_name": "HTMLModel",
          "model_module_version": "1.5.0",
          "state": {
            "_dom_classes": [],
            "_model_module": "@jupyter-widgets/controls",
            "_model_module_version": "1.5.0",
            "_model_name": "HTMLModel",
            "_view_count": null,
            "_view_module": "@jupyter-widgets/controls",
            "_view_module_version": "1.5.0",
            "_view_name": "HTMLView",
            "description": "",
            "description_tooltip": null,
            "layout": "IPY_MODEL_98cae2f2c0be41518c47f1b02345a4cb",
            "placeholder": "​",
            "style": "IPY_MODEL_6318eb293c7947ccbe7ea8be723f5323",
            "value": " 90.8k/90.8k [00:00&lt;00:00, 4.30MB/s]"
          }
        },
        "55bbdcc805934fe88b474a35c0e2d0e8": {
          "model_module": "@jupyter-widgets/base",
          "model_name": "LayoutModel",
          "model_module_version": "1.2.0",
          "state": {
            "_model_module": "@jupyter-widgets/base",
            "_model_module_version": "1.2.0",
            "_model_name": "LayoutModel",
            "_view_count": null,
            "_view_module": "@jupyter-widgets/base",
            "_view_module_version": "1.2.0",
            "_view_name": "LayoutView",
            "align_content": null,
            "align_items": null,
            "align_self": null,
            "border": null,
            "bottom": null,
            "display": null,
            "flex": null,
            "flex_flow": null,
            "grid_area": null,
            "grid_auto_columns": null,
            "grid_auto_flow": null,
            "grid_auto_rows": null,
            "grid_column": null,
            "grid_gap": null,
            "grid_row": null,
            "grid_template_areas": null,
            "grid_template_columns": null,
            "grid_template_rows": null,
            "height": null,
            "justify_content": null,
            "justify_items": null,
            "left": null,
            "margin": null,
            "max_height": null,
            "max_width": null,
            "min_height": null,
            "min_width": null,
            "object_fit": null,
            "object_position": null,
            "order": null,
            "overflow": null,
            "overflow_x": null,
            "overflow_y": null,
            "padding": null,
            "right": null,
            "top": null,
            "visibility": null,
            "width": null
          }
        },
        "f15d5104fd2241308fce6b379442df04": {
          "model_module": "@jupyter-widgets/base",
          "model_name": "LayoutModel",
          "model_module_version": "1.2.0",
          "state": {
            "_model_module": "@jupyter-widgets/base",
            "_model_module_version": "1.2.0",
            "_model_name": "LayoutModel",
            "_view_count": null,
            "_view_module": "@jupyter-widgets/base",
            "_view_module_version": "1.2.0",
            "_view_name": "LayoutView",
            "align_content": null,
            "align_items": null,
            "align_self": null,
            "border": null,
            "bottom": null,
            "display": null,
            "flex": null,
            "flex_flow": null,
            "grid_area": null,
            "grid_auto_columns": null,
            "grid_auto_flow": null,
            "grid_auto_rows": null,
            "grid_column": null,
            "grid_gap": null,
            "grid_row": null,
            "grid_template_areas": null,
            "grid_template_columns": null,
            "grid_template_rows": null,
            "height": null,
            "justify_content": null,
            "justify_items": null,
            "left": null,
            "margin": null,
            "max_height": null,
            "max_width": null,
            "min_height": null,
            "min_width": null,
            "object_fit": null,
            "object_position": null,
            "order": null,
            "overflow": null,
            "overflow_x": null,
            "overflow_y": null,
            "padding": null,
            "right": null,
            "top": null,
            "visibility": null,
            "width": null
          }
        },
        "94ebb10654954ce68fccb18c17cf0c67": {
          "model_module": "@jupyter-widgets/controls",
          "model_name": "DescriptionStyleModel",
          "model_module_version": "1.5.0",
          "state": {
            "_model_module": "@jupyter-widgets/controls",
            "_model_module_version": "1.5.0",
            "_model_name": "DescriptionStyleModel",
            "_view_count": null,
            "_view_module": "@jupyter-widgets/base",
            "_view_module_version": "1.2.0",
            "_view_name": "StyleView",
            "description_width": ""
          }
        },
        "425e715589274e94ad5284872725e3be": {
          "model_module": "@jupyter-widgets/base",
          "model_name": "LayoutModel",
          "model_module_version": "1.2.0",
          "state": {
            "_model_module": "@jupyter-widgets/base",
            "_model_module_version": "1.2.0",
            "_model_name": "LayoutModel",
            "_view_count": null,
            "_view_module": "@jupyter-widgets/base",
            "_view_module_version": "1.2.0",
            "_view_name": "LayoutView",
            "align_content": null,
            "align_items": null,
            "align_self": null,
            "border": null,
            "bottom": null,
            "display": null,
            "flex": null,
            "flex_flow": null,
            "grid_area": null,
            "grid_auto_columns": null,
            "grid_auto_flow": null,
            "grid_auto_rows": null,
            "grid_column": null,
            "grid_gap": null,
            "grid_row": null,
            "grid_template_areas": null,
            "grid_template_columns": null,
            "grid_template_rows": null,
            "height": null,
            "justify_content": null,
            "justify_items": null,
            "left": null,
            "margin": null,
            "max_height": null,
            "max_width": null,
            "min_height": null,
            "min_width": null,
            "object_fit": null,
            "object_position": null,
            "order": null,
            "overflow": null,
            "overflow_x": null,
            "overflow_y": null,
            "padding": null,
            "right": null,
            "top": null,
            "visibility": null,
            "width": null
          }
        },
        "83a227aa969d44caa1b7a0634601fe9a": {
          "model_module": "@jupyter-widgets/controls",
          "model_name": "ProgressStyleModel",
          "model_module_version": "1.5.0",
          "state": {
            "_model_module": "@jupyter-widgets/controls",
            "_model_module_version": "1.5.0",
            "_model_name": "ProgressStyleModel",
            "_view_count": null,
            "_view_module": "@jupyter-widgets/base",
            "_view_module_version": "1.2.0",
            "_view_name": "StyleView",
            "bar_color": null,
            "description_width": ""
          }
        },
        "98cae2f2c0be41518c47f1b02345a4cb": {
          "model_module": "@jupyter-widgets/base",
          "model_name": "LayoutModel",
          "model_module_version": "1.2.0",
          "state": {
            "_model_module": "@jupyter-widgets/base",
            "_model_module_version": "1.2.0",
            "_model_name": "LayoutModel",
            "_view_count": null,
            "_view_module": "@jupyter-widgets/base",
            "_view_module_version": "1.2.0",
            "_view_name": "LayoutView",
            "align_content": null,
            "align_items": null,
            "align_self": null,
            "border": null,
            "bottom": null,
            "display": null,
            "flex": null,
            "flex_flow": null,
            "grid_area": null,
            "grid_auto_columns": null,
            "grid_auto_flow": null,
            "grid_auto_rows": null,
            "grid_column": null,
            "grid_gap": null,
            "grid_row": null,
            "grid_template_areas": null,
            "grid_template_columns": null,
            "grid_template_rows": null,
            "height": null,
            "justify_content": null,
            "justify_items": null,
            "left": null,
            "margin": null,
            "max_height": null,
            "max_width": null,
            "min_height": null,
            "min_width": null,
            "object_fit": null,
            "object_position": null,
            "order": null,
            "overflow": null,
            "overflow_x": null,
            "overflow_y": null,
            "padding": null,
            "right": null,
            "top": null,
            "visibility": null,
            "width": null
          }
        },
        "6318eb293c7947ccbe7ea8be723f5323": {
          "model_module": "@jupyter-widgets/controls",
          "model_name": "DescriptionStyleModel",
          "model_module_version": "1.5.0",
          "state": {
            "_model_module": "@jupyter-widgets/controls",
            "_model_module_version": "1.5.0",
            "_model_name": "DescriptionStyleModel",
            "_view_count": null,
            "_view_module": "@jupyter-widgets/base",
            "_view_module_version": "1.2.0",
            "_view_name": "StyleView",
            "description_width": ""
          }
        },
        "a3c272ff27f645ef95e17a4dcc7be531": {
          "model_module": "@jupyter-widgets/controls",
          "model_name": "HBoxModel",
          "model_module_version": "1.5.0",
          "state": {
            "_dom_classes": [],
            "_model_module": "@jupyter-widgets/controls",
            "_model_module_version": "1.5.0",
            "_model_name": "HBoxModel",
            "_view_count": null,
            "_view_module": "@jupyter-widgets/controls",
            "_view_module_version": "1.5.0",
            "_view_name": "HBoxView",
            "box_style": "",
            "children": [
              "IPY_MODEL_d19d1717713f41888e32ce1cd0037b3f",
              "IPY_MODEL_5807d206e87443a2819a74032221f414",
              "IPY_MODEL_4d02941f715c445eb76aaedfba87be22"
            ],
            "layout": "IPY_MODEL_1073574503e84cd8a15bd3fe5709bfb2"
          }
        },
        "d19d1717713f41888e32ce1cd0037b3f": {
          "model_module": "@jupyter-widgets/controls",
          "model_name": "HTMLModel",
          "model_module_version": "1.5.0",
          "state": {
            "_dom_classes": [],
            "_model_module": "@jupyter-widgets/controls",
            "_model_module_version": "1.5.0",
            "_model_name": "HTMLModel",
            "_view_count": null,
            "_view_module": "@jupyter-widgets/controls",
            "_view_module_version": "1.5.0",
            "_view_name": "HTMLView",
            "description": "",
            "description_tooltip": null,
            "layout": "IPY_MODEL_5e703e0e93744556a3f0db630d84ef45",
            "placeholder": "​",
            "style": "IPY_MODEL_f026757b9bf14600849174f9c5cc0e96",
            "value": "sentence_bert_config.json: 100%"
          }
        },
        "5807d206e87443a2819a74032221f414": {
          "model_module": "@jupyter-widgets/controls",
          "model_name": "FloatProgressModel",
          "model_module_version": "1.5.0",
          "state": {
            "_dom_classes": [],
            "_model_module": "@jupyter-widgets/controls",
            "_model_module_version": "1.5.0",
            "_model_name": "FloatProgressModel",
            "_view_count": null,
            "_view_module": "@jupyter-widgets/controls",
            "_view_module_version": "1.5.0",
            "_view_name": "ProgressView",
            "bar_style": "success",
            "description": "",
            "description_tooltip": null,
            "layout": "IPY_MODEL_a61f4d9f7685408c877cea0c8f96b7be",
            "max": 52,
            "min": 0,
            "orientation": "horizontal",
            "style": "IPY_MODEL_f51560349a1544c7b062f4221c97c82c",
            "value": 52
          }
        },
        "4d02941f715c445eb76aaedfba87be22": {
          "model_module": "@jupyter-widgets/controls",
          "model_name": "HTMLModel",
          "model_module_version": "1.5.0",
          "state": {
            "_dom_classes": [],
            "_model_module": "@jupyter-widgets/controls",
            "_model_module_version": "1.5.0",
            "_model_name": "HTMLModel",
            "_view_count": null,
            "_view_module": "@jupyter-widgets/controls",
            "_view_module_version": "1.5.0",
            "_view_name": "HTMLView",
            "description": "",
            "description_tooltip": null,
            "layout": "IPY_MODEL_120fd34a878941f88939c5102669c147",
            "placeholder": "​",
            "style": "IPY_MODEL_1fc5fdcf5fad459d88a8c31fb1d8cae7",
            "value": " 52.0/52.0 [00:00&lt;00:00, 3.90kB/s]"
          }
        },
        "1073574503e84cd8a15bd3fe5709bfb2": {
          "model_module": "@jupyter-widgets/base",
          "model_name": "LayoutModel",
          "model_module_version": "1.2.0",
          "state": {
            "_model_module": "@jupyter-widgets/base",
            "_model_module_version": "1.2.0",
            "_model_name": "LayoutModel",
            "_view_count": null,
            "_view_module": "@jupyter-widgets/base",
            "_view_module_version": "1.2.0",
            "_view_name": "LayoutView",
            "align_content": null,
            "align_items": null,
            "align_self": null,
            "border": null,
            "bottom": null,
            "display": null,
            "flex": null,
            "flex_flow": null,
            "grid_area": null,
            "grid_auto_columns": null,
            "grid_auto_flow": null,
            "grid_auto_rows": null,
            "grid_column": null,
            "grid_gap": null,
            "grid_row": null,
            "grid_template_areas": null,
            "grid_template_columns": null,
            "grid_template_rows": null,
            "height": null,
            "justify_content": null,
            "justify_items": null,
            "left": null,
            "margin": null,
            "max_height": null,
            "max_width": null,
            "min_height": null,
            "min_width": null,
            "object_fit": null,
            "object_position": null,
            "order": null,
            "overflow": null,
            "overflow_x": null,
            "overflow_y": null,
            "padding": null,
            "right": null,
            "top": null,
            "visibility": null,
            "width": null
          }
        },
        "5e703e0e93744556a3f0db630d84ef45": {
          "model_module": "@jupyter-widgets/base",
          "model_name": "LayoutModel",
          "model_module_version": "1.2.0",
          "state": {
            "_model_module": "@jupyter-widgets/base",
            "_model_module_version": "1.2.0",
            "_model_name": "LayoutModel",
            "_view_count": null,
            "_view_module": "@jupyter-widgets/base",
            "_view_module_version": "1.2.0",
            "_view_name": "LayoutView",
            "align_content": null,
            "align_items": null,
            "align_self": null,
            "border": null,
            "bottom": null,
            "display": null,
            "flex": null,
            "flex_flow": null,
            "grid_area": null,
            "grid_auto_columns": null,
            "grid_auto_flow": null,
            "grid_auto_rows": null,
            "grid_column": null,
            "grid_gap": null,
            "grid_row": null,
            "grid_template_areas": null,
            "grid_template_columns": null,
            "grid_template_rows": null,
            "height": null,
            "justify_content": null,
            "justify_items": null,
            "left": null,
            "margin": null,
            "max_height": null,
            "max_width": null,
            "min_height": null,
            "min_width": null,
            "object_fit": null,
            "object_position": null,
            "order": null,
            "overflow": null,
            "overflow_x": null,
            "overflow_y": null,
            "padding": null,
            "right": null,
            "top": null,
            "visibility": null,
            "width": null
          }
        },
        "f026757b9bf14600849174f9c5cc0e96": {
          "model_module": "@jupyter-widgets/controls",
          "model_name": "DescriptionStyleModel",
          "model_module_version": "1.5.0",
          "state": {
            "_model_module": "@jupyter-widgets/controls",
            "_model_module_version": "1.5.0",
            "_model_name": "DescriptionStyleModel",
            "_view_count": null,
            "_view_module": "@jupyter-widgets/base",
            "_view_module_version": "1.2.0",
            "_view_name": "StyleView",
            "description_width": ""
          }
        },
        "a61f4d9f7685408c877cea0c8f96b7be": {
          "model_module": "@jupyter-widgets/base",
          "model_name": "LayoutModel",
          "model_module_version": "1.2.0",
          "state": {
            "_model_module": "@jupyter-widgets/base",
            "_model_module_version": "1.2.0",
            "_model_name": "LayoutModel",
            "_view_count": null,
            "_view_module": "@jupyter-widgets/base",
            "_view_module_version": "1.2.0",
            "_view_name": "LayoutView",
            "align_content": null,
            "align_items": null,
            "align_self": null,
            "border": null,
            "bottom": null,
            "display": null,
            "flex": null,
            "flex_flow": null,
            "grid_area": null,
            "grid_auto_columns": null,
            "grid_auto_flow": null,
            "grid_auto_rows": null,
            "grid_column": null,
            "grid_gap": null,
            "grid_row": null,
            "grid_template_areas": null,
            "grid_template_columns": null,
            "grid_template_rows": null,
            "height": null,
            "justify_content": null,
            "justify_items": null,
            "left": null,
            "margin": null,
            "max_height": null,
            "max_width": null,
            "min_height": null,
            "min_width": null,
            "object_fit": null,
            "object_position": null,
            "order": null,
            "overflow": null,
            "overflow_x": null,
            "overflow_y": null,
            "padding": null,
            "right": null,
            "top": null,
            "visibility": null,
            "width": null
          }
        },
        "f51560349a1544c7b062f4221c97c82c": {
          "model_module": "@jupyter-widgets/controls",
          "model_name": "ProgressStyleModel",
          "model_module_version": "1.5.0",
          "state": {
            "_model_module": "@jupyter-widgets/controls",
            "_model_module_version": "1.5.0",
            "_model_name": "ProgressStyleModel",
            "_view_count": null,
            "_view_module": "@jupyter-widgets/base",
            "_view_module_version": "1.2.0",
            "_view_name": "StyleView",
            "bar_color": null,
            "description_width": ""
          }
        },
        "120fd34a878941f88939c5102669c147": {
          "model_module": "@jupyter-widgets/base",
          "model_name": "LayoutModel",
          "model_module_version": "1.2.0",
          "state": {
            "_model_module": "@jupyter-widgets/base",
            "_model_module_version": "1.2.0",
            "_model_name": "LayoutModel",
            "_view_count": null,
            "_view_module": "@jupyter-widgets/base",
            "_view_module_version": "1.2.0",
            "_view_name": "LayoutView",
            "align_content": null,
            "align_items": null,
            "align_self": null,
            "border": null,
            "bottom": null,
            "display": null,
            "flex": null,
            "flex_flow": null,
            "grid_area": null,
            "grid_auto_columns": null,
            "grid_auto_flow": null,
            "grid_auto_rows": null,
            "grid_column": null,
            "grid_gap": null,
            "grid_row": null,
            "grid_template_areas": null,
            "grid_template_columns": null,
            "grid_template_rows": null,
            "height": null,
            "justify_content": null,
            "justify_items": null,
            "left": null,
            "margin": null,
            "max_height": null,
            "max_width": null,
            "min_height": null,
            "min_width": null,
            "object_fit": null,
            "object_position": null,
            "order": null,
            "overflow": null,
            "overflow_x": null,
            "overflow_y": null,
            "padding": null,
            "right": null,
            "top": null,
            "visibility": null,
            "width": null
          }
        },
        "1fc5fdcf5fad459d88a8c31fb1d8cae7": {
          "model_module": "@jupyter-widgets/controls",
          "model_name": "DescriptionStyleModel",
          "model_module_version": "1.5.0",
          "state": {
            "_model_module": "@jupyter-widgets/controls",
            "_model_module_version": "1.5.0",
            "_model_name": "DescriptionStyleModel",
            "_view_count": null,
            "_view_module": "@jupyter-widgets/base",
            "_view_module_version": "1.2.0",
            "_view_name": "StyleView",
            "description_width": ""
          }
        },
        "6c97047da1d845249cd60183f7a64992": {
          "model_module": "@jupyter-widgets/controls",
          "model_name": "HBoxModel",
          "model_module_version": "1.5.0",
          "state": {
            "_dom_classes": [],
            "_model_module": "@jupyter-widgets/controls",
            "_model_module_version": "1.5.0",
            "_model_name": "HBoxModel",
            "_view_count": null,
            "_view_module": "@jupyter-widgets/controls",
            "_view_module_version": "1.5.0",
            "_view_name": "HBoxView",
            "box_style": "",
            "children": [
              "IPY_MODEL_f5fb0f74832e4553ac74bfb48389d552",
              "IPY_MODEL_1bdb3ed903034db283847623b1cd824d",
              "IPY_MODEL_9b29a238394b428797325e698cf72e9e"
            ],
            "layout": "IPY_MODEL_1f266f2183bc4d5185749592b40f2741"
          }
        },
        "f5fb0f74832e4553ac74bfb48389d552": {
          "model_module": "@jupyter-widgets/controls",
          "model_name": "HTMLModel",
          "model_module_version": "1.5.0",
          "state": {
            "_dom_classes": [],
            "_model_module": "@jupyter-widgets/controls",
            "_model_module_version": "1.5.0",
            "_model_name": "HTMLModel",
            "_view_count": null,
            "_view_module": "@jupyter-widgets/controls",
            "_view_module_version": "1.5.0",
            "_view_name": "HTMLView",
            "description": "",
            "description_tooltip": null,
            "layout": "IPY_MODEL_abcfe38d66f94dad8d01272605af8a86",
            "placeholder": "​",
            "style": "IPY_MODEL_fce3bd7b531f4046bdd624fe1d413656",
            "value": "config.json: 100%"
          }
        },
        "1bdb3ed903034db283847623b1cd824d": {
          "model_module": "@jupyter-widgets/controls",
          "model_name": "FloatProgressModel",
          "model_module_version": "1.5.0",
          "state": {
            "_dom_classes": [],
            "_model_module": "@jupyter-widgets/controls",
            "_model_module_version": "1.5.0",
            "_model_name": "FloatProgressModel",
            "_view_count": null,
            "_view_module": "@jupyter-widgets/controls",
            "_view_module_version": "1.5.0",
            "_view_name": "ProgressView",
            "bar_style": "success",
            "description": "",
            "description_tooltip": null,
            "layout": "IPY_MODEL_92f606635b1646a0b98f2a29e28cbb2e",
            "max": 684,
            "min": 0,
            "orientation": "horizontal",
            "style": "IPY_MODEL_1e1b914f1a2b460f99f7ade085d07120",
            "value": 684
          }
        },
        "9b29a238394b428797325e698cf72e9e": {
          "model_module": "@jupyter-widgets/controls",
          "model_name": "HTMLModel",
          "model_module_version": "1.5.0",
          "state": {
            "_dom_classes": [],
            "_model_module": "@jupyter-widgets/controls",
            "_model_module_version": "1.5.0",
            "_model_name": "HTMLModel",
            "_view_count": null,
            "_view_module": "@jupyter-widgets/controls",
            "_view_module_version": "1.5.0",
            "_view_name": "HTMLView",
            "description": "",
            "description_tooltip": null,
            "layout": "IPY_MODEL_e64abc40ce5e4ab5bae9b57ccd2f1fc0",
            "placeholder": "​",
            "style": "IPY_MODEL_10cf418eee0c427690dd35d89e8754eb",
            "value": " 684/684 [00:00&lt;00:00, 41.6kB/s]"
          }
        },
        "1f266f2183bc4d5185749592b40f2741": {
          "model_module": "@jupyter-widgets/base",
          "model_name": "LayoutModel",
          "model_module_version": "1.2.0",
          "state": {
            "_model_module": "@jupyter-widgets/base",
            "_model_module_version": "1.2.0",
            "_model_name": "LayoutModel",
            "_view_count": null,
            "_view_module": "@jupyter-widgets/base",
            "_view_module_version": "1.2.0",
            "_view_name": "LayoutView",
            "align_content": null,
            "align_items": null,
            "align_self": null,
            "border": null,
            "bottom": null,
            "display": null,
            "flex": null,
            "flex_flow": null,
            "grid_area": null,
            "grid_auto_columns": null,
            "grid_auto_flow": null,
            "grid_auto_rows": null,
            "grid_column": null,
            "grid_gap": null,
            "grid_row": null,
            "grid_template_areas": null,
            "grid_template_columns": null,
            "grid_template_rows": null,
            "height": null,
            "justify_content": null,
            "justify_items": null,
            "left": null,
            "margin": null,
            "max_height": null,
            "max_width": null,
            "min_height": null,
            "min_width": null,
            "object_fit": null,
            "object_position": null,
            "order": null,
            "overflow": null,
            "overflow_x": null,
            "overflow_y": null,
            "padding": null,
            "right": null,
            "top": null,
            "visibility": null,
            "width": null
          }
        },
        "abcfe38d66f94dad8d01272605af8a86": {
          "model_module": "@jupyter-widgets/base",
          "model_name": "LayoutModel",
          "model_module_version": "1.2.0",
          "state": {
            "_model_module": "@jupyter-widgets/base",
            "_model_module_version": "1.2.0",
            "_model_name": "LayoutModel",
            "_view_count": null,
            "_view_module": "@jupyter-widgets/base",
            "_view_module_version": "1.2.0",
            "_view_name": "LayoutView",
            "align_content": null,
            "align_items": null,
            "align_self": null,
            "border": null,
            "bottom": null,
            "display": null,
            "flex": null,
            "flex_flow": null,
            "grid_area": null,
            "grid_auto_columns": null,
            "grid_auto_flow": null,
            "grid_auto_rows": null,
            "grid_column": null,
            "grid_gap": null,
            "grid_row": null,
            "grid_template_areas": null,
            "grid_template_columns": null,
            "grid_template_rows": null,
            "height": null,
            "justify_content": null,
            "justify_items": null,
            "left": null,
            "margin": null,
            "max_height": null,
            "max_width": null,
            "min_height": null,
            "min_width": null,
            "object_fit": null,
            "object_position": null,
            "order": null,
            "overflow": null,
            "overflow_x": null,
            "overflow_y": null,
            "padding": null,
            "right": null,
            "top": null,
            "visibility": null,
            "width": null
          }
        },
        "fce3bd7b531f4046bdd624fe1d413656": {
          "model_module": "@jupyter-widgets/controls",
          "model_name": "DescriptionStyleModel",
          "model_module_version": "1.5.0",
          "state": {
            "_model_module": "@jupyter-widgets/controls",
            "_model_module_version": "1.5.0",
            "_model_name": "DescriptionStyleModel",
            "_view_count": null,
            "_view_module": "@jupyter-widgets/base",
            "_view_module_version": "1.2.0",
            "_view_name": "StyleView",
            "description_width": ""
          }
        },
        "92f606635b1646a0b98f2a29e28cbb2e": {
          "model_module": "@jupyter-widgets/base",
          "model_name": "LayoutModel",
          "model_module_version": "1.2.0",
          "state": {
            "_model_module": "@jupyter-widgets/base",
            "_model_module_version": "1.2.0",
            "_model_name": "LayoutModel",
            "_view_count": null,
            "_view_module": "@jupyter-widgets/base",
            "_view_module_version": "1.2.0",
            "_view_name": "LayoutView",
            "align_content": null,
            "align_items": null,
            "align_self": null,
            "border": null,
            "bottom": null,
            "display": null,
            "flex": null,
            "flex_flow": null,
            "grid_area": null,
            "grid_auto_columns": null,
            "grid_auto_flow": null,
            "grid_auto_rows": null,
            "grid_column": null,
            "grid_gap": null,
            "grid_row": null,
            "grid_template_areas": null,
            "grid_template_columns": null,
            "grid_template_rows": null,
            "height": null,
            "justify_content": null,
            "justify_items": null,
            "left": null,
            "margin": null,
            "max_height": null,
            "max_width": null,
            "min_height": null,
            "min_width": null,
            "object_fit": null,
            "object_position": null,
            "order": null,
            "overflow": null,
            "overflow_x": null,
            "overflow_y": null,
            "padding": null,
            "right": null,
            "top": null,
            "visibility": null,
            "width": null
          }
        },
        "1e1b914f1a2b460f99f7ade085d07120": {
          "model_module": "@jupyter-widgets/controls",
          "model_name": "ProgressStyleModel",
          "model_module_version": "1.5.0",
          "state": {
            "_model_module": "@jupyter-widgets/controls",
            "_model_module_version": "1.5.0",
            "_model_name": "ProgressStyleModel",
            "_view_count": null,
            "_view_module": "@jupyter-widgets/base",
            "_view_module_version": "1.2.0",
            "_view_name": "StyleView",
            "bar_color": null,
            "description_width": ""
          }
        },
        "e64abc40ce5e4ab5bae9b57ccd2f1fc0": {
          "model_module": "@jupyter-widgets/base",
          "model_name": "LayoutModel",
          "model_module_version": "1.2.0",
          "state": {
            "_model_module": "@jupyter-widgets/base",
            "_model_module_version": "1.2.0",
            "_model_name": "LayoutModel",
            "_view_count": null,
            "_view_module": "@jupyter-widgets/base",
            "_view_module_version": "1.2.0",
            "_view_name": "LayoutView",
            "align_content": null,
            "align_items": null,
            "align_self": null,
            "border": null,
            "bottom": null,
            "display": null,
            "flex": null,
            "flex_flow": null,
            "grid_area": null,
            "grid_auto_columns": null,
            "grid_auto_flow": null,
            "grid_auto_rows": null,
            "grid_column": null,
            "grid_gap": null,
            "grid_row": null,
            "grid_template_areas": null,
            "grid_template_columns": null,
            "grid_template_rows": null,
            "height": null,
            "justify_content": null,
            "justify_items": null,
            "left": null,
            "margin": null,
            "max_height": null,
            "max_width": null,
            "min_height": null,
            "min_width": null,
            "object_fit": null,
            "object_position": null,
            "order": null,
            "overflow": null,
            "overflow_x": null,
            "overflow_y": null,
            "padding": null,
            "right": null,
            "top": null,
            "visibility": null,
            "width": null
          }
        },
        "10cf418eee0c427690dd35d89e8754eb": {
          "model_module": "@jupyter-widgets/controls",
          "model_name": "DescriptionStyleModel",
          "model_module_version": "1.5.0",
          "state": {
            "_model_module": "@jupyter-widgets/controls",
            "_model_module_version": "1.5.0",
            "_model_name": "DescriptionStyleModel",
            "_view_count": null,
            "_view_module": "@jupyter-widgets/base",
            "_view_module_version": "1.2.0",
            "_view_name": "StyleView",
            "description_width": ""
          }
        },
        "a8c43d8256b1466a9ae893e3d6773ec8": {
          "model_module": "@jupyter-widgets/controls",
          "model_name": "HBoxModel",
          "model_module_version": "1.5.0",
          "state": {
            "_dom_classes": [],
            "_model_module": "@jupyter-widgets/controls",
            "_model_module_version": "1.5.0",
            "_model_name": "HBoxModel",
            "_view_count": null,
            "_view_module": "@jupyter-widgets/controls",
            "_view_module_version": "1.5.0",
            "_view_name": "HBoxView",
            "box_style": "",
            "children": [
              "IPY_MODEL_17da034a518a4725bf07f7ba560c42e6",
              "IPY_MODEL_a8db45281b494231b38eafa81b85b7a7",
              "IPY_MODEL_bba2a30ebeda431f9c66361b2147b392"
            ],
            "layout": "IPY_MODEL_35ef5ea9f8434b09ba692ca50d52533d"
          }
        },
        "17da034a518a4725bf07f7ba560c42e6": {
          "model_module": "@jupyter-widgets/controls",
          "model_name": "HTMLModel",
          "model_module_version": "1.5.0",
          "state": {
            "_dom_classes": [],
            "_model_module": "@jupyter-widgets/controls",
            "_model_module_version": "1.5.0",
            "_model_name": "HTMLModel",
            "_view_count": null,
            "_view_module": "@jupyter-widgets/controls",
            "_view_module_version": "1.5.0",
            "_view_name": "HTMLView",
            "description": "",
            "description_tooltip": null,
            "layout": "IPY_MODEL_e491c57231ad44b0b0b2ed1d43827fc4",
            "placeholder": "​",
            "style": "IPY_MODEL_c0378819b3ed4b9e8ea45e477e367666",
            "value": "model.safetensors: 100%"
          }
        },
        "a8db45281b494231b38eafa81b85b7a7": {
          "model_module": "@jupyter-widgets/controls",
          "model_name": "FloatProgressModel",
          "model_module_version": "1.5.0",
          "state": {
            "_dom_classes": [],
            "_model_module": "@jupyter-widgets/controls",
            "_model_module_version": "1.5.0",
            "_model_name": "FloatProgressModel",
            "_view_count": null,
            "_view_module": "@jupyter-widgets/controls",
            "_view_module_version": "1.5.0",
            "_view_name": "ProgressView",
            "bar_style": "success",
            "description": "",
            "description_tooltip": null,
            "layout": "IPY_MODEL_71d9b15080904e3aaea07bc8e1fcd1f0",
            "max": 133466304,
            "min": 0,
            "orientation": "horizontal",
            "style": "IPY_MODEL_b6925c91f765485dad435cbde9872890",
            "value": 133466304
          }
        },
        "bba2a30ebeda431f9c66361b2147b392": {
          "model_module": "@jupyter-widgets/controls",
          "model_name": "HTMLModel",
          "model_module_version": "1.5.0",
          "state": {
            "_dom_classes": [],
            "_model_module": "@jupyter-widgets/controls",
            "_model_module_version": "1.5.0",
            "_model_name": "HTMLModel",
            "_view_count": null,
            "_view_module": "@jupyter-widgets/controls",
            "_view_module_version": "1.5.0",
            "_view_name": "HTMLView",
            "description": "",
            "description_tooltip": null,
            "layout": "IPY_MODEL_8f7c8e257cf948f582600377d1f8e28b",
            "placeholder": "​",
            "style": "IPY_MODEL_6dfd79a0af6048528c9af604a2c6032a",
            "value": " 133M/133M [00:00&lt;00:00, 213MB/s]"
          }
        },
        "35ef5ea9f8434b09ba692ca50d52533d": {
          "model_module": "@jupyter-widgets/base",
          "model_name": "LayoutModel",
          "model_module_version": "1.2.0",
          "state": {
            "_model_module": "@jupyter-widgets/base",
            "_model_module_version": "1.2.0",
            "_model_name": "LayoutModel",
            "_view_count": null,
            "_view_module": "@jupyter-widgets/base",
            "_view_module_version": "1.2.0",
            "_view_name": "LayoutView",
            "align_content": null,
            "align_items": null,
            "align_self": null,
            "border": null,
            "bottom": null,
            "display": null,
            "flex": null,
            "flex_flow": null,
            "grid_area": null,
            "grid_auto_columns": null,
            "grid_auto_flow": null,
            "grid_auto_rows": null,
            "grid_column": null,
            "grid_gap": null,
            "grid_row": null,
            "grid_template_areas": null,
            "grid_template_columns": null,
            "grid_template_rows": null,
            "height": null,
            "justify_content": null,
            "justify_items": null,
            "left": null,
            "margin": null,
            "max_height": null,
            "max_width": null,
            "min_height": null,
            "min_width": null,
            "object_fit": null,
            "object_position": null,
            "order": null,
            "overflow": null,
            "overflow_x": null,
            "overflow_y": null,
            "padding": null,
            "right": null,
            "top": null,
            "visibility": null,
            "width": null
          }
        },
        "e491c57231ad44b0b0b2ed1d43827fc4": {
          "model_module": "@jupyter-widgets/base",
          "model_name": "LayoutModel",
          "model_module_version": "1.2.0",
          "state": {
            "_model_module": "@jupyter-widgets/base",
            "_model_module_version": "1.2.0",
            "_model_name": "LayoutModel",
            "_view_count": null,
            "_view_module": "@jupyter-widgets/base",
            "_view_module_version": "1.2.0",
            "_view_name": "LayoutView",
            "align_content": null,
            "align_items": null,
            "align_self": null,
            "border": null,
            "bottom": null,
            "display": null,
            "flex": null,
            "flex_flow": null,
            "grid_area": null,
            "grid_auto_columns": null,
            "grid_auto_flow": null,
            "grid_auto_rows": null,
            "grid_column": null,
            "grid_gap": null,
            "grid_row": null,
            "grid_template_areas": null,
            "grid_template_columns": null,
            "grid_template_rows": null,
            "height": null,
            "justify_content": null,
            "justify_items": null,
            "left": null,
            "margin": null,
            "max_height": null,
            "max_width": null,
            "min_height": null,
            "min_width": null,
            "object_fit": null,
            "object_position": null,
            "order": null,
            "overflow": null,
            "overflow_x": null,
            "overflow_y": null,
            "padding": null,
            "right": null,
            "top": null,
            "visibility": null,
            "width": null
          }
        },
        "c0378819b3ed4b9e8ea45e477e367666": {
          "model_module": "@jupyter-widgets/controls",
          "model_name": "DescriptionStyleModel",
          "model_module_version": "1.5.0",
          "state": {
            "_model_module": "@jupyter-widgets/controls",
            "_model_module_version": "1.5.0",
            "_model_name": "DescriptionStyleModel",
            "_view_count": null,
            "_view_module": "@jupyter-widgets/base",
            "_view_module_version": "1.2.0",
            "_view_name": "StyleView",
            "description_width": ""
          }
        },
        "71d9b15080904e3aaea07bc8e1fcd1f0": {
          "model_module": "@jupyter-widgets/base",
          "model_name": "LayoutModel",
          "model_module_version": "1.2.0",
          "state": {
            "_model_module": "@jupyter-widgets/base",
            "_model_module_version": "1.2.0",
            "_model_name": "LayoutModel",
            "_view_count": null,
            "_view_module": "@jupyter-widgets/base",
            "_view_module_version": "1.2.0",
            "_view_name": "LayoutView",
            "align_content": null,
            "align_items": null,
            "align_self": null,
            "border": null,
            "bottom": null,
            "display": null,
            "flex": null,
            "flex_flow": null,
            "grid_area": null,
            "grid_auto_columns": null,
            "grid_auto_flow": null,
            "grid_auto_rows": null,
            "grid_column": null,
            "grid_gap": null,
            "grid_row": null,
            "grid_template_areas": null,
            "grid_template_columns": null,
            "grid_template_rows": null,
            "height": null,
            "justify_content": null,
            "justify_items": null,
            "left": null,
            "margin": null,
            "max_height": null,
            "max_width": null,
            "min_height": null,
            "min_width": null,
            "object_fit": null,
            "object_position": null,
            "order": null,
            "overflow": null,
            "overflow_x": null,
            "overflow_y": null,
            "padding": null,
            "right": null,
            "top": null,
            "visibility": null,
            "width": null
          }
        },
        "b6925c91f765485dad435cbde9872890": {
          "model_module": "@jupyter-widgets/controls",
          "model_name": "ProgressStyleModel",
          "model_module_version": "1.5.0",
          "state": {
            "_model_module": "@jupyter-widgets/controls",
            "_model_module_version": "1.5.0",
            "_model_name": "ProgressStyleModel",
            "_view_count": null,
            "_view_module": "@jupyter-widgets/base",
            "_view_module_version": "1.2.0",
            "_view_name": "StyleView",
            "bar_color": null,
            "description_width": ""
          }
        },
        "8f7c8e257cf948f582600377d1f8e28b": {
          "model_module": "@jupyter-widgets/base",
          "model_name": "LayoutModel",
          "model_module_version": "1.2.0",
          "state": {
            "_model_module": "@jupyter-widgets/base",
            "_model_module_version": "1.2.0",
            "_model_name": "LayoutModel",
            "_view_count": null,
            "_view_module": "@jupyter-widgets/base",
            "_view_module_version": "1.2.0",
            "_view_name": "LayoutView",
            "align_content": null,
            "align_items": null,
            "align_self": null,
            "border": null,
            "bottom": null,
            "display": null,
            "flex": null,
            "flex_flow": null,
            "grid_area": null,
            "grid_auto_columns": null,
            "grid_auto_flow": null,
            "grid_auto_rows": null,
            "grid_column": null,
            "grid_gap": null,
            "grid_row": null,
            "grid_template_areas": null,
            "grid_template_columns": null,
            "grid_template_rows": null,
            "height": null,
            "justify_content": null,
            "justify_items": null,
            "left": null,
            "margin": null,
            "max_height": null,
            "max_width": null,
            "min_height": null,
            "min_width": null,
            "object_fit": null,
            "object_position": null,
            "order": null,
            "overflow": null,
            "overflow_x": null,
            "overflow_y": null,
            "padding": null,
            "right": null,
            "top": null,
            "visibility": null,
            "width": null
          }
        },
        "6dfd79a0af6048528c9af604a2c6032a": {
          "model_module": "@jupyter-widgets/controls",
          "model_name": "DescriptionStyleModel",
          "model_module_version": "1.5.0",
          "state": {
            "_model_module": "@jupyter-widgets/controls",
            "_model_module_version": "1.5.0",
            "_model_name": "DescriptionStyleModel",
            "_view_count": null,
            "_view_module": "@jupyter-widgets/base",
            "_view_module_version": "1.2.0",
            "_view_name": "StyleView",
            "description_width": ""
          }
        },
        "5af5ec90cdc74da4a4025ba9587685f4": {
          "model_module": "@jupyter-widgets/controls",
          "model_name": "HBoxModel",
          "model_module_version": "1.5.0",
          "state": {
            "_dom_classes": [],
            "_model_module": "@jupyter-widgets/controls",
            "_model_module_version": "1.5.0",
            "_model_name": "HBoxModel",
            "_view_count": null,
            "_view_module": "@jupyter-widgets/controls",
            "_view_module_version": "1.5.0",
            "_view_name": "HBoxView",
            "box_style": "",
            "children": [
              "IPY_MODEL_d2fbc33aff6d483d871ce9ab5856ca95",
              "IPY_MODEL_ae23e409ac904b6898247b0eff37a51a",
              "IPY_MODEL_0270782cd0fa479995bd147c58dfc995"
            ],
            "layout": "IPY_MODEL_648d6642e84944afbcf6aeb2de0291da"
          }
        },
        "d2fbc33aff6d483d871ce9ab5856ca95": {
          "model_module": "@jupyter-widgets/controls",
          "model_name": "HTMLModel",
          "model_module_version": "1.5.0",
          "state": {
            "_dom_classes": [],
            "_model_module": "@jupyter-widgets/controls",
            "_model_module_version": "1.5.0",
            "_model_name": "HTMLModel",
            "_view_count": null,
            "_view_module": "@jupyter-widgets/controls",
            "_view_module_version": "1.5.0",
            "_view_name": "HTMLView",
            "description": "",
            "description_tooltip": null,
            "layout": "IPY_MODEL_05ef9b26d4a44a48b0d4838fa3584a5d",
            "placeholder": "​",
            "style": "IPY_MODEL_cb5b84e186024e3fa8f1f18b9df718cb",
            "value": "tokenizer_config.json: 100%"
          }
        },
        "ae23e409ac904b6898247b0eff37a51a": {
          "model_module": "@jupyter-widgets/controls",
          "model_name": "FloatProgressModel",
          "model_module_version": "1.5.0",
          "state": {
            "_dom_classes": [],
            "_model_module": "@jupyter-widgets/controls",
            "_model_module_version": "1.5.0",
            "_model_name": "FloatProgressModel",
            "_view_count": null,
            "_view_module": "@jupyter-widgets/controls",
            "_view_module_version": "1.5.0",
            "_view_name": "ProgressView",
            "bar_style": "success",
            "description": "",
            "description_tooltip": null,
            "layout": "IPY_MODEL_b25be30d94324a2d8982578ca11f745e",
            "max": 366,
            "min": 0,
            "orientation": "horizontal",
            "style": "IPY_MODEL_d1563ba17af34c839bedfe5eed368a0e",
            "value": 366
          }
        },
        "0270782cd0fa479995bd147c58dfc995": {
          "model_module": "@jupyter-widgets/controls",
          "model_name": "HTMLModel",
          "model_module_version": "1.5.0",
          "state": {
            "_dom_classes": [],
            "_model_module": "@jupyter-widgets/controls",
            "_model_module_version": "1.5.0",
            "_model_name": "HTMLModel",
            "_view_count": null,
            "_view_module": "@jupyter-widgets/controls",
            "_view_module_version": "1.5.0",
            "_view_name": "HTMLView",
            "description": "",
            "description_tooltip": null,
            "layout": "IPY_MODEL_7142ad716f4a4d2f8e7ce37b308289b7",
            "placeholder": "​",
            "style": "IPY_MODEL_416786750bbd4d409704a55c1dbb3abc",
            "value": " 366/366 [00:00&lt;00:00, 23.9kB/s]"
          }
        },
        "648d6642e84944afbcf6aeb2de0291da": {
          "model_module": "@jupyter-widgets/base",
          "model_name": "LayoutModel",
          "model_module_version": "1.2.0",
          "state": {
            "_model_module": "@jupyter-widgets/base",
            "_model_module_version": "1.2.0",
            "_model_name": "LayoutModel",
            "_view_count": null,
            "_view_module": "@jupyter-widgets/base",
            "_view_module_version": "1.2.0",
            "_view_name": "LayoutView",
            "align_content": null,
            "align_items": null,
            "align_self": null,
            "border": null,
            "bottom": null,
            "display": null,
            "flex": null,
            "flex_flow": null,
            "grid_area": null,
            "grid_auto_columns": null,
            "grid_auto_flow": null,
            "grid_auto_rows": null,
            "grid_column": null,
            "grid_gap": null,
            "grid_row": null,
            "grid_template_areas": null,
            "grid_template_columns": null,
            "grid_template_rows": null,
            "height": null,
            "justify_content": null,
            "justify_items": null,
            "left": null,
            "margin": null,
            "max_height": null,
            "max_width": null,
            "min_height": null,
            "min_width": null,
            "object_fit": null,
            "object_position": null,
            "order": null,
            "overflow": null,
            "overflow_x": null,
            "overflow_y": null,
            "padding": null,
            "right": null,
            "top": null,
            "visibility": null,
            "width": null
          }
        },
        "05ef9b26d4a44a48b0d4838fa3584a5d": {
          "model_module": "@jupyter-widgets/base",
          "model_name": "LayoutModel",
          "model_module_version": "1.2.0",
          "state": {
            "_model_module": "@jupyter-widgets/base",
            "_model_module_version": "1.2.0",
            "_model_name": "LayoutModel",
            "_view_count": null,
            "_view_module": "@jupyter-widgets/base",
            "_view_module_version": "1.2.0",
            "_view_name": "LayoutView",
            "align_content": null,
            "align_items": null,
            "align_self": null,
            "border": null,
            "bottom": null,
            "display": null,
            "flex": null,
            "flex_flow": null,
            "grid_area": null,
            "grid_auto_columns": null,
            "grid_auto_flow": null,
            "grid_auto_rows": null,
            "grid_column": null,
            "grid_gap": null,
            "grid_row": null,
            "grid_template_areas": null,
            "grid_template_columns": null,
            "grid_template_rows": null,
            "height": null,
            "justify_content": null,
            "justify_items": null,
            "left": null,
            "margin": null,
            "max_height": null,
            "max_width": null,
            "min_height": null,
            "min_width": null,
            "object_fit": null,
            "object_position": null,
            "order": null,
            "overflow": null,
            "overflow_x": null,
            "overflow_y": null,
            "padding": null,
            "right": null,
            "top": null,
            "visibility": null,
            "width": null
          }
        },
        "cb5b84e186024e3fa8f1f18b9df718cb": {
          "model_module": "@jupyter-widgets/controls",
          "model_name": "DescriptionStyleModel",
          "model_module_version": "1.5.0",
          "state": {
            "_model_module": "@jupyter-widgets/controls",
            "_model_module_version": "1.5.0",
            "_model_name": "DescriptionStyleModel",
            "_view_count": null,
            "_view_module": "@jupyter-widgets/base",
            "_view_module_version": "1.2.0",
            "_view_name": "StyleView",
            "description_width": ""
          }
        },
        "b25be30d94324a2d8982578ca11f745e": {
          "model_module": "@jupyter-widgets/base",
          "model_name": "LayoutModel",
          "model_module_version": "1.2.0",
          "state": {
            "_model_module": "@jupyter-widgets/base",
            "_model_module_version": "1.2.0",
            "_model_name": "LayoutModel",
            "_view_count": null,
            "_view_module": "@jupyter-widgets/base",
            "_view_module_version": "1.2.0",
            "_view_name": "LayoutView",
            "align_content": null,
            "align_items": null,
            "align_self": null,
            "border": null,
            "bottom": null,
            "display": null,
            "flex": null,
            "flex_flow": null,
            "grid_area": null,
            "grid_auto_columns": null,
            "grid_auto_flow": null,
            "grid_auto_rows": null,
            "grid_column": null,
            "grid_gap": null,
            "grid_row": null,
            "grid_template_areas": null,
            "grid_template_columns": null,
            "grid_template_rows": null,
            "height": null,
            "justify_content": null,
            "justify_items": null,
            "left": null,
            "margin": null,
            "max_height": null,
            "max_width": null,
            "min_height": null,
            "min_width": null,
            "object_fit": null,
            "object_position": null,
            "order": null,
            "overflow": null,
            "overflow_x": null,
            "overflow_y": null,
            "padding": null,
            "right": null,
            "top": null,
            "visibility": null,
            "width": null
          }
        },
        "d1563ba17af34c839bedfe5eed368a0e": {
          "model_module": "@jupyter-widgets/controls",
          "model_name": "ProgressStyleModel",
          "model_module_version": "1.5.0",
          "state": {
            "_model_module": "@jupyter-widgets/controls",
            "_model_module_version": "1.5.0",
            "_model_name": "ProgressStyleModel",
            "_view_count": null,
            "_view_module": "@jupyter-widgets/base",
            "_view_module_version": "1.2.0",
            "_view_name": "StyleView",
            "bar_color": null,
            "description_width": ""
          }
        },
        "7142ad716f4a4d2f8e7ce37b308289b7": {
          "model_module": "@jupyter-widgets/base",
          "model_name": "LayoutModel",
          "model_module_version": "1.2.0",
          "state": {
            "_model_module": "@jupyter-widgets/base",
            "_model_module_version": "1.2.0",
            "_model_name": "LayoutModel",
            "_view_count": null,
            "_view_module": "@jupyter-widgets/base",
            "_view_module_version": "1.2.0",
            "_view_name": "LayoutView",
            "align_content": null,
            "align_items": null,
            "align_self": null,
            "border": null,
            "bottom": null,
            "display": null,
            "flex": null,
            "flex_flow": null,
            "grid_area": null,
            "grid_auto_columns": null,
            "grid_auto_flow": null,
            "grid_auto_rows": null,
            "grid_column": null,
            "grid_gap": null,
            "grid_row": null,
            "grid_template_areas": null,
            "grid_template_columns": null,
            "grid_template_rows": null,
            "height": null,
            "justify_content": null,
            "justify_items": null,
            "left": null,
            "margin": null,
            "max_height": null,
            "max_width": null,
            "min_height": null,
            "min_width": null,
            "object_fit": null,
            "object_position": null,
            "order": null,
            "overflow": null,
            "overflow_x": null,
            "overflow_y": null,
            "padding": null,
            "right": null,
            "top": null,
            "visibility": null,
            "width": null
          }
        },
        "416786750bbd4d409704a55c1dbb3abc": {
          "model_module": "@jupyter-widgets/controls",
          "model_name": "DescriptionStyleModel",
          "model_module_version": "1.5.0",
          "state": {
            "_model_module": "@jupyter-widgets/controls",
            "_model_module_version": "1.5.0",
            "_model_name": "DescriptionStyleModel",
            "_view_count": null,
            "_view_module": "@jupyter-widgets/base",
            "_view_module_version": "1.2.0",
            "_view_name": "StyleView",
            "description_width": ""
          }
        },
        "e114d01954e345848a48dd62c749c874": {
          "model_module": "@jupyter-widgets/controls",
          "model_name": "HBoxModel",
          "model_module_version": "1.5.0",
          "state": {
            "_dom_classes": [],
            "_model_module": "@jupyter-widgets/controls",
            "_model_module_version": "1.5.0",
            "_model_name": "HBoxModel",
            "_view_count": null,
            "_view_module": "@jupyter-widgets/controls",
            "_view_module_version": "1.5.0",
            "_view_name": "HBoxView",
            "box_style": "",
            "children": [
              "IPY_MODEL_869f45826872454d9cc7fa73d8b94e0b",
              "IPY_MODEL_078c1ee49319480fb6e6963941ef4744",
              "IPY_MODEL_aaffb3881f544161a55cb03eec1ed467"
            ],
            "layout": "IPY_MODEL_5ba4eb23f514460abe31b066bbd20624"
          }
        },
        "869f45826872454d9cc7fa73d8b94e0b": {
          "model_module": "@jupyter-widgets/controls",
          "model_name": "HTMLModel",
          "model_module_version": "1.5.0",
          "state": {
            "_dom_classes": [],
            "_model_module": "@jupyter-widgets/controls",
            "_model_module_version": "1.5.0",
            "_model_name": "HTMLModel",
            "_view_count": null,
            "_view_module": "@jupyter-widgets/controls",
            "_view_module_version": "1.5.0",
            "_view_name": "HTMLView",
            "description": "",
            "description_tooltip": null,
            "layout": "IPY_MODEL_020a0a31634044b68f9d8cb4571ce6a3",
            "placeholder": "​",
            "style": "IPY_MODEL_c395bc5c5ec442d6af9b97b1e9072c5a",
            "value": "vocab.txt: 100%"
          }
        },
        "078c1ee49319480fb6e6963941ef4744": {
          "model_module": "@jupyter-widgets/controls",
          "model_name": "FloatProgressModel",
          "model_module_version": "1.5.0",
          "state": {
            "_dom_classes": [],
            "_model_module": "@jupyter-widgets/controls",
            "_model_module_version": "1.5.0",
            "_model_name": "FloatProgressModel",
            "_view_count": null,
            "_view_module": "@jupyter-widgets/controls",
            "_view_module_version": "1.5.0",
            "_view_name": "ProgressView",
            "bar_style": "success",
            "description": "",
            "description_tooltip": null,
            "layout": "IPY_MODEL_fba9d4070b5a43b19aa6f16903898914",
            "max": 231508,
            "min": 0,
            "orientation": "horizontal",
            "style": "IPY_MODEL_892f548fd1624b128155f9dd48910248",
            "value": 231508
          }
        },
        "aaffb3881f544161a55cb03eec1ed467": {
          "model_module": "@jupyter-widgets/controls",
          "model_name": "HTMLModel",
          "model_module_version": "1.5.0",
          "state": {
            "_dom_classes": [],
            "_model_module": "@jupyter-widgets/controls",
            "_model_module_version": "1.5.0",
            "_model_name": "HTMLModel",
            "_view_count": null,
            "_view_module": "@jupyter-widgets/controls",
            "_view_module_version": "1.5.0",
            "_view_name": "HTMLView",
            "description": "",
            "description_tooltip": null,
            "layout": "IPY_MODEL_200010cc4b074a66aeb52f0952432e57",
            "placeholder": "​",
            "style": "IPY_MODEL_f6c2def6ac43421a9507f0807e8285fd",
            "value": " 232k/232k [00:00&lt;00:00, 16.2MB/s]"
          }
        },
        "5ba4eb23f514460abe31b066bbd20624": {
          "model_module": "@jupyter-widgets/base",
          "model_name": "LayoutModel",
          "model_module_version": "1.2.0",
          "state": {
            "_model_module": "@jupyter-widgets/base",
            "_model_module_version": "1.2.0",
            "_model_name": "LayoutModel",
            "_view_count": null,
            "_view_module": "@jupyter-widgets/base",
            "_view_module_version": "1.2.0",
            "_view_name": "LayoutView",
            "align_content": null,
            "align_items": null,
            "align_self": null,
            "border": null,
            "bottom": null,
            "display": null,
            "flex": null,
            "flex_flow": null,
            "grid_area": null,
            "grid_auto_columns": null,
            "grid_auto_flow": null,
            "grid_auto_rows": null,
            "grid_column": null,
            "grid_gap": null,
            "grid_row": null,
            "grid_template_areas": null,
            "grid_template_columns": null,
            "grid_template_rows": null,
            "height": null,
            "justify_content": null,
            "justify_items": null,
            "left": null,
            "margin": null,
            "max_height": null,
            "max_width": null,
            "min_height": null,
            "min_width": null,
            "object_fit": null,
            "object_position": null,
            "order": null,
            "overflow": null,
            "overflow_x": null,
            "overflow_y": null,
            "padding": null,
            "right": null,
            "top": null,
            "visibility": null,
            "width": null
          }
        },
        "020a0a31634044b68f9d8cb4571ce6a3": {
          "model_module": "@jupyter-widgets/base",
          "model_name": "LayoutModel",
          "model_module_version": "1.2.0",
          "state": {
            "_model_module": "@jupyter-widgets/base",
            "_model_module_version": "1.2.0",
            "_model_name": "LayoutModel",
            "_view_count": null,
            "_view_module": "@jupyter-widgets/base",
            "_view_module_version": "1.2.0",
            "_view_name": "LayoutView",
            "align_content": null,
            "align_items": null,
            "align_self": null,
            "border": null,
            "bottom": null,
            "display": null,
            "flex": null,
            "flex_flow": null,
            "grid_area": null,
            "grid_auto_columns": null,
            "grid_auto_flow": null,
            "grid_auto_rows": null,
            "grid_column": null,
            "grid_gap": null,
            "grid_row": null,
            "grid_template_areas": null,
            "grid_template_columns": null,
            "grid_template_rows": null,
            "height": null,
            "justify_content": null,
            "justify_items": null,
            "left": null,
            "margin": null,
            "max_height": null,
            "max_width": null,
            "min_height": null,
            "min_width": null,
            "object_fit": null,
            "object_position": null,
            "order": null,
            "overflow": null,
            "overflow_x": null,
            "overflow_y": null,
            "padding": null,
            "right": null,
            "top": null,
            "visibility": null,
            "width": null
          }
        },
        "c395bc5c5ec442d6af9b97b1e9072c5a": {
          "model_module": "@jupyter-widgets/controls",
          "model_name": "DescriptionStyleModel",
          "model_module_version": "1.5.0",
          "state": {
            "_model_module": "@jupyter-widgets/controls",
            "_model_module_version": "1.5.0",
            "_model_name": "DescriptionStyleModel",
            "_view_count": null,
            "_view_module": "@jupyter-widgets/base",
            "_view_module_version": "1.2.0",
            "_view_name": "StyleView",
            "description_width": ""
          }
        },
        "fba9d4070b5a43b19aa6f16903898914": {
          "model_module": "@jupyter-widgets/base",
          "model_name": "LayoutModel",
          "model_module_version": "1.2.0",
          "state": {
            "_model_module": "@jupyter-widgets/base",
            "_model_module_version": "1.2.0",
            "_model_name": "LayoutModel",
            "_view_count": null,
            "_view_module": "@jupyter-widgets/base",
            "_view_module_version": "1.2.0",
            "_view_name": "LayoutView",
            "align_content": null,
            "align_items": null,
            "align_self": null,
            "border": null,
            "bottom": null,
            "display": null,
            "flex": null,
            "flex_flow": null,
            "grid_area": null,
            "grid_auto_columns": null,
            "grid_auto_flow": null,
            "grid_auto_rows": null,
            "grid_column": null,
            "grid_gap": null,
            "grid_row": null,
            "grid_template_areas": null,
            "grid_template_columns": null,
            "grid_template_rows": null,
            "height": null,
            "justify_content": null,
            "justify_items": null,
            "left": null,
            "margin": null,
            "max_height": null,
            "max_width": null,
            "min_height": null,
            "min_width": null,
            "object_fit": null,
            "object_position": null,
            "order": null,
            "overflow": null,
            "overflow_x": null,
            "overflow_y": null,
            "padding": null,
            "right": null,
            "top": null,
            "visibility": null,
            "width": null
          }
        },
        "892f548fd1624b128155f9dd48910248": {
          "model_module": "@jupyter-widgets/controls",
          "model_name": "ProgressStyleModel",
          "model_module_version": "1.5.0",
          "state": {
            "_model_module": "@jupyter-widgets/controls",
            "_model_module_version": "1.5.0",
            "_model_name": "ProgressStyleModel",
            "_view_count": null,
            "_view_module": "@jupyter-widgets/base",
            "_view_module_version": "1.2.0",
            "_view_name": "StyleView",
            "bar_color": null,
            "description_width": ""
          }
        },
        "200010cc4b074a66aeb52f0952432e57": {
          "model_module": "@jupyter-widgets/base",
          "model_name": "LayoutModel",
          "model_module_version": "1.2.0",
          "state": {
            "_model_module": "@jupyter-widgets/base",
            "_model_module_version": "1.2.0",
            "_model_name": "LayoutModel",
            "_view_count": null,
            "_view_module": "@jupyter-widgets/base",
            "_view_module_version": "1.2.0",
            "_view_name": "LayoutView",
            "align_content": null,
            "align_items": null,
            "align_self": null,
            "border": null,
            "bottom": null,
            "display": null,
            "flex": null,
            "flex_flow": null,
            "grid_area": null,
            "grid_auto_columns": null,
            "grid_auto_flow": null,
            "grid_auto_rows": null,
            "grid_column": null,
            "grid_gap": null,
            "grid_row": null,
            "grid_template_areas": null,
            "grid_template_columns": null,
            "grid_template_rows": null,
            "height": null,
            "justify_content": null,
            "justify_items": null,
            "left": null,
            "margin": null,
            "max_height": null,
            "max_width": null,
            "min_height": null,
            "min_width": null,
            "object_fit": null,
            "object_position": null,
            "order": null,
            "overflow": null,
            "overflow_x": null,
            "overflow_y": null,
            "padding": null,
            "right": null,
            "top": null,
            "visibility": null,
            "width": null
          }
        },
        "f6c2def6ac43421a9507f0807e8285fd": {
          "model_module": "@jupyter-widgets/controls",
          "model_name": "DescriptionStyleModel",
          "model_module_version": "1.5.0",
          "state": {
            "_model_module": "@jupyter-widgets/controls",
            "_model_module_version": "1.5.0",
            "_model_name": "DescriptionStyleModel",
            "_view_count": null,
            "_view_module": "@jupyter-widgets/base",
            "_view_module_version": "1.2.0",
            "_view_name": "StyleView",
            "description_width": ""
          }
        },
        "5f90d279563c4aa58cb716fd02c4b4e0": {
          "model_module": "@jupyter-widgets/controls",
          "model_name": "HBoxModel",
          "model_module_version": "1.5.0",
          "state": {
            "_dom_classes": [],
            "_model_module": "@jupyter-widgets/controls",
            "_model_module_version": "1.5.0",
            "_model_name": "HBoxModel",
            "_view_count": null,
            "_view_module": "@jupyter-widgets/controls",
            "_view_module_version": "1.5.0",
            "_view_name": "HBoxView",
            "box_style": "",
            "children": [
              "IPY_MODEL_4ff33e7afcfb4cd6a18ec8a6c694737a",
              "IPY_MODEL_0c896ad40d154172809439170c827600",
              "IPY_MODEL_b6fee6eafa7745a0a2526025adeccf6e"
            ],
            "layout": "IPY_MODEL_91b21cd348af4d239ce688a89d6c7422"
          }
        },
        "4ff33e7afcfb4cd6a18ec8a6c694737a": {
          "model_module": "@jupyter-widgets/controls",
          "model_name": "HTMLModel",
          "model_module_version": "1.5.0",
          "state": {
            "_dom_classes": [],
            "_model_module": "@jupyter-widgets/controls",
            "_model_module_version": "1.5.0",
            "_model_name": "HTMLModel",
            "_view_count": null,
            "_view_module": "@jupyter-widgets/controls",
            "_view_module_version": "1.5.0",
            "_view_name": "HTMLView",
            "description": "",
            "description_tooltip": null,
            "layout": "IPY_MODEL_2a3e2f2c6aa74b2e95e7281197dc2163",
            "placeholder": "​",
            "style": "IPY_MODEL_a075dc6eb06348c9813f16f009143beb",
            "value": "tokenizer.json: 100%"
          }
        },
        "0c896ad40d154172809439170c827600": {
          "model_module": "@jupyter-widgets/controls",
          "model_name": "FloatProgressModel",
          "model_module_version": "1.5.0",
          "state": {
            "_dom_classes": [],
            "_model_module": "@jupyter-widgets/controls",
            "_model_module_version": "1.5.0",
            "_model_name": "FloatProgressModel",
            "_view_count": null,
            "_view_module": "@jupyter-widgets/controls",
            "_view_module_version": "1.5.0",
            "_view_name": "ProgressView",
            "bar_style": "success",
            "description": "",
            "description_tooltip": null,
            "layout": "IPY_MODEL_8826a34b2f254b4988526c43df08b15f",
            "max": 711396,
            "min": 0,
            "orientation": "horizontal",
            "style": "IPY_MODEL_24fa4a2996b9447f9621c9a8b1520b7d",
            "value": 711396
          }
        },
        "b6fee6eafa7745a0a2526025adeccf6e": {
          "model_module": "@jupyter-widgets/controls",
          "model_name": "HTMLModel",
          "model_module_version": "1.5.0",
          "state": {
            "_dom_classes": [],
            "_model_module": "@jupyter-widgets/controls",
            "_model_module_version": "1.5.0",
            "_model_name": "HTMLModel",
            "_view_count": null,
            "_view_module": "@jupyter-widgets/controls",
            "_view_module_version": "1.5.0",
            "_view_name": "HTMLView",
            "description": "",
            "description_tooltip": null,
            "layout": "IPY_MODEL_1e03bd0fe96344f5b292320605f38812",
            "placeholder": "​",
            "style": "IPY_MODEL_a301cedf6ada43bf8e703cb85374aee9",
            "value": " 711k/711k [00:00&lt;00:00, 3.32MB/s]"
          }
        },
        "91b21cd348af4d239ce688a89d6c7422": {
          "model_module": "@jupyter-widgets/base",
          "model_name": "LayoutModel",
          "model_module_version": "1.2.0",
          "state": {
            "_model_module": "@jupyter-widgets/base",
            "_model_module_version": "1.2.0",
            "_model_name": "LayoutModel",
            "_view_count": null,
            "_view_module": "@jupyter-widgets/base",
            "_view_module_version": "1.2.0",
            "_view_name": "LayoutView",
            "align_content": null,
            "align_items": null,
            "align_self": null,
            "border": null,
            "bottom": null,
            "display": null,
            "flex": null,
            "flex_flow": null,
            "grid_area": null,
            "grid_auto_columns": null,
            "grid_auto_flow": null,
            "grid_auto_rows": null,
            "grid_column": null,
            "grid_gap": null,
            "grid_row": null,
            "grid_template_areas": null,
            "grid_template_columns": null,
            "grid_template_rows": null,
            "height": null,
            "justify_content": null,
            "justify_items": null,
            "left": null,
            "margin": null,
            "max_height": null,
            "max_width": null,
            "min_height": null,
            "min_width": null,
            "object_fit": null,
            "object_position": null,
            "order": null,
            "overflow": null,
            "overflow_x": null,
            "overflow_y": null,
            "padding": null,
            "right": null,
            "top": null,
            "visibility": null,
            "width": null
          }
        },
        "2a3e2f2c6aa74b2e95e7281197dc2163": {
          "model_module": "@jupyter-widgets/base",
          "model_name": "LayoutModel",
          "model_module_version": "1.2.0",
          "state": {
            "_model_module": "@jupyter-widgets/base",
            "_model_module_version": "1.2.0",
            "_model_name": "LayoutModel",
            "_view_count": null,
            "_view_module": "@jupyter-widgets/base",
            "_view_module_version": "1.2.0",
            "_view_name": "LayoutView",
            "align_content": null,
            "align_items": null,
            "align_self": null,
            "border": null,
            "bottom": null,
            "display": null,
            "flex": null,
            "flex_flow": null,
            "grid_area": null,
            "grid_auto_columns": null,
            "grid_auto_flow": null,
            "grid_auto_rows": null,
            "grid_column": null,
            "grid_gap": null,
            "grid_row": null,
            "grid_template_areas": null,
            "grid_template_columns": null,
            "grid_template_rows": null,
            "height": null,
            "justify_content": null,
            "justify_items": null,
            "left": null,
            "margin": null,
            "max_height": null,
            "max_width": null,
            "min_height": null,
            "min_width": null,
            "object_fit": null,
            "object_position": null,
            "order": null,
            "overflow": null,
            "overflow_x": null,
            "overflow_y": null,
            "padding": null,
            "right": null,
            "top": null,
            "visibility": null,
            "width": null
          }
        },
        "a075dc6eb06348c9813f16f009143beb": {
          "model_module": "@jupyter-widgets/controls",
          "model_name": "DescriptionStyleModel",
          "model_module_version": "1.5.0",
          "state": {
            "_model_module": "@jupyter-widgets/controls",
            "_model_module_version": "1.5.0",
            "_model_name": "DescriptionStyleModel",
            "_view_count": null,
            "_view_module": "@jupyter-widgets/base",
            "_view_module_version": "1.2.0",
            "_view_name": "StyleView",
            "description_width": ""
          }
        },
        "8826a34b2f254b4988526c43df08b15f": {
          "model_module": "@jupyter-widgets/base",
          "model_name": "LayoutModel",
          "model_module_version": "1.2.0",
          "state": {
            "_model_module": "@jupyter-widgets/base",
            "_model_module_version": "1.2.0",
            "_model_name": "LayoutModel",
            "_view_count": null,
            "_view_module": "@jupyter-widgets/base",
            "_view_module_version": "1.2.0",
            "_view_name": "LayoutView",
            "align_content": null,
            "align_items": null,
            "align_self": null,
            "border": null,
            "bottom": null,
            "display": null,
            "flex": null,
            "flex_flow": null,
            "grid_area": null,
            "grid_auto_columns": null,
            "grid_auto_flow": null,
            "grid_auto_rows": null,
            "grid_column": null,
            "grid_gap": null,
            "grid_row": null,
            "grid_template_areas": null,
            "grid_template_columns": null,
            "grid_template_rows": null,
            "height": null,
            "justify_content": null,
            "justify_items": null,
            "left": null,
            "margin": null,
            "max_height": null,
            "max_width": null,
            "min_height": null,
            "min_width": null,
            "object_fit": null,
            "object_position": null,
            "order": null,
            "overflow": null,
            "overflow_x": null,
            "overflow_y": null,
            "padding": null,
            "right": null,
            "top": null,
            "visibility": null,
            "width": null
          }
        },
        "24fa4a2996b9447f9621c9a8b1520b7d": {
          "model_module": "@jupyter-widgets/controls",
          "model_name": "ProgressStyleModel",
          "model_module_version": "1.5.0",
          "state": {
            "_model_module": "@jupyter-widgets/controls",
            "_model_module_version": "1.5.0",
            "_model_name": "ProgressStyleModel",
            "_view_count": null,
            "_view_module": "@jupyter-widgets/base",
            "_view_module_version": "1.2.0",
            "_view_name": "StyleView",
            "bar_color": null,
            "description_width": ""
          }
        },
        "1e03bd0fe96344f5b292320605f38812": {
          "model_module": "@jupyter-widgets/base",
          "model_name": "LayoutModel",
          "model_module_version": "1.2.0",
          "state": {
            "_model_module": "@jupyter-widgets/base",
            "_model_module_version": "1.2.0",
            "_model_name": "LayoutModel",
            "_view_count": null,
            "_view_module": "@jupyter-widgets/base",
            "_view_module_version": "1.2.0",
            "_view_name": "LayoutView",
            "align_content": null,
            "align_items": null,
            "align_self": null,
            "border": null,
            "bottom": null,
            "display": null,
            "flex": null,
            "flex_flow": null,
            "grid_area": null,
            "grid_auto_columns": null,
            "grid_auto_flow": null,
            "grid_auto_rows": null,
            "grid_column": null,
            "grid_gap": null,
            "grid_row": null,
            "grid_template_areas": null,
            "grid_template_columns": null,
            "grid_template_rows": null,
            "height": null,
            "justify_content": null,
            "justify_items": null,
            "left": null,
            "margin": null,
            "max_height": null,
            "max_width": null,
            "min_height": null,
            "min_width": null,
            "object_fit": null,
            "object_position": null,
            "order": null,
            "overflow": null,
            "overflow_x": null,
            "overflow_y": null,
            "padding": null,
            "right": null,
            "top": null,
            "visibility": null,
            "width": null
          }
        },
        "a301cedf6ada43bf8e703cb85374aee9": {
          "model_module": "@jupyter-widgets/controls",
          "model_name": "DescriptionStyleModel",
          "model_module_version": "1.5.0",
          "state": {
            "_model_module": "@jupyter-widgets/controls",
            "_model_module_version": "1.5.0",
            "_model_name": "DescriptionStyleModel",
            "_view_count": null,
            "_view_module": "@jupyter-widgets/base",
            "_view_module_version": "1.2.0",
            "_view_name": "StyleView",
            "description_width": ""
          }
        },
        "b636b2fa98b9480bbf6eedc8a4909934": {
          "model_module": "@jupyter-widgets/controls",
          "model_name": "HBoxModel",
          "model_module_version": "1.5.0",
          "state": {
            "_dom_classes": [],
            "_model_module": "@jupyter-widgets/controls",
            "_model_module_version": "1.5.0",
            "_model_name": "HBoxModel",
            "_view_count": null,
            "_view_module": "@jupyter-widgets/controls",
            "_view_module_version": "1.5.0",
            "_view_name": "HBoxView",
            "box_style": "",
            "children": [
              "IPY_MODEL_93772a0ccc774337b0a1cbcd72084dbe",
              "IPY_MODEL_54f31f9112904e088b1460600c92c332",
              "IPY_MODEL_afdbab5635904d2eace5a1f866824d17"
            ],
            "layout": "IPY_MODEL_9d32ee4a3585483880a13154bbf2e750"
          }
        },
        "93772a0ccc774337b0a1cbcd72084dbe": {
          "model_module": "@jupyter-widgets/controls",
          "model_name": "HTMLModel",
          "model_module_version": "1.5.0",
          "state": {
            "_dom_classes": [],
            "_model_module": "@jupyter-widgets/controls",
            "_model_module_version": "1.5.0",
            "_model_name": "HTMLModel",
            "_view_count": null,
            "_view_module": "@jupyter-widgets/controls",
            "_view_module_version": "1.5.0",
            "_view_name": "HTMLView",
            "description": "",
            "description_tooltip": null,
            "layout": "IPY_MODEL_2a7db658a055403dad17c5e116a86d31",
            "placeholder": "​",
            "style": "IPY_MODEL_5ff5029defe24f9a9629d83c8ecb5301",
            "value": "special_tokens_map.json: 100%"
          }
        },
        "54f31f9112904e088b1460600c92c332": {
          "model_module": "@jupyter-widgets/controls",
          "model_name": "FloatProgressModel",
          "model_module_version": "1.5.0",
          "state": {
            "_dom_classes": [],
            "_model_module": "@jupyter-widgets/controls",
            "_model_module_version": "1.5.0",
            "_model_name": "FloatProgressModel",
            "_view_count": null,
            "_view_module": "@jupyter-widgets/controls",
            "_view_module_version": "1.5.0",
            "_view_name": "ProgressView",
            "bar_style": "success",
            "description": "",
            "description_tooltip": null,
            "layout": "IPY_MODEL_40d9cde3432c45399ab588b5b1215b62",
            "max": 125,
            "min": 0,
            "orientation": "horizontal",
            "style": "IPY_MODEL_0ece6cf6e76a429888190bc7d7981e3f",
            "value": 125
          }
        },
        "afdbab5635904d2eace5a1f866824d17": {
          "model_module": "@jupyter-widgets/controls",
          "model_name": "HTMLModel",
          "model_module_version": "1.5.0",
          "state": {
            "_dom_classes": [],
            "_model_module": "@jupyter-widgets/controls",
            "_model_module_version": "1.5.0",
            "_model_name": "HTMLModel",
            "_view_count": null,
            "_view_module": "@jupyter-widgets/controls",
            "_view_module_version": "1.5.0",
            "_view_name": "HTMLView",
            "description": "",
            "description_tooltip": null,
            "layout": "IPY_MODEL_4747eb95694b487cac2e0f22c60cd579",
            "placeholder": "​",
            "style": "IPY_MODEL_9ba15b75343344328f9d8dfc4936a204",
            "value": " 125/125 [00:00&lt;00:00, 8.27kB/s]"
          }
        },
        "9d32ee4a3585483880a13154bbf2e750": {
          "model_module": "@jupyter-widgets/base",
          "model_name": "LayoutModel",
          "model_module_version": "1.2.0",
          "state": {
            "_model_module": "@jupyter-widgets/base",
            "_model_module_version": "1.2.0",
            "_model_name": "LayoutModel",
            "_view_count": null,
            "_view_module": "@jupyter-widgets/base",
            "_view_module_version": "1.2.0",
            "_view_name": "LayoutView",
            "align_content": null,
            "align_items": null,
            "align_self": null,
            "border": null,
            "bottom": null,
            "display": null,
            "flex": null,
            "flex_flow": null,
            "grid_area": null,
            "grid_auto_columns": null,
            "grid_auto_flow": null,
            "grid_auto_rows": null,
            "grid_column": null,
            "grid_gap": null,
            "grid_row": null,
            "grid_template_areas": null,
            "grid_template_columns": null,
            "grid_template_rows": null,
            "height": null,
            "justify_content": null,
            "justify_items": null,
            "left": null,
            "margin": null,
            "max_height": null,
            "max_width": null,
            "min_height": null,
            "min_width": null,
            "object_fit": null,
            "object_position": null,
            "order": null,
            "overflow": null,
            "overflow_x": null,
            "overflow_y": null,
            "padding": null,
            "right": null,
            "top": null,
            "visibility": null,
            "width": null
          }
        },
        "2a7db658a055403dad17c5e116a86d31": {
          "model_module": "@jupyter-widgets/base",
          "model_name": "LayoutModel",
          "model_module_version": "1.2.0",
          "state": {
            "_model_module": "@jupyter-widgets/base",
            "_model_module_version": "1.2.0",
            "_model_name": "LayoutModel",
            "_view_count": null,
            "_view_module": "@jupyter-widgets/base",
            "_view_module_version": "1.2.0",
            "_view_name": "LayoutView",
            "align_content": null,
            "align_items": null,
            "align_self": null,
            "border": null,
            "bottom": null,
            "display": null,
            "flex": null,
            "flex_flow": null,
            "grid_area": null,
            "grid_auto_columns": null,
            "grid_auto_flow": null,
            "grid_auto_rows": null,
            "grid_column": null,
            "grid_gap": null,
            "grid_row": null,
            "grid_template_areas": null,
            "grid_template_columns": null,
            "grid_template_rows": null,
            "height": null,
            "justify_content": null,
            "justify_items": null,
            "left": null,
            "margin": null,
            "max_height": null,
            "max_width": null,
            "min_height": null,
            "min_width": null,
            "object_fit": null,
            "object_position": null,
            "order": null,
            "overflow": null,
            "overflow_x": null,
            "overflow_y": null,
            "padding": null,
            "right": null,
            "top": null,
            "visibility": null,
            "width": null
          }
        },
        "5ff5029defe24f9a9629d83c8ecb5301": {
          "model_module": "@jupyter-widgets/controls",
          "model_name": "DescriptionStyleModel",
          "model_module_version": "1.5.0",
          "state": {
            "_model_module": "@jupyter-widgets/controls",
            "_model_module_version": "1.5.0",
            "_model_name": "DescriptionStyleModel",
            "_view_count": null,
            "_view_module": "@jupyter-widgets/base",
            "_view_module_version": "1.2.0",
            "_view_name": "StyleView",
            "description_width": ""
          }
        },
        "40d9cde3432c45399ab588b5b1215b62": {
          "model_module": "@jupyter-widgets/base",
          "model_name": "LayoutModel",
          "model_module_version": "1.2.0",
          "state": {
            "_model_module": "@jupyter-widgets/base",
            "_model_module_version": "1.2.0",
            "_model_name": "LayoutModel",
            "_view_count": null,
            "_view_module": "@jupyter-widgets/base",
            "_view_module_version": "1.2.0",
            "_view_name": "LayoutView",
            "align_content": null,
            "align_items": null,
            "align_self": null,
            "border": null,
            "bottom": null,
            "display": null,
            "flex": null,
            "flex_flow": null,
            "grid_area": null,
            "grid_auto_columns": null,
            "grid_auto_flow": null,
            "grid_auto_rows": null,
            "grid_column": null,
            "grid_gap": null,
            "grid_row": null,
            "grid_template_areas": null,
            "grid_template_columns": null,
            "grid_template_rows": null,
            "height": null,
            "justify_content": null,
            "justify_items": null,
            "left": null,
            "margin": null,
            "max_height": null,
            "max_width": null,
            "min_height": null,
            "min_width": null,
            "object_fit": null,
            "object_position": null,
            "order": null,
            "overflow": null,
            "overflow_x": null,
            "overflow_y": null,
            "padding": null,
            "right": null,
            "top": null,
            "visibility": null,
            "width": null
          }
        },
        "0ece6cf6e76a429888190bc7d7981e3f": {
          "model_module": "@jupyter-widgets/controls",
          "model_name": "ProgressStyleModel",
          "model_module_version": "1.5.0",
          "state": {
            "_model_module": "@jupyter-widgets/controls",
            "_model_module_version": "1.5.0",
            "_model_name": "ProgressStyleModel",
            "_view_count": null,
            "_view_module": "@jupyter-widgets/base",
            "_view_module_version": "1.2.0",
            "_view_name": "StyleView",
            "bar_color": null,
            "description_width": ""
          }
        },
        "4747eb95694b487cac2e0f22c60cd579": {
          "model_module": "@jupyter-widgets/base",
          "model_name": "LayoutModel",
          "model_module_version": "1.2.0",
          "state": {
            "_model_module": "@jupyter-widgets/base",
            "_model_module_version": "1.2.0",
            "_model_name": "LayoutModel",
            "_view_count": null,
            "_view_module": "@jupyter-widgets/base",
            "_view_module_version": "1.2.0",
            "_view_name": "LayoutView",
            "align_content": null,
            "align_items": null,
            "align_self": null,
            "border": null,
            "bottom": null,
            "display": null,
            "flex": null,
            "flex_flow": null,
            "grid_area": null,
            "grid_auto_columns": null,
            "grid_auto_flow": null,
            "grid_auto_rows": null,
            "grid_column": null,
            "grid_gap": null,
            "grid_row": null,
            "grid_template_areas": null,
            "grid_template_columns": null,
            "grid_template_rows": null,
            "height": null,
            "justify_content": null,
            "justify_items": null,
            "left": null,
            "margin": null,
            "max_height": null,
            "max_width": null,
            "min_height": null,
            "min_width": null,
            "object_fit": null,
            "object_position": null,
            "order": null,
            "overflow": null,
            "overflow_x": null,
            "overflow_y": null,
            "padding": null,
            "right": null,
            "top": null,
            "visibility": null,
            "width": null
          }
        },
        "9ba15b75343344328f9d8dfc4936a204": {
          "model_module": "@jupyter-widgets/controls",
          "model_name": "DescriptionStyleModel",
          "model_module_version": "1.5.0",
          "state": {
            "_model_module": "@jupyter-widgets/controls",
            "_model_module_version": "1.5.0",
            "_model_name": "DescriptionStyleModel",
            "_view_count": null,
            "_view_module": "@jupyter-widgets/base",
            "_view_module_version": "1.2.0",
            "_view_name": "StyleView",
            "description_width": ""
          }
        },
        "b7e2431844f24579ba4c953d3984bfc3": {
          "model_module": "@jupyter-widgets/controls",
          "model_name": "HBoxModel",
          "model_module_version": "1.5.0",
          "state": {
            "_dom_classes": [],
            "_model_module": "@jupyter-widgets/controls",
            "_model_module_version": "1.5.0",
            "_model_name": "HBoxModel",
            "_view_count": null,
            "_view_module": "@jupyter-widgets/controls",
            "_view_module_version": "1.5.0",
            "_view_name": "HBoxView",
            "box_style": "",
            "children": [
              "IPY_MODEL_823b4454fbab413f9c41f896791d0442",
              "IPY_MODEL_195ca89f0cd2451fa497c1768fe4e22e",
              "IPY_MODEL_18ed62d0e04a48a4b324e502d59716cf"
            ],
            "layout": "IPY_MODEL_e6999daa0bdb4ece8d78358a4bd20009"
          }
        },
        "823b4454fbab413f9c41f896791d0442": {
          "model_module": "@jupyter-widgets/controls",
          "model_name": "HTMLModel",
          "model_module_version": "1.5.0",
          "state": {
            "_dom_classes": [],
            "_model_module": "@jupyter-widgets/controls",
            "_model_module_version": "1.5.0",
            "_model_name": "HTMLModel",
            "_view_count": null,
            "_view_module": "@jupyter-widgets/controls",
            "_view_module_version": "1.5.0",
            "_view_name": "HTMLView",
            "description": "",
            "description_tooltip": null,
            "layout": "IPY_MODEL_b7e7393af33a4e4e97f2012b03352e73",
            "placeholder": "​",
            "style": "IPY_MODEL_6e308abafe61424cbb3e2bc07072ce4d",
            "value": "1_Pooling/config.json: 100%"
          }
        },
        "195ca89f0cd2451fa497c1768fe4e22e": {
          "model_module": "@jupyter-widgets/controls",
          "model_name": "FloatProgressModel",
          "model_module_version": "1.5.0",
          "state": {
            "_dom_classes": [],
            "_model_module": "@jupyter-widgets/controls",
            "_model_module_version": "1.5.0",
            "_model_name": "FloatProgressModel",
            "_view_count": null,
            "_view_module": "@jupyter-widgets/controls",
            "_view_module_version": "1.5.0",
            "_view_name": "ProgressView",
            "bar_style": "success",
            "description": "",
            "description_tooltip": null,
            "layout": "IPY_MODEL_2bfe7b7ea9c84cc6a64e73acbc56e03d",
            "max": 190,
            "min": 0,
            "orientation": "horizontal",
            "style": "IPY_MODEL_3cb79f8490064d9a95755d5cbc106aa3",
            "value": 190
          }
        },
        "18ed62d0e04a48a4b324e502d59716cf": {
          "model_module": "@jupyter-widgets/controls",
          "model_name": "HTMLModel",
          "model_module_version": "1.5.0",
          "state": {
            "_dom_classes": [],
            "_model_module": "@jupyter-widgets/controls",
            "_model_module_version": "1.5.0",
            "_model_name": "HTMLModel",
            "_view_count": null,
            "_view_module": "@jupyter-widgets/controls",
            "_view_module_version": "1.5.0",
            "_view_name": "HTMLView",
            "description": "",
            "description_tooltip": null,
            "layout": "IPY_MODEL_7f37e1a089cc4be0aa747031fd1f6aae",
            "placeholder": "​",
            "style": "IPY_MODEL_4b49bf561cad41b694bf21712b382ae8",
            "value": " 190/190 [00:00&lt;00:00, 15.1kB/s]"
          }
        },
        "e6999daa0bdb4ece8d78358a4bd20009": {
          "model_module": "@jupyter-widgets/base",
          "model_name": "LayoutModel",
          "model_module_version": "1.2.0",
          "state": {
            "_model_module": "@jupyter-widgets/base",
            "_model_module_version": "1.2.0",
            "_model_name": "LayoutModel",
            "_view_count": null,
            "_view_module": "@jupyter-widgets/base",
            "_view_module_version": "1.2.0",
            "_view_name": "LayoutView",
            "align_content": null,
            "align_items": null,
            "align_self": null,
            "border": null,
            "bottom": null,
            "display": null,
            "flex": null,
            "flex_flow": null,
            "grid_area": null,
            "grid_auto_columns": null,
            "grid_auto_flow": null,
            "grid_auto_rows": null,
            "grid_column": null,
            "grid_gap": null,
            "grid_row": null,
            "grid_template_areas": null,
            "grid_template_columns": null,
            "grid_template_rows": null,
            "height": null,
            "justify_content": null,
            "justify_items": null,
            "left": null,
            "margin": null,
            "max_height": null,
            "max_width": null,
            "min_height": null,
            "min_width": null,
            "object_fit": null,
            "object_position": null,
            "order": null,
            "overflow": null,
            "overflow_x": null,
            "overflow_y": null,
            "padding": null,
            "right": null,
            "top": null,
            "visibility": null,
            "width": null
          }
        },
        "b7e7393af33a4e4e97f2012b03352e73": {
          "model_module": "@jupyter-widgets/base",
          "model_name": "LayoutModel",
          "model_module_version": "1.2.0",
          "state": {
            "_model_module": "@jupyter-widgets/base",
            "_model_module_version": "1.2.0",
            "_model_name": "LayoutModel",
            "_view_count": null,
            "_view_module": "@jupyter-widgets/base",
            "_view_module_version": "1.2.0",
            "_view_name": "LayoutView",
            "align_content": null,
            "align_items": null,
            "align_self": null,
            "border": null,
            "bottom": null,
            "display": null,
            "flex": null,
            "flex_flow": null,
            "grid_area": null,
            "grid_auto_columns": null,
            "grid_auto_flow": null,
            "grid_auto_rows": null,
            "grid_column": null,
            "grid_gap": null,
            "grid_row": null,
            "grid_template_areas": null,
            "grid_template_columns": null,
            "grid_template_rows": null,
            "height": null,
            "justify_content": null,
            "justify_items": null,
            "left": null,
            "margin": null,
            "max_height": null,
            "max_width": null,
            "min_height": null,
            "min_width": null,
            "object_fit": null,
            "object_position": null,
            "order": null,
            "overflow": null,
            "overflow_x": null,
            "overflow_y": null,
            "padding": null,
            "right": null,
            "top": null,
            "visibility": null,
            "width": null
          }
        },
        "6e308abafe61424cbb3e2bc07072ce4d": {
          "model_module": "@jupyter-widgets/controls",
          "model_name": "DescriptionStyleModel",
          "model_module_version": "1.5.0",
          "state": {
            "_model_module": "@jupyter-widgets/controls",
            "_model_module_version": "1.5.0",
            "_model_name": "DescriptionStyleModel",
            "_view_count": null,
            "_view_module": "@jupyter-widgets/base",
            "_view_module_version": "1.2.0",
            "_view_name": "StyleView",
            "description_width": ""
          }
        },
        "2bfe7b7ea9c84cc6a64e73acbc56e03d": {
          "model_module": "@jupyter-widgets/base",
          "model_name": "LayoutModel",
          "model_module_version": "1.2.0",
          "state": {
            "_model_module": "@jupyter-widgets/base",
            "_model_module_version": "1.2.0",
            "_model_name": "LayoutModel",
            "_view_count": null,
            "_view_module": "@jupyter-widgets/base",
            "_view_module_version": "1.2.0",
            "_view_name": "LayoutView",
            "align_content": null,
            "align_items": null,
            "align_self": null,
            "border": null,
            "bottom": null,
            "display": null,
            "flex": null,
            "flex_flow": null,
            "grid_area": null,
            "grid_auto_columns": null,
            "grid_auto_flow": null,
            "grid_auto_rows": null,
            "grid_column": null,
            "grid_gap": null,
            "grid_row": null,
            "grid_template_areas": null,
            "grid_template_columns": null,
            "grid_template_rows": null,
            "height": null,
            "justify_content": null,
            "justify_items": null,
            "left": null,
            "margin": null,
            "max_height": null,
            "max_width": null,
            "min_height": null,
            "min_width": null,
            "object_fit": null,
            "object_position": null,
            "order": null,
            "overflow": null,
            "overflow_x": null,
            "overflow_y": null,
            "padding": null,
            "right": null,
            "top": null,
            "visibility": null,
            "width": null
          }
        },
        "3cb79f8490064d9a95755d5cbc106aa3": {
          "model_module": "@jupyter-widgets/controls",
          "model_name": "ProgressStyleModel",
          "model_module_version": "1.5.0",
          "state": {
            "_model_module": "@jupyter-widgets/controls",
            "_model_module_version": "1.5.0",
            "_model_name": "ProgressStyleModel",
            "_view_count": null,
            "_view_module": "@jupyter-widgets/base",
            "_view_module_version": "1.2.0",
            "_view_name": "StyleView",
            "bar_color": null,
            "description_width": ""
          }
        },
        "7f37e1a089cc4be0aa747031fd1f6aae": {
          "model_module": "@jupyter-widgets/base",
          "model_name": "LayoutModel",
          "model_module_version": "1.2.0",
          "state": {
            "_model_module": "@jupyter-widgets/base",
            "_model_module_version": "1.2.0",
            "_model_name": "LayoutModel",
            "_view_count": null,
            "_view_module": "@jupyter-widgets/base",
            "_view_module_version": "1.2.0",
            "_view_name": "LayoutView",
            "align_content": null,
            "align_items": null,
            "align_self": null,
            "border": null,
            "bottom": null,
            "display": null,
            "flex": null,
            "flex_flow": null,
            "grid_area": null,
            "grid_auto_columns": null,
            "grid_auto_flow": null,
            "grid_auto_rows": null,
            "grid_column": null,
            "grid_gap": null,
            "grid_row": null,
            "grid_template_areas": null,
            "grid_template_columns": null,
            "grid_template_rows": null,
            "height": null,
            "justify_content": null,
            "justify_items": null,
            "left": null,
            "margin": null,
            "max_height": null,
            "max_width": null,
            "min_height": null,
            "min_width": null,
            "object_fit": null,
            "object_position": null,
            "order": null,
            "overflow": null,
            "overflow_x": null,
            "overflow_y": null,
            "padding": null,
            "right": null,
            "top": null,
            "visibility": null,
            "width": null
          }
        },
        "4b49bf561cad41b694bf21712b382ae8": {
          "model_module": "@jupyter-widgets/controls",
          "model_name": "DescriptionStyleModel",
          "model_module_version": "1.5.0",
          "state": {
            "_model_module": "@jupyter-widgets/controls",
            "_model_module_version": "1.5.0",
            "_model_name": "DescriptionStyleModel",
            "_view_count": null,
            "_view_module": "@jupyter-widgets/base",
            "_view_module_version": "1.2.0",
            "_view_name": "StyleView",
            "description_width": ""
          }
        },
        "cbc741a56f5d43529ebe89203a1e6bf6": {
          "model_module": "@jupyter-widgets/controls",
          "model_name": "HBoxModel",
          "model_module_version": "1.5.0",
          "state": {
            "_dom_classes": [],
            "_model_module": "@jupyter-widgets/controls",
            "_model_module_version": "1.5.0",
            "_model_name": "HBoxModel",
            "_view_count": null,
            "_view_module": "@jupyter-widgets/controls",
            "_view_module_version": "1.5.0",
            "_view_name": "HBoxView",
            "box_style": "",
            "children": [
              "IPY_MODEL_4a40f7e41ea94de6b479212379a7b451",
              "IPY_MODEL_08ce4b7a8dab4b7aaa59150f18674727",
              "IPY_MODEL_a38e609b6f5643a48a2adb57a1a16fc6"
            ],
            "layout": "IPY_MODEL_a6dee6da3d78493b9e69c705dfbd4e3c"
          }
        },
        "4a40f7e41ea94de6b479212379a7b451": {
          "model_module": "@jupyter-widgets/controls",
          "model_name": "HTMLModel",
          "model_module_version": "1.5.0",
          "state": {
            "_dom_classes": [],
            "_model_module": "@jupyter-widgets/controls",
            "_model_module_version": "1.5.0",
            "_model_name": "HTMLModel",
            "_view_count": null,
            "_view_module": "@jupyter-widgets/controls",
            "_view_module_version": "1.5.0",
            "_view_name": "HTMLView",
            "description": "",
            "description_tooltip": null,
            "layout": "IPY_MODEL_51bedc6f5d834bc499589035415452b6",
            "placeholder": "​",
            "style": "IPY_MODEL_8e956668854d47f8be425bf1ba923c7a",
            "value": "Computing widget examples:   0%"
          }
        },
        "08ce4b7a8dab4b7aaa59150f18674727": {
          "model_module": "@jupyter-widgets/controls",
          "model_name": "FloatProgressModel",
          "model_module_version": "1.5.0",
          "state": {
            "_dom_classes": [],
            "_model_module": "@jupyter-widgets/controls",
            "_model_module_version": "1.5.0",
            "_model_name": "FloatProgressModel",
            "_view_count": null,
            "_view_module": "@jupyter-widgets/controls",
            "_view_module_version": "1.5.0",
            "_view_name": "ProgressView",
            "bar_style": "",
            "description": "",
            "description_tooltip": null,
            "layout": "IPY_MODEL_43ba6fea4c584472aa6277cb035c93e1",
            "max": 1,
            "min": 0,
            "orientation": "horizontal",
            "style": "IPY_MODEL_6b798ec96d3047a39ebf45934df1b7e6",
            "value": 1
          }
        },
        "a38e609b6f5643a48a2adb57a1a16fc6": {
          "model_module": "@jupyter-widgets/controls",
          "model_name": "HTMLModel",
          "model_module_version": "1.5.0",
          "state": {
            "_dom_classes": [],
            "_model_module": "@jupyter-widgets/controls",
            "_model_module_version": "1.5.0",
            "_model_name": "HTMLModel",
            "_view_count": null,
            "_view_module": "@jupyter-widgets/controls",
            "_view_module_version": "1.5.0",
            "_view_name": "HTMLView",
            "description": "",
            "description_tooltip": null,
            "layout": "IPY_MODEL_274c5cc28e6546299e1050e9c61fdfad",
            "placeholder": "​",
            "style": "IPY_MODEL_ab85e89a93a04a16912d490e25faacc2",
            "value": " 0/1 [00:00&lt;?, ?example/s]"
          }
        },
        "a6dee6da3d78493b9e69c705dfbd4e3c": {
          "model_module": "@jupyter-widgets/base",
          "model_name": "LayoutModel",
          "model_module_version": "1.2.0",
          "state": {
            "_model_module": "@jupyter-widgets/base",
            "_model_module_version": "1.2.0",
            "_model_name": "LayoutModel",
            "_view_count": null,
            "_view_module": "@jupyter-widgets/base",
            "_view_module_version": "1.2.0",
            "_view_name": "LayoutView",
            "align_content": null,
            "align_items": null,
            "align_self": null,
            "border": null,
            "bottom": null,
            "display": null,
            "flex": null,
            "flex_flow": null,
            "grid_area": null,
            "grid_auto_columns": null,
            "grid_auto_flow": null,
            "grid_auto_rows": null,
            "grid_column": null,
            "grid_gap": null,
            "grid_row": null,
            "grid_template_areas": null,
            "grid_template_columns": null,
            "grid_template_rows": null,
            "height": null,
            "justify_content": null,
            "justify_items": null,
            "left": null,
            "margin": null,
            "max_height": null,
            "max_width": null,
            "min_height": null,
            "min_width": null,
            "object_fit": null,
            "object_position": null,
            "order": null,
            "overflow": null,
            "overflow_x": null,
            "overflow_y": null,
            "padding": null,
            "right": null,
            "top": null,
            "visibility": "hidden",
            "width": null
          }
        },
        "51bedc6f5d834bc499589035415452b6": {
          "model_module": "@jupyter-widgets/base",
          "model_name": "LayoutModel",
          "model_module_version": "1.2.0",
          "state": {
            "_model_module": "@jupyter-widgets/base",
            "_model_module_version": "1.2.0",
            "_model_name": "LayoutModel",
            "_view_count": null,
            "_view_module": "@jupyter-widgets/base",
            "_view_module_version": "1.2.0",
            "_view_name": "LayoutView",
            "align_content": null,
            "align_items": null,
            "align_self": null,
            "border": null,
            "bottom": null,
            "display": null,
            "flex": null,
            "flex_flow": null,
            "grid_area": null,
            "grid_auto_columns": null,
            "grid_auto_flow": null,
            "grid_auto_rows": null,
            "grid_column": null,
            "grid_gap": null,
            "grid_row": null,
            "grid_template_areas": null,
            "grid_template_columns": null,
            "grid_template_rows": null,
            "height": null,
            "justify_content": null,
            "justify_items": null,
            "left": null,
            "margin": null,
            "max_height": null,
            "max_width": null,
            "min_height": null,
            "min_width": null,
            "object_fit": null,
            "object_position": null,
            "order": null,
            "overflow": null,
            "overflow_x": null,
            "overflow_y": null,
            "padding": null,
            "right": null,
            "top": null,
            "visibility": null,
            "width": null
          }
        },
        "8e956668854d47f8be425bf1ba923c7a": {
          "model_module": "@jupyter-widgets/controls",
          "model_name": "DescriptionStyleModel",
          "model_module_version": "1.5.0",
          "state": {
            "_model_module": "@jupyter-widgets/controls",
            "_model_module_version": "1.5.0",
            "_model_name": "DescriptionStyleModel",
            "_view_count": null,
            "_view_module": "@jupyter-widgets/base",
            "_view_module_version": "1.2.0",
            "_view_name": "StyleView",
            "description_width": ""
          }
        },
        "43ba6fea4c584472aa6277cb035c93e1": {
          "model_module": "@jupyter-widgets/base",
          "model_name": "LayoutModel",
          "model_module_version": "1.2.0",
          "state": {
            "_model_module": "@jupyter-widgets/base",
            "_model_module_version": "1.2.0",
            "_model_name": "LayoutModel",
            "_view_count": null,
            "_view_module": "@jupyter-widgets/base",
            "_view_module_version": "1.2.0",
            "_view_name": "LayoutView",
            "align_content": null,
            "align_items": null,
            "align_self": null,
            "border": null,
            "bottom": null,
            "display": null,
            "flex": null,
            "flex_flow": null,
            "grid_area": null,
            "grid_auto_columns": null,
            "grid_auto_flow": null,
            "grid_auto_rows": null,
            "grid_column": null,
            "grid_gap": null,
            "grid_row": null,
            "grid_template_areas": null,
            "grid_template_columns": null,
            "grid_template_rows": null,
            "height": null,
            "justify_content": null,
            "justify_items": null,
            "left": null,
            "margin": null,
            "max_height": null,
            "max_width": null,
            "min_height": null,
            "min_width": null,
            "object_fit": null,
            "object_position": null,
            "order": null,
            "overflow": null,
            "overflow_x": null,
            "overflow_y": null,
            "padding": null,
            "right": null,
            "top": null,
            "visibility": null,
            "width": null
          }
        },
        "6b798ec96d3047a39ebf45934df1b7e6": {
          "model_module": "@jupyter-widgets/controls",
          "model_name": "ProgressStyleModel",
          "model_module_version": "1.5.0",
          "state": {
            "_model_module": "@jupyter-widgets/controls",
            "_model_module_version": "1.5.0",
            "_model_name": "ProgressStyleModel",
            "_view_count": null,
            "_view_module": "@jupyter-widgets/base",
            "_view_module_version": "1.2.0",
            "_view_name": "StyleView",
            "bar_color": null,
            "description_width": ""
          }
        },
        "274c5cc28e6546299e1050e9c61fdfad": {
          "model_module": "@jupyter-widgets/base",
          "model_name": "LayoutModel",
          "model_module_version": "1.2.0",
          "state": {
            "_model_module": "@jupyter-widgets/base",
            "_model_module_version": "1.2.0",
            "_model_name": "LayoutModel",
            "_view_count": null,
            "_view_module": "@jupyter-widgets/base",
            "_view_module_version": "1.2.0",
            "_view_name": "LayoutView",
            "align_content": null,
            "align_items": null,
            "align_self": null,
            "border": null,
            "bottom": null,
            "display": null,
            "flex": null,
            "flex_flow": null,
            "grid_area": null,
            "grid_auto_columns": null,
            "grid_auto_flow": null,
            "grid_auto_rows": null,
            "grid_column": null,
            "grid_gap": null,
            "grid_row": null,
            "grid_template_areas": null,
            "grid_template_columns": null,
            "grid_template_rows": null,
            "height": null,
            "justify_content": null,
            "justify_items": null,
            "left": null,
            "margin": null,
            "max_height": null,
            "max_width": null,
            "min_height": null,
            "min_width": null,
            "object_fit": null,
            "object_position": null,
            "order": null,
            "overflow": null,
            "overflow_x": null,
            "overflow_y": null,
            "padding": null,
            "right": null,
            "top": null,
            "visibility": null,
            "width": null
          }
        },
        "ab85e89a93a04a16912d490e25faacc2": {
          "model_module": "@jupyter-widgets/controls",
          "model_name": "DescriptionStyleModel",
          "model_module_version": "1.5.0",
          "state": {
            "_model_module": "@jupyter-widgets/controls",
            "_model_module_version": "1.5.0",
            "_model_name": "DescriptionStyleModel",
            "_view_count": null,
            "_view_module": "@jupyter-widgets/base",
            "_view_module_version": "1.2.0",
            "_view_name": "StyleView",
            "description_width": ""
          }
        }
      }
    }
  },
  "cells": [
    {
      "cell_type": "markdown",
      "metadata": {
        "id": "view-in-github",
        "colab_type": "text"
      },
      "source": [
        "<a href=\"https://colab.research.google.com/github/dhrits/LLM-Engineering-Foundations-to-SLMs/blob/main/04_Embeddings/Training_Emebddings_From_Scratch_%26_Fine_tuning_Embedding_Models_Coding_Assignment.ipynb\" target=\"_parent\"><img src=\"https://colab.research.google.com/assets/colab-badge.svg\" alt=\"Open In Colab\"/></a>"
      ]
    },
    {
      "cell_type": "markdown",
      "source": [
        "# Embeddings & You - A Brief Introduction to Embeddings in Machine Learning\n",
        "\n",
        "If you've toyed with LangChain, LlamaIndex, or even OpenAI's `ada` model - you've likely run into the word: \"Embeddings\" a few time.\n",
        "\n",
        "They've had a recent surge in popularity due to the profliferation of Retrieval Augmented Generation, but they've been around for a very long time.\n",
        "\n",
        "If you come from an NLP background, embeddings are something you might be intimately familiar with - otherwise, you might find the topic a bit...dense. (this attempt at a joke will make more sense later)\n",
        "\n",
        "In all seriousness, embeddings are a powerful piece of the NLP puzzle, so let's dive in!\n",
        "\n",
        "> NOTE: While this notebook language/NLP-centric, embeddings have uses beyond just text!\n",
        "\n",
        "## Notebook Table of Contents:\n",
        "\n",
        "- Breakout Room #1: Training Word2Vec from Scratch\n",
        "  - Task 1: Dependencies\n",
        "  - Task 2: Data Collection\n",
        "  - Task 3: Data Preprocessing\n",
        "    - 🏗️ Activity #1\n",
        "    - ❓Question #1\n",
        "    - 🏗️ Activity #2\n",
        "    - 👪❓ Discussion Question #1\n",
        "  - Task 4: Training Word2Vec\n",
        "    - 🏗️ Activity #3\n",
        "    - ❓Question #2\n",
        "- Breakout Room #2:\n",
        "  - Task 1: Fine-tuning Our Embedding Model\n",
        "    - ❓Question #3\n",
        "    - 🏗️ Activity #4\n",
        "  - Task 2: Evaluating our Embedding Model\n",
        "    - 👪❓Discussion Question #2"
      ],
      "metadata": {
        "id": "3ZO_xiWUoSKX"
      }
    },
    {
      "cell_type": "markdown",
      "source": [
        "### Why Do We Even Need Embeddings?\n",
        "\n",
        "In order to fully understand what Embeddings are, we first need to understand why we have them:\n",
        "\n",
        "Machine Learning algorithms, ranging from the very big to the very small, all have one thing in common:\n",
        "\n",
        "*They need numeric inputs.*\n",
        "\n",
        "So we need a process by which to translate the domain we live in, dominated by images, audio, language, and more, into the domain of the machine: Numbers.\n",
        "\n",
        "Another thing we want to be able to do is capture \"semantic information\" about words/phrases so that we can use algorithmic approaches to determine if words are closely related or not!\n",
        "\n",
        "So, we need to come up with a process that does these two things well:\n",
        "\n",
        "1. Convert non-numeric data into numeric-data\n",
        "2. Capture potential semantic relationships between individual pieces of data"
      ],
      "metadata": {
        "id": "P70JnMeToYd3"
      }
    },
    {
      "cell_type": "markdown",
      "source": [
        "## Breakout Room #1: Training Word2Vec from Scratch\n",
        "\n",
        "Now that we have a bit of background on Embeddings - let's look at what it takes to create our own embeddings using Word2Vec!\n",
        "\n",
        "We'll be leveraging the `gensim` library, which you can read all about [here](https://pypi.org/project/gensim/).\n",
        "\n",
        "Before we begin training, however, we need some data!\n",
        "\n",
        "Let's use the Wikipedia pages for Wicked and Gladiator as examples."
      ],
      "metadata": {
        "id": "_AkTA6O8boBu"
      }
    },
    {
      "cell_type": "markdown",
      "source": [
        "### Task 1: Dependencies\n",
        "We'll leverage the `wikipedia` library, and `langchain`s `WikipediaLoader` to obtain our Wikipedia data!"
      ],
      "metadata": {
        "id": "DE0PCOWjdHO8"
      }
    },
    {
      "cell_type": "code",
      "execution_count": null,
      "metadata": {
        "id": "f1bHSdU9a8Tu",
        "colab": {
          "base_uri": "https://localhost:8080/"
        },
        "outputId": "b9c9060e-adbf-4f90-d4ac-ead330277f54"
      },
      "outputs": [
        {
          "output_type": "stream",
          "name": "stdout",
          "text": [
            "  Preparing metadata (setup.py) ... \u001b[?25l\u001b[?25hdone\n",
            "\u001b[2K   \u001b[90m━━━━━━━━━━━━━━━━━━━━━━━━━━━━━━━━━━━━━━━━\u001b[0m \u001b[32m1.0/1.0 MB\u001b[0m \u001b[31m27.3 MB/s\u001b[0m eta \u001b[36m0:00:00\u001b[0m\n",
            "\u001b[2K   \u001b[90m━━━━━━━━━━━━━━━━━━━━━━━━━━━━━━━━━━━━━━━━\u001b[0m \u001b[32m2.4/2.4 MB\u001b[0m \u001b[31m81.7 MB/s\u001b[0m eta \u001b[36m0:00:00\u001b[0m\n",
            "\u001b[2K   \u001b[90m━━━━━━━━━━━━━━━━━━━━━━━━━━━━━━━━━━━━━━━━\u001b[0m \u001b[32m480.6/480.6 kB\u001b[0m \u001b[31m34.5 MB/s\u001b[0m eta \u001b[36m0:00:00\u001b[0m\n",
            "\u001b[2K   \u001b[90m━━━━━━━━━━━━━━━━━━━━━━━━━━━━━━━━━━━━━━━━\u001b[0m \u001b[32m116.3/116.3 kB\u001b[0m \u001b[31m10.6 MB/s\u001b[0m eta \u001b[36m0:00:00\u001b[0m\n",
            "\u001b[2K   \u001b[90m━━━━━━━━━━━━━━━━━━━━━━━━━━━━━━━━━━━━━━━━\u001b[0m \u001b[32m179.3/179.3 kB\u001b[0m \u001b[31m15.8 MB/s\u001b[0m eta \u001b[36m0:00:00\u001b[0m\n",
            "\u001b[2K   \u001b[90m━━━━━━━━━━━━━━━━━━━━━━━━━━━━━━━━━━━━━━━━\u001b[0m \u001b[32m409.5/409.5 kB\u001b[0m \u001b[31m35.3 MB/s\u001b[0m eta \u001b[36m0:00:00\u001b[0m\n",
            "\u001b[2K   \u001b[90m━━━━━━━━━━━━━━━━━━━━━━━━━━━━━━━━━━━━━━━━\u001b[0m \u001b[32m134.8/134.8 kB\u001b[0m \u001b[31m13.8 MB/s\u001b[0m eta \u001b[36m0:00:00\u001b[0m\n",
            "\u001b[2K   \u001b[90m━━━━━━━━━━━━━━━━━━━━━━━━━━━━━━━━━━━━━━━━\u001b[0m \u001b[32m194.1/194.1 kB\u001b[0m \u001b[31m18.0 MB/s\u001b[0m eta \u001b[36m0:00:00\u001b[0m\n",
            "\u001b[2K   \u001b[90m━━━━━━━━━━━━━━━━━━━━━━━━━━━━━━━━━━━━━━━━\u001b[0m \u001b[32m49.5/49.5 kB\u001b[0m \u001b[31m4.5 MB/s\u001b[0m eta \u001b[36m0:00:00\u001b[0m\n",
            "\u001b[?25h  Building wheel for wikipedia (setup.py) ... \u001b[?25l\u001b[?25hdone\n",
            "\u001b[31mERROR: pip's dependency resolver does not currently take into account all the packages that are installed. This behaviour is the source of the following dependency conflicts.\n",
            "gcsfs 2024.10.0 requires fsspec==2024.10.0, but you have fsspec 2024.9.0 which is incompatible.\u001b[0m\u001b[31m\n",
            "\u001b[0m"
          ]
        }
      ],
      "source": [
        "!pip install -U -q wikipedia langchain langchain_community lxml datasets"
      ]
    },
    {
      "cell_type": "markdown",
      "source": [
        "> NOTE: Please reset the Colab environment after running the install cells."
      ],
      "metadata": {
        "id": "frFcUKy5ief6"
      }
    },
    {
      "cell_type": "markdown",
      "source": [
        "### Task 2: Data Collection\n",
        "\n"
      ],
      "metadata": {
        "id": "ON8zWj4GR0oz"
      }
    },
    {
      "cell_type": "code",
      "source": [
        "from langchain_community.document_loaders import WikipediaLoader\n",
        "\n",
        "wicked_docs = WikipediaLoader(\n",
        "    query=\"Wicked (2024 film)\",\n",
        "    load_max_docs=5,\n",
        "    doc_content_chars_max=1_000_000\n",
        "    ).load()"
      ],
      "metadata": {
        "id": "ME25TAtVdPmE",
        "colab": {
          "base_uri": "https://localhost:8080/"
        },
        "outputId": "fdbad2c1-bf30-451c-cdd8-ba89d01f0012"
      },
      "execution_count": null,
      "outputs": [
        {
          "output_type": "stream",
          "name": "stderr",
          "text": [
            "/usr/local/lib/python3.10/dist-packages/wikipedia/wikipedia.py:389: GuessedAtParserWarning: No parser was explicitly specified, so I'm using the best available HTML parser for this system (\"lxml\"). This usually isn't a problem, but if you run this code on another system, or in a different virtual environment, it may use a different parser and behave differently.\n",
            "\n",
            "The code that caused this warning is on line 389 of the file /usr/local/lib/python3.10/dist-packages/wikipedia/wikipedia.py. To get rid of this warning, pass the additional argument 'features=\"lxml\"' to the BeautifulSoup constructor.\n",
            "\n",
            "  lis = BeautifulSoup(html).find_all('li')\n"
          ]
        }
      ]
    },
    {
      "cell_type": "code",
      "source": [
        "len(wicked_docs)"
      ],
      "metadata": {
        "id": "nLV9ZD4ReBrw",
        "colab": {
          "base_uri": "https://localhost:8080/"
        },
        "outputId": "466d4dfa-b84a-4bb9-fedf-eb9608fe207e"
      },
      "execution_count": null,
      "outputs": [
        {
          "output_type": "execute_result",
          "data": {
            "text/plain": [
              "4"
            ]
          },
          "metadata": {},
          "execution_count": 3
        }
      ]
    },
    {
      "cell_type": "code",
      "source": [
        "gladiator_2_docs = WikipediaLoader(\n",
        "    query=\"Gladiator II\",\n",
        "    load_max_docs=5,\n",
        "    doc_content_chars_max=1_000_000\n",
        "    ).load()"
      ],
      "metadata": {
        "id": "y-_YAa6MeWmP"
      },
      "execution_count": null,
      "outputs": []
    },
    {
      "cell_type": "code",
      "source": [
        "len(gladiator_2_docs)"
      ],
      "metadata": {
        "id": "z_Tk5-_qehyb",
        "colab": {
          "base_uri": "https://localhost:8080/"
        },
        "outputId": "fa822171-0f03-4376-982b-5e77bac6d41e"
      },
      "execution_count": null,
      "outputs": [
        {
          "output_type": "execute_result",
          "data": {
            "text/plain": [
              "5"
            ]
          },
          "metadata": {},
          "execution_count": 5
        }
      ]
    },
    {
      "cell_type": "markdown",
      "source": [
        "### Task 3: Data Preprocessing\n",
        "\n",
        "Now that we have some text, we need to do some preprocessing! That's right - classic NLP!\n",
        "\n",
        "Let's begin by cleaning up our text, we'll:\n",
        "\n",
        "- Remove special characters\n",
        "- Remove stop words\n",
        "- Remove links\n",
        "- Convert to lowercase\n",
        "- Strip whitespace\n",
        "\n",
        "To do this, we'll need two main modules:\n",
        "\n",
        "- The `re` standard library module\n",
        "- `spacy`, another NLP library"
      ],
      "metadata": {
        "id": "QeJC376oep3N"
      }
    },
    {
      "cell_type": "code",
      "source": [
        "import nltk\n",
        "\n",
        "nltk.download('stopwords')\n",
        "nltk.download('punkt')\n",
        "nltk.download('punkt_tab')"
      ],
      "metadata": {
        "id": "3-XweJuKfl2w",
        "colab": {
          "base_uri": "https://localhost:8080/"
        },
        "outputId": "20d02fcd-2960-43b7-e516-a0f734f939ec"
      },
      "execution_count": null,
      "outputs": [
        {
          "output_type": "stream",
          "name": "stderr",
          "text": [
            "[nltk_data] Downloading package stopwords to /root/nltk_data...\n",
            "[nltk_data]   Unzipping corpora/stopwords.zip.\n",
            "[nltk_data] Downloading package punkt to /root/nltk_data...\n",
            "[nltk_data]   Unzipping tokenizers/punkt.zip.\n",
            "[nltk_data] Downloading package punkt_tab to /root/nltk_data...\n",
            "[nltk_data]   Unzipping tokenizers/punkt_tab.zip.\n"
          ]
        },
        {
          "output_type": "execute_result",
          "data": {
            "text/plain": [
              "True"
            ]
          },
          "metadata": {},
          "execution_count": 6
        }
      ]
    },
    {
      "cell_type": "markdown",
      "source": [
        "Let's take a peek at what these \"stopwords\" are - for traditional embedding models and NLP."
      ],
      "metadata": {
        "id": "17THAHtbcdom"
      }
    },
    {
      "cell_type": "code",
      "source": [
        "from nltk.corpus import stopwords\n",
        "stopwords.words('english')[:10]"
      ],
      "metadata": {
        "id": "pqLntUU6ftyl",
        "colab": {
          "base_uri": "https://localhost:8080/"
        },
        "outputId": "61858019-5017-419d-d8f4-5a75677fc19a"
      },
      "execution_count": null,
      "outputs": [
        {
          "output_type": "execute_result",
          "data": {
            "text/plain": [
              "['i', 'me', 'my', 'myself', 'we', 'our', 'ours', 'ourselves', 'you', \"you're\"]"
            ]
          },
          "metadata": {},
          "execution_count": 7
        }
      ]
    },
    {
      "cell_type": "markdown",
      "source": [
        "#### Text Normalization\n",
        "\n",
        "The first step is to make a helper function that normalizes our text."
      ],
      "metadata": {
        "id": "1AoGsijwcPPo"
      }
    },
    {
      "cell_type": "markdown",
      "source": [
        "#####🏗️ Activity #1:\n",
        "\n",
        "What should the output format of the `preprocess_text` function be?\n",
        "\n",
        "**`preprocess_text` should strip out some special characters and essentially output a list of lowercased words (our tokens).**\n",
        "\n",
        "Once you've determined the output format - please complete the code cell and ensure the appropriate format is returned."
      ],
      "metadata": {
        "id": "CO1L-X4IcIft"
      }
    },
    {
      "cell_type": "code",
      "source": [
        "import re\n",
        "from typing import List\n",
        "from nltk.tokenize import word_tokenize\n",
        "\n",
        "def preprocess_text(text: str) -> List[str]:\n",
        "  ### YOUR CODE HERE\n",
        "  # Remove urls https://stackoverflow.com/questions/6718633/python-regular-expression-again-match-url\n",
        "  text = re.sub(r\"\"\"((http|https)\\:\\/\\/)?[a-zA-Z0-9\\.\\/\\?\\:@\\-_=#]+\\.([a-zA-Z]){2,6}([a-zA-Z0-9\\.\\&\\/\\?\\:@\\-_=#])*\"\"\", \"\", text)\n",
        "  # Remove non alphanumeric characters with space\n",
        "  text = re.sub(r\"[^a-zA-Z]\", \" \", text)\n",
        "  # lower case\n",
        "  text = text.lower().strip()\n",
        "  # tokenize based on words\n",
        "  text = word_tokenize(text)\n",
        "  filtered_tokens = [token for token in text if token not in stopwords.words('english')]\n",
        "  return filtered_tokens"
      ],
      "metadata": {
        "id": "FSJqh7Cae2WY"
      },
      "execution_count": null,
      "outputs": []
    },
    {
      "cell_type": "markdown",
      "source": [
        "Let's see how this works on some of our Wikipedia data!"
      ],
      "metadata": {
        "id": "_TLBwJtff89s"
      }
    },
    {
      "cell_type": "code",
      "source": [
        "preprocess_text(wicked_docs[0].page_content[:100])"
      ],
      "metadata": {
        "id": "0akPT-BJgB6_",
        "colab": {
          "base_uri": "https://localhost:8080/"
        },
        "outputId": "05025c6c-1941-447d-9031-38a65428b888"
      },
      "execution_count": null,
      "outputs": [
        {
          "output_type": "execute_result",
          "data": {
            "text/plain": [
              "['wicked',\n",
              " 'titled',\n",
              " 'onscreen',\n",
              " 'wicked',\n",
              " 'part',\n",
              " 'american',\n",
              " 'epic',\n",
              " 'musical',\n",
              " 'fantasy',\n",
              " 'film',\n",
              " 'directed']"
            ]
          },
          "metadata": {},
          "execution_count": 13
        }
      ]
    },
    {
      "cell_type": "markdown",
      "source": [
        "#### Sentence Tokenization:\n",
        "\n",
        "Now we'll turn our corpus into sets of sentences."
      ],
      "metadata": {
        "id": "U1JVww2adC-c"
      }
    },
    {
      "cell_type": "markdown",
      "source": [
        "#####🏗️ Activity #2:\n",
        "\n",
        "What should the output format of the `sentence_tokenization` function be?\n",
        "\n",
        "**`sentence_tokenization` function should take several sentences (`text`) and output a list of lists where each individual list represents the sentence tokenized into individual tokens (lower cased words) and the outer list represents the list of all sentences.**\n",
        "\n",
        "Once you've determined the output format - please complete the code cell and ensure the appropriate format is returned.\n",
        "\n",
        "> NOTE: We've mysteriously imported the `sent_tokenize` helper function - it may be useful. Check out the [docs](https://www.nltk.org/api/nltk.tokenize.sent_tokenize.html)!"
      ],
      "metadata": {
        "id": "lFUQpAJngOg0"
      }
    },
    {
      "cell_type": "code",
      "source": [
        "from nltk.tokenize import sent_tokenize\n",
        "\n",
        "def sentence_tokenization(text: str) -> List[List[str]]:\n",
        "    sentences = sent_tokenize(text)\n",
        "    sentence_tokens = [preprocess_text(sentence) for sentence in sentences]\n",
        "    return sentence_tokens"
      ],
      "metadata": {
        "id": "goqsOzIlgF_x"
      },
      "execution_count": null,
      "outputs": []
    },
    {
      "cell_type": "code",
      "source": [
        "sentence_tokenization(wicked_docs[0].page_content[:200])"
      ],
      "metadata": {
        "id": "anrS-SOth1tK",
        "colab": {
          "base_uri": "https://localhost:8080/"
        },
        "outputId": "98131e09-8ccb-4291-d576-5d971f49f18a"
      },
      "execution_count": null,
      "outputs": [
        {
          "output_type": "execute_result",
          "data": {
            "text/plain": [
              "[['wicked',\n",
              "  'titled',\n",
              "  'onscreen',\n",
              "  'wicked',\n",
              "  'part',\n",
              "  'american',\n",
              "  'epic',\n",
              "  'musical',\n",
              "  'fantasy',\n",
              "  'film',\n",
              "  'directed',\n",
              "  'jon',\n",
              "  'chu',\n",
              "  'written',\n",
              "  'winnie',\n",
              "  'holzman',\n",
              "  'dana',\n",
              "  'fox',\n",
              "  'songs',\n",
              "  'stephen',\n",
              "  'schwartz'],\n",
              " ['fir']]"
            ]
          },
          "metadata": {},
          "execution_count": 15
        }
      ]
    },
    {
      "cell_type": "markdown",
      "source": [
        "Perfect, with that, we're ready to create our corpus!"
      ],
      "metadata": {
        "id": "AKLhQDeDiBv1"
      }
    },
    {
      "cell_type": "code",
      "source": [
        "corpus = []\n",
        "\n",
        "for doc in wicked_docs:\n",
        "  corpus += sentence_tokenization(doc.page_content)\n",
        "\n",
        "for doc in gladiator_2_docs:\n",
        "  corpus += sentence_tokenization(doc.page_content)"
      ],
      "metadata": {
        "id": "o0Expe68h70P"
      },
      "execution_count": null,
      "outputs": []
    },
    {
      "cell_type": "markdown",
      "source": [
        "##### ❓ Question #1:\n",
        "\n",
        "Why is this normalization and tokenization necessary to train a Word2Vec Embedding Model?\n",
        "\n",
        "Let's tackle each stage:\n",
        "\n",
        "* **Normalization** - Normalization has several benefits in this case.\n",
        "\n",
        "    1. Avoids an overly large vocabulary - Without good normalization, the vocabulary for training an embedding model might get prohibitively large. This can have implications on the amount of compute needed to train the model.\n",
        "    2. Avoids overfitting by reducing \"noise\" - Often, normalization can get rid of variations of words which have very similar meanings (this can be via lowercasing, stemming, lemmatization etc) which can avoid overfitting since the model doesn't have to do extra work to understand subtle differences in usages.\n",
        "\n",
        "* **Tokenization**\n",
        "    1. Word2Vec is essentially a \"word\" embedding model which must operate on some discrete units (words). Tokenization is the process of obtaining these discrete units. Once they've been determined, we can learn the meaning of these discrete units using a neural network and from the context in which they appear.\n",
        "    2. Tokenization is important because most language models operate at the level of discrete objects like tokens (as an example, for a next-word predictor, the softmax can be over tokens). Not having any tokens would require either building a character level model (which is still arguably tokenizing but at the character level) or come up with some novel method which operates on sentences. Note that tokens don't have to be words (see next activity)."
      ],
      "metadata": {
        "id": "KyAS-JOLbwx0"
      }
    },
    {
      "cell_type": "markdown",
      "source": [
        "##### 👪❓ Discussion Question #1:\n",
        "\n",
        "When creating training data for Large Language Models, do we need to/should we use text normalization?\n",
        "\n",
        "What arguments for or against text normalization exist at LLM-scale datasets?\n",
        "\n",
        "The short answer is that modern language models have enough capacity and are trained using sufficient compute that normalization isn't *strictly necessary* but can still be useful depending on the application. To explain this further, Byte Pair Encoding tokenizer (originally used in GPT) can be configured with a target vocabulary size and use statistical techniques to determine the right tokens given the training corpus. These tokens are usually sub-word (pieces of words) determined at the byte-level. This technique can deal with nuances of a larger vocabulary without tokenization.\n",
        "\n",
        "Arguments for Normalization:\n",
        "1. Depending on the size of the \"large\" language model, normalization can still help reduce the vocabulary size (allowing accelerator flops to be used for other purposes).\n",
        "2. Depending on the context, once again, normalization might help the ease the training process by avoiding overfitting on unnecessary variations of various tokens.\n",
        "\n",
        "Arguments against Normalization:\n",
        "1. Some kinds of normalizations (like removal of extra spaces) can be detrimental depending on the application. As an example, a language model built to write Python code needs to be able to understand the meaning behind number of spaces.\n",
        "2. Depending on the kinds of normalization applied, the training pipeline for the model can become overly complicated. Large Language Models typicall have enough capacity and compute that this complexity is not worth the added trouble.\n",
        "3. A general purpose LLM should be able to understand nuances of language which normalization can destroy. As an example, a language model might be asked to correct grammar or write essays which require grasp of language constructs which normalization can impact."
      ],
      "metadata": {
        "id": "ZURPmGkGci7m"
      }
    },
    {
      "cell_type": "markdown",
      "source": [
        "### Task 4: Training Word2Vec\n",
        "\n",
        "Now that we have our corpus set up, we can train our Word2Vec model.\n",
        "\n",
        "Training is straightforward, thanks to `gensim`, and more can be understood about the process by reading the paper - but let's see it in code!\n",
        "\n",
        "It's also worth considering/playing around with the `gensim` parameters."
      ],
      "metadata": {
        "id": "s2axftsiipxJ"
      }
    },
    {
      "cell_type": "code",
      "source": [
        "!pip install -q -U gensim"
      ],
      "metadata": {
        "id": "PVb5Rye_ikjC"
      },
      "execution_count": null,
      "outputs": []
    },
    {
      "cell_type": "markdown",
      "source": [
        "### An Aside on Skip-gram (SG) and Continuous Bag of Words (CBOW):\n",
        "\n",
        "**Skip-gram**:\n",
        "\n",
        "Skip-gram is an approach to teaching computers the meaning of words by predicting the surrounding context from a given word. Think of it as a student who learns by taking a single word and trying to guess what words might appear around it. For example, given the word \"sun,\" Skip-gram would learn to predict related words like \"bright,\" \"sky,\" and \"shine.\" This method is particularly effective at handling rare words in the vocabulary and capturing multiple meanings of words, though it typically requires more training time. The key insight is that words appearing in similar contexts often have related meanings.\n",
        "\n",
        "**Continuous Bag of Words (CBOW)**:\n",
        "\n",
        "CBOW takes the opposite approach to Skip-gram by predicting a target word based on its surrounding context words. Imagine playing a fill-in-the-blank game where you see \"The ___ is barking at the mailman\" and need to predict \"dog\" based on the surrounding words. CBOW looks at multiple context words at once and tries to understand what word would make sense in the middle. This method tends to be faster to train than Skip-gram and performs particularly well with frequent words in the vocabulary. However, it might not be as effective at handling rare words or capturing multiple word meanings since it averages the context."
      ],
      "metadata": {
        "id": "SxQu64G-gtK3"
      }
    },
    {
      "cell_type": "markdown",
      "source": [
        "#####🏗️ Activity #3:\n",
        "\n",
        "Set appropriate hyperparameters for the gensim `Word2Vec` model.\n",
        "\n",
        "> NOTE: Documentation is available [here](https://radimrehurek.com/gensim/models/word2vec.html#gensim.models.word2vec.Word2Vec)\n",
        "\n",
        "\n",
        "`VECTOR_SIZE` - This is the size of the embedding produced by the model. I used 256 because it was still reasonable compute time and empirically seemed to produce reasonable results.\n",
        "\n",
        "`WINDOW` - This is the maximum distance between current and predicted word. The size of 10 seemed appropriate here as it is roughly average sentence length.\n",
        "\n",
        "`MIN_COUNT` - Words with frequency lower than this in the corpus are ignored. Since this corpus is very specific to two genre movies, I kept this to 2 since rare words (which are highly context specific) are expected in the limited corpus."
      ],
      "metadata": {
        "id": "V6salAYUtcSr"
      }
    },
    {
      "cell_type": "markdown",
      "source": [
        "##### ❓ Question #2:\n",
        "\n",
        "What do each of the hyper-parameters mean or relate to:\n",
        "\n",
        "- `VECTOR_SIZE` -> This is the size of the embedding produced by the model.\n",
        "- `WINDOW` -> This is the maximum distance between current and predicted word used to set up the prediction problem.\n",
        "- `MIN_COUNT` -> Words with frequency lower than this in the corpus are ignored.\n",
        "- `SG` -> Specifies the algorithm used - 1 for Skipgram, otherwise CBOW. We specify 1 because we want to use skipgram."
      ],
      "metadata": {
        "id": "qJZTsWWqbMPJ"
      }
    },
    {
      "cell_type": "code",
      "source": [
        "from gensim.models import Word2Vec\n",
        "\n",
        "VECTOR_SIZE = 256\n",
        "WINDOW = 10\n",
        "MIN_COUNT = 2\n",
        "SG = 1\n",
        "\n",
        "model = Word2Vec(\n",
        "    sentences=corpus,\n",
        "    vector_size=VECTOR_SIZE,\n",
        "    window=WINDOW,\n",
        "    min_count=MIN_COUNT,\n",
        "    sg=SG\n",
        "    )"
      ],
      "metadata": {
        "id": "nSCza8r7i-Oh"
      },
      "execution_count": null,
      "outputs": []
    },
    {
      "cell_type": "markdown",
      "source": [
        "Blink and you'll miss it. You just trained an embeddings model!\n",
        "\n",
        "Let's try it out and see what we did!"
      ],
      "metadata": {
        "id": "m_LYRSDjjyA8"
      }
    },
    {
      "cell_type": "code",
      "source": [
        "model.wv[\"elphaba\"]"
      ],
      "metadata": {
        "id": "zaO35GCJjIlk",
        "colab": {
          "base_uri": "https://localhost:8080/"
        },
        "outputId": "8c73c596-ec73-4cc6-becb-1323fac9974b"
      },
      "execution_count": null,
      "outputs": [
        {
          "output_type": "execute_result",
          "data": {
            "text/plain": [
              "array([ 0.06765869,  0.00931335,  0.05225882,  0.2788173 ,  0.15067585,\n",
              "        0.00614858,  0.10582946,  0.08191479, -0.00182309,  0.06236859,\n",
              "        0.05381269, -0.03466383,  0.1107581 ,  0.0188936 , -0.0485948 ,\n",
              "        0.07580302,  0.03940454, -0.02565183, -0.1804806 ,  0.29081035,\n",
              "        0.09020197,  0.10945549, -0.00210144, -0.22987579, -0.09499752,\n",
              "        0.10487061,  0.00490394, -0.03315461, -0.10035457, -0.05638117,\n",
              "        0.16126363,  0.0371501 , -0.10562462,  0.03407912,  0.07660402,\n",
              "        0.1364852 ,  0.15054387, -0.01378694,  0.05009715, -0.09255938,\n",
              "       -0.07831604,  0.04636762, -0.01723669, -0.00755542,  0.2774938 ,\n",
              "       -0.0349294 ,  0.10037494, -0.024217  ,  0.00737526,  0.04616126,\n",
              "       -0.09552637,  0.0279586 , -0.0165402 ,  0.02621889, -0.10678325,\n",
              "       -0.08180283,  0.03920405, -0.24745321, -0.00959589,  0.13088323,\n",
              "       -0.10962094, -0.02462117, -0.00329851,  0.11779118,  0.07615861,\n",
              "       -0.00654701, -0.06600293,  0.19846079, -0.03862818, -0.01883911,\n",
              "        0.05758417, -0.05275697, -0.11288482, -0.02357022,  0.09829992,\n",
              "       -0.05668245,  0.07425685, -0.03798893,  0.02625282,  0.18001129,\n",
              "       -0.1320656 , -0.07477163,  0.10331509,  0.15016687,  0.03675643,\n",
              "        0.05964744,  0.01017353, -0.13875891, -0.0009491 ,  0.01942963,\n",
              "        0.09055296, -0.03812772, -0.04314853, -0.11547858,  0.09946593,\n",
              "        0.01030213, -0.18591897, -0.01489022, -0.05195027, -0.03658592,\n",
              "       -0.29816198, -0.06172881, -0.01212097,  0.07076875,  0.00351763,\n",
              "        0.08725084, -0.00752279,  0.05268247,  0.02986951, -0.06452008,\n",
              "        0.17725566, -0.16026865,  0.07141522,  0.09559403, -0.03459946,\n",
              "        0.06751511,  0.06621394,  0.15529305,  0.16591811, -0.08338879,\n",
              "       -0.1548209 , -0.07859606,  0.02868409,  0.04351954, -0.0187562 ,\n",
              "        0.04063158,  0.11715829,  0.07767289,  0.06876868, -0.01501864,\n",
              "        0.0749209 ,  0.0549689 ,  0.05455856, -0.02126886, -0.05737072,\n",
              "       -0.07293863,  0.02851219, -0.06559435,  0.1188617 ,  0.07765311,\n",
              "       -0.08419986, -0.01268829,  0.13120681,  0.14929484, -0.18135907,\n",
              "        0.02188866, -0.07607033, -0.03781053,  0.08514583,  0.01671404,\n",
              "       -0.01002128, -0.03627645, -0.157868  ,  0.07722999, -0.05659075,\n",
              "        0.13997664,  0.04424822,  0.00650888, -0.10963944, -0.10387784,\n",
              "        0.0918858 , -0.0753758 ,  0.11329268,  0.01227969, -0.07245358,\n",
              "       -0.02960357, -0.0420893 ,  0.22549132,  0.15778278,  0.08668655,\n",
              "       -0.03116785, -0.01973946,  0.08599194, -0.03751521, -0.20643581,\n",
              "       -0.0092175 , -0.14295603, -0.04419345,  0.2224152 , -0.01368986,\n",
              "        0.0114468 ,  0.01985195,  0.07354607,  0.02175604,  0.1532462 ,\n",
              "        0.11844198, -0.2881364 , -0.05345707, -0.15411694,  0.01317578,\n",
              "        0.058971  , -0.01777677,  0.12719274,  0.02884251,  0.07393852,\n",
              "       -0.20254907, -0.08416253, -0.09342545, -0.12131806, -0.10075412,\n",
              "       -0.09820417, -0.00171304,  0.06806864, -0.09152868, -0.0335845 ,\n",
              "       -0.01309393, -0.20902708, -0.05816671, -0.04290967,  0.06158799,\n",
              "       -0.03766024,  0.04004651,  0.20852403,  0.02974367, -0.04091646,\n",
              "       -0.05849849,  0.01779603,  0.08088044, -0.13741158, -0.06863841,\n",
              "       -0.05472143,  0.17943746,  0.01031272,  0.00964874,  0.13181601,\n",
              "        0.05892698, -0.0683366 ,  0.03871546, -0.13470955, -0.03868879,\n",
              "        0.02738802, -0.05213695,  0.04852547, -0.03463272, -0.05640414,\n",
              "        0.09701593, -0.01530867, -0.05299792, -0.01984535,  0.04766785,\n",
              "       -0.1230201 , -0.0656384 , -0.0191652 , -0.12817061,  0.17583595,\n",
              "       -0.09646922,  0.14190581,  0.02018288, -0.0932854 , -0.10984291,\n",
              "       -0.23323308,  0.1119573 , -0.06517307, -0.14862719, -0.15654077,\n",
              "       -0.05791849], dtype=float32)"
            ]
          },
          "metadata": {},
          "execution_count": 25
        }
      ]
    },
    {
      "cell_type": "markdown",
      "source": [
        "Finally! We see it: An embedding in the wild.\n",
        "\n",
        "Notice how we input a word, in this case \"Elphaba\", and we got back a 100-dimensional vector of floats.\n",
        "\n",
        "Let's see if we can't get back a list of similar vectors to the vector for \"Elphaba\", and \"Maximus\"!"
      ],
      "metadata": {
        "id": "f9yYINaHj_qI"
      }
    },
    {
      "cell_type": "code",
      "source": [
        "model.wv.most_similar(positive=[\"elphaba\"], topn=3)"
      ],
      "metadata": {
        "id": "Q3feBDOaj6WC",
        "colab": {
          "base_uri": "https://localhost:8080/"
        },
        "outputId": "5fb30782-f711-4c32-83bd-502b371a9a52"
      },
      "execution_count": null,
      "outputs": [
        {
          "output_type": "execute_result",
          "data": {
            "text/plain": [
              "[('glinda', 0.9986661076545715),\n",
              " ('galinda', 0.9972348809242249),\n",
              " ('wizard', 0.9971489906311035)]"
            ]
          },
          "metadata": {},
          "execution_count": 26
        }
      ]
    },
    {
      "cell_type": "code",
      "source": [
        "model.wv.most_similar(positive=[\"maximus\"], topn=3)"
      ],
      "metadata": {
        "id": "FrCY4Y4Rkn0N",
        "colab": {
          "base_uri": "https://localhost:8080/"
        },
        "outputId": "6cd06d7d-3150-4457-ffde-0ca9e6127d97"
      },
      "execution_count": null,
      "outputs": [
        {
          "output_type": "execute_result",
          "data": {
            "text/plain": [
              "[('lucilla', 0.998903751373291),\n",
              " ('son', 0.998900830745697),\n",
              " ('aurelius', 0.9986047148704529)]"
            ]
          },
          "metadata": {},
          "execution_count": 27
        }
      ]
    },
    {
      "cell_type": "markdown",
      "source": [
        "Now, for the moment of truth - let's do some vector math and see what happens!"
      ],
      "metadata": {
        "id": "PFJQBuooli2S"
      }
    },
    {
      "cell_type": "code",
      "source": [
        "galinda_vec = model.wv[\"galinda\"]\n",
        "good_vec = model.wv[\"good\"]\n",
        "mystery_vector = galinda_vec - good_vec"
      ],
      "metadata": {
        "id": "_fFyEP8-mRw1"
      },
      "execution_count": null,
      "outputs": []
    },
    {
      "cell_type": "code",
      "source": [
        "model.wv.most_similar(positive=[mystery_vector], topn=3)"
      ],
      "metadata": {
        "id": "hfup5uT0nDci",
        "colab": {
          "base_uri": "https://localhost:8080/"
        },
        "outputId": "fab80cc3-75fa-41e2-d864-f672f9316455"
      },
      "execution_count": null,
      "outputs": [
        {
          "output_type": "execute_result",
          "data": {
            "text/plain": [
              "[('elphaba', 0.7351096868515015),\n",
              " ('glinda', 0.7306303381919861),\n",
              " ('galinda', 0.7229472994804382)]"
            ]
          },
          "metadata": {},
          "execution_count": 29
        }
      ]
    },
    {
      "cell_type": "markdown",
      "source": [
        "And there we have it - embeddings, and a demonstration of what makes them so powerful!\n",
        "\n",
        "> Note: This is a very small sample size, and while this result is what we'd hope for - it is largely coincidental - this behaviour is expressed better in much larger corpus' of text."
      ],
      "metadata": {
        "id": "BGdGFwRjoJjg"
      }
    },
    {
      "cell_type": "markdown",
      "source": [
        "## Breakout Room #2: Fine-tuning a BERT-Style Embedding Model on Question Answer Pairs.\n",
        "\n",
        "Now that we've seen where embeddings \"started\", as it were, let's see where they've gotten.\n",
        "\n",
        "In this section, we'll be fine-tuning Hugging Face's [sentence transformers](https://www.sbert.net/).\n",
        "\n",
        "Sentence Transformers leverages the work done in the [Sentence-BERT](https://arxiv.org/abs/1908.10084) paper. So while the idea of converting input text into a dense vector representation is the same, the way we got to those embeddings is a bit different.\n",
        "\n",
        "> NOTE: As the name implies, the following model is an *ENTIRE* transformer model (though Encoder-only, as described by Sentence-BERT)."
      ],
      "metadata": {
        "id": "Ay6CQ4yRqjc9"
      }
    },
    {
      "cell_type": "markdown",
      "source": [
        "### Fine-tuning Our Embeddings Model\n",
        "\n",
        "Finally, the set up is complete - and we can move on to fine-tuning our sentence transformer embedding model!\n",
        "\n",
        "The process is simplified considerably by how amazing the Hugging Face `sentence-transformer` library is, so let's jump straight in!"
      ],
      "metadata": {
        "id": "pUHK8gBfIv9U"
      }
    },
    {
      "cell_type": "code",
      "source": [
        "!pip install -U -q sentence-transformers"
      ],
      "metadata": {
        "id": "J6QtdQve12PP",
        "colab": {
          "base_uri": "https://localhost:8080/"
        },
        "outputId": "fe3874e1-9189-4ef3-dd54-93abfe1a724d"
      },
      "execution_count": null,
      "outputs": [
        {
          "output_type": "stream",
          "name": "stdout",
          "text": [
            "\u001b[?25l   \u001b[90m━━━━━━━━━━━━━━━━━━━━━━━━━━━━━━━━━━━━━━━━\u001b[0m \u001b[32m0.0/268.8 kB\u001b[0m \u001b[31m?\u001b[0m eta \u001b[36m-:--:--\u001b[0m\r\u001b[2K   \u001b[91m━━━━━━━━━━━━━━━━━━━━━━━━━━━━━━━━━━━━━━━\u001b[0m\u001b[91m╸\u001b[0m \u001b[32m266.2/268.8 kB\u001b[0m \u001b[31m8.4 MB/s\u001b[0m eta \u001b[36m0:00:01\u001b[0m\r\u001b[2K   \u001b[90m━━━━━━━━━━━━━━━━━━━━━━━━━━━━━━━━━━━━━━━━\u001b[0m \u001b[32m268.8/268.8 kB\u001b[0m \u001b[31m6.4 MB/s\u001b[0m eta \u001b[36m0:00:00\u001b[0m\n",
            "\u001b[?25h"
          ]
        }
      ]
    },
    {
      "cell_type": "code",
      "source": [
        "from sentence_transformers import SentenceTransformer"
      ],
      "metadata": {
        "id": "98C2YcEj10di"
      },
      "execution_count": null,
      "outputs": []
    },
    {
      "cell_type": "markdown",
      "source": [
        "We're going to use the `BAAI/bge-small-en` embedding model as an example, but you could use any of the `sentence-transformer` embeddings models."
      ],
      "metadata": {
        "id": "YY3CCeScJboJ"
      }
    },
    {
      "cell_type": "code",
      "source": [
        "model_id = \"BAAI/bge-small-en\"\n",
        "model = SentenceTransformer(model_id)"
      ],
      "metadata": {
        "id": "5tiyPUjj11in",
        "colab": {
          "base_uri": "https://localhost:8080/",
          "height": 496,
          "referenced_widgets": [
            "55ea7cb3609f4e138e1c7c17a93203c3",
            "2bdf54d17b3246cf8f1d045413e6e9df",
            "c64d9a0379fa4988affb8d783e397836",
            "21a1eac162d047bdbfd641161f8b91db",
            "008aba61b0c043a3ae3b351f7684ff42",
            "6091276eb46b492ab480a128dc8c6432",
            "0c0fa6c348d840d4814fc90e8fb83101",
            "17e178cf19e743ddb1dbebab3c4b2b82",
            "618e2b5a83534b79adf08ddda7236793",
            "ba9f05347aa54cd4b7a0f2dcd588fa12",
            "9babf01b46214da2aca53f64141faf5d",
            "82b1774633b04afbbb550a8bf1c2136c",
            "0b9da8331c5749c8858e63d5adbdc0a1",
            "63bd5ade81674d93890b09af4b7779da",
            "cdb41fe1ddd1433584df09939c0fbff3",
            "d1513ba6e8d54dafa37ce4fd4a0479e8",
            "ae0379d0b8da488d93eb30c832156903",
            "318b4f4a8f21401484acbb9da5f558ad",
            "2b802f0900804befb7da9086221369be",
            "d0f202fdf4054f5f9729e28f07bbd49f",
            "628c9a21bdc849549a531fbab3ff1c94",
            "0f4198ddc0cd4ab7a7ea9bed85153c11",
            "bd2f48a2b52147ffaaabfc75d3b5ae3e",
            "9e1e2def823f467597d96ea18ebd215e",
            "539b2bcdb0f94fd8b22a4e3ec3260aa6",
            "c9fcadbe8cb7413ab6e7abae2e716b80",
            "55bbdcc805934fe88b474a35c0e2d0e8",
            "f15d5104fd2241308fce6b379442df04",
            "94ebb10654954ce68fccb18c17cf0c67",
            "425e715589274e94ad5284872725e3be",
            "83a227aa969d44caa1b7a0634601fe9a",
            "98cae2f2c0be41518c47f1b02345a4cb",
            "6318eb293c7947ccbe7ea8be723f5323",
            "a3c272ff27f645ef95e17a4dcc7be531",
            "d19d1717713f41888e32ce1cd0037b3f",
            "5807d206e87443a2819a74032221f414",
            "4d02941f715c445eb76aaedfba87be22",
            "1073574503e84cd8a15bd3fe5709bfb2",
            "5e703e0e93744556a3f0db630d84ef45",
            "f026757b9bf14600849174f9c5cc0e96",
            "a61f4d9f7685408c877cea0c8f96b7be",
            "f51560349a1544c7b062f4221c97c82c",
            "120fd34a878941f88939c5102669c147",
            "1fc5fdcf5fad459d88a8c31fb1d8cae7",
            "6c97047da1d845249cd60183f7a64992",
            "f5fb0f74832e4553ac74bfb48389d552",
            "1bdb3ed903034db283847623b1cd824d",
            "9b29a238394b428797325e698cf72e9e",
            "1f266f2183bc4d5185749592b40f2741",
            "abcfe38d66f94dad8d01272605af8a86",
            "fce3bd7b531f4046bdd624fe1d413656",
            "92f606635b1646a0b98f2a29e28cbb2e",
            "1e1b914f1a2b460f99f7ade085d07120",
            "e64abc40ce5e4ab5bae9b57ccd2f1fc0",
            "10cf418eee0c427690dd35d89e8754eb",
            "a8c43d8256b1466a9ae893e3d6773ec8",
            "17da034a518a4725bf07f7ba560c42e6",
            "a8db45281b494231b38eafa81b85b7a7",
            "bba2a30ebeda431f9c66361b2147b392",
            "35ef5ea9f8434b09ba692ca50d52533d",
            "e491c57231ad44b0b0b2ed1d43827fc4",
            "c0378819b3ed4b9e8ea45e477e367666",
            "71d9b15080904e3aaea07bc8e1fcd1f0",
            "b6925c91f765485dad435cbde9872890",
            "8f7c8e257cf948f582600377d1f8e28b",
            "6dfd79a0af6048528c9af604a2c6032a",
            "5af5ec90cdc74da4a4025ba9587685f4",
            "d2fbc33aff6d483d871ce9ab5856ca95",
            "ae23e409ac904b6898247b0eff37a51a",
            "0270782cd0fa479995bd147c58dfc995",
            "648d6642e84944afbcf6aeb2de0291da",
            "05ef9b26d4a44a48b0d4838fa3584a5d",
            "cb5b84e186024e3fa8f1f18b9df718cb",
            "b25be30d94324a2d8982578ca11f745e",
            "d1563ba17af34c839bedfe5eed368a0e",
            "7142ad716f4a4d2f8e7ce37b308289b7",
            "416786750bbd4d409704a55c1dbb3abc",
            "e114d01954e345848a48dd62c749c874",
            "869f45826872454d9cc7fa73d8b94e0b",
            "078c1ee49319480fb6e6963941ef4744",
            "aaffb3881f544161a55cb03eec1ed467",
            "5ba4eb23f514460abe31b066bbd20624",
            "020a0a31634044b68f9d8cb4571ce6a3",
            "c395bc5c5ec442d6af9b97b1e9072c5a",
            "fba9d4070b5a43b19aa6f16903898914",
            "892f548fd1624b128155f9dd48910248",
            "200010cc4b074a66aeb52f0952432e57",
            "f6c2def6ac43421a9507f0807e8285fd",
            "5f90d279563c4aa58cb716fd02c4b4e0",
            "4ff33e7afcfb4cd6a18ec8a6c694737a",
            "0c896ad40d154172809439170c827600",
            "b6fee6eafa7745a0a2526025adeccf6e",
            "91b21cd348af4d239ce688a89d6c7422",
            "2a3e2f2c6aa74b2e95e7281197dc2163",
            "a075dc6eb06348c9813f16f009143beb",
            "8826a34b2f254b4988526c43df08b15f",
            "24fa4a2996b9447f9621c9a8b1520b7d",
            "1e03bd0fe96344f5b292320605f38812",
            "a301cedf6ada43bf8e703cb85374aee9",
            "b636b2fa98b9480bbf6eedc8a4909934",
            "93772a0ccc774337b0a1cbcd72084dbe",
            "54f31f9112904e088b1460600c92c332",
            "afdbab5635904d2eace5a1f866824d17",
            "9d32ee4a3585483880a13154bbf2e750",
            "2a7db658a055403dad17c5e116a86d31",
            "5ff5029defe24f9a9629d83c8ecb5301",
            "40d9cde3432c45399ab588b5b1215b62",
            "0ece6cf6e76a429888190bc7d7981e3f",
            "4747eb95694b487cac2e0f22c60cd579",
            "9ba15b75343344328f9d8dfc4936a204",
            "b7e2431844f24579ba4c953d3984bfc3",
            "823b4454fbab413f9c41f896791d0442",
            "195ca89f0cd2451fa497c1768fe4e22e",
            "18ed62d0e04a48a4b324e502d59716cf",
            "e6999daa0bdb4ece8d78358a4bd20009",
            "b7e7393af33a4e4e97f2012b03352e73",
            "6e308abafe61424cbb3e2bc07072ce4d",
            "2bfe7b7ea9c84cc6a64e73acbc56e03d",
            "3cb79f8490064d9a95755d5cbc106aa3",
            "7f37e1a089cc4be0aa747031fd1f6aae",
            "4b49bf561cad41b694bf21712b382ae8"
          ]
        },
        "outputId": "1f70777c-8d8a-4c0f-c4ab-dab4bc302d7f"
      },
      "execution_count": null,
      "outputs": [
        {
          "output_type": "stream",
          "name": "stderr",
          "text": [
            "/usr/local/lib/python3.10/dist-packages/huggingface_hub/utils/_auth.py:94: UserWarning: \n",
            "The secret `HF_TOKEN` does not exist in your Colab secrets.\n",
            "To authenticate with the Hugging Face Hub, create a token in your settings tab (https://huggingface.co/settings/tokens), set it as secret in your Google Colab and restart your session.\n",
            "You will be able to reuse this secret in all of your notebooks.\n",
            "Please note that authentication is recommended but still optional to access public models or datasets.\n",
            "  warnings.warn(\n"
          ]
        },
        {
          "output_type": "display_data",
          "data": {
            "text/plain": [
              "modules.json:   0%|          | 0.00/349 [00:00<?, ?B/s]"
            ],
            "application/vnd.jupyter.widget-view+json": {
              "version_major": 2,
              "version_minor": 0,
              "model_id": "55ea7cb3609f4e138e1c7c17a93203c3"
            }
          },
          "metadata": {}
        },
        {
          "output_type": "display_data",
          "data": {
            "text/plain": [
              "config_sentence_transformers.json:   0%|          | 0.00/124 [00:00<?, ?B/s]"
            ],
            "application/vnd.jupyter.widget-view+json": {
              "version_major": 2,
              "version_minor": 0,
              "model_id": "82b1774633b04afbbb550a8bf1c2136c"
            }
          },
          "metadata": {}
        },
        {
          "output_type": "display_data",
          "data": {
            "text/plain": [
              "README.md:   0%|          | 0.00/90.8k [00:00<?, ?B/s]"
            ],
            "application/vnd.jupyter.widget-view+json": {
              "version_major": 2,
              "version_minor": 0,
              "model_id": "bd2f48a2b52147ffaaabfc75d3b5ae3e"
            }
          },
          "metadata": {}
        },
        {
          "output_type": "display_data",
          "data": {
            "text/plain": [
              "sentence_bert_config.json:   0%|          | 0.00/52.0 [00:00<?, ?B/s]"
            ],
            "application/vnd.jupyter.widget-view+json": {
              "version_major": 2,
              "version_minor": 0,
              "model_id": "a3c272ff27f645ef95e17a4dcc7be531"
            }
          },
          "metadata": {}
        },
        {
          "output_type": "display_data",
          "data": {
            "text/plain": [
              "config.json:   0%|          | 0.00/684 [00:00<?, ?B/s]"
            ],
            "application/vnd.jupyter.widget-view+json": {
              "version_major": 2,
              "version_minor": 0,
              "model_id": "6c97047da1d845249cd60183f7a64992"
            }
          },
          "metadata": {}
        },
        {
          "output_type": "display_data",
          "data": {
            "text/plain": [
              "model.safetensors:   0%|          | 0.00/133M [00:00<?, ?B/s]"
            ],
            "application/vnd.jupyter.widget-view+json": {
              "version_major": 2,
              "version_minor": 0,
              "model_id": "a8c43d8256b1466a9ae893e3d6773ec8"
            }
          },
          "metadata": {}
        },
        {
          "output_type": "display_data",
          "data": {
            "text/plain": [
              "tokenizer_config.json:   0%|          | 0.00/366 [00:00<?, ?B/s]"
            ],
            "application/vnd.jupyter.widget-view+json": {
              "version_major": 2,
              "version_minor": 0,
              "model_id": "5af5ec90cdc74da4a4025ba9587685f4"
            }
          },
          "metadata": {}
        },
        {
          "output_type": "display_data",
          "data": {
            "text/plain": [
              "vocab.txt:   0%|          | 0.00/232k [00:00<?, ?B/s]"
            ],
            "application/vnd.jupyter.widget-view+json": {
              "version_major": 2,
              "version_minor": 0,
              "model_id": "e114d01954e345848a48dd62c749c874"
            }
          },
          "metadata": {}
        },
        {
          "output_type": "display_data",
          "data": {
            "text/plain": [
              "tokenizer.json:   0%|          | 0.00/711k [00:00<?, ?B/s]"
            ],
            "application/vnd.jupyter.widget-view+json": {
              "version_major": 2,
              "version_minor": 0,
              "model_id": "5f90d279563c4aa58cb716fd02c4b4e0"
            }
          },
          "metadata": {}
        },
        {
          "output_type": "display_data",
          "data": {
            "text/plain": [
              "special_tokens_map.json:   0%|          | 0.00/125 [00:00<?, ?B/s]"
            ],
            "application/vnd.jupyter.widget-view+json": {
              "version_major": 2,
              "version_minor": 0,
              "model_id": "b636b2fa98b9480bbf6eedc8a4909934"
            }
          },
          "metadata": {}
        },
        {
          "output_type": "display_data",
          "data": {
            "text/plain": [
              "1_Pooling/config.json:   0%|          | 0.00/190 [00:00<?, ?B/s]"
            ],
            "application/vnd.jupyter.widget-view+json": {
              "version_major": 2,
              "version_minor": 0,
              "model_id": "b7e2431844f24579ba4c953d3984bfc3"
            }
          },
          "metadata": {}
        }
      ]
    },
    {
      "cell_type": "code",
      "source": [
        "model"
      ],
      "metadata": {
        "id": "Y4wJgYpg1-Nh",
        "colab": {
          "base_uri": "https://localhost:8080/"
        },
        "outputId": "b9b5b982-cef8-4677-a422-2ffe2e13a34f"
      },
      "execution_count": null,
      "outputs": [
        {
          "output_type": "execute_result",
          "data": {
            "text/plain": [
              "SentenceTransformer(\n",
              "  (0): Transformer({'max_seq_length': 512, 'do_lower_case': True}) with Transformer model: BertModel \n",
              "  (1): Pooling({'word_embedding_dimension': 384, 'pooling_mode_cls_token': True, 'pooling_mode_mean_tokens': False, 'pooling_mode_max_tokens': False, 'pooling_mode_mean_sqrt_len_tokens': False, 'pooling_mode_weightedmean_tokens': False, 'pooling_mode_lasttoken': False, 'include_prompt': True})\n",
              "  (2): Normalize()\n",
              ")"
            ]
          },
          "metadata": {},
          "execution_count": 33
        }
      ]
    },
    {
      "cell_type": "markdown",
      "source": [
        "Let's load our data into the desired format!"
      ],
      "metadata": {
        "id": "fBP9U6w-Jyyo"
      }
    },
    {
      "cell_type": "code",
      "source": [
        "from torch.utils.data import DataLoader\n",
        "from sentence_transformers import InputExample"
      ],
      "metadata": {
        "id": "cUy0HwPp1-TW"
      },
      "execution_count": null,
      "outputs": []
    },
    {
      "cell_type": "code",
      "source": [
        "!git clone https://github.com/AI-Maker-Space/DataRepository"
      ],
      "metadata": {
        "colab": {
          "base_uri": "https://localhost:8080/"
        },
        "id": "xhxUvhnkghmo",
        "outputId": "c02b79af-6326-477f-89f8-9fb60c1a1549"
      },
      "execution_count": null,
      "outputs": [
        {
          "output_type": "stream",
          "name": "stdout",
          "text": [
            "Cloning into 'DataRepository'...\n",
            "remote: Enumerating objects: 119, done.\u001b[K\n",
            "remote: Counting objects: 100% (111/111), done.\u001b[K\n",
            "remote: Compressing objects: 100% (96/96), done.\u001b[K\n",
            "remote: Total 119 (delta 36), reused 40 (delta 10), pack-reused 8 (from 1)\u001b[K\n",
            "Receiving objects: 100% (119/119), 78.04 MiB | 26.82 MiB/s, done.\n",
            "Resolving deltas: 100% (36/36), done.\n"
          ]
        }
      ]
    },
    {
      "cell_type": "code",
      "source": [
        "TRAIN_DATASET_FPATH = './DataRepository/embedding_data/train_dataset.json'\n",
        "VAL_DATASET_FPATH = './DataRepository/embedding_data/eval_dataset.json'"
      ],
      "metadata": {
        "id": "q7OEQVmu2Kfb"
      },
      "execution_count": null,
      "outputs": []
    },
    {
      "cell_type": "code",
      "source": [
        "import json\n",
        "\n",
        "with open(TRAIN_DATASET_FPATH, 'r+') as f:\n",
        "    train_dataset = json.load(f)\n",
        "\n",
        "with open(VAL_DATASET_FPATH, 'r+') as f:\n",
        "    val_dataset = json.load(f)"
      ],
      "metadata": {
        "id": "Mw_hAOx_2NLz"
      },
      "execution_count": null,
      "outputs": []
    },
    {
      "cell_type": "code",
      "source": [
        "dataset = train_dataset\n",
        "\n",
        "corpus = dataset['corpus']\n",
        "queries = dataset['queries']\n",
        "relevant_docs = dataset['relevant_docs']\n",
        "\n",
        "examples = []\n",
        "for query_id, query in queries.items():\n",
        "    node_id = relevant_docs[query_id][0]\n",
        "    text = corpus[node_id]\n",
        "    example = InputExample(texts=[query, text])\n",
        "    examples.append(example)"
      ],
      "metadata": {
        "id": "6tOJ3GIN2Odx"
      },
      "execution_count": null,
      "outputs": []
    },
    {
      "cell_type": "markdown",
      "source": [
        "We're going to be leveraging `sentence_transformers` `MultipleNegativesRankingLoss` as our loss function.\n",
        "\n",
        "You can read more about it in the docs, [here](https://www.sbert.net/docs/package_reference/losses.html#multiplenegativesrankingloss).\n",
        "\n",
        "Note that there is [research](https://arxiv.org/pdf/1705.00652.pdf) that indicates that performance generally scales with `BATCH_SIZE`, but we're going to stick with an arbitrary 10 for the example in the notebook."
      ],
      "metadata": {
        "id": "6uAhnbW_LxaK"
      }
    },
    {
      "cell_type": "markdown",
      "source": [
        "##### ❓ Question #3:\n",
        "\n",
        "What is happening in `MultipleNegativesRankingLoss` that makes it useful for our task?\n",
        "\n",
        "`MultipleNegativesRankingLoss` is a form of *contastive loss* which aims to bring tokens which are similar \"closer together\" while also \"increasing the distance\" between tokens which are less similar by making use of multiple dissimilar (negative tokens) to create this contrast.\n",
        "\n",
        "This implementation is especially useful if we only have positive pairs (which is the case in this training dataset). The implementation will then use the other tuples in the batch as an examples of a negative with the current tuple. As a simplified example, for a batch size of 10, if each pair is a positive example, then the other 9 tuples may be used to extract negative examples."
      ],
      "metadata": {
        "id": "4lcgcmPdd3K2"
      }
    },
    {
      "cell_type": "code",
      "source": [
        "from sentence_transformers import losses"
      ],
      "metadata": {
        "id": "JwX2ltEj2RBn"
      },
      "execution_count": null,
      "outputs": []
    },
    {
      "cell_type": "code",
      "source": [
        "loss = losses.MultipleNegativesRankingLoss(model)"
      ],
      "metadata": {
        "id": "T6LQuafa2R54"
      },
      "execution_count": null,
      "outputs": []
    },
    {
      "cell_type": "code",
      "source": [
        "BATCH_SIZE = 10\n",
        "\n",
        "loader = DataLoader(\n",
        "    examples, batch_size=BATCH_SIZE\n",
        ")"
      ],
      "metadata": {
        "id": "RCZwGmQY2Pv5"
      },
      "execution_count": null,
      "outputs": []
    },
    {
      "cell_type": "markdown",
      "source": [
        "We'll set up the `InformationRetrievalEvaluator` to determine performance during training."
      ],
      "metadata": {
        "id": "lpPrZ_6ZMOqh"
      }
    },
    {
      "cell_type": "code",
      "source": [
        "from sentence_transformers.evaluation import InformationRetrievalEvaluator"
      ],
      "metadata": {
        "id": "HCuVK5S22TnQ"
      },
      "execution_count": null,
      "outputs": []
    },
    {
      "cell_type": "code",
      "source": [
        "dataset = val_dataset\n",
        "\n",
        "corpus = dataset['corpus']\n",
        "queries = dataset['queries']\n",
        "relevant_docs = dataset['relevant_docs']\n",
        "\n",
        "evaluator = InformationRetrievalEvaluator(queries, corpus, relevant_docs)"
      ],
      "metadata": {
        "id": "0d90XGt92U1P"
      },
      "execution_count": null,
      "outputs": []
    },
    {
      "cell_type": "markdown",
      "source": [
        "You could use a larger epoch size here, but for the example in the Notebook, we'll stick with 10."
      ],
      "metadata": {
        "id": "P2GR2A28MUBD"
      }
    },
    {
      "cell_type": "code",
      "source": [
        "EPOCHS = 10"
      ],
      "metadata": {
        "id": "un4ee2dM2WF4"
      },
      "execution_count": null,
      "outputs": []
    },
    {
      "cell_type": "markdown",
      "source": [
        "Nothing left to do but #trainthatmodel!\n",
        "\n",
        "> NOTE: You'll need to make sure you enter the desired Weights and Biases key - you should be able to simple click the link `https://wandb.ai/authorize` and follow the outlined steps to get the API key."
      ],
      "metadata": {
        "id": "mhClKkMLMZxW"
      }
    },
    {
      "cell_type": "code",
      "source": [
        "# wandb terms of service and marketing folks are quite intrusive and require Company of Work (and thereafter reach out to work). While I've set up\n",
        "# this account, I've disabled it for this assignment for this reason.\n",
        "import os\n",
        "os.environ[\"WANDB_DISABLED\"] = \"true\""
      ],
      "metadata": {
        "id": "UeSdxI_JenSr"
      },
      "execution_count": null,
      "outputs": []
    },
    {
      "cell_type": "code",
      "source": [
        "from datasets import Dataset\n",
        "from torch.utils.data import DataLoader\n",
        "\n",
        "warmup_steps = int(len(loader) * EPOCHS * 0.1)\n",
        "\n",
        "model.fit(\n",
        "    train_objectives=[(loader, loss)],\n",
        "    epochs=EPOCHS,\n",
        "    warmup_steps=warmup_steps,\n",
        "    output_path='exp_finetune',\n",
        "    show_progress_bar=True,\n",
        "    evaluator=evaluator,\n",
        "    evaluation_steps=50,\n",
        ")"
      ],
      "metadata": {
        "id": "l8-oSdDB2Ymm",
        "colab": {
          "base_uri": "https://localhost:8080/",
          "height": 776,
          "referenced_widgets": [
            "cbc741a56f5d43529ebe89203a1e6bf6",
            "4a40f7e41ea94de6b479212379a7b451",
            "08ce4b7a8dab4b7aaa59150f18674727",
            "a38e609b6f5643a48a2adb57a1a16fc6",
            "a6dee6da3d78493b9e69c705dfbd4e3c",
            "51bedc6f5d834bc499589035415452b6",
            "8e956668854d47f8be425bf1ba923c7a",
            "43ba6fea4c584472aa6277cb035c93e1",
            "6b798ec96d3047a39ebf45934df1b7e6",
            "274c5cc28e6546299e1050e9c61fdfad",
            "ab85e89a93a04a16912d490e25faacc2"
          ]
        },
        "outputId": "42226bbd-741d-4dad-abbf-1692004bba41"
      },
      "execution_count": null,
      "outputs": [
        {
          "output_type": "stream",
          "name": "stderr",
          "text": [
            "Using the `WANDB_DISABLED` environment variable is deprecated and will be removed in v5. Use the --report_to flag to control the integrations used for logging result (for instance --report_to none).\n",
            "Using the `WANDB_DISABLED` environment variable is deprecated and will be removed in v5. Use the --report_to flag to control the integrations used for logging result (for instance --report_to none).\n"
          ]
        },
        {
          "output_type": "display_data",
          "data": {
            "text/plain": [
              "<IPython.core.display.HTML object>"
            ],
            "text/html": [
              "\n",
              "    <div>\n",
              "      \n",
              "      <progress value='600' max='600' style='width:300px; height:20px; vertical-align: middle;'></progress>\n",
              "      [600/600 02:11, Epoch 10/10]\n",
              "    </div>\n",
              "    <table border=\"1\" class=\"dataframe\">\n",
              "  <thead>\n",
              " <tr style=\"text-align: left;\">\n",
              "      <th>Step</th>\n",
              "      <th>Training Loss</th>\n",
              "      <th>Validation Loss</th>\n",
              "      <th>Cosine Accuracy@1</th>\n",
              "      <th>Cosine Accuracy@3</th>\n",
              "      <th>Cosine Accuracy@5</th>\n",
              "      <th>Cosine Accuracy@10</th>\n",
              "      <th>Cosine Precision@1</th>\n",
              "      <th>Cosine Precision@3</th>\n",
              "      <th>Cosine Precision@5</th>\n",
              "      <th>Cosine Precision@10</th>\n",
              "      <th>Cosine Recall@1</th>\n",
              "      <th>Cosine Recall@3</th>\n",
              "      <th>Cosine Recall@5</th>\n",
              "      <th>Cosine Recall@10</th>\n",
              "      <th>Cosine Ndcg@10</th>\n",
              "      <th>Cosine Mrr@10</th>\n",
              "      <th>Cosine Map@100</th>\n",
              "    </tr>\n",
              "  </thead>\n",
              "  <tbody>\n",
              "    <tr>\n",
              "      <td>50</td>\n",
              "      <td>No log</td>\n",
              "      <td>No log</td>\n",
              "      <td>0.630872</td>\n",
              "      <td>0.791946</td>\n",
              "      <td>0.838926</td>\n",
              "      <td>0.899329</td>\n",
              "      <td>0.630872</td>\n",
              "      <td>0.263982</td>\n",
              "      <td>0.167785</td>\n",
              "      <td>0.089933</td>\n",
              "      <td>0.630872</td>\n",
              "      <td>0.791946</td>\n",
              "      <td>0.838926</td>\n",
              "      <td>0.899329</td>\n",
              "      <td>0.763430</td>\n",
              "      <td>0.720113</td>\n",
              "      <td>0.724508</td>\n",
              "    </tr>\n",
              "    <tr>\n",
              "      <td>60</td>\n",
              "      <td>No log</td>\n",
              "      <td>No log</td>\n",
              "      <td>0.627517</td>\n",
              "      <td>0.778523</td>\n",
              "      <td>0.842282</td>\n",
              "      <td>0.885906</td>\n",
              "      <td>0.627517</td>\n",
              "      <td>0.259508</td>\n",
              "      <td>0.168456</td>\n",
              "      <td>0.088591</td>\n",
              "      <td>0.627517</td>\n",
              "      <td>0.778523</td>\n",
              "      <td>0.842282</td>\n",
              "      <td>0.885906</td>\n",
              "      <td>0.755411</td>\n",
              "      <td>0.713607</td>\n",
              "      <td>0.718658</td>\n",
              "    </tr>\n",
              "    <tr>\n",
              "      <td>100</td>\n",
              "      <td>No log</td>\n",
              "      <td>No log</td>\n",
              "      <td>0.644295</td>\n",
              "      <td>0.788591</td>\n",
              "      <td>0.845638</td>\n",
              "      <td>0.895973</td>\n",
              "      <td>0.644295</td>\n",
              "      <td>0.262864</td>\n",
              "      <td>0.169128</td>\n",
              "      <td>0.089597</td>\n",
              "      <td>0.644295</td>\n",
              "      <td>0.788591</td>\n",
              "      <td>0.845638</td>\n",
              "      <td>0.895973</td>\n",
              "      <td>0.767730</td>\n",
              "      <td>0.726899</td>\n",
              "      <td>0.731367</td>\n",
              "    </tr>\n",
              "    <tr>\n",
              "      <td>120</td>\n",
              "      <td>No log</td>\n",
              "      <td>No log</td>\n",
              "      <td>0.634228</td>\n",
              "      <td>0.788591</td>\n",
              "      <td>0.832215</td>\n",
              "      <td>0.895973</td>\n",
              "      <td>0.634228</td>\n",
              "      <td>0.262864</td>\n",
              "      <td>0.166443</td>\n",
              "      <td>0.089597</td>\n",
              "      <td>0.634228</td>\n",
              "      <td>0.788591</td>\n",
              "      <td>0.832215</td>\n",
              "      <td>0.895973</td>\n",
              "      <td>0.764712</td>\n",
              "      <td>0.722739</td>\n",
              "      <td>0.727859</td>\n",
              "    </tr>\n",
              "    <tr>\n",
              "      <td>150</td>\n",
              "      <td>No log</td>\n",
              "      <td>No log</td>\n",
              "      <td>0.630872</td>\n",
              "      <td>0.771812</td>\n",
              "      <td>0.835570</td>\n",
              "      <td>0.885906</td>\n",
              "      <td>0.630872</td>\n",
              "      <td>0.257271</td>\n",
              "      <td>0.167114</td>\n",
              "      <td>0.088591</td>\n",
              "      <td>0.630872</td>\n",
              "      <td>0.771812</td>\n",
              "      <td>0.835570</td>\n",
              "      <td>0.885906</td>\n",
              "      <td>0.756317</td>\n",
              "      <td>0.714995</td>\n",
              "      <td>0.720317</td>\n",
              "    </tr>\n",
              "    <tr>\n",
              "      <td>180</td>\n",
              "      <td>No log</td>\n",
              "      <td>No log</td>\n",
              "      <td>0.637584</td>\n",
              "      <td>0.798658</td>\n",
              "      <td>0.832215</td>\n",
              "      <td>0.902685</td>\n",
              "      <td>0.637584</td>\n",
              "      <td>0.266219</td>\n",
              "      <td>0.166443</td>\n",
              "      <td>0.090268</td>\n",
              "      <td>0.637584</td>\n",
              "      <td>0.798658</td>\n",
              "      <td>0.832215</td>\n",
              "      <td>0.902685</td>\n",
              "      <td>0.767390</td>\n",
              "      <td>0.724489</td>\n",
              "      <td>0.728832</td>\n",
              "    </tr>\n",
              "    <tr>\n",
              "      <td>200</td>\n",
              "      <td>No log</td>\n",
              "      <td>No log</td>\n",
              "      <td>0.630872</td>\n",
              "      <td>0.795302</td>\n",
              "      <td>0.835570</td>\n",
              "      <td>0.906040</td>\n",
              "      <td>0.630872</td>\n",
              "      <td>0.265101</td>\n",
              "      <td>0.167114</td>\n",
              "      <td>0.090604</td>\n",
              "      <td>0.630872</td>\n",
              "      <td>0.795302</td>\n",
              "      <td>0.835570</td>\n",
              "      <td>0.906040</td>\n",
              "      <td>0.766550</td>\n",
              "      <td>0.722321</td>\n",
              "      <td>0.726448</td>\n",
              "    </tr>\n",
              "    <tr>\n",
              "      <td>240</td>\n",
              "      <td>No log</td>\n",
              "      <td>No log</td>\n",
              "      <td>0.627517</td>\n",
              "      <td>0.778523</td>\n",
              "      <td>0.812081</td>\n",
              "      <td>0.889262</td>\n",
              "      <td>0.627517</td>\n",
              "      <td>0.259508</td>\n",
              "      <td>0.162416</td>\n",
              "      <td>0.088926</td>\n",
              "      <td>0.627517</td>\n",
              "      <td>0.778523</td>\n",
              "      <td>0.812081</td>\n",
              "      <td>0.889262</td>\n",
              "      <td>0.755208</td>\n",
              "      <td>0.712708</td>\n",
              "      <td>0.717628</td>\n",
              "    </tr>\n",
              "    <tr>\n",
              "      <td>250</td>\n",
              "      <td>No log</td>\n",
              "      <td>No log</td>\n",
              "      <td>0.634228</td>\n",
              "      <td>0.778523</td>\n",
              "      <td>0.815436</td>\n",
              "      <td>0.889262</td>\n",
              "      <td>0.634228</td>\n",
              "      <td>0.259508</td>\n",
              "      <td>0.163087</td>\n",
              "      <td>0.088926</td>\n",
              "      <td>0.634228</td>\n",
              "      <td>0.778523</td>\n",
              "      <td>0.815436</td>\n",
              "      <td>0.889262</td>\n",
              "      <td>0.758341</td>\n",
              "      <td>0.716775</td>\n",
              "      <td>0.722066</td>\n",
              "    </tr>\n",
              "    <tr>\n",
              "      <td>300</td>\n",
              "      <td>No log</td>\n",
              "      <td>No log</td>\n",
              "      <td>0.637584</td>\n",
              "      <td>0.791946</td>\n",
              "      <td>0.838926</td>\n",
              "      <td>0.895973</td>\n",
              "      <td>0.637584</td>\n",
              "      <td>0.263982</td>\n",
              "      <td>0.167785</td>\n",
              "      <td>0.089597</td>\n",
              "      <td>0.637584</td>\n",
              "      <td>0.791946</td>\n",
              "      <td>0.838926</td>\n",
              "      <td>0.895973</td>\n",
              "      <td>0.764657</td>\n",
              "      <td>0.722772</td>\n",
              "      <td>0.727183</td>\n",
              "    </tr>\n",
              "    <tr>\n",
              "      <td>350</td>\n",
              "      <td>No log</td>\n",
              "      <td>No log</td>\n",
              "      <td>0.614094</td>\n",
              "      <td>0.795302</td>\n",
              "      <td>0.828859</td>\n",
              "      <td>0.892617</td>\n",
              "      <td>0.614094</td>\n",
              "      <td>0.265101</td>\n",
              "      <td>0.165772</td>\n",
              "      <td>0.089262</td>\n",
              "      <td>0.614094</td>\n",
              "      <td>0.795302</td>\n",
              "      <td>0.828859</td>\n",
              "      <td>0.892617</td>\n",
              "      <td>0.753747</td>\n",
              "      <td>0.709248</td>\n",
              "      <td>0.713611</td>\n",
              "    </tr>\n",
              "    <tr>\n",
              "      <td>360</td>\n",
              "      <td>No log</td>\n",
              "      <td>No log</td>\n",
              "      <td>0.624161</td>\n",
              "      <td>0.785235</td>\n",
              "      <td>0.825503</td>\n",
              "      <td>0.889262</td>\n",
              "      <td>0.624161</td>\n",
              "      <td>0.261745</td>\n",
              "      <td>0.165101</td>\n",
              "      <td>0.088926</td>\n",
              "      <td>0.624161</td>\n",
              "      <td>0.785235</td>\n",
              "      <td>0.825503</td>\n",
              "      <td>0.889262</td>\n",
              "      <td>0.755448</td>\n",
              "      <td>0.712725</td>\n",
              "      <td>0.717313</td>\n",
              "    </tr>\n",
              "    <tr>\n",
              "      <td>400</td>\n",
              "      <td>No log</td>\n",
              "      <td>No log</td>\n",
              "      <td>0.637584</td>\n",
              "      <td>0.788591</td>\n",
              "      <td>0.842282</td>\n",
              "      <td>0.892617</td>\n",
              "      <td>0.637584</td>\n",
              "      <td>0.262864</td>\n",
              "      <td>0.168456</td>\n",
              "      <td>0.089262</td>\n",
              "      <td>0.637584</td>\n",
              "      <td>0.788591</td>\n",
              "      <td>0.842282</td>\n",
              "      <td>0.892617</td>\n",
              "      <td>0.765749</td>\n",
              "      <td>0.724904</td>\n",
              "      <td>0.729708</td>\n",
              "    </tr>\n",
              "    <tr>\n",
              "      <td>420</td>\n",
              "      <td>No log</td>\n",
              "      <td>No log</td>\n",
              "      <td>0.637584</td>\n",
              "      <td>0.791946</td>\n",
              "      <td>0.848993</td>\n",
              "      <td>0.892617</td>\n",
              "      <td>0.637584</td>\n",
              "      <td>0.263982</td>\n",
              "      <td>0.169799</td>\n",
              "      <td>0.089262</td>\n",
              "      <td>0.637584</td>\n",
              "      <td>0.791946</td>\n",
              "      <td>0.848993</td>\n",
              "      <td>0.892617</td>\n",
              "      <td>0.765594</td>\n",
              "      <td>0.724688</td>\n",
              "      <td>0.729387</td>\n",
              "    </tr>\n",
              "    <tr>\n",
              "      <td>450</td>\n",
              "      <td>No log</td>\n",
              "      <td>No log</td>\n",
              "      <td>0.634228</td>\n",
              "      <td>0.785235</td>\n",
              "      <td>0.842282</td>\n",
              "      <td>0.885906</td>\n",
              "      <td>0.634228</td>\n",
              "      <td>0.261745</td>\n",
              "      <td>0.168456</td>\n",
              "      <td>0.088591</td>\n",
              "      <td>0.634228</td>\n",
              "      <td>0.785235</td>\n",
              "      <td>0.842282</td>\n",
              "      <td>0.885906</td>\n",
              "      <td>0.759971</td>\n",
              "      <td>0.719484</td>\n",
              "      <td>0.724560</td>\n",
              "    </tr>\n",
              "    <tr>\n",
              "      <td>480</td>\n",
              "      <td>No log</td>\n",
              "      <td>No log</td>\n",
              "      <td>0.634228</td>\n",
              "      <td>0.788591</td>\n",
              "      <td>0.835570</td>\n",
              "      <td>0.892617</td>\n",
              "      <td>0.634228</td>\n",
              "      <td>0.262864</td>\n",
              "      <td>0.167114</td>\n",
              "      <td>0.089262</td>\n",
              "      <td>0.634228</td>\n",
              "      <td>0.788591</td>\n",
              "      <td>0.835570</td>\n",
              "      <td>0.892617</td>\n",
              "      <td>0.761011</td>\n",
              "      <td>0.719037</td>\n",
              "      <td>0.723595</td>\n",
              "    </tr>\n",
              "    <tr>\n",
              "      <td>500</td>\n",
              "      <td>0.233700</td>\n",
              "      <td>No log</td>\n",
              "      <td>0.627517</td>\n",
              "      <td>0.785235</td>\n",
              "      <td>0.835570</td>\n",
              "      <td>0.892617</td>\n",
              "      <td>0.627517</td>\n",
              "      <td>0.261745</td>\n",
              "      <td>0.167114</td>\n",
              "      <td>0.089262</td>\n",
              "      <td>0.627517</td>\n",
              "      <td>0.785235</td>\n",
              "      <td>0.835570</td>\n",
              "      <td>0.892617</td>\n",
              "      <td>0.758707</td>\n",
              "      <td>0.715921</td>\n",
              "      <td>0.720494</td>\n",
              "    </tr>\n",
              "    <tr>\n",
              "      <td>540</td>\n",
              "      <td>0.233700</td>\n",
              "      <td>No log</td>\n",
              "      <td>0.627517</td>\n",
              "      <td>0.788591</td>\n",
              "      <td>0.832215</td>\n",
              "      <td>0.892617</td>\n",
              "      <td>0.627517</td>\n",
              "      <td>0.262864</td>\n",
              "      <td>0.166443</td>\n",
              "      <td>0.089262</td>\n",
              "      <td>0.627517</td>\n",
              "      <td>0.788591</td>\n",
              "      <td>0.832215</td>\n",
              "      <td>0.892617</td>\n",
              "      <td>0.758650</td>\n",
              "      <td>0.715884</td>\n",
              "      <td>0.720390</td>\n",
              "    </tr>\n",
              "    <tr>\n",
              "      <td>550</td>\n",
              "      <td>0.233700</td>\n",
              "      <td>No log</td>\n",
              "      <td>0.627517</td>\n",
              "      <td>0.785235</td>\n",
              "      <td>0.832215</td>\n",
              "      <td>0.892617</td>\n",
              "      <td>0.627517</td>\n",
              "      <td>0.261745</td>\n",
              "      <td>0.166443</td>\n",
              "      <td>0.089262</td>\n",
              "      <td>0.627517</td>\n",
              "      <td>0.785235</td>\n",
              "      <td>0.832215</td>\n",
              "      <td>0.892617</td>\n",
              "      <td>0.758534</td>\n",
              "      <td>0.715721</td>\n",
              "      <td>0.720230</td>\n",
              "    </tr>\n",
              "    <tr>\n",
              "      <td>600</td>\n",
              "      <td>0.233700</td>\n",
              "      <td>No log</td>\n",
              "      <td>0.627517</td>\n",
              "      <td>0.788591</td>\n",
              "      <td>0.835570</td>\n",
              "      <td>0.892617</td>\n",
              "      <td>0.627517</td>\n",
              "      <td>0.262864</td>\n",
              "      <td>0.167114</td>\n",
              "      <td>0.089262</td>\n",
              "      <td>0.627517</td>\n",
              "      <td>0.788591</td>\n",
              "      <td>0.835570</td>\n",
              "      <td>0.892617</td>\n",
              "      <td>0.758799</td>\n",
              "      <td>0.716025</td>\n",
              "      <td>0.720560</td>\n",
              "    </tr>\n",
              "  </tbody>\n",
              "</table><p>"
            ]
          },
          "metadata": {}
        },
        {
          "output_type": "display_data",
          "data": {
            "text/plain": [
              "Computing widget examples:   0%|          | 0/1 [00:00<?, ?example/s]"
            ],
            "application/vnd.jupyter.widget-view+json": {
              "version_major": 2,
              "version_minor": 0,
              "model_id": "cbc741a56f5d43529ebe89203a1e6bf6"
            }
          },
          "metadata": {}
        }
      ]
    },
    {
      "cell_type": "markdown",
      "source": [
        "### Task 2: Evaluating our Embeddings Models\n",
        "\n",
        "Now that we've fine-tuned our embedding model on our data - lets see how it performs compared to the base embeddings!"
      ],
      "metadata": {
        "id": "pqfp0F8lMeal"
      }
    },
    {
      "cell_type": "code",
      "source": [
        "import json\n",
        "from tqdm.notebook import tqdm\n",
        "import pandas as pd"
      ],
      "metadata": {
        "id": "OTtogOHpAUnA"
      },
      "execution_count": null,
      "outputs": []
    },
    {
      "cell_type": "code",
      "source": [
        "TRAIN_DATASET_FPATH = './DataRepository/embedding_data/train_dataset.json'\n",
        "EVAL_DATASET_FPATH = './DataRepository/embedding_data/eval_dataset.json'"
      ],
      "metadata": {
        "id": "phzSwbIWAVPB"
      },
      "execution_count": null,
      "outputs": []
    },
    {
      "cell_type": "code",
      "source": [
        "with open(TRAIN_DATASET_FPATH, 'r+') as f:\n",
        "    train_dataset = json.load(f)\n",
        "\n",
        "with open(EVAL_DATASET_FPATH, 'r+') as f:\n",
        "    eval_dataset = json.load(f)"
      ],
      "metadata": {
        "id": "SNygAxVNAYdT"
      },
      "execution_count": null,
      "outputs": []
    },
    {
      "cell_type": "markdown",
      "source": [
        "We're going to be using the `InformationRetrievalEvaluator` to help us determine how well our embedding model is performing on a widely used task: Information Retrieval!\n",
        "\n",
        "You can dive deeper into the documentation [here](https://sbert.net/docs/package_reference/sentence_transformer/evaluation.html#informationretrievalevaluator) to see under the hood.\n",
        "\n",
        "You'll notice, however, that we have common suffixes for our evaluation metrics:\n",
        "\n",
        "- `X_accuracy@1`, `X_accuracy@3`, etc.\n",
        "\n",
        "This is computing metrics by looking at the accuracy, recall, precision, Mean Reciprocal Rank (MRR), Normalized Discounted Cumulative Gain (NDGC), and Mean-Average Precision (MAP) at various numbers of retrieved items.\n",
        "\n",
        "That is to say:\n",
        "\n",
        "We look at these scores as we include the first closest document, top three closest documents, etc.\n",
        "\n",
        "We can think of these `@k` as \"top k` metrics.\n",
        "\n",
        "These will help us guide important hyper-parameters when using these models for Information Retrieval tasks down the road!"
      ],
      "metadata": {
        "id": "mvbEUNfPMrRu"
      }
    },
    {
      "cell_type": "code",
      "source": [
        "from sentence_transformers.evaluation import InformationRetrievalEvaluator\n",
        "from sentence_transformers import SentenceTransformer\n",
        "\n",
        "def evaluate_st(\n",
        "    dataset,\n",
        "    model_id,\n",
        "    name,\n",
        "):\n",
        "    corpus = dataset['corpus']\n",
        "    queries = dataset['queries']\n",
        "    relevant_docs = dataset['relevant_docs']\n",
        "\n",
        "    evaluator = InformationRetrievalEvaluator(queries, corpus, relevant_docs, name=name)\n",
        "    model = SentenceTransformer(model_id)\n",
        "    return evaluator(model, output_path=\"/content/\")"
      ],
      "metadata": {
        "id": "ZU3Rt8c5AcTH"
      },
      "execution_count": null,
      "outputs": []
    },
    {
      "cell_type": "markdown",
      "source": [
        "#####🏗️ Activity #4:\n",
        "\n",
        "Describe what the `evaluate` function is doing in the above cell in natural language.\n",
        "\n",
        "Above, the \"evaluate\" function is evaluating various metrics like accuracy, precision and recall (see definitions below) by fetching most similar items as determined by cosine similarity of the embeddings. However, the @k distinction specifies whether the measure of a \"match\" is only with the top fetched output (eg @1) or ANY of the top k matches.\n",
        "\n",
        "\n",
        "Precision is the fraction of retrieved docs which are relevant amongst all retrieved docs.\n",
        "\n",
        "Recall is the fraction of retrieved docs which are relevant amongst all relevant docs (including those not fetched by the model)."
      ],
      "metadata": {
        "id": "oCmlLxW1ugI0"
      }
    },
    {
      "cell_type": "markdown",
      "source": [
        "#### Base Embeddings Model Results"
      ],
      "metadata": {
        "id": "uKBjZ40dNtxA"
      }
    },
    {
      "cell_type": "code",
      "source": [
        "evaluate_st(eval_dataset, \"BAAI/bge-small-en\", name='bge')"
      ],
      "metadata": {
        "id": "c3_dVwuhAmJR",
        "colab": {
          "base_uri": "https://localhost:8080/"
        },
        "outputId": "1b155f63-8904-43dc-840d-921518eeb2e1"
      },
      "execution_count": null,
      "outputs": [
        {
          "output_type": "execute_result",
          "data": {
            "text/plain": [
              "{'bge_cosine_accuracy@1': 0.5067114093959731,\n",
              " 'bge_cosine_accuracy@3': 0.714765100671141,\n",
              " 'bge_cosine_accuracy@5': 0.7818791946308725,\n",
              " 'bge_cosine_accuracy@10': 0.8288590604026845,\n",
              " 'bge_cosine_precision@1': 0.5067114093959731,\n",
              " 'bge_cosine_precision@3': 0.23825503355704697,\n",
              " 'bge_cosine_precision@5': 0.1563758389261745,\n",
              " 'bge_cosine_precision@10': 0.08288590604026844,\n",
              " 'bge_cosine_recall@1': 0.5067114093959731,\n",
              " 'bge_cosine_recall@3': 0.714765100671141,\n",
              " 'bge_cosine_recall@5': 0.7818791946308725,\n",
              " 'bge_cosine_recall@10': 0.8288590604026845,\n",
              " 'bge_cosine_ndcg@10': 0.6710313851865369,\n",
              " 'bge_cosine_mrr@10': 0.619814637264302,\n",
              " 'bge_cosine_map@100': 0.6279603491960256}"
            ]
          },
          "metadata": {},
          "execution_count": 52
        }
      ]
    },
    {
      "cell_type": "markdown",
      "source": [
        "#### Fine-tuned Results"
      ],
      "metadata": {
        "id": "nFQ6yFlmN9mc"
      }
    },
    {
      "cell_type": "code",
      "source": [
        "evaluate_st(eval_dataset, \"exp_finetune\", name='finetuned')"
      ],
      "metadata": {
        "id": "9Ddpn0ErAquN",
        "colab": {
          "base_uri": "https://localhost:8080/"
        },
        "outputId": "1902391c-f047-45c2-c5f2-e97e2e029c15"
      },
      "execution_count": null,
      "outputs": [
        {
          "output_type": "execute_result",
          "data": {
            "text/plain": [
              "{'finetuned_cosine_accuracy@1': 0.6442953020134228,\n",
              " 'finetuned_cosine_accuracy@3': 0.7885906040268457,\n",
              " 'finetuned_cosine_accuracy@5': 0.8456375838926175,\n",
              " 'finetuned_cosine_accuracy@10': 0.8959731543624161,\n",
              " 'finetuned_cosine_precision@1': 0.6442953020134228,\n",
              " 'finetuned_cosine_precision@3': 0.2628635346756152,\n",
              " 'finetuned_cosine_precision@5': 0.16912751677852347,\n",
              " 'finetuned_cosine_precision@10': 0.0895973154362416,\n",
              " 'finetuned_cosine_recall@1': 0.6442953020134228,\n",
              " 'finetuned_cosine_recall@3': 0.7885906040268457,\n",
              " 'finetuned_cosine_recall@5': 0.8456375838926175,\n",
              " 'finetuned_cosine_recall@10': 0.8959731543624161,\n",
              " 'finetuned_cosine_ndcg@10': 0.7677298263110102,\n",
              " 'finetuned_cosine_mrr@10': 0.7268989027378289,\n",
              " 'finetuned_cosine_map@100': 0.7313671834327362}"
            ]
          },
          "metadata": {},
          "execution_count": 53
        }
      ]
    },
    {
      "cell_type": "markdown",
      "source": [
        "### Conclusion\n",
        "\n",
        "Now we can compare the embeddings models to see which performed the best!"
      ],
      "metadata": {
        "id": "o1nWWOohN_e5"
      }
    },
    {
      "cell_type": "code",
      "source": [
        "df_st_bge = pd.read_csv('/content/Information-Retrieval_evaluation_bge_results.csv')\n",
        "df_st_finetuned = pd.read_csv('/content/Information-Retrieval_evaluation_finetuned_results.csv')"
      ],
      "metadata": {
        "id": "Yse1ckCdAuLp"
      },
      "execution_count": null,
      "outputs": []
    },
    {
      "cell_type": "code",
      "source": [
        "df_st_bge['model'] = 'bge'\n",
        "df_st_finetuned['model'] = 'fine_tuned'\n",
        "df_st_all = pd.concat([df_st_bge, df_st_finetuned])\n",
        "df_st_all = df_st_all.set_index('model')\n",
        "df_st_all"
      ],
      "metadata": {
        "id": "qOV9YTDnA4d2",
        "colab": {
          "base_uri": "https://localhost:8080/",
          "height": 181
        },
        "outputId": "74603b9e-98dd-4dc3-fa7c-a55065e6b428"
      },
      "execution_count": null,
      "outputs": [
        {
          "output_type": "execute_result",
          "data": {
            "text/plain": [
              "            epoch  steps  cosine-Accuracy@1  cosine-Accuracy@3  \\\n",
              "model                                                            \n",
              "bge            -1     -1           0.506711           0.714765   \n",
              "fine_tuned     -1     -1           0.644295           0.788591   \n",
              "\n",
              "            cosine-Accuracy@5  cosine-Accuracy@10  cosine-Precision@1  \\\n",
              "model                                                                   \n",
              "bge                  0.781879            0.828859            0.506711   \n",
              "fine_tuned           0.845638            0.895973            0.644295   \n",
              "\n",
              "            cosine-Recall@1  cosine-Precision@3  cosine-Recall@3  \\\n",
              "model                                                              \n",
              "bge                0.506711            0.238255         0.714765   \n",
              "fine_tuned         0.644295            0.262864         0.788591   \n",
              "\n",
              "            cosine-Precision@5  cosine-Recall@5  cosine-Precision@10  \\\n",
              "model                                                                  \n",
              "bge                   0.156376         0.781879             0.082886   \n",
              "fine_tuned            0.169128         0.845638             0.089597   \n",
              "\n",
              "            cosine-Recall@10  cosine-MRR@10  cosine-NDCG@10  cosine-MAP@100  \n",
              "model                                                                        \n",
              "bge                 0.828859       0.619815        0.671031        0.627960  \n",
              "fine_tuned          0.895973       0.726899        0.767730        0.731367  "
            ],
            "text/html": [
              "\n",
              "  <div id=\"df-3b81c35f-e364-4f46-9a6a-c229e78476e9\" class=\"colab-df-container\">\n",
              "    <div>\n",
              "<style scoped>\n",
              "    .dataframe tbody tr th:only-of-type {\n",
              "        vertical-align: middle;\n",
              "    }\n",
              "\n",
              "    .dataframe tbody tr th {\n",
              "        vertical-align: top;\n",
              "    }\n",
              "\n",
              "    .dataframe thead th {\n",
              "        text-align: right;\n",
              "    }\n",
              "</style>\n",
              "<table border=\"1\" class=\"dataframe\">\n",
              "  <thead>\n",
              "    <tr style=\"text-align: right;\">\n",
              "      <th></th>\n",
              "      <th>epoch</th>\n",
              "      <th>steps</th>\n",
              "      <th>cosine-Accuracy@1</th>\n",
              "      <th>cosine-Accuracy@3</th>\n",
              "      <th>cosine-Accuracy@5</th>\n",
              "      <th>cosine-Accuracy@10</th>\n",
              "      <th>cosine-Precision@1</th>\n",
              "      <th>cosine-Recall@1</th>\n",
              "      <th>cosine-Precision@3</th>\n",
              "      <th>cosine-Recall@3</th>\n",
              "      <th>cosine-Precision@5</th>\n",
              "      <th>cosine-Recall@5</th>\n",
              "      <th>cosine-Precision@10</th>\n",
              "      <th>cosine-Recall@10</th>\n",
              "      <th>cosine-MRR@10</th>\n",
              "      <th>cosine-NDCG@10</th>\n",
              "      <th>cosine-MAP@100</th>\n",
              "    </tr>\n",
              "    <tr>\n",
              "      <th>model</th>\n",
              "      <th></th>\n",
              "      <th></th>\n",
              "      <th></th>\n",
              "      <th></th>\n",
              "      <th></th>\n",
              "      <th></th>\n",
              "      <th></th>\n",
              "      <th></th>\n",
              "      <th></th>\n",
              "      <th></th>\n",
              "      <th></th>\n",
              "      <th></th>\n",
              "      <th></th>\n",
              "      <th></th>\n",
              "      <th></th>\n",
              "      <th></th>\n",
              "      <th></th>\n",
              "    </tr>\n",
              "  </thead>\n",
              "  <tbody>\n",
              "    <tr>\n",
              "      <th>bge</th>\n",
              "      <td>-1</td>\n",
              "      <td>-1</td>\n",
              "      <td>0.506711</td>\n",
              "      <td>0.714765</td>\n",
              "      <td>0.781879</td>\n",
              "      <td>0.828859</td>\n",
              "      <td>0.506711</td>\n",
              "      <td>0.506711</td>\n",
              "      <td>0.238255</td>\n",
              "      <td>0.714765</td>\n",
              "      <td>0.156376</td>\n",
              "      <td>0.781879</td>\n",
              "      <td>0.082886</td>\n",
              "      <td>0.828859</td>\n",
              "      <td>0.619815</td>\n",
              "      <td>0.671031</td>\n",
              "      <td>0.627960</td>\n",
              "    </tr>\n",
              "    <tr>\n",
              "      <th>fine_tuned</th>\n",
              "      <td>-1</td>\n",
              "      <td>-1</td>\n",
              "      <td>0.644295</td>\n",
              "      <td>0.788591</td>\n",
              "      <td>0.845638</td>\n",
              "      <td>0.895973</td>\n",
              "      <td>0.644295</td>\n",
              "      <td>0.644295</td>\n",
              "      <td>0.262864</td>\n",
              "      <td>0.788591</td>\n",
              "      <td>0.169128</td>\n",
              "      <td>0.845638</td>\n",
              "      <td>0.089597</td>\n",
              "      <td>0.895973</td>\n",
              "      <td>0.726899</td>\n",
              "      <td>0.767730</td>\n",
              "      <td>0.731367</td>\n",
              "    </tr>\n",
              "  </tbody>\n",
              "</table>\n",
              "</div>\n",
              "    <div class=\"colab-df-buttons\">\n",
              "\n",
              "  <div class=\"colab-df-container\">\n",
              "    <button class=\"colab-df-convert\" onclick=\"convertToInteractive('df-3b81c35f-e364-4f46-9a6a-c229e78476e9')\"\n",
              "            title=\"Convert this dataframe to an interactive table.\"\n",
              "            style=\"display:none;\">\n",
              "\n",
              "  <svg xmlns=\"http://www.w3.org/2000/svg\" height=\"24px\" viewBox=\"0 -960 960 960\">\n",
              "    <path d=\"M120-120v-720h720v720H120Zm60-500h600v-160H180v160Zm220 220h160v-160H400v160Zm0 220h160v-160H400v160ZM180-400h160v-160H180v160Zm440 0h160v-160H620v160ZM180-180h160v-160H180v160Zm440 0h160v-160H620v160Z\"/>\n",
              "  </svg>\n",
              "    </button>\n",
              "\n",
              "  <style>\n",
              "    .colab-df-container {\n",
              "      display:flex;\n",
              "      gap: 12px;\n",
              "    }\n",
              "\n",
              "    .colab-df-convert {\n",
              "      background-color: #E8F0FE;\n",
              "      border: none;\n",
              "      border-radius: 50%;\n",
              "      cursor: pointer;\n",
              "      display: none;\n",
              "      fill: #1967D2;\n",
              "      height: 32px;\n",
              "      padding: 0 0 0 0;\n",
              "      width: 32px;\n",
              "    }\n",
              "\n",
              "    .colab-df-convert:hover {\n",
              "      background-color: #E2EBFA;\n",
              "      box-shadow: 0px 1px 2px rgba(60, 64, 67, 0.3), 0px 1px 3px 1px rgba(60, 64, 67, 0.15);\n",
              "      fill: #174EA6;\n",
              "    }\n",
              "\n",
              "    .colab-df-buttons div {\n",
              "      margin-bottom: 4px;\n",
              "    }\n",
              "\n",
              "    [theme=dark] .colab-df-convert {\n",
              "      background-color: #3B4455;\n",
              "      fill: #D2E3FC;\n",
              "    }\n",
              "\n",
              "    [theme=dark] .colab-df-convert:hover {\n",
              "      background-color: #434B5C;\n",
              "      box-shadow: 0px 1px 3px 1px rgba(0, 0, 0, 0.15);\n",
              "      filter: drop-shadow(0px 1px 2px rgba(0, 0, 0, 0.3));\n",
              "      fill: #FFFFFF;\n",
              "    }\n",
              "  </style>\n",
              "\n",
              "    <script>\n",
              "      const buttonEl =\n",
              "        document.querySelector('#df-3b81c35f-e364-4f46-9a6a-c229e78476e9 button.colab-df-convert');\n",
              "      buttonEl.style.display =\n",
              "        google.colab.kernel.accessAllowed ? 'block' : 'none';\n",
              "\n",
              "      async function convertToInteractive(key) {\n",
              "        const element = document.querySelector('#df-3b81c35f-e364-4f46-9a6a-c229e78476e9');\n",
              "        const dataTable =\n",
              "          await google.colab.kernel.invokeFunction('convertToInteractive',\n",
              "                                                    [key], {});\n",
              "        if (!dataTable) return;\n",
              "\n",
              "        const docLinkHtml = 'Like what you see? Visit the ' +\n",
              "          '<a target=\"_blank\" href=https://colab.research.google.com/notebooks/data_table.ipynb>data table notebook</a>'\n",
              "          + ' to learn more about interactive tables.';\n",
              "        element.innerHTML = '';\n",
              "        dataTable['output_type'] = 'display_data';\n",
              "        await google.colab.output.renderOutput(dataTable, element);\n",
              "        const docLink = document.createElement('div');\n",
              "        docLink.innerHTML = docLinkHtml;\n",
              "        element.appendChild(docLink);\n",
              "      }\n",
              "    </script>\n",
              "  </div>\n",
              "\n",
              "\n",
              "<div id=\"df-f951ca9e-993d-4267-b6f2-45f617af234e\">\n",
              "  <button class=\"colab-df-quickchart\" onclick=\"quickchart('df-f951ca9e-993d-4267-b6f2-45f617af234e')\"\n",
              "            title=\"Suggest charts\"\n",
              "            style=\"display:none;\">\n",
              "\n",
              "<svg xmlns=\"http://www.w3.org/2000/svg\" height=\"24px\"viewBox=\"0 0 24 24\"\n",
              "     width=\"24px\">\n",
              "    <g>\n",
              "        <path d=\"M19 3H5c-1.1 0-2 .9-2 2v14c0 1.1.9 2 2 2h14c1.1 0 2-.9 2-2V5c0-1.1-.9-2-2-2zM9 17H7v-7h2v7zm4 0h-2V7h2v10zm4 0h-2v-4h2v4z\"/>\n",
              "    </g>\n",
              "</svg>\n",
              "  </button>\n",
              "\n",
              "<style>\n",
              "  .colab-df-quickchart {\n",
              "      --bg-color: #E8F0FE;\n",
              "      --fill-color: #1967D2;\n",
              "      --hover-bg-color: #E2EBFA;\n",
              "      --hover-fill-color: #174EA6;\n",
              "      --disabled-fill-color: #AAA;\n",
              "      --disabled-bg-color: #DDD;\n",
              "  }\n",
              "\n",
              "  [theme=dark] .colab-df-quickchart {\n",
              "      --bg-color: #3B4455;\n",
              "      --fill-color: #D2E3FC;\n",
              "      --hover-bg-color: #434B5C;\n",
              "      --hover-fill-color: #FFFFFF;\n",
              "      --disabled-bg-color: #3B4455;\n",
              "      --disabled-fill-color: #666;\n",
              "  }\n",
              "\n",
              "  .colab-df-quickchart {\n",
              "    background-color: var(--bg-color);\n",
              "    border: none;\n",
              "    border-radius: 50%;\n",
              "    cursor: pointer;\n",
              "    display: none;\n",
              "    fill: var(--fill-color);\n",
              "    height: 32px;\n",
              "    padding: 0;\n",
              "    width: 32px;\n",
              "  }\n",
              "\n",
              "  .colab-df-quickchart:hover {\n",
              "    background-color: var(--hover-bg-color);\n",
              "    box-shadow: 0 1px 2px rgba(60, 64, 67, 0.3), 0 1px 3px 1px rgba(60, 64, 67, 0.15);\n",
              "    fill: var(--button-hover-fill-color);\n",
              "  }\n",
              "\n",
              "  .colab-df-quickchart-complete:disabled,\n",
              "  .colab-df-quickchart-complete:disabled:hover {\n",
              "    background-color: var(--disabled-bg-color);\n",
              "    fill: var(--disabled-fill-color);\n",
              "    box-shadow: none;\n",
              "  }\n",
              "\n",
              "  .colab-df-spinner {\n",
              "    border: 2px solid var(--fill-color);\n",
              "    border-color: transparent;\n",
              "    border-bottom-color: var(--fill-color);\n",
              "    animation:\n",
              "      spin 1s steps(1) infinite;\n",
              "  }\n",
              "\n",
              "  @keyframes spin {\n",
              "    0% {\n",
              "      border-color: transparent;\n",
              "      border-bottom-color: var(--fill-color);\n",
              "      border-left-color: var(--fill-color);\n",
              "    }\n",
              "    20% {\n",
              "      border-color: transparent;\n",
              "      border-left-color: var(--fill-color);\n",
              "      border-top-color: var(--fill-color);\n",
              "    }\n",
              "    30% {\n",
              "      border-color: transparent;\n",
              "      border-left-color: var(--fill-color);\n",
              "      border-top-color: var(--fill-color);\n",
              "      border-right-color: var(--fill-color);\n",
              "    }\n",
              "    40% {\n",
              "      border-color: transparent;\n",
              "      border-right-color: var(--fill-color);\n",
              "      border-top-color: var(--fill-color);\n",
              "    }\n",
              "    60% {\n",
              "      border-color: transparent;\n",
              "      border-right-color: var(--fill-color);\n",
              "    }\n",
              "    80% {\n",
              "      border-color: transparent;\n",
              "      border-right-color: var(--fill-color);\n",
              "      border-bottom-color: var(--fill-color);\n",
              "    }\n",
              "    90% {\n",
              "      border-color: transparent;\n",
              "      border-bottom-color: var(--fill-color);\n",
              "    }\n",
              "  }\n",
              "</style>\n",
              "\n",
              "  <script>\n",
              "    async function quickchart(key) {\n",
              "      const quickchartButtonEl =\n",
              "        document.querySelector('#' + key + ' button');\n",
              "      quickchartButtonEl.disabled = true;  // To prevent multiple clicks.\n",
              "      quickchartButtonEl.classList.add('colab-df-spinner');\n",
              "      try {\n",
              "        const charts = await google.colab.kernel.invokeFunction(\n",
              "            'suggestCharts', [key], {});\n",
              "      } catch (error) {\n",
              "        console.error('Error during call to suggestCharts:', error);\n",
              "      }\n",
              "      quickchartButtonEl.classList.remove('colab-df-spinner');\n",
              "      quickchartButtonEl.classList.add('colab-df-quickchart-complete');\n",
              "    }\n",
              "    (() => {\n",
              "      let quickchartButtonEl =\n",
              "        document.querySelector('#df-f951ca9e-993d-4267-b6f2-45f617af234e button');\n",
              "      quickchartButtonEl.style.display =\n",
              "        google.colab.kernel.accessAllowed ? 'block' : 'none';\n",
              "    })();\n",
              "  </script>\n",
              "</div>\n",
              "\n",
              "  <div id=\"id_2905d023-53aa-4dc3-bbc8-99e96dc1b96f\">\n",
              "    <style>\n",
              "      .colab-df-generate {\n",
              "        background-color: #E8F0FE;\n",
              "        border: none;\n",
              "        border-radius: 50%;\n",
              "        cursor: pointer;\n",
              "        display: none;\n",
              "        fill: #1967D2;\n",
              "        height: 32px;\n",
              "        padding: 0 0 0 0;\n",
              "        width: 32px;\n",
              "      }\n",
              "\n",
              "      .colab-df-generate:hover {\n",
              "        background-color: #E2EBFA;\n",
              "        box-shadow: 0px 1px 2px rgba(60, 64, 67, 0.3), 0px 1px 3px 1px rgba(60, 64, 67, 0.15);\n",
              "        fill: #174EA6;\n",
              "      }\n",
              "\n",
              "      [theme=dark] .colab-df-generate {\n",
              "        background-color: #3B4455;\n",
              "        fill: #D2E3FC;\n",
              "      }\n",
              "\n",
              "      [theme=dark] .colab-df-generate:hover {\n",
              "        background-color: #434B5C;\n",
              "        box-shadow: 0px 1px 3px 1px rgba(0, 0, 0, 0.15);\n",
              "        filter: drop-shadow(0px 1px 2px rgba(0, 0, 0, 0.3));\n",
              "        fill: #FFFFFF;\n",
              "      }\n",
              "    </style>\n",
              "    <button class=\"colab-df-generate\" onclick=\"generateWithVariable('df_st_all')\"\n",
              "            title=\"Generate code using this dataframe.\"\n",
              "            style=\"display:none;\">\n",
              "\n",
              "  <svg xmlns=\"http://www.w3.org/2000/svg\" height=\"24px\"viewBox=\"0 0 24 24\"\n",
              "       width=\"24px\">\n",
              "    <path d=\"M7,19H8.4L18.45,9,17,7.55,7,17.6ZM5,21V16.75L18.45,3.32a2,2,0,0,1,2.83,0l1.4,1.43a1.91,1.91,0,0,1,.58,1.4,1.91,1.91,0,0,1-.58,1.4L9.25,21ZM18.45,9,17,7.55Zm-12,3A5.31,5.31,0,0,0,4.9,8.1,5.31,5.31,0,0,0,1,6.5,5.31,5.31,0,0,0,4.9,4.9,5.31,5.31,0,0,0,6.5,1,5.31,5.31,0,0,0,8.1,4.9,5.31,5.31,0,0,0,12,6.5,5.46,5.46,0,0,0,6.5,12Z\"/>\n",
              "  </svg>\n",
              "    </button>\n",
              "    <script>\n",
              "      (() => {\n",
              "      const buttonEl =\n",
              "        document.querySelector('#id_2905d023-53aa-4dc3-bbc8-99e96dc1b96f button.colab-df-generate');\n",
              "      buttonEl.style.display =\n",
              "        google.colab.kernel.accessAllowed ? 'block' : 'none';\n",
              "\n",
              "      buttonEl.onclick = () => {\n",
              "        google.colab.notebook.generateWithVariable('df_st_all');\n",
              "      }\n",
              "      })();\n",
              "    </script>\n",
              "  </div>\n",
              "\n",
              "    </div>\n",
              "  </div>\n"
            ],
            "application/vnd.google.colaboratory.intrinsic+json": {
              "type": "dataframe",
              "variable_name": "df_st_all",
              "summary": "{\n  \"name\": \"df_st_all\",\n  \"rows\": 2,\n  \"fields\": [\n    {\n      \"column\": \"model\",\n      \"properties\": {\n        \"dtype\": \"string\",\n        \"num_unique_values\": 2,\n        \"samples\": [\n          \"fine_tuned\",\n          \"bge\"\n        ],\n        \"semantic_type\": \"\",\n        \"description\": \"\"\n      }\n    },\n    {\n      \"column\": \"epoch\",\n      \"properties\": {\n        \"dtype\": \"number\",\n        \"std\": 0,\n        \"min\": -1,\n        \"max\": -1,\n        \"num_unique_values\": 1,\n        \"samples\": [\n          -1\n        ],\n        \"semantic_type\": \"\",\n        \"description\": \"\"\n      }\n    },\n    {\n      \"column\": \"steps\",\n      \"properties\": {\n        \"dtype\": \"number\",\n        \"std\": 0,\n        \"min\": -1,\n        \"max\": -1,\n        \"num_unique_values\": 1,\n        \"samples\": [\n          -1\n        ],\n        \"semantic_type\": \"\",\n        \"description\": \"\"\n      }\n    },\n    {\n      \"column\": \"cosine-Accuracy@1\",\n      \"properties\": {\n        \"dtype\": \"number\",\n        \"std\": 0.09728650345184041,\n        \"min\": 0.5067114093959731,\n        \"max\": 0.6442953020134228,\n        \"num_unique_values\": 2,\n        \"samples\": [\n          0.6442953020134228\n        ],\n        \"semantic_type\": \"\",\n        \"description\": \"\"\n      }\n    },\n    {\n      \"column\": \"cosine-Accuracy@3\",\n      \"properties\": {\n        \"dtype\": \"number\",\n        \"std\": 0.052202514047329014,\n        \"min\": 0.714765100671141,\n        \"max\": 0.7885906040268457,\n        \"num_unique_values\": 2,\n        \"samples\": [\n          0.7885906040268457\n        ],\n        \"semantic_type\": \"\",\n        \"description\": \"\"\n      }\n    },\n    {\n      \"column\": \"cosine-Accuracy@5\",\n      \"properties\": {\n        \"dtype\": \"number\",\n        \"std\": 0.045083989404511395,\n        \"min\": 0.7818791946308725,\n        \"max\": 0.8456375838926175,\n        \"num_unique_values\": 2,\n        \"samples\": [\n          0.8456375838926175\n        ],\n        \"semantic_type\": \"\",\n        \"description\": \"\"\n      }\n    },\n    {\n      \"column\": \"cosine-Accuracy@10\",\n      \"properties\": {\n        \"dtype\": \"number\",\n        \"std\": 0.04745683095211729,\n        \"min\": 0.8288590604026845,\n        \"max\": 0.8959731543624161,\n        \"num_unique_values\": 2,\n        \"samples\": [\n          0.8959731543624161\n        ],\n        \"semantic_type\": \"\",\n        \"description\": \"\"\n      }\n    },\n    {\n      \"column\": \"cosine-Precision@1\",\n      \"properties\": {\n        \"dtype\": \"number\",\n        \"std\": 0.09728650345184041,\n        \"min\": 0.5067114093959731,\n        \"max\": 0.6442953020134228,\n        \"num_unique_values\": 2,\n        \"samples\": [\n          0.6442953020134228\n        ],\n        \"semantic_type\": \"\",\n        \"description\": \"\"\n      }\n    },\n    {\n      \"column\": \"cosine-Recall@1\",\n      \"properties\": {\n        \"dtype\": \"number\",\n        \"std\": 0.09728650345184041,\n        \"min\": 0.5067114093959731,\n        \"max\": 0.6442953020134228,\n        \"num_unique_values\": 2,\n        \"samples\": [\n          0.6442953020134228\n        ],\n        \"semantic_type\": \"\",\n        \"description\": \"\"\n      }\n    },\n    {\n      \"column\": \"cosine-Precision@3\",\n      \"properties\": {\n        \"dtype\": \"number\",\n        \"std\": 0.017400838015776365,\n        \"min\": 0.2382550335570469,\n        \"max\": 0.2628635346756152,\n        \"num_unique_values\": 2,\n        \"samples\": [\n          0.2628635346756152\n        ],\n        \"semantic_type\": \"\",\n        \"description\": \"\"\n      }\n    },\n    {\n      \"column\": \"cosine-Recall@3\",\n      \"properties\": {\n        \"dtype\": \"number\",\n        \"std\": 0.052202514047329014,\n        \"min\": 0.714765100671141,\n        \"max\": 0.7885906040268457,\n        \"num_unique_values\": 2,\n        \"samples\": [\n          0.7885906040268457\n        ],\n        \"semantic_type\": \"\",\n        \"description\": \"\"\n      }\n    },\n    {\n      \"column\": \"cosine-Precision@5\",\n      \"properties\": {\n        \"dtype\": \"number\",\n        \"std\": 0.009016797880902221,\n        \"min\": 0.1563758389261745,\n        \"max\": 0.1691275167785234,\n        \"num_unique_values\": 2,\n        \"samples\": [\n          0.1691275167785234\n        ],\n        \"semantic_type\": \"\",\n        \"description\": \"\"\n      }\n    },\n    {\n      \"column\": \"cosine-Recall@5\",\n      \"properties\": {\n        \"dtype\": \"number\",\n        \"std\": 0.045083989404511395,\n        \"min\": 0.7818791946308725,\n        \"max\": 0.8456375838926175,\n        \"num_unique_values\": 2,\n        \"samples\": [\n          0.8456375838926175\n        ],\n        \"semantic_type\": \"\",\n        \"description\": \"\"\n      }\n    },\n    {\n      \"column\": \"cosine-Precision@10\",\n      \"properties\": {\n        \"dtype\": \"number\",\n        \"std\": 0.004745683095211761,\n        \"min\": 0.0828859060402684,\n        \"max\": 0.0895973154362416,\n        \"num_unique_values\": 2,\n        \"samples\": [\n          0.0895973154362416\n        ],\n        \"semantic_type\": \"\",\n        \"description\": \"\"\n      }\n    },\n    {\n      \"column\": \"cosine-Recall@10\",\n      \"properties\": {\n        \"dtype\": \"number\",\n        \"std\": 0.04745683095211729,\n        \"min\": 0.8288590604026845,\n        \"max\": 0.8959731543624161,\n        \"num_unique_values\": 2,\n        \"samples\": [\n          0.8959731543624161\n        ],\n        \"semantic_type\": \"\",\n        \"description\": \"\"\n      }\n    },\n    {\n      \"column\": \"cosine-MRR@10\",\n      \"properties\": {\n        \"dtype\": \"number\",\n        \"std\": 0.07572001027471134,\n        \"min\": 0.619814637264302,\n        \"max\": 0.7268989027378289,\n        \"num_unique_values\": 2,\n        \"samples\": [\n          0.7268989027378289\n        ],\n        \"semantic_type\": \"\",\n        \"description\": \"\"\n      }\n    },\n    {\n      \"column\": \"cosine-NDCG@10\",\n      \"properties\": {\n        \"dtype\": \"number\",\n        \"std\": 0.06837612344928314,\n        \"min\": 0.6710313851865369,\n        \"max\": 0.7677298263110102,\n        \"num_unique_values\": 2,\n        \"samples\": [\n          0.7677298263110102\n        ],\n        \"semantic_type\": \"\",\n        \"description\": \"\"\n      }\n    },\n    {\n      \"column\": \"cosine-MAP@100\",\n      \"properties\": {\n        \"dtype\": \"number\",\n        \"std\": 0.07311967370981132,\n        \"min\": 0.6279603491960256,\n        \"max\": 0.7313671834327362,\n        \"num_unique_values\": 2,\n        \"samples\": [\n          0.7313671834327362\n        ],\n        \"semantic_type\": \"\",\n        \"description\": \"\"\n      }\n    }\n  ]\n}"
            }
          },
          "metadata": {},
          "execution_count": 55
        }
      ]
    },
    {
      "cell_type": "markdown",
      "source": [
        "##### 👪❓Discussion Question #2:\n",
        "\n",
        "Discuss the results with your group!\n",
        "\n",
        "Looking at the table above, for almost every single metric, the finetuned model performs better than the base model."
      ],
      "metadata": {
        "id": "Cb4Mpdq_eQbV"
      }
    }
  ]
}