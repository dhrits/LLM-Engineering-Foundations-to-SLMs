{
  "nbformat": 4,
  "nbformat_minor": 0,
  "metadata": {
    "colab": {
      "provenance": [],
      "machine_shape": "hm",
      "gpuType": "L4",
      "toc_visible": true,
      "include_colab_link": true
    },
    "kernelspec": {
      "name": "python3",
      "display_name": "Python 3"
    },
    "language_info": {
      "name": "python"
    },
    "accelerator": "GPU",
    "widgets": {
      "application/vnd.jupyter.widget-state+json": {
        "9f21c27c7a3f4bc5b2880ae43a36885a": {
          "model_module": "@jupyter-widgets/controls",
          "model_name": "HBoxModel",
          "model_module_version": "1.5.0",
          "state": {
            "_dom_classes": [],
            "_model_module": "@jupyter-widgets/controls",
            "_model_module_version": "1.5.0",
            "_model_name": "HBoxModel",
            "_view_count": null,
            "_view_module": "@jupyter-widgets/controls",
            "_view_module_version": "1.5.0",
            "_view_name": "HBoxView",
            "box_style": "",
            "children": [
              "IPY_MODEL_7d12990debca4f31bed29d5bd2fffc1a",
              "IPY_MODEL_ee97aa427e0d4ee3a1f71a49eaf1610a",
              "IPY_MODEL_c4d45084ab0746ac92f1133476f3f543"
            ],
            "layout": "IPY_MODEL_4058e95362b34023ab1bc456d120cb8f"
          }
        },
        "7d12990debca4f31bed29d5bd2fffc1a": {
          "model_module": "@jupyter-widgets/controls",
          "model_name": "HTMLModel",
          "model_module_version": "1.5.0",
          "state": {
            "_dom_classes": [],
            "_model_module": "@jupyter-widgets/controls",
            "_model_module_version": "1.5.0",
            "_model_name": "HTMLModel",
            "_view_count": null,
            "_view_module": "@jupyter-widgets/controls",
            "_view_module_version": "1.5.0",
            "_view_name": "HTMLView",
            "description": "",
            "description_tooltip": null,
            "layout": "IPY_MODEL_175fd71748514fa282b884d6c4919b19",
            "placeholder": "​",
            "style": "IPY_MODEL_af38160ec2f64d6ba9a9063ab28c0dcb",
            "value": "modules.json: 100%"
          }
        },
        "ee97aa427e0d4ee3a1f71a49eaf1610a": {
          "model_module": "@jupyter-widgets/controls",
          "model_name": "FloatProgressModel",
          "model_module_version": "1.5.0",
          "state": {
            "_dom_classes": [],
            "_model_module": "@jupyter-widgets/controls",
            "_model_module_version": "1.5.0",
            "_model_name": "FloatProgressModel",
            "_view_count": null,
            "_view_module": "@jupyter-widgets/controls",
            "_view_module_version": "1.5.0",
            "_view_name": "ProgressView",
            "bar_style": "success",
            "description": "",
            "description_tooltip": null,
            "layout": "IPY_MODEL_18dad76179824466be654095ae660e1b",
            "max": 349,
            "min": 0,
            "orientation": "horizontal",
            "style": "IPY_MODEL_2dbd6efa552f4500bf9b6a9d450b7558",
            "value": 349
          }
        },
        "c4d45084ab0746ac92f1133476f3f543": {
          "model_module": "@jupyter-widgets/controls",
          "model_name": "HTMLModel",
          "model_module_version": "1.5.0",
          "state": {
            "_dom_classes": [],
            "_model_module": "@jupyter-widgets/controls",
            "_model_module_version": "1.5.0",
            "_model_name": "HTMLModel",
            "_view_count": null,
            "_view_module": "@jupyter-widgets/controls",
            "_view_module_version": "1.5.0",
            "_view_name": "HTMLView",
            "description": "",
            "description_tooltip": null,
            "layout": "IPY_MODEL_f1e01856da53444991be5667dd0713aa",
            "placeholder": "​",
            "style": "IPY_MODEL_61cee8b360dc436aa9801ff3c8e27cca",
            "value": " 349/349 [00:00&lt;00:00, 28.9kB/s]"
          }
        },
        "4058e95362b34023ab1bc456d120cb8f": {
          "model_module": "@jupyter-widgets/base",
          "model_name": "LayoutModel",
          "model_module_version": "1.2.0",
          "state": {
            "_model_module": "@jupyter-widgets/base",
            "_model_module_version": "1.2.0",
            "_model_name": "LayoutModel",
            "_view_count": null,
            "_view_module": "@jupyter-widgets/base",
            "_view_module_version": "1.2.0",
            "_view_name": "LayoutView",
            "align_content": null,
            "align_items": null,
            "align_self": null,
            "border": null,
            "bottom": null,
            "display": null,
            "flex": null,
            "flex_flow": null,
            "grid_area": null,
            "grid_auto_columns": null,
            "grid_auto_flow": null,
            "grid_auto_rows": null,
            "grid_column": null,
            "grid_gap": null,
            "grid_row": null,
            "grid_template_areas": null,
            "grid_template_columns": null,
            "grid_template_rows": null,
            "height": null,
            "justify_content": null,
            "justify_items": null,
            "left": null,
            "margin": null,
            "max_height": null,
            "max_width": null,
            "min_height": null,
            "min_width": null,
            "object_fit": null,
            "object_position": null,
            "order": null,
            "overflow": null,
            "overflow_x": null,
            "overflow_y": null,
            "padding": null,
            "right": null,
            "top": null,
            "visibility": null,
            "width": null
          }
        },
        "175fd71748514fa282b884d6c4919b19": {
          "model_module": "@jupyter-widgets/base",
          "model_name": "LayoutModel",
          "model_module_version": "1.2.0",
          "state": {
            "_model_module": "@jupyter-widgets/base",
            "_model_module_version": "1.2.0",
            "_model_name": "LayoutModel",
            "_view_count": null,
            "_view_module": "@jupyter-widgets/base",
            "_view_module_version": "1.2.0",
            "_view_name": "LayoutView",
            "align_content": null,
            "align_items": null,
            "align_self": null,
            "border": null,
            "bottom": null,
            "display": null,
            "flex": null,
            "flex_flow": null,
            "grid_area": null,
            "grid_auto_columns": null,
            "grid_auto_flow": null,
            "grid_auto_rows": null,
            "grid_column": null,
            "grid_gap": null,
            "grid_row": null,
            "grid_template_areas": null,
            "grid_template_columns": null,
            "grid_template_rows": null,
            "height": null,
            "justify_content": null,
            "justify_items": null,
            "left": null,
            "margin": null,
            "max_height": null,
            "max_width": null,
            "min_height": null,
            "min_width": null,
            "object_fit": null,
            "object_position": null,
            "order": null,
            "overflow": null,
            "overflow_x": null,
            "overflow_y": null,
            "padding": null,
            "right": null,
            "top": null,
            "visibility": null,
            "width": null
          }
        },
        "af38160ec2f64d6ba9a9063ab28c0dcb": {
          "model_module": "@jupyter-widgets/controls",
          "model_name": "DescriptionStyleModel",
          "model_module_version": "1.5.0",
          "state": {
            "_model_module": "@jupyter-widgets/controls",
            "_model_module_version": "1.5.0",
            "_model_name": "DescriptionStyleModel",
            "_view_count": null,
            "_view_module": "@jupyter-widgets/base",
            "_view_module_version": "1.2.0",
            "_view_name": "StyleView",
            "description_width": ""
          }
        },
        "18dad76179824466be654095ae660e1b": {
          "model_module": "@jupyter-widgets/base",
          "model_name": "LayoutModel",
          "model_module_version": "1.2.0",
          "state": {
            "_model_module": "@jupyter-widgets/base",
            "_model_module_version": "1.2.0",
            "_model_name": "LayoutModel",
            "_view_count": null,
            "_view_module": "@jupyter-widgets/base",
            "_view_module_version": "1.2.0",
            "_view_name": "LayoutView",
            "align_content": null,
            "align_items": null,
            "align_self": null,
            "border": null,
            "bottom": null,
            "display": null,
            "flex": null,
            "flex_flow": null,
            "grid_area": null,
            "grid_auto_columns": null,
            "grid_auto_flow": null,
            "grid_auto_rows": null,
            "grid_column": null,
            "grid_gap": null,
            "grid_row": null,
            "grid_template_areas": null,
            "grid_template_columns": null,
            "grid_template_rows": null,
            "height": null,
            "justify_content": null,
            "justify_items": null,
            "left": null,
            "margin": null,
            "max_height": null,
            "max_width": null,
            "min_height": null,
            "min_width": null,
            "object_fit": null,
            "object_position": null,
            "order": null,
            "overflow": null,
            "overflow_x": null,
            "overflow_y": null,
            "padding": null,
            "right": null,
            "top": null,
            "visibility": null,
            "width": null
          }
        },
        "2dbd6efa552f4500bf9b6a9d450b7558": {
          "model_module": "@jupyter-widgets/controls",
          "model_name": "ProgressStyleModel",
          "model_module_version": "1.5.0",
          "state": {
            "_model_module": "@jupyter-widgets/controls",
            "_model_module_version": "1.5.0",
            "_model_name": "ProgressStyleModel",
            "_view_count": null,
            "_view_module": "@jupyter-widgets/base",
            "_view_module_version": "1.2.0",
            "_view_name": "StyleView",
            "bar_color": null,
            "description_width": ""
          }
        },
        "f1e01856da53444991be5667dd0713aa": {
          "model_module": "@jupyter-widgets/base",
          "model_name": "LayoutModel",
          "model_module_version": "1.2.0",
          "state": {
            "_model_module": "@jupyter-widgets/base",
            "_model_module_version": "1.2.0",
            "_model_name": "LayoutModel",
            "_view_count": null,
            "_view_module": "@jupyter-widgets/base",
            "_view_module_version": "1.2.0",
            "_view_name": "LayoutView",
            "align_content": null,
            "align_items": null,
            "align_self": null,
            "border": null,
            "bottom": null,
            "display": null,
            "flex": null,
            "flex_flow": null,
            "grid_area": null,
            "grid_auto_columns": null,
            "grid_auto_flow": null,
            "grid_auto_rows": null,
            "grid_column": null,
            "grid_gap": null,
            "grid_row": null,
            "grid_template_areas": null,
            "grid_template_columns": null,
            "grid_template_rows": null,
            "height": null,
            "justify_content": null,
            "justify_items": null,
            "left": null,
            "margin": null,
            "max_height": null,
            "max_width": null,
            "min_height": null,
            "min_width": null,
            "object_fit": null,
            "object_position": null,
            "order": null,
            "overflow": null,
            "overflow_x": null,
            "overflow_y": null,
            "padding": null,
            "right": null,
            "top": null,
            "visibility": null,
            "width": null
          }
        },
        "61cee8b360dc436aa9801ff3c8e27cca": {
          "model_module": "@jupyter-widgets/controls",
          "model_name": "DescriptionStyleModel",
          "model_module_version": "1.5.0",
          "state": {
            "_model_module": "@jupyter-widgets/controls",
            "_model_module_version": "1.5.0",
            "_model_name": "DescriptionStyleModel",
            "_view_count": null,
            "_view_module": "@jupyter-widgets/base",
            "_view_module_version": "1.2.0",
            "_view_name": "StyleView",
            "description_width": ""
          }
        },
        "e3b4fbb1c8234b76a34fb5c6d8c103a8": {
          "model_module": "@jupyter-widgets/controls",
          "model_name": "HBoxModel",
          "model_module_version": "1.5.0",
          "state": {
            "_dom_classes": [],
            "_model_module": "@jupyter-widgets/controls",
            "_model_module_version": "1.5.0",
            "_model_name": "HBoxModel",
            "_view_count": null,
            "_view_module": "@jupyter-widgets/controls",
            "_view_module_version": "1.5.0",
            "_view_name": "HBoxView",
            "box_style": "",
            "children": [
              "IPY_MODEL_90bd46c8581749c0bb4a3c1e9ee75f0b",
              "IPY_MODEL_82f8433e9b3245ba9212f1fbfd6f5a2e",
              "IPY_MODEL_48a46e915b014648b56880b45f3ce4d4"
            ],
            "layout": "IPY_MODEL_18f25710c97b46889140bc505b416186"
          }
        },
        "90bd46c8581749c0bb4a3c1e9ee75f0b": {
          "model_module": "@jupyter-widgets/controls",
          "model_name": "HTMLModel",
          "model_module_version": "1.5.0",
          "state": {
            "_dom_classes": [],
            "_model_module": "@jupyter-widgets/controls",
            "_model_module_version": "1.5.0",
            "_model_name": "HTMLModel",
            "_view_count": null,
            "_view_module": "@jupyter-widgets/controls",
            "_view_module_version": "1.5.0",
            "_view_name": "HTMLView",
            "description": "",
            "description_tooltip": null,
            "layout": "IPY_MODEL_1bf8faadff474865a252c66269841dd5",
            "placeholder": "​",
            "style": "IPY_MODEL_a34db5066c574a6ab6667bc012a1c816",
            "value": "config_sentence_transformers.json: 100%"
          }
        },
        "82f8433e9b3245ba9212f1fbfd6f5a2e": {
          "model_module": "@jupyter-widgets/controls",
          "model_name": "FloatProgressModel",
          "model_module_version": "1.5.0",
          "state": {
            "_dom_classes": [],
            "_model_module": "@jupyter-widgets/controls",
            "_model_module_version": "1.5.0",
            "_model_name": "FloatProgressModel",
            "_view_count": null,
            "_view_module": "@jupyter-widgets/controls",
            "_view_module_version": "1.5.0",
            "_view_name": "ProgressView",
            "bar_style": "success",
            "description": "",
            "description_tooltip": null,
            "layout": "IPY_MODEL_ca80c36ece9d402ba4201a735ccc50a7",
            "max": 124,
            "min": 0,
            "orientation": "horizontal",
            "style": "IPY_MODEL_60f3e0545ceb4fd99d59faf4b2285ff9",
            "value": 124
          }
        },
        "48a46e915b014648b56880b45f3ce4d4": {
          "model_module": "@jupyter-widgets/controls",
          "model_name": "HTMLModel",
          "model_module_version": "1.5.0",
          "state": {
            "_dom_classes": [],
            "_model_module": "@jupyter-widgets/controls",
            "_model_module_version": "1.5.0",
            "_model_name": "HTMLModel",
            "_view_count": null,
            "_view_module": "@jupyter-widgets/controls",
            "_view_module_version": "1.5.0",
            "_view_name": "HTMLView",
            "description": "",
            "description_tooltip": null,
            "layout": "IPY_MODEL_de98bd1b3e37430d97f0cdbde1b3faaa",
            "placeholder": "​",
            "style": "IPY_MODEL_b84c464cc5494fcca233801124e735b8",
            "value": " 124/124 [00:00&lt;00:00, 10.2kB/s]"
          }
        },
        "18f25710c97b46889140bc505b416186": {
          "model_module": "@jupyter-widgets/base",
          "model_name": "LayoutModel",
          "model_module_version": "1.2.0",
          "state": {
            "_model_module": "@jupyter-widgets/base",
            "_model_module_version": "1.2.0",
            "_model_name": "LayoutModel",
            "_view_count": null,
            "_view_module": "@jupyter-widgets/base",
            "_view_module_version": "1.2.0",
            "_view_name": "LayoutView",
            "align_content": null,
            "align_items": null,
            "align_self": null,
            "border": null,
            "bottom": null,
            "display": null,
            "flex": null,
            "flex_flow": null,
            "grid_area": null,
            "grid_auto_columns": null,
            "grid_auto_flow": null,
            "grid_auto_rows": null,
            "grid_column": null,
            "grid_gap": null,
            "grid_row": null,
            "grid_template_areas": null,
            "grid_template_columns": null,
            "grid_template_rows": null,
            "height": null,
            "justify_content": null,
            "justify_items": null,
            "left": null,
            "margin": null,
            "max_height": null,
            "max_width": null,
            "min_height": null,
            "min_width": null,
            "object_fit": null,
            "object_position": null,
            "order": null,
            "overflow": null,
            "overflow_x": null,
            "overflow_y": null,
            "padding": null,
            "right": null,
            "top": null,
            "visibility": null,
            "width": null
          }
        },
        "1bf8faadff474865a252c66269841dd5": {
          "model_module": "@jupyter-widgets/base",
          "model_name": "LayoutModel",
          "model_module_version": "1.2.0",
          "state": {
            "_model_module": "@jupyter-widgets/base",
            "_model_module_version": "1.2.0",
            "_model_name": "LayoutModel",
            "_view_count": null,
            "_view_module": "@jupyter-widgets/base",
            "_view_module_version": "1.2.0",
            "_view_name": "LayoutView",
            "align_content": null,
            "align_items": null,
            "align_self": null,
            "border": null,
            "bottom": null,
            "display": null,
            "flex": null,
            "flex_flow": null,
            "grid_area": null,
            "grid_auto_columns": null,
            "grid_auto_flow": null,
            "grid_auto_rows": null,
            "grid_column": null,
            "grid_gap": null,
            "grid_row": null,
            "grid_template_areas": null,
            "grid_template_columns": null,
            "grid_template_rows": null,
            "height": null,
            "justify_content": null,
            "justify_items": null,
            "left": null,
            "margin": null,
            "max_height": null,
            "max_width": null,
            "min_height": null,
            "min_width": null,
            "object_fit": null,
            "object_position": null,
            "order": null,
            "overflow": null,
            "overflow_x": null,
            "overflow_y": null,
            "padding": null,
            "right": null,
            "top": null,
            "visibility": null,
            "width": null
          }
        },
        "a34db5066c574a6ab6667bc012a1c816": {
          "model_module": "@jupyter-widgets/controls",
          "model_name": "DescriptionStyleModel",
          "model_module_version": "1.5.0",
          "state": {
            "_model_module": "@jupyter-widgets/controls",
            "_model_module_version": "1.5.0",
            "_model_name": "DescriptionStyleModel",
            "_view_count": null,
            "_view_module": "@jupyter-widgets/base",
            "_view_module_version": "1.2.0",
            "_view_name": "StyleView",
            "description_width": ""
          }
        },
        "ca80c36ece9d402ba4201a735ccc50a7": {
          "model_module": "@jupyter-widgets/base",
          "model_name": "LayoutModel",
          "model_module_version": "1.2.0",
          "state": {
            "_model_module": "@jupyter-widgets/base",
            "_model_module_version": "1.2.0",
            "_model_name": "LayoutModel",
            "_view_count": null,
            "_view_module": "@jupyter-widgets/base",
            "_view_module_version": "1.2.0",
            "_view_name": "LayoutView",
            "align_content": null,
            "align_items": null,
            "align_self": null,
            "border": null,
            "bottom": null,
            "display": null,
            "flex": null,
            "flex_flow": null,
            "grid_area": null,
            "grid_auto_columns": null,
            "grid_auto_flow": null,
            "grid_auto_rows": null,
            "grid_column": null,
            "grid_gap": null,
            "grid_row": null,
            "grid_template_areas": null,
            "grid_template_columns": null,
            "grid_template_rows": null,
            "height": null,
            "justify_content": null,
            "justify_items": null,
            "left": null,
            "margin": null,
            "max_height": null,
            "max_width": null,
            "min_height": null,
            "min_width": null,
            "object_fit": null,
            "object_position": null,
            "order": null,
            "overflow": null,
            "overflow_x": null,
            "overflow_y": null,
            "padding": null,
            "right": null,
            "top": null,
            "visibility": null,
            "width": null
          }
        },
        "60f3e0545ceb4fd99d59faf4b2285ff9": {
          "model_module": "@jupyter-widgets/controls",
          "model_name": "ProgressStyleModel",
          "model_module_version": "1.5.0",
          "state": {
            "_model_module": "@jupyter-widgets/controls",
            "_model_module_version": "1.5.0",
            "_model_name": "ProgressStyleModel",
            "_view_count": null,
            "_view_module": "@jupyter-widgets/base",
            "_view_module_version": "1.2.0",
            "_view_name": "StyleView",
            "bar_color": null,
            "description_width": ""
          }
        },
        "de98bd1b3e37430d97f0cdbde1b3faaa": {
          "model_module": "@jupyter-widgets/base",
          "model_name": "LayoutModel",
          "model_module_version": "1.2.0",
          "state": {
            "_model_module": "@jupyter-widgets/base",
            "_model_module_version": "1.2.0",
            "_model_name": "LayoutModel",
            "_view_count": null,
            "_view_module": "@jupyter-widgets/base",
            "_view_module_version": "1.2.0",
            "_view_name": "LayoutView",
            "align_content": null,
            "align_items": null,
            "align_self": null,
            "border": null,
            "bottom": null,
            "display": null,
            "flex": null,
            "flex_flow": null,
            "grid_area": null,
            "grid_auto_columns": null,
            "grid_auto_flow": null,
            "grid_auto_rows": null,
            "grid_column": null,
            "grid_gap": null,
            "grid_row": null,
            "grid_template_areas": null,
            "grid_template_columns": null,
            "grid_template_rows": null,
            "height": null,
            "justify_content": null,
            "justify_items": null,
            "left": null,
            "margin": null,
            "max_height": null,
            "max_width": null,
            "min_height": null,
            "min_width": null,
            "object_fit": null,
            "object_position": null,
            "order": null,
            "overflow": null,
            "overflow_x": null,
            "overflow_y": null,
            "padding": null,
            "right": null,
            "top": null,
            "visibility": null,
            "width": null
          }
        },
        "b84c464cc5494fcca233801124e735b8": {
          "model_module": "@jupyter-widgets/controls",
          "model_name": "DescriptionStyleModel",
          "model_module_version": "1.5.0",
          "state": {
            "_model_module": "@jupyter-widgets/controls",
            "_model_module_version": "1.5.0",
            "_model_name": "DescriptionStyleModel",
            "_view_count": null,
            "_view_module": "@jupyter-widgets/base",
            "_view_module_version": "1.2.0",
            "_view_name": "StyleView",
            "description_width": ""
          }
        },
        "43cab70450b741bf81f891f9ff27f637": {
          "model_module": "@jupyter-widgets/controls",
          "model_name": "HBoxModel",
          "model_module_version": "1.5.0",
          "state": {
            "_dom_classes": [],
            "_model_module": "@jupyter-widgets/controls",
            "_model_module_version": "1.5.0",
            "_model_name": "HBoxModel",
            "_view_count": null,
            "_view_module": "@jupyter-widgets/controls",
            "_view_module_version": "1.5.0",
            "_view_name": "HBoxView",
            "box_style": "",
            "children": [
              "IPY_MODEL_4eba99eb75e44bf9985a4d996f906d9a",
              "IPY_MODEL_800344ece3454eaaa22e1db180b7bd98",
              "IPY_MODEL_ff39d610acbc490392a51b80ada4f5cf"
            ],
            "layout": "IPY_MODEL_f6387f779f1a4eea9be5f4b02cea2e2e"
          }
        },
        "4eba99eb75e44bf9985a4d996f906d9a": {
          "model_module": "@jupyter-widgets/controls",
          "model_name": "HTMLModel",
          "model_module_version": "1.5.0",
          "state": {
            "_dom_classes": [],
            "_model_module": "@jupyter-widgets/controls",
            "_model_module_version": "1.5.0",
            "_model_name": "HTMLModel",
            "_view_count": null,
            "_view_module": "@jupyter-widgets/controls",
            "_view_module_version": "1.5.0",
            "_view_name": "HTMLView",
            "description": "",
            "description_tooltip": null,
            "layout": "IPY_MODEL_3a5709044e704c0d94252634cb0e8f4b",
            "placeholder": "​",
            "style": "IPY_MODEL_188408adc9f6417b871d6950aef90cd1",
            "value": "README.md: 100%"
          }
        },
        "800344ece3454eaaa22e1db180b7bd98": {
          "model_module": "@jupyter-widgets/controls",
          "model_name": "FloatProgressModel",
          "model_module_version": "1.5.0",
          "state": {
            "_dom_classes": [],
            "_model_module": "@jupyter-widgets/controls",
            "_model_module_version": "1.5.0",
            "_model_name": "FloatProgressModel",
            "_view_count": null,
            "_view_module": "@jupyter-widgets/controls",
            "_view_module_version": "1.5.0",
            "_view_name": "ProgressView",
            "bar_style": "success",
            "description": "",
            "description_tooltip": null,
            "layout": "IPY_MODEL_7d69d87b6abc4b698a1387b8a36aa3d5",
            "max": 90797,
            "min": 0,
            "orientation": "horizontal",
            "style": "IPY_MODEL_5b7b9ae32bac4635bf8624cc378514d2",
            "value": 90797
          }
        },
        "ff39d610acbc490392a51b80ada4f5cf": {
          "model_module": "@jupyter-widgets/controls",
          "model_name": "HTMLModel",
          "model_module_version": "1.5.0",
          "state": {
            "_dom_classes": [],
            "_model_module": "@jupyter-widgets/controls",
            "_model_module_version": "1.5.0",
            "_model_name": "HTMLModel",
            "_view_count": null,
            "_view_module": "@jupyter-widgets/controls",
            "_view_module_version": "1.5.0",
            "_view_name": "HTMLView",
            "description": "",
            "description_tooltip": null,
            "layout": "IPY_MODEL_ecb62eb4d1e84a1ca2087d3e990af59f",
            "placeholder": "​",
            "style": "IPY_MODEL_6a317cc6f969476dba89b7492ce442b0",
            "value": " 90.8k/90.8k [00:00&lt;00:00, 6.47MB/s]"
          }
        },
        "f6387f779f1a4eea9be5f4b02cea2e2e": {
          "model_module": "@jupyter-widgets/base",
          "model_name": "LayoutModel",
          "model_module_version": "1.2.0",
          "state": {
            "_model_module": "@jupyter-widgets/base",
            "_model_module_version": "1.2.0",
            "_model_name": "LayoutModel",
            "_view_count": null,
            "_view_module": "@jupyter-widgets/base",
            "_view_module_version": "1.2.0",
            "_view_name": "LayoutView",
            "align_content": null,
            "align_items": null,
            "align_self": null,
            "border": null,
            "bottom": null,
            "display": null,
            "flex": null,
            "flex_flow": null,
            "grid_area": null,
            "grid_auto_columns": null,
            "grid_auto_flow": null,
            "grid_auto_rows": null,
            "grid_column": null,
            "grid_gap": null,
            "grid_row": null,
            "grid_template_areas": null,
            "grid_template_columns": null,
            "grid_template_rows": null,
            "height": null,
            "justify_content": null,
            "justify_items": null,
            "left": null,
            "margin": null,
            "max_height": null,
            "max_width": null,
            "min_height": null,
            "min_width": null,
            "object_fit": null,
            "object_position": null,
            "order": null,
            "overflow": null,
            "overflow_x": null,
            "overflow_y": null,
            "padding": null,
            "right": null,
            "top": null,
            "visibility": null,
            "width": null
          }
        },
        "3a5709044e704c0d94252634cb0e8f4b": {
          "model_module": "@jupyter-widgets/base",
          "model_name": "LayoutModel",
          "model_module_version": "1.2.0",
          "state": {
            "_model_module": "@jupyter-widgets/base",
            "_model_module_version": "1.2.0",
            "_model_name": "LayoutModel",
            "_view_count": null,
            "_view_module": "@jupyter-widgets/base",
            "_view_module_version": "1.2.0",
            "_view_name": "LayoutView",
            "align_content": null,
            "align_items": null,
            "align_self": null,
            "border": null,
            "bottom": null,
            "display": null,
            "flex": null,
            "flex_flow": null,
            "grid_area": null,
            "grid_auto_columns": null,
            "grid_auto_flow": null,
            "grid_auto_rows": null,
            "grid_column": null,
            "grid_gap": null,
            "grid_row": null,
            "grid_template_areas": null,
            "grid_template_columns": null,
            "grid_template_rows": null,
            "height": null,
            "justify_content": null,
            "justify_items": null,
            "left": null,
            "margin": null,
            "max_height": null,
            "max_width": null,
            "min_height": null,
            "min_width": null,
            "object_fit": null,
            "object_position": null,
            "order": null,
            "overflow": null,
            "overflow_x": null,
            "overflow_y": null,
            "padding": null,
            "right": null,
            "top": null,
            "visibility": null,
            "width": null
          }
        },
        "188408adc9f6417b871d6950aef90cd1": {
          "model_module": "@jupyter-widgets/controls",
          "model_name": "DescriptionStyleModel",
          "model_module_version": "1.5.0",
          "state": {
            "_model_module": "@jupyter-widgets/controls",
            "_model_module_version": "1.5.0",
            "_model_name": "DescriptionStyleModel",
            "_view_count": null,
            "_view_module": "@jupyter-widgets/base",
            "_view_module_version": "1.2.0",
            "_view_name": "StyleView",
            "description_width": ""
          }
        },
        "7d69d87b6abc4b698a1387b8a36aa3d5": {
          "model_module": "@jupyter-widgets/base",
          "model_name": "LayoutModel",
          "model_module_version": "1.2.0",
          "state": {
            "_model_module": "@jupyter-widgets/base",
            "_model_module_version": "1.2.0",
            "_model_name": "LayoutModel",
            "_view_count": null,
            "_view_module": "@jupyter-widgets/base",
            "_view_module_version": "1.2.0",
            "_view_name": "LayoutView",
            "align_content": null,
            "align_items": null,
            "align_self": null,
            "border": null,
            "bottom": null,
            "display": null,
            "flex": null,
            "flex_flow": null,
            "grid_area": null,
            "grid_auto_columns": null,
            "grid_auto_flow": null,
            "grid_auto_rows": null,
            "grid_column": null,
            "grid_gap": null,
            "grid_row": null,
            "grid_template_areas": null,
            "grid_template_columns": null,
            "grid_template_rows": null,
            "height": null,
            "justify_content": null,
            "justify_items": null,
            "left": null,
            "margin": null,
            "max_height": null,
            "max_width": null,
            "min_height": null,
            "min_width": null,
            "object_fit": null,
            "object_position": null,
            "order": null,
            "overflow": null,
            "overflow_x": null,
            "overflow_y": null,
            "padding": null,
            "right": null,
            "top": null,
            "visibility": null,
            "width": null
          }
        },
        "5b7b9ae32bac4635bf8624cc378514d2": {
          "model_module": "@jupyter-widgets/controls",
          "model_name": "ProgressStyleModel",
          "model_module_version": "1.5.0",
          "state": {
            "_model_module": "@jupyter-widgets/controls",
            "_model_module_version": "1.5.0",
            "_model_name": "ProgressStyleModel",
            "_view_count": null,
            "_view_module": "@jupyter-widgets/base",
            "_view_module_version": "1.2.0",
            "_view_name": "StyleView",
            "bar_color": null,
            "description_width": ""
          }
        },
        "ecb62eb4d1e84a1ca2087d3e990af59f": {
          "model_module": "@jupyter-widgets/base",
          "model_name": "LayoutModel",
          "model_module_version": "1.2.0",
          "state": {
            "_model_module": "@jupyter-widgets/base",
            "_model_module_version": "1.2.0",
            "_model_name": "LayoutModel",
            "_view_count": null,
            "_view_module": "@jupyter-widgets/base",
            "_view_module_version": "1.2.0",
            "_view_name": "LayoutView",
            "align_content": null,
            "align_items": null,
            "align_self": null,
            "border": null,
            "bottom": null,
            "display": null,
            "flex": null,
            "flex_flow": null,
            "grid_area": null,
            "grid_auto_columns": null,
            "grid_auto_flow": null,
            "grid_auto_rows": null,
            "grid_column": null,
            "grid_gap": null,
            "grid_row": null,
            "grid_template_areas": null,
            "grid_template_columns": null,
            "grid_template_rows": null,
            "height": null,
            "justify_content": null,
            "justify_items": null,
            "left": null,
            "margin": null,
            "max_height": null,
            "max_width": null,
            "min_height": null,
            "min_width": null,
            "object_fit": null,
            "object_position": null,
            "order": null,
            "overflow": null,
            "overflow_x": null,
            "overflow_y": null,
            "padding": null,
            "right": null,
            "top": null,
            "visibility": null,
            "width": null
          }
        },
        "6a317cc6f969476dba89b7492ce442b0": {
          "model_module": "@jupyter-widgets/controls",
          "model_name": "DescriptionStyleModel",
          "model_module_version": "1.5.0",
          "state": {
            "_model_module": "@jupyter-widgets/controls",
            "_model_module_version": "1.5.0",
            "_model_name": "DescriptionStyleModel",
            "_view_count": null,
            "_view_module": "@jupyter-widgets/base",
            "_view_module_version": "1.2.0",
            "_view_name": "StyleView",
            "description_width": ""
          }
        },
        "96e70e4f9aba4880a9179b5033c9f7fc": {
          "model_module": "@jupyter-widgets/controls",
          "model_name": "HBoxModel",
          "model_module_version": "1.5.0",
          "state": {
            "_dom_classes": [],
            "_model_module": "@jupyter-widgets/controls",
            "_model_module_version": "1.5.0",
            "_model_name": "HBoxModel",
            "_view_count": null,
            "_view_module": "@jupyter-widgets/controls",
            "_view_module_version": "1.5.0",
            "_view_name": "HBoxView",
            "box_style": "",
            "children": [
              "IPY_MODEL_f8b1cb977c024f7cb0945fdf0ba42cd3",
              "IPY_MODEL_688ee6c4651c4e6aa562d4347e77e8d7",
              "IPY_MODEL_65acf16e57be4a18bf8d1f05fe134f8a"
            ],
            "layout": "IPY_MODEL_ed238b7585904d8b8e2b7024d0e04599"
          }
        },
        "f8b1cb977c024f7cb0945fdf0ba42cd3": {
          "model_module": "@jupyter-widgets/controls",
          "model_name": "HTMLModel",
          "model_module_version": "1.5.0",
          "state": {
            "_dom_classes": [],
            "_model_module": "@jupyter-widgets/controls",
            "_model_module_version": "1.5.0",
            "_model_name": "HTMLModel",
            "_view_count": null,
            "_view_module": "@jupyter-widgets/controls",
            "_view_module_version": "1.5.0",
            "_view_name": "HTMLView",
            "description": "",
            "description_tooltip": null,
            "layout": "IPY_MODEL_00c3ff83c86546e993535e803e7a3097",
            "placeholder": "​",
            "style": "IPY_MODEL_6ba954864c614bf7834adf5540248671",
            "value": "sentence_bert_config.json: 100%"
          }
        },
        "688ee6c4651c4e6aa562d4347e77e8d7": {
          "model_module": "@jupyter-widgets/controls",
          "model_name": "FloatProgressModel",
          "model_module_version": "1.5.0",
          "state": {
            "_dom_classes": [],
            "_model_module": "@jupyter-widgets/controls",
            "_model_module_version": "1.5.0",
            "_model_name": "FloatProgressModel",
            "_view_count": null,
            "_view_module": "@jupyter-widgets/controls",
            "_view_module_version": "1.5.0",
            "_view_name": "ProgressView",
            "bar_style": "success",
            "description": "",
            "description_tooltip": null,
            "layout": "IPY_MODEL_fd18033f4fd04b79bb29ed481fa33c2e",
            "max": 52,
            "min": 0,
            "orientation": "horizontal",
            "style": "IPY_MODEL_385459def67240698cb9b98dd50ee011",
            "value": 52
          }
        },
        "65acf16e57be4a18bf8d1f05fe134f8a": {
          "model_module": "@jupyter-widgets/controls",
          "model_name": "HTMLModel",
          "model_module_version": "1.5.0",
          "state": {
            "_dom_classes": [],
            "_model_module": "@jupyter-widgets/controls",
            "_model_module_version": "1.5.0",
            "_model_name": "HTMLModel",
            "_view_count": null,
            "_view_module": "@jupyter-widgets/controls",
            "_view_module_version": "1.5.0",
            "_view_name": "HTMLView",
            "description": "",
            "description_tooltip": null,
            "layout": "IPY_MODEL_1bf035c8f895462fa51879e45c9e5aed",
            "placeholder": "​",
            "style": "IPY_MODEL_da8257ed74f74538a6d59196d6e5f396",
            "value": " 52.0/52.0 [00:00&lt;00:00, 4.60kB/s]"
          }
        },
        "ed238b7585904d8b8e2b7024d0e04599": {
          "model_module": "@jupyter-widgets/base",
          "model_name": "LayoutModel",
          "model_module_version": "1.2.0",
          "state": {
            "_model_module": "@jupyter-widgets/base",
            "_model_module_version": "1.2.0",
            "_model_name": "LayoutModel",
            "_view_count": null,
            "_view_module": "@jupyter-widgets/base",
            "_view_module_version": "1.2.0",
            "_view_name": "LayoutView",
            "align_content": null,
            "align_items": null,
            "align_self": null,
            "border": null,
            "bottom": null,
            "display": null,
            "flex": null,
            "flex_flow": null,
            "grid_area": null,
            "grid_auto_columns": null,
            "grid_auto_flow": null,
            "grid_auto_rows": null,
            "grid_column": null,
            "grid_gap": null,
            "grid_row": null,
            "grid_template_areas": null,
            "grid_template_columns": null,
            "grid_template_rows": null,
            "height": null,
            "justify_content": null,
            "justify_items": null,
            "left": null,
            "margin": null,
            "max_height": null,
            "max_width": null,
            "min_height": null,
            "min_width": null,
            "object_fit": null,
            "object_position": null,
            "order": null,
            "overflow": null,
            "overflow_x": null,
            "overflow_y": null,
            "padding": null,
            "right": null,
            "top": null,
            "visibility": null,
            "width": null
          }
        },
        "00c3ff83c86546e993535e803e7a3097": {
          "model_module": "@jupyter-widgets/base",
          "model_name": "LayoutModel",
          "model_module_version": "1.2.0",
          "state": {
            "_model_module": "@jupyter-widgets/base",
            "_model_module_version": "1.2.0",
            "_model_name": "LayoutModel",
            "_view_count": null,
            "_view_module": "@jupyter-widgets/base",
            "_view_module_version": "1.2.0",
            "_view_name": "LayoutView",
            "align_content": null,
            "align_items": null,
            "align_self": null,
            "border": null,
            "bottom": null,
            "display": null,
            "flex": null,
            "flex_flow": null,
            "grid_area": null,
            "grid_auto_columns": null,
            "grid_auto_flow": null,
            "grid_auto_rows": null,
            "grid_column": null,
            "grid_gap": null,
            "grid_row": null,
            "grid_template_areas": null,
            "grid_template_columns": null,
            "grid_template_rows": null,
            "height": null,
            "justify_content": null,
            "justify_items": null,
            "left": null,
            "margin": null,
            "max_height": null,
            "max_width": null,
            "min_height": null,
            "min_width": null,
            "object_fit": null,
            "object_position": null,
            "order": null,
            "overflow": null,
            "overflow_x": null,
            "overflow_y": null,
            "padding": null,
            "right": null,
            "top": null,
            "visibility": null,
            "width": null
          }
        },
        "6ba954864c614bf7834adf5540248671": {
          "model_module": "@jupyter-widgets/controls",
          "model_name": "DescriptionStyleModel",
          "model_module_version": "1.5.0",
          "state": {
            "_model_module": "@jupyter-widgets/controls",
            "_model_module_version": "1.5.0",
            "_model_name": "DescriptionStyleModel",
            "_view_count": null,
            "_view_module": "@jupyter-widgets/base",
            "_view_module_version": "1.2.0",
            "_view_name": "StyleView",
            "description_width": ""
          }
        },
        "fd18033f4fd04b79bb29ed481fa33c2e": {
          "model_module": "@jupyter-widgets/base",
          "model_name": "LayoutModel",
          "model_module_version": "1.2.0",
          "state": {
            "_model_module": "@jupyter-widgets/base",
            "_model_module_version": "1.2.0",
            "_model_name": "LayoutModel",
            "_view_count": null,
            "_view_module": "@jupyter-widgets/base",
            "_view_module_version": "1.2.0",
            "_view_name": "LayoutView",
            "align_content": null,
            "align_items": null,
            "align_self": null,
            "border": null,
            "bottom": null,
            "display": null,
            "flex": null,
            "flex_flow": null,
            "grid_area": null,
            "grid_auto_columns": null,
            "grid_auto_flow": null,
            "grid_auto_rows": null,
            "grid_column": null,
            "grid_gap": null,
            "grid_row": null,
            "grid_template_areas": null,
            "grid_template_columns": null,
            "grid_template_rows": null,
            "height": null,
            "justify_content": null,
            "justify_items": null,
            "left": null,
            "margin": null,
            "max_height": null,
            "max_width": null,
            "min_height": null,
            "min_width": null,
            "object_fit": null,
            "object_position": null,
            "order": null,
            "overflow": null,
            "overflow_x": null,
            "overflow_y": null,
            "padding": null,
            "right": null,
            "top": null,
            "visibility": null,
            "width": null
          }
        },
        "385459def67240698cb9b98dd50ee011": {
          "model_module": "@jupyter-widgets/controls",
          "model_name": "ProgressStyleModel",
          "model_module_version": "1.5.0",
          "state": {
            "_model_module": "@jupyter-widgets/controls",
            "_model_module_version": "1.5.0",
            "_model_name": "ProgressStyleModel",
            "_view_count": null,
            "_view_module": "@jupyter-widgets/base",
            "_view_module_version": "1.2.0",
            "_view_name": "StyleView",
            "bar_color": null,
            "description_width": ""
          }
        },
        "1bf035c8f895462fa51879e45c9e5aed": {
          "model_module": "@jupyter-widgets/base",
          "model_name": "LayoutModel",
          "model_module_version": "1.2.0",
          "state": {
            "_model_module": "@jupyter-widgets/base",
            "_model_module_version": "1.2.0",
            "_model_name": "LayoutModel",
            "_view_count": null,
            "_view_module": "@jupyter-widgets/base",
            "_view_module_version": "1.2.0",
            "_view_name": "LayoutView",
            "align_content": null,
            "align_items": null,
            "align_self": null,
            "border": null,
            "bottom": null,
            "display": null,
            "flex": null,
            "flex_flow": null,
            "grid_area": null,
            "grid_auto_columns": null,
            "grid_auto_flow": null,
            "grid_auto_rows": null,
            "grid_column": null,
            "grid_gap": null,
            "grid_row": null,
            "grid_template_areas": null,
            "grid_template_columns": null,
            "grid_template_rows": null,
            "height": null,
            "justify_content": null,
            "justify_items": null,
            "left": null,
            "margin": null,
            "max_height": null,
            "max_width": null,
            "min_height": null,
            "min_width": null,
            "object_fit": null,
            "object_position": null,
            "order": null,
            "overflow": null,
            "overflow_x": null,
            "overflow_y": null,
            "padding": null,
            "right": null,
            "top": null,
            "visibility": null,
            "width": null
          }
        },
        "da8257ed74f74538a6d59196d6e5f396": {
          "model_module": "@jupyter-widgets/controls",
          "model_name": "DescriptionStyleModel",
          "model_module_version": "1.5.0",
          "state": {
            "_model_module": "@jupyter-widgets/controls",
            "_model_module_version": "1.5.0",
            "_model_name": "DescriptionStyleModel",
            "_view_count": null,
            "_view_module": "@jupyter-widgets/base",
            "_view_module_version": "1.2.0",
            "_view_name": "StyleView",
            "description_width": ""
          }
        },
        "f42749b4badd433fad7c18551563b780": {
          "model_module": "@jupyter-widgets/controls",
          "model_name": "HBoxModel",
          "model_module_version": "1.5.0",
          "state": {
            "_dom_classes": [],
            "_model_module": "@jupyter-widgets/controls",
            "_model_module_version": "1.5.0",
            "_model_name": "HBoxModel",
            "_view_count": null,
            "_view_module": "@jupyter-widgets/controls",
            "_view_module_version": "1.5.0",
            "_view_name": "HBoxView",
            "box_style": "",
            "children": [
              "IPY_MODEL_3b55c6dcbc6846b6ac16988f9c4a96e0",
              "IPY_MODEL_5bef67cce3a1469d83e6ee7f0a0c2783",
              "IPY_MODEL_74a43cc858574188b263b676151a2a84"
            ],
            "layout": "IPY_MODEL_9702b61ca3bc411aa89717c74460412f"
          }
        },
        "3b55c6dcbc6846b6ac16988f9c4a96e0": {
          "model_module": "@jupyter-widgets/controls",
          "model_name": "HTMLModel",
          "model_module_version": "1.5.0",
          "state": {
            "_dom_classes": [],
            "_model_module": "@jupyter-widgets/controls",
            "_model_module_version": "1.5.0",
            "_model_name": "HTMLModel",
            "_view_count": null,
            "_view_module": "@jupyter-widgets/controls",
            "_view_module_version": "1.5.0",
            "_view_name": "HTMLView",
            "description": "",
            "description_tooltip": null,
            "layout": "IPY_MODEL_4c9e2792989c4e7a945b805f30733501",
            "placeholder": "​",
            "style": "IPY_MODEL_8121d7adca4f40bcb1ee8635853488f9",
            "value": "config.json: 100%"
          }
        },
        "5bef67cce3a1469d83e6ee7f0a0c2783": {
          "model_module": "@jupyter-widgets/controls",
          "model_name": "FloatProgressModel",
          "model_module_version": "1.5.0",
          "state": {
            "_dom_classes": [],
            "_model_module": "@jupyter-widgets/controls",
            "_model_module_version": "1.5.0",
            "_model_name": "FloatProgressModel",
            "_view_count": null,
            "_view_module": "@jupyter-widgets/controls",
            "_view_module_version": "1.5.0",
            "_view_name": "ProgressView",
            "bar_style": "success",
            "description": "",
            "description_tooltip": null,
            "layout": "IPY_MODEL_bb380529cb094b44b40b688a71221b3a",
            "max": 684,
            "min": 0,
            "orientation": "horizontal",
            "style": "IPY_MODEL_4368795800bf4b0a9046b374eab55ec5",
            "value": 684
          }
        },
        "74a43cc858574188b263b676151a2a84": {
          "model_module": "@jupyter-widgets/controls",
          "model_name": "HTMLModel",
          "model_module_version": "1.5.0",
          "state": {
            "_dom_classes": [],
            "_model_module": "@jupyter-widgets/controls",
            "_model_module_version": "1.5.0",
            "_model_name": "HTMLModel",
            "_view_count": null,
            "_view_module": "@jupyter-widgets/controls",
            "_view_module_version": "1.5.0",
            "_view_name": "HTMLView",
            "description": "",
            "description_tooltip": null,
            "layout": "IPY_MODEL_155070e60bca41dea28ce7964b1c3343",
            "placeholder": "​",
            "style": "IPY_MODEL_404879592ee94637a148366d825084d2",
            "value": " 684/684 [00:00&lt;00:00, 56.8kB/s]"
          }
        },
        "9702b61ca3bc411aa89717c74460412f": {
          "model_module": "@jupyter-widgets/base",
          "model_name": "LayoutModel",
          "model_module_version": "1.2.0",
          "state": {
            "_model_module": "@jupyter-widgets/base",
            "_model_module_version": "1.2.0",
            "_model_name": "LayoutModel",
            "_view_count": null,
            "_view_module": "@jupyter-widgets/base",
            "_view_module_version": "1.2.0",
            "_view_name": "LayoutView",
            "align_content": null,
            "align_items": null,
            "align_self": null,
            "border": null,
            "bottom": null,
            "display": null,
            "flex": null,
            "flex_flow": null,
            "grid_area": null,
            "grid_auto_columns": null,
            "grid_auto_flow": null,
            "grid_auto_rows": null,
            "grid_column": null,
            "grid_gap": null,
            "grid_row": null,
            "grid_template_areas": null,
            "grid_template_columns": null,
            "grid_template_rows": null,
            "height": null,
            "justify_content": null,
            "justify_items": null,
            "left": null,
            "margin": null,
            "max_height": null,
            "max_width": null,
            "min_height": null,
            "min_width": null,
            "object_fit": null,
            "object_position": null,
            "order": null,
            "overflow": null,
            "overflow_x": null,
            "overflow_y": null,
            "padding": null,
            "right": null,
            "top": null,
            "visibility": null,
            "width": null
          }
        },
        "4c9e2792989c4e7a945b805f30733501": {
          "model_module": "@jupyter-widgets/base",
          "model_name": "LayoutModel",
          "model_module_version": "1.2.0",
          "state": {
            "_model_module": "@jupyter-widgets/base",
            "_model_module_version": "1.2.0",
            "_model_name": "LayoutModel",
            "_view_count": null,
            "_view_module": "@jupyter-widgets/base",
            "_view_module_version": "1.2.0",
            "_view_name": "LayoutView",
            "align_content": null,
            "align_items": null,
            "align_self": null,
            "border": null,
            "bottom": null,
            "display": null,
            "flex": null,
            "flex_flow": null,
            "grid_area": null,
            "grid_auto_columns": null,
            "grid_auto_flow": null,
            "grid_auto_rows": null,
            "grid_column": null,
            "grid_gap": null,
            "grid_row": null,
            "grid_template_areas": null,
            "grid_template_columns": null,
            "grid_template_rows": null,
            "height": null,
            "justify_content": null,
            "justify_items": null,
            "left": null,
            "margin": null,
            "max_height": null,
            "max_width": null,
            "min_height": null,
            "min_width": null,
            "object_fit": null,
            "object_position": null,
            "order": null,
            "overflow": null,
            "overflow_x": null,
            "overflow_y": null,
            "padding": null,
            "right": null,
            "top": null,
            "visibility": null,
            "width": null
          }
        },
        "8121d7adca4f40bcb1ee8635853488f9": {
          "model_module": "@jupyter-widgets/controls",
          "model_name": "DescriptionStyleModel",
          "model_module_version": "1.5.0",
          "state": {
            "_model_module": "@jupyter-widgets/controls",
            "_model_module_version": "1.5.0",
            "_model_name": "DescriptionStyleModel",
            "_view_count": null,
            "_view_module": "@jupyter-widgets/base",
            "_view_module_version": "1.2.0",
            "_view_name": "StyleView",
            "description_width": ""
          }
        },
        "bb380529cb094b44b40b688a71221b3a": {
          "model_module": "@jupyter-widgets/base",
          "model_name": "LayoutModel",
          "model_module_version": "1.2.0",
          "state": {
            "_model_module": "@jupyter-widgets/base",
            "_model_module_version": "1.2.0",
            "_model_name": "LayoutModel",
            "_view_count": null,
            "_view_module": "@jupyter-widgets/base",
            "_view_module_version": "1.2.0",
            "_view_name": "LayoutView",
            "align_content": null,
            "align_items": null,
            "align_self": null,
            "border": null,
            "bottom": null,
            "display": null,
            "flex": null,
            "flex_flow": null,
            "grid_area": null,
            "grid_auto_columns": null,
            "grid_auto_flow": null,
            "grid_auto_rows": null,
            "grid_column": null,
            "grid_gap": null,
            "grid_row": null,
            "grid_template_areas": null,
            "grid_template_columns": null,
            "grid_template_rows": null,
            "height": null,
            "justify_content": null,
            "justify_items": null,
            "left": null,
            "margin": null,
            "max_height": null,
            "max_width": null,
            "min_height": null,
            "min_width": null,
            "object_fit": null,
            "object_position": null,
            "order": null,
            "overflow": null,
            "overflow_x": null,
            "overflow_y": null,
            "padding": null,
            "right": null,
            "top": null,
            "visibility": null,
            "width": null
          }
        },
        "4368795800bf4b0a9046b374eab55ec5": {
          "model_module": "@jupyter-widgets/controls",
          "model_name": "ProgressStyleModel",
          "model_module_version": "1.5.0",
          "state": {
            "_model_module": "@jupyter-widgets/controls",
            "_model_module_version": "1.5.0",
            "_model_name": "ProgressStyleModel",
            "_view_count": null,
            "_view_module": "@jupyter-widgets/base",
            "_view_module_version": "1.2.0",
            "_view_name": "StyleView",
            "bar_color": null,
            "description_width": ""
          }
        },
        "155070e60bca41dea28ce7964b1c3343": {
          "model_module": "@jupyter-widgets/base",
          "model_name": "LayoutModel",
          "model_module_version": "1.2.0",
          "state": {
            "_model_module": "@jupyter-widgets/base",
            "_model_module_version": "1.2.0",
            "_model_name": "LayoutModel",
            "_view_count": null,
            "_view_module": "@jupyter-widgets/base",
            "_view_module_version": "1.2.0",
            "_view_name": "LayoutView",
            "align_content": null,
            "align_items": null,
            "align_self": null,
            "border": null,
            "bottom": null,
            "display": null,
            "flex": null,
            "flex_flow": null,
            "grid_area": null,
            "grid_auto_columns": null,
            "grid_auto_flow": null,
            "grid_auto_rows": null,
            "grid_column": null,
            "grid_gap": null,
            "grid_row": null,
            "grid_template_areas": null,
            "grid_template_columns": null,
            "grid_template_rows": null,
            "height": null,
            "justify_content": null,
            "justify_items": null,
            "left": null,
            "margin": null,
            "max_height": null,
            "max_width": null,
            "min_height": null,
            "min_width": null,
            "object_fit": null,
            "object_position": null,
            "order": null,
            "overflow": null,
            "overflow_x": null,
            "overflow_y": null,
            "padding": null,
            "right": null,
            "top": null,
            "visibility": null,
            "width": null
          }
        },
        "404879592ee94637a148366d825084d2": {
          "model_module": "@jupyter-widgets/controls",
          "model_name": "DescriptionStyleModel",
          "model_module_version": "1.5.0",
          "state": {
            "_model_module": "@jupyter-widgets/controls",
            "_model_module_version": "1.5.0",
            "_model_name": "DescriptionStyleModel",
            "_view_count": null,
            "_view_module": "@jupyter-widgets/base",
            "_view_module_version": "1.2.0",
            "_view_name": "StyleView",
            "description_width": ""
          }
        },
        "cb6a2577d1b541c88f2515b2fc9d838c": {
          "model_module": "@jupyter-widgets/controls",
          "model_name": "HBoxModel",
          "model_module_version": "1.5.0",
          "state": {
            "_dom_classes": [],
            "_model_module": "@jupyter-widgets/controls",
            "_model_module_version": "1.5.0",
            "_model_name": "HBoxModel",
            "_view_count": null,
            "_view_module": "@jupyter-widgets/controls",
            "_view_module_version": "1.5.0",
            "_view_name": "HBoxView",
            "box_style": "",
            "children": [
              "IPY_MODEL_9c6d509db7904b42aa36c805c2b6fbde",
              "IPY_MODEL_90ebe32571774d4cb6bea4555dd54f5a",
              "IPY_MODEL_0ece4c6a66a54560b914eb1836ced1d0"
            ],
            "layout": "IPY_MODEL_663f3e91167440e2967538c4623f7498"
          }
        },
        "9c6d509db7904b42aa36c805c2b6fbde": {
          "model_module": "@jupyter-widgets/controls",
          "model_name": "HTMLModel",
          "model_module_version": "1.5.0",
          "state": {
            "_dom_classes": [],
            "_model_module": "@jupyter-widgets/controls",
            "_model_module_version": "1.5.0",
            "_model_name": "HTMLModel",
            "_view_count": null,
            "_view_module": "@jupyter-widgets/controls",
            "_view_module_version": "1.5.0",
            "_view_name": "HTMLView",
            "description": "",
            "description_tooltip": null,
            "layout": "IPY_MODEL_ed8bc032f4084ec598dfbb7fc172539b",
            "placeholder": "​",
            "style": "IPY_MODEL_4546796dbff040f0943f6df6c5882202",
            "value": "model.safetensors: 100%"
          }
        },
        "90ebe32571774d4cb6bea4555dd54f5a": {
          "model_module": "@jupyter-widgets/controls",
          "model_name": "FloatProgressModel",
          "model_module_version": "1.5.0",
          "state": {
            "_dom_classes": [],
            "_model_module": "@jupyter-widgets/controls",
            "_model_module_version": "1.5.0",
            "_model_name": "FloatProgressModel",
            "_view_count": null,
            "_view_module": "@jupyter-widgets/controls",
            "_view_module_version": "1.5.0",
            "_view_name": "ProgressView",
            "bar_style": "success",
            "description": "",
            "description_tooltip": null,
            "layout": "IPY_MODEL_774fb4243f674a9d94841a74afce7768",
            "max": 133466304,
            "min": 0,
            "orientation": "horizontal",
            "style": "IPY_MODEL_617dc9c53216404795ab830114313a6c",
            "value": 133466304
          }
        },
        "0ece4c6a66a54560b914eb1836ced1d0": {
          "model_module": "@jupyter-widgets/controls",
          "model_name": "HTMLModel",
          "model_module_version": "1.5.0",
          "state": {
            "_dom_classes": [],
            "_model_module": "@jupyter-widgets/controls",
            "_model_module_version": "1.5.0",
            "_model_name": "HTMLModel",
            "_view_count": null,
            "_view_module": "@jupyter-widgets/controls",
            "_view_module_version": "1.5.0",
            "_view_name": "HTMLView",
            "description": "",
            "description_tooltip": null,
            "layout": "IPY_MODEL_789b95ae91d3417b886b1b761dfa78b0",
            "placeholder": "​",
            "style": "IPY_MODEL_d8be4edd5e844228a1845e26b76987cc",
            "value": " 133M/133M [00:00&lt;00:00, 228MB/s]"
          }
        },
        "663f3e91167440e2967538c4623f7498": {
          "model_module": "@jupyter-widgets/base",
          "model_name": "LayoutModel",
          "model_module_version": "1.2.0",
          "state": {
            "_model_module": "@jupyter-widgets/base",
            "_model_module_version": "1.2.0",
            "_model_name": "LayoutModel",
            "_view_count": null,
            "_view_module": "@jupyter-widgets/base",
            "_view_module_version": "1.2.0",
            "_view_name": "LayoutView",
            "align_content": null,
            "align_items": null,
            "align_self": null,
            "border": null,
            "bottom": null,
            "display": null,
            "flex": null,
            "flex_flow": null,
            "grid_area": null,
            "grid_auto_columns": null,
            "grid_auto_flow": null,
            "grid_auto_rows": null,
            "grid_column": null,
            "grid_gap": null,
            "grid_row": null,
            "grid_template_areas": null,
            "grid_template_columns": null,
            "grid_template_rows": null,
            "height": null,
            "justify_content": null,
            "justify_items": null,
            "left": null,
            "margin": null,
            "max_height": null,
            "max_width": null,
            "min_height": null,
            "min_width": null,
            "object_fit": null,
            "object_position": null,
            "order": null,
            "overflow": null,
            "overflow_x": null,
            "overflow_y": null,
            "padding": null,
            "right": null,
            "top": null,
            "visibility": null,
            "width": null
          }
        },
        "ed8bc032f4084ec598dfbb7fc172539b": {
          "model_module": "@jupyter-widgets/base",
          "model_name": "LayoutModel",
          "model_module_version": "1.2.0",
          "state": {
            "_model_module": "@jupyter-widgets/base",
            "_model_module_version": "1.2.0",
            "_model_name": "LayoutModel",
            "_view_count": null,
            "_view_module": "@jupyter-widgets/base",
            "_view_module_version": "1.2.0",
            "_view_name": "LayoutView",
            "align_content": null,
            "align_items": null,
            "align_self": null,
            "border": null,
            "bottom": null,
            "display": null,
            "flex": null,
            "flex_flow": null,
            "grid_area": null,
            "grid_auto_columns": null,
            "grid_auto_flow": null,
            "grid_auto_rows": null,
            "grid_column": null,
            "grid_gap": null,
            "grid_row": null,
            "grid_template_areas": null,
            "grid_template_columns": null,
            "grid_template_rows": null,
            "height": null,
            "justify_content": null,
            "justify_items": null,
            "left": null,
            "margin": null,
            "max_height": null,
            "max_width": null,
            "min_height": null,
            "min_width": null,
            "object_fit": null,
            "object_position": null,
            "order": null,
            "overflow": null,
            "overflow_x": null,
            "overflow_y": null,
            "padding": null,
            "right": null,
            "top": null,
            "visibility": null,
            "width": null
          }
        },
        "4546796dbff040f0943f6df6c5882202": {
          "model_module": "@jupyter-widgets/controls",
          "model_name": "DescriptionStyleModel",
          "model_module_version": "1.5.0",
          "state": {
            "_model_module": "@jupyter-widgets/controls",
            "_model_module_version": "1.5.0",
            "_model_name": "DescriptionStyleModel",
            "_view_count": null,
            "_view_module": "@jupyter-widgets/base",
            "_view_module_version": "1.2.0",
            "_view_name": "StyleView",
            "description_width": ""
          }
        },
        "774fb4243f674a9d94841a74afce7768": {
          "model_module": "@jupyter-widgets/base",
          "model_name": "LayoutModel",
          "model_module_version": "1.2.0",
          "state": {
            "_model_module": "@jupyter-widgets/base",
            "_model_module_version": "1.2.0",
            "_model_name": "LayoutModel",
            "_view_count": null,
            "_view_module": "@jupyter-widgets/base",
            "_view_module_version": "1.2.0",
            "_view_name": "LayoutView",
            "align_content": null,
            "align_items": null,
            "align_self": null,
            "border": null,
            "bottom": null,
            "display": null,
            "flex": null,
            "flex_flow": null,
            "grid_area": null,
            "grid_auto_columns": null,
            "grid_auto_flow": null,
            "grid_auto_rows": null,
            "grid_column": null,
            "grid_gap": null,
            "grid_row": null,
            "grid_template_areas": null,
            "grid_template_columns": null,
            "grid_template_rows": null,
            "height": null,
            "justify_content": null,
            "justify_items": null,
            "left": null,
            "margin": null,
            "max_height": null,
            "max_width": null,
            "min_height": null,
            "min_width": null,
            "object_fit": null,
            "object_position": null,
            "order": null,
            "overflow": null,
            "overflow_x": null,
            "overflow_y": null,
            "padding": null,
            "right": null,
            "top": null,
            "visibility": null,
            "width": null
          }
        },
        "617dc9c53216404795ab830114313a6c": {
          "model_module": "@jupyter-widgets/controls",
          "model_name": "ProgressStyleModel",
          "model_module_version": "1.5.0",
          "state": {
            "_model_module": "@jupyter-widgets/controls",
            "_model_module_version": "1.5.0",
            "_model_name": "ProgressStyleModel",
            "_view_count": null,
            "_view_module": "@jupyter-widgets/base",
            "_view_module_version": "1.2.0",
            "_view_name": "StyleView",
            "bar_color": null,
            "description_width": ""
          }
        },
        "789b95ae91d3417b886b1b761dfa78b0": {
          "model_module": "@jupyter-widgets/base",
          "model_name": "LayoutModel",
          "model_module_version": "1.2.0",
          "state": {
            "_model_module": "@jupyter-widgets/base",
            "_model_module_version": "1.2.0",
            "_model_name": "LayoutModel",
            "_view_count": null,
            "_view_module": "@jupyter-widgets/base",
            "_view_module_version": "1.2.0",
            "_view_name": "LayoutView",
            "align_content": null,
            "align_items": null,
            "align_self": null,
            "border": null,
            "bottom": null,
            "display": null,
            "flex": null,
            "flex_flow": null,
            "grid_area": null,
            "grid_auto_columns": null,
            "grid_auto_flow": null,
            "grid_auto_rows": null,
            "grid_column": null,
            "grid_gap": null,
            "grid_row": null,
            "grid_template_areas": null,
            "grid_template_columns": null,
            "grid_template_rows": null,
            "height": null,
            "justify_content": null,
            "justify_items": null,
            "left": null,
            "margin": null,
            "max_height": null,
            "max_width": null,
            "min_height": null,
            "min_width": null,
            "object_fit": null,
            "object_position": null,
            "order": null,
            "overflow": null,
            "overflow_x": null,
            "overflow_y": null,
            "padding": null,
            "right": null,
            "top": null,
            "visibility": null,
            "width": null
          }
        },
        "d8be4edd5e844228a1845e26b76987cc": {
          "model_module": "@jupyter-widgets/controls",
          "model_name": "DescriptionStyleModel",
          "model_module_version": "1.5.0",
          "state": {
            "_model_module": "@jupyter-widgets/controls",
            "_model_module_version": "1.5.0",
            "_model_name": "DescriptionStyleModel",
            "_view_count": null,
            "_view_module": "@jupyter-widgets/base",
            "_view_module_version": "1.2.0",
            "_view_name": "StyleView",
            "description_width": ""
          }
        },
        "bddfcb339a74418daee882294899cd1c": {
          "model_module": "@jupyter-widgets/controls",
          "model_name": "HBoxModel",
          "model_module_version": "1.5.0",
          "state": {
            "_dom_classes": [],
            "_model_module": "@jupyter-widgets/controls",
            "_model_module_version": "1.5.0",
            "_model_name": "HBoxModel",
            "_view_count": null,
            "_view_module": "@jupyter-widgets/controls",
            "_view_module_version": "1.5.0",
            "_view_name": "HBoxView",
            "box_style": "",
            "children": [
              "IPY_MODEL_3eedced053f24dbfa1a332165757a507",
              "IPY_MODEL_7db6f35ac31941fe8b54c7fa438b4dd1",
              "IPY_MODEL_f66c34826d064cdb980ed44269fbe629"
            ],
            "layout": "IPY_MODEL_8ee4d5c845414c86a1b4f3cb7832b34f"
          }
        },
        "3eedced053f24dbfa1a332165757a507": {
          "model_module": "@jupyter-widgets/controls",
          "model_name": "HTMLModel",
          "model_module_version": "1.5.0",
          "state": {
            "_dom_classes": [],
            "_model_module": "@jupyter-widgets/controls",
            "_model_module_version": "1.5.0",
            "_model_name": "HTMLModel",
            "_view_count": null,
            "_view_module": "@jupyter-widgets/controls",
            "_view_module_version": "1.5.0",
            "_view_name": "HTMLView",
            "description": "",
            "description_tooltip": null,
            "layout": "IPY_MODEL_b063ef91adf640d9b50926ddf56deb83",
            "placeholder": "​",
            "style": "IPY_MODEL_a7475e2b05f945718a7e759be7f7e183",
            "value": "tokenizer_config.json: 100%"
          }
        },
        "7db6f35ac31941fe8b54c7fa438b4dd1": {
          "model_module": "@jupyter-widgets/controls",
          "model_name": "FloatProgressModel",
          "model_module_version": "1.5.0",
          "state": {
            "_dom_classes": [],
            "_model_module": "@jupyter-widgets/controls",
            "_model_module_version": "1.5.0",
            "_model_name": "FloatProgressModel",
            "_view_count": null,
            "_view_module": "@jupyter-widgets/controls",
            "_view_module_version": "1.5.0",
            "_view_name": "ProgressView",
            "bar_style": "success",
            "description": "",
            "description_tooltip": null,
            "layout": "IPY_MODEL_5b345a4222e2478ca9c9216a32be07c4",
            "max": 366,
            "min": 0,
            "orientation": "horizontal",
            "style": "IPY_MODEL_1259b59685954dfd9448d7438c66234c",
            "value": 366
          }
        },
        "f66c34826d064cdb980ed44269fbe629": {
          "model_module": "@jupyter-widgets/controls",
          "model_name": "HTMLModel",
          "model_module_version": "1.5.0",
          "state": {
            "_dom_classes": [],
            "_model_module": "@jupyter-widgets/controls",
            "_model_module_version": "1.5.0",
            "_model_name": "HTMLModel",
            "_view_count": null,
            "_view_module": "@jupyter-widgets/controls",
            "_view_module_version": "1.5.0",
            "_view_name": "HTMLView",
            "description": "",
            "description_tooltip": null,
            "layout": "IPY_MODEL_3ec67e5108c84287a3453d55dde387af",
            "placeholder": "​",
            "style": "IPY_MODEL_c0f9d677882144a8914b7ae6ee0370d3",
            "value": " 366/366 [00:00&lt;00:00, 33.0kB/s]"
          }
        },
        "8ee4d5c845414c86a1b4f3cb7832b34f": {
          "model_module": "@jupyter-widgets/base",
          "model_name": "LayoutModel",
          "model_module_version": "1.2.0",
          "state": {
            "_model_module": "@jupyter-widgets/base",
            "_model_module_version": "1.2.0",
            "_model_name": "LayoutModel",
            "_view_count": null,
            "_view_module": "@jupyter-widgets/base",
            "_view_module_version": "1.2.0",
            "_view_name": "LayoutView",
            "align_content": null,
            "align_items": null,
            "align_self": null,
            "border": null,
            "bottom": null,
            "display": null,
            "flex": null,
            "flex_flow": null,
            "grid_area": null,
            "grid_auto_columns": null,
            "grid_auto_flow": null,
            "grid_auto_rows": null,
            "grid_column": null,
            "grid_gap": null,
            "grid_row": null,
            "grid_template_areas": null,
            "grid_template_columns": null,
            "grid_template_rows": null,
            "height": null,
            "justify_content": null,
            "justify_items": null,
            "left": null,
            "margin": null,
            "max_height": null,
            "max_width": null,
            "min_height": null,
            "min_width": null,
            "object_fit": null,
            "object_position": null,
            "order": null,
            "overflow": null,
            "overflow_x": null,
            "overflow_y": null,
            "padding": null,
            "right": null,
            "top": null,
            "visibility": null,
            "width": null
          }
        },
        "b063ef91adf640d9b50926ddf56deb83": {
          "model_module": "@jupyter-widgets/base",
          "model_name": "LayoutModel",
          "model_module_version": "1.2.0",
          "state": {
            "_model_module": "@jupyter-widgets/base",
            "_model_module_version": "1.2.0",
            "_model_name": "LayoutModel",
            "_view_count": null,
            "_view_module": "@jupyter-widgets/base",
            "_view_module_version": "1.2.0",
            "_view_name": "LayoutView",
            "align_content": null,
            "align_items": null,
            "align_self": null,
            "border": null,
            "bottom": null,
            "display": null,
            "flex": null,
            "flex_flow": null,
            "grid_area": null,
            "grid_auto_columns": null,
            "grid_auto_flow": null,
            "grid_auto_rows": null,
            "grid_column": null,
            "grid_gap": null,
            "grid_row": null,
            "grid_template_areas": null,
            "grid_template_columns": null,
            "grid_template_rows": null,
            "height": null,
            "justify_content": null,
            "justify_items": null,
            "left": null,
            "margin": null,
            "max_height": null,
            "max_width": null,
            "min_height": null,
            "min_width": null,
            "object_fit": null,
            "object_position": null,
            "order": null,
            "overflow": null,
            "overflow_x": null,
            "overflow_y": null,
            "padding": null,
            "right": null,
            "top": null,
            "visibility": null,
            "width": null
          }
        },
        "a7475e2b05f945718a7e759be7f7e183": {
          "model_module": "@jupyter-widgets/controls",
          "model_name": "DescriptionStyleModel",
          "model_module_version": "1.5.0",
          "state": {
            "_model_module": "@jupyter-widgets/controls",
            "_model_module_version": "1.5.0",
            "_model_name": "DescriptionStyleModel",
            "_view_count": null,
            "_view_module": "@jupyter-widgets/base",
            "_view_module_version": "1.2.0",
            "_view_name": "StyleView",
            "description_width": ""
          }
        },
        "5b345a4222e2478ca9c9216a32be07c4": {
          "model_module": "@jupyter-widgets/base",
          "model_name": "LayoutModel",
          "model_module_version": "1.2.0",
          "state": {
            "_model_module": "@jupyter-widgets/base",
            "_model_module_version": "1.2.0",
            "_model_name": "LayoutModel",
            "_view_count": null,
            "_view_module": "@jupyter-widgets/base",
            "_view_module_version": "1.2.0",
            "_view_name": "LayoutView",
            "align_content": null,
            "align_items": null,
            "align_self": null,
            "border": null,
            "bottom": null,
            "display": null,
            "flex": null,
            "flex_flow": null,
            "grid_area": null,
            "grid_auto_columns": null,
            "grid_auto_flow": null,
            "grid_auto_rows": null,
            "grid_column": null,
            "grid_gap": null,
            "grid_row": null,
            "grid_template_areas": null,
            "grid_template_columns": null,
            "grid_template_rows": null,
            "height": null,
            "justify_content": null,
            "justify_items": null,
            "left": null,
            "margin": null,
            "max_height": null,
            "max_width": null,
            "min_height": null,
            "min_width": null,
            "object_fit": null,
            "object_position": null,
            "order": null,
            "overflow": null,
            "overflow_x": null,
            "overflow_y": null,
            "padding": null,
            "right": null,
            "top": null,
            "visibility": null,
            "width": null
          }
        },
        "1259b59685954dfd9448d7438c66234c": {
          "model_module": "@jupyter-widgets/controls",
          "model_name": "ProgressStyleModel",
          "model_module_version": "1.5.0",
          "state": {
            "_model_module": "@jupyter-widgets/controls",
            "_model_module_version": "1.5.0",
            "_model_name": "ProgressStyleModel",
            "_view_count": null,
            "_view_module": "@jupyter-widgets/base",
            "_view_module_version": "1.2.0",
            "_view_name": "StyleView",
            "bar_color": null,
            "description_width": ""
          }
        },
        "3ec67e5108c84287a3453d55dde387af": {
          "model_module": "@jupyter-widgets/base",
          "model_name": "LayoutModel",
          "model_module_version": "1.2.0",
          "state": {
            "_model_module": "@jupyter-widgets/base",
            "_model_module_version": "1.2.0",
            "_model_name": "LayoutModel",
            "_view_count": null,
            "_view_module": "@jupyter-widgets/base",
            "_view_module_version": "1.2.0",
            "_view_name": "LayoutView",
            "align_content": null,
            "align_items": null,
            "align_self": null,
            "border": null,
            "bottom": null,
            "display": null,
            "flex": null,
            "flex_flow": null,
            "grid_area": null,
            "grid_auto_columns": null,
            "grid_auto_flow": null,
            "grid_auto_rows": null,
            "grid_column": null,
            "grid_gap": null,
            "grid_row": null,
            "grid_template_areas": null,
            "grid_template_columns": null,
            "grid_template_rows": null,
            "height": null,
            "justify_content": null,
            "justify_items": null,
            "left": null,
            "margin": null,
            "max_height": null,
            "max_width": null,
            "min_height": null,
            "min_width": null,
            "object_fit": null,
            "object_position": null,
            "order": null,
            "overflow": null,
            "overflow_x": null,
            "overflow_y": null,
            "padding": null,
            "right": null,
            "top": null,
            "visibility": null,
            "width": null
          }
        },
        "c0f9d677882144a8914b7ae6ee0370d3": {
          "model_module": "@jupyter-widgets/controls",
          "model_name": "DescriptionStyleModel",
          "model_module_version": "1.5.0",
          "state": {
            "_model_module": "@jupyter-widgets/controls",
            "_model_module_version": "1.5.0",
            "_model_name": "DescriptionStyleModel",
            "_view_count": null,
            "_view_module": "@jupyter-widgets/base",
            "_view_module_version": "1.2.0",
            "_view_name": "StyleView",
            "description_width": ""
          }
        },
        "6bce751581284a9ba1420aa30155c20c": {
          "model_module": "@jupyter-widgets/controls",
          "model_name": "HBoxModel",
          "model_module_version": "1.5.0",
          "state": {
            "_dom_classes": [],
            "_model_module": "@jupyter-widgets/controls",
            "_model_module_version": "1.5.0",
            "_model_name": "HBoxModel",
            "_view_count": null,
            "_view_module": "@jupyter-widgets/controls",
            "_view_module_version": "1.5.0",
            "_view_name": "HBoxView",
            "box_style": "",
            "children": [
              "IPY_MODEL_ada6c1ffd8d0428e9f0c6a7bf36e91c9",
              "IPY_MODEL_68213fcf0b6a4561b755691536d0a610",
              "IPY_MODEL_bd6dc568f01b42d8be8bf935951bce96"
            ],
            "layout": "IPY_MODEL_a27bcefcf0234a6a9e04a32a8e1aee80"
          }
        },
        "ada6c1ffd8d0428e9f0c6a7bf36e91c9": {
          "model_module": "@jupyter-widgets/controls",
          "model_name": "HTMLModel",
          "model_module_version": "1.5.0",
          "state": {
            "_dom_classes": [],
            "_model_module": "@jupyter-widgets/controls",
            "_model_module_version": "1.5.0",
            "_model_name": "HTMLModel",
            "_view_count": null,
            "_view_module": "@jupyter-widgets/controls",
            "_view_module_version": "1.5.0",
            "_view_name": "HTMLView",
            "description": "",
            "description_tooltip": null,
            "layout": "IPY_MODEL_2e1b12180d6c4441af12f30c670d4bb3",
            "placeholder": "​",
            "style": "IPY_MODEL_138948f45cdd409d9260d3bd48f9a6ee",
            "value": "vocab.txt: 100%"
          }
        },
        "68213fcf0b6a4561b755691536d0a610": {
          "model_module": "@jupyter-widgets/controls",
          "model_name": "FloatProgressModel",
          "model_module_version": "1.5.0",
          "state": {
            "_dom_classes": [],
            "_model_module": "@jupyter-widgets/controls",
            "_model_module_version": "1.5.0",
            "_model_name": "FloatProgressModel",
            "_view_count": null,
            "_view_module": "@jupyter-widgets/controls",
            "_view_module_version": "1.5.0",
            "_view_name": "ProgressView",
            "bar_style": "success",
            "description": "",
            "description_tooltip": null,
            "layout": "IPY_MODEL_d7dea33dca4649d2907fe9d389013a04",
            "max": 231508,
            "min": 0,
            "orientation": "horizontal",
            "style": "IPY_MODEL_d6b6aac6c56c422ab030883a11fe833e",
            "value": 231508
          }
        },
        "bd6dc568f01b42d8be8bf935951bce96": {
          "model_module": "@jupyter-widgets/controls",
          "model_name": "HTMLModel",
          "model_module_version": "1.5.0",
          "state": {
            "_dom_classes": [],
            "_model_module": "@jupyter-widgets/controls",
            "_model_module_version": "1.5.0",
            "_model_name": "HTMLModel",
            "_view_count": null,
            "_view_module": "@jupyter-widgets/controls",
            "_view_module_version": "1.5.0",
            "_view_name": "HTMLView",
            "description": "",
            "description_tooltip": null,
            "layout": "IPY_MODEL_fe64b445cbff4974b0dd17ae85656cdf",
            "placeholder": "​",
            "style": "IPY_MODEL_4a0ed66fe628480497d7203dd6a7268b",
            "value": " 232k/232k [00:00&lt;00:00, 16.9MB/s]"
          }
        },
        "a27bcefcf0234a6a9e04a32a8e1aee80": {
          "model_module": "@jupyter-widgets/base",
          "model_name": "LayoutModel",
          "model_module_version": "1.2.0",
          "state": {
            "_model_module": "@jupyter-widgets/base",
            "_model_module_version": "1.2.0",
            "_model_name": "LayoutModel",
            "_view_count": null,
            "_view_module": "@jupyter-widgets/base",
            "_view_module_version": "1.2.0",
            "_view_name": "LayoutView",
            "align_content": null,
            "align_items": null,
            "align_self": null,
            "border": null,
            "bottom": null,
            "display": null,
            "flex": null,
            "flex_flow": null,
            "grid_area": null,
            "grid_auto_columns": null,
            "grid_auto_flow": null,
            "grid_auto_rows": null,
            "grid_column": null,
            "grid_gap": null,
            "grid_row": null,
            "grid_template_areas": null,
            "grid_template_columns": null,
            "grid_template_rows": null,
            "height": null,
            "justify_content": null,
            "justify_items": null,
            "left": null,
            "margin": null,
            "max_height": null,
            "max_width": null,
            "min_height": null,
            "min_width": null,
            "object_fit": null,
            "object_position": null,
            "order": null,
            "overflow": null,
            "overflow_x": null,
            "overflow_y": null,
            "padding": null,
            "right": null,
            "top": null,
            "visibility": null,
            "width": null
          }
        },
        "2e1b12180d6c4441af12f30c670d4bb3": {
          "model_module": "@jupyter-widgets/base",
          "model_name": "LayoutModel",
          "model_module_version": "1.2.0",
          "state": {
            "_model_module": "@jupyter-widgets/base",
            "_model_module_version": "1.2.0",
            "_model_name": "LayoutModel",
            "_view_count": null,
            "_view_module": "@jupyter-widgets/base",
            "_view_module_version": "1.2.0",
            "_view_name": "LayoutView",
            "align_content": null,
            "align_items": null,
            "align_self": null,
            "border": null,
            "bottom": null,
            "display": null,
            "flex": null,
            "flex_flow": null,
            "grid_area": null,
            "grid_auto_columns": null,
            "grid_auto_flow": null,
            "grid_auto_rows": null,
            "grid_column": null,
            "grid_gap": null,
            "grid_row": null,
            "grid_template_areas": null,
            "grid_template_columns": null,
            "grid_template_rows": null,
            "height": null,
            "justify_content": null,
            "justify_items": null,
            "left": null,
            "margin": null,
            "max_height": null,
            "max_width": null,
            "min_height": null,
            "min_width": null,
            "object_fit": null,
            "object_position": null,
            "order": null,
            "overflow": null,
            "overflow_x": null,
            "overflow_y": null,
            "padding": null,
            "right": null,
            "top": null,
            "visibility": null,
            "width": null
          }
        },
        "138948f45cdd409d9260d3bd48f9a6ee": {
          "model_module": "@jupyter-widgets/controls",
          "model_name": "DescriptionStyleModel",
          "model_module_version": "1.5.0",
          "state": {
            "_model_module": "@jupyter-widgets/controls",
            "_model_module_version": "1.5.0",
            "_model_name": "DescriptionStyleModel",
            "_view_count": null,
            "_view_module": "@jupyter-widgets/base",
            "_view_module_version": "1.2.0",
            "_view_name": "StyleView",
            "description_width": ""
          }
        },
        "d7dea33dca4649d2907fe9d389013a04": {
          "model_module": "@jupyter-widgets/base",
          "model_name": "LayoutModel",
          "model_module_version": "1.2.0",
          "state": {
            "_model_module": "@jupyter-widgets/base",
            "_model_module_version": "1.2.0",
            "_model_name": "LayoutModel",
            "_view_count": null,
            "_view_module": "@jupyter-widgets/base",
            "_view_module_version": "1.2.0",
            "_view_name": "LayoutView",
            "align_content": null,
            "align_items": null,
            "align_self": null,
            "border": null,
            "bottom": null,
            "display": null,
            "flex": null,
            "flex_flow": null,
            "grid_area": null,
            "grid_auto_columns": null,
            "grid_auto_flow": null,
            "grid_auto_rows": null,
            "grid_column": null,
            "grid_gap": null,
            "grid_row": null,
            "grid_template_areas": null,
            "grid_template_columns": null,
            "grid_template_rows": null,
            "height": null,
            "justify_content": null,
            "justify_items": null,
            "left": null,
            "margin": null,
            "max_height": null,
            "max_width": null,
            "min_height": null,
            "min_width": null,
            "object_fit": null,
            "object_position": null,
            "order": null,
            "overflow": null,
            "overflow_x": null,
            "overflow_y": null,
            "padding": null,
            "right": null,
            "top": null,
            "visibility": null,
            "width": null
          }
        },
        "d6b6aac6c56c422ab030883a11fe833e": {
          "model_module": "@jupyter-widgets/controls",
          "model_name": "ProgressStyleModel",
          "model_module_version": "1.5.0",
          "state": {
            "_model_module": "@jupyter-widgets/controls",
            "_model_module_version": "1.5.0",
            "_model_name": "ProgressStyleModel",
            "_view_count": null,
            "_view_module": "@jupyter-widgets/base",
            "_view_module_version": "1.2.0",
            "_view_name": "StyleView",
            "bar_color": null,
            "description_width": ""
          }
        },
        "fe64b445cbff4974b0dd17ae85656cdf": {
          "model_module": "@jupyter-widgets/base",
          "model_name": "LayoutModel",
          "model_module_version": "1.2.0",
          "state": {
            "_model_module": "@jupyter-widgets/base",
            "_model_module_version": "1.2.0",
            "_model_name": "LayoutModel",
            "_view_count": null,
            "_view_module": "@jupyter-widgets/base",
            "_view_module_version": "1.2.0",
            "_view_name": "LayoutView",
            "align_content": null,
            "align_items": null,
            "align_self": null,
            "border": null,
            "bottom": null,
            "display": null,
            "flex": null,
            "flex_flow": null,
            "grid_area": null,
            "grid_auto_columns": null,
            "grid_auto_flow": null,
            "grid_auto_rows": null,
            "grid_column": null,
            "grid_gap": null,
            "grid_row": null,
            "grid_template_areas": null,
            "grid_template_columns": null,
            "grid_template_rows": null,
            "height": null,
            "justify_content": null,
            "justify_items": null,
            "left": null,
            "margin": null,
            "max_height": null,
            "max_width": null,
            "min_height": null,
            "min_width": null,
            "object_fit": null,
            "object_position": null,
            "order": null,
            "overflow": null,
            "overflow_x": null,
            "overflow_y": null,
            "padding": null,
            "right": null,
            "top": null,
            "visibility": null,
            "width": null
          }
        },
        "4a0ed66fe628480497d7203dd6a7268b": {
          "model_module": "@jupyter-widgets/controls",
          "model_name": "DescriptionStyleModel",
          "model_module_version": "1.5.0",
          "state": {
            "_model_module": "@jupyter-widgets/controls",
            "_model_module_version": "1.5.0",
            "_model_name": "DescriptionStyleModel",
            "_view_count": null,
            "_view_module": "@jupyter-widgets/base",
            "_view_module_version": "1.2.0",
            "_view_name": "StyleView",
            "description_width": ""
          }
        },
        "ee327dd7aede4e9b9092b5a60ecbf4da": {
          "model_module": "@jupyter-widgets/controls",
          "model_name": "HBoxModel",
          "model_module_version": "1.5.0",
          "state": {
            "_dom_classes": [],
            "_model_module": "@jupyter-widgets/controls",
            "_model_module_version": "1.5.0",
            "_model_name": "HBoxModel",
            "_view_count": null,
            "_view_module": "@jupyter-widgets/controls",
            "_view_module_version": "1.5.0",
            "_view_name": "HBoxView",
            "box_style": "",
            "children": [
              "IPY_MODEL_e4d88372bc3242a58be4d68452c07124",
              "IPY_MODEL_cc48deb4cfba42e19b8688e2235f84c3",
              "IPY_MODEL_e224fe51171c47fbb842477fe80b0b05"
            ],
            "layout": "IPY_MODEL_717af470482b4734b8315c5b754b5907"
          }
        },
        "e4d88372bc3242a58be4d68452c07124": {
          "model_module": "@jupyter-widgets/controls",
          "model_name": "HTMLModel",
          "model_module_version": "1.5.0",
          "state": {
            "_dom_classes": [],
            "_model_module": "@jupyter-widgets/controls",
            "_model_module_version": "1.5.0",
            "_model_name": "HTMLModel",
            "_view_count": null,
            "_view_module": "@jupyter-widgets/controls",
            "_view_module_version": "1.5.0",
            "_view_name": "HTMLView",
            "description": "",
            "description_tooltip": null,
            "layout": "IPY_MODEL_af4762da43824015bd7399a3270a3f3e",
            "placeholder": "​",
            "style": "IPY_MODEL_4cd4dccb3d5e4a19a71a963bc6d6f94d",
            "value": "tokenizer.json: 100%"
          }
        },
        "cc48deb4cfba42e19b8688e2235f84c3": {
          "model_module": "@jupyter-widgets/controls",
          "model_name": "FloatProgressModel",
          "model_module_version": "1.5.0",
          "state": {
            "_dom_classes": [],
            "_model_module": "@jupyter-widgets/controls",
            "_model_module_version": "1.5.0",
            "_model_name": "FloatProgressModel",
            "_view_count": null,
            "_view_module": "@jupyter-widgets/controls",
            "_view_module_version": "1.5.0",
            "_view_name": "ProgressView",
            "bar_style": "success",
            "description": "",
            "description_tooltip": null,
            "layout": "IPY_MODEL_126d9c2567824e1aa497435645e837fe",
            "max": 711396,
            "min": 0,
            "orientation": "horizontal",
            "style": "IPY_MODEL_337917d57a194f0bbf7bf1b4010c43a0",
            "value": 711396
          }
        },
        "e224fe51171c47fbb842477fe80b0b05": {
          "model_module": "@jupyter-widgets/controls",
          "model_name": "HTMLModel",
          "model_module_version": "1.5.0",
          "state": {
            "_dom_classes": [],
            "_model_module": "@jupyter-widgets/controls",
            "_model_module_version": "1.5.0",
            "_model_name": "HTMLModel",
            "_view_count": null,
            "_view_module": "@jupyter-widgets/controls",
            "_view_module_version": "1.5.0",
            "_view_name": "HTMLView",
            "description": "",
            "description_tooltip": null,
            "layout": "IPY_MODEL_43459f8a59d945c49534f911def84790",
            "placeholder": "​",
            "style": "IPY_MODEL_6ab5316997ee4282903f9d522853ea55",
            "value": " 711k/711k [00:00&lt;00:00, 956kB/s]"
          }
        },
        "717af470482b4734b8315c5b754b5907": {
          "model_module": "@jupyter-widgets/base",
          "model_name": "LayoutModel",
          "model_module_version": "1.2.0",
          "state": {
            "_model_module": "@jupyter-widgets/base",
            "_model_module_version": "1.2.0",
            "_model_name": "LayoutModel",
            "_view_count": null,
            "_view_module": "@jupyter-widgets/base",
            "_view_module_version": "1.2.0",
            "_view_name": "LayoutView",
            "align_content": null,
            "align_items": null,
            "align_self": null,
            "border": null,
            "bottom": null,
            "display": null,
            "flex": null,
            "flex_flow": null,
            "grid_area": null,
            "grid_auto_columns": null,
            "grid_auto_flow": null,
            "grid_auto_rows": null,
            "grid_column": null,
            "grid_gap": null,
            "grid_row": null,
            "grid_template_areas": null,
            "grid_template_columns": null,
            "grid_template_rows": null,
            "height": null,
            "justify_content": null,
            "justify_items": null,
            "left": null,
            "margin": null,
            "max_height": null,
            "max_width": null,
            "min_height": null,
            "min_width": null,
            "object_fit": null,
            "object_position": null,
            "order": null,
            "overflow": null,
            "overflow_x": null,
            "overflow_y": null,
            "padding": null,
            "right": null,
            "top": null,
            "visibility": null,
            "width": null
          }
        },
        "af4762da43824015bd7399a3270a3f3e": {
          "model_module": "@jupyter-widgets/base",
          "model_name": "LayoutModel",
          "model_module_version": "1.2.0",
          "state": {
            "_model_module": "@jupyter-widgets/base",
            "_model_module_version": "1.2.0",
            "_model_name": "LayoutModel",
            "_view_count": null,
            "_view_module": "@jupyter-widgets/base",
            "_view_module_version": "1.2.0",
            "_view_name": "LayoutView",
            "align_content": null,
            "align_items": null,
            "align_self": null,
            "border": null,
            "bottom": null,
            "display": null,
            "flex": null,
            "flex_flow": null,
            "grid_area": null,
            "grid_auto_columns": null,
            "grid_auto_flow": null,
            "grid_auto_rows": null,
            "grid_column": null,
            "grid_gap": null,
            "grid_row": null,
            "grid_template_areas": null,
            "grid_template_columns": null,
            "grid_template_rows": null,
            "height": null,
            "justify_content": null,
            "justify_items": null,
            "left": null,
            "margin": null,
            "max_height": null,
            "max_width": null,
            "min_height": null,
            "min_width": null,
            "object_fit": null,
            "object_position": null,
            "order": null,
            "overflow": null,
            "overflow_x": null,
            "overflow_y": null,
            "padding": null,
            "right": null,
            "top": null,
            "visibility": null,
            "width": null
          }
        },
        "4cd4dccb3d5e4a19a71a963bc6d6f94d": {
          "model_module": "@jupyter-widgets/controls",
          "model_name": "DescriptionStyleModel",
          "model_module_version": "1.5.0",
          "state": {
            "_model_module": "@jupyter-widgets/controls",
            "_model_module_version": "1.5.0",
            "_model_name": "DescriptionStyleModel",
            "_view_count": null,
            "_view_module": "@jupyter-widgets/base",
            "_view_module_version": "1.2.0",
            "_view_name": "StyleView",
            "description_width": ""
          }
        },
        "126d9c2567824e1aa497435645e837fe": {
          "model_module": "@jupyter-widgets/base",
          "model_name": "LayoutModel",
          "model_module_version": "1.2.0",
          "state": {
            "_model_module": "@jupyter-widgets/base",
            "_model_module_version": "1.2.0",
            "_model_name": "LayoutModel",
            "_view_count": null,
            "_view_module": "@jupyter-widgets/base",
            "_view_module_version": "1.2.0",
            "_view_name": "LayoutView",
            "align_content": null,
            "align_items": null,
            "align_self": null,
            "border": null,
            "bottom": null,
            "display": null,
            "flex": null,
            "flex_flow": null,
            "grid_area": null,
            "grid_auto_columns": null,
            "grid_auto_flow": null,
            "grid_auto_rows": null,
            "grid_column": null,
            "grid_gap": null,
            "grid_row": null,
            "grid_template_areas": null,
            "grid_template_columns": null,
            "grid_template_rows": null,
            "height": null,
            "justify_content": null,
            "justify_items": null,
            "left": null,
            "margin": null,
            "max_height": null,
            "max_width": null,
            "min_height": null,
            "min_width": null,
            "object_fit": null,
            "object_position": null,
            "order": null,
            "overflow": null,
            "overflow_x": null,
            "overflow_y": null,
            "padding": null,
            "right": null,
            "top": null,
            "visibility": null,
            "width": null
          }
        },
        "337917d57a194f0bbf7bf1b4010c43a0": {
          "model_module": "@jupyter-widgets/controls",
          "model_name": "ProgressStyleModel",
          "model_module_version": "1.5.0",
          "state": {
            "_model_module": "@jupyter-widgets/controls",
            "_model_module_version": "1.5.0",
            "_model_name": "ProgressStyleModel",
            "_view_count": null,
            "_view_module": "@jupyter-widgets/base",
            "_view_module_version": "1.2.0",
            "_view_name": "StyleView",
            "bar_color": null,
            "description_width": ""
          }
        },
        "43459f8a59d945c49534f911def84790": {
          "model_module": "@jupyter-widgets/base",
          "model_name": "LayoutModel",
          "model_module_version": "1.2.0",
          "state": {
            "_model_module": "@jupyter-widgets/base",
            "_model_module_version": "1.2.0",
            "_model_name": "LayoutModel",
            "_view_count": null,
            "_view_module": "@jupyter-widgets/base",
            "_view_module_version": "1.2.0",
            "_view_name": "LayoutView",
            "align_content": null,
            "align_items": null,
            "align_self": null,
            "border": null,
            "bottom": null,
            "display": null,
            "flex": null,
            "flex_flow": null,
            "grid_area": null,
            "grid_auto_columns": null,
            "grid_auto_flow": null,
            "grid_auto_rows": null,
            "grid_column": null,
            "grid_gap": null,
            "grid_row": null,
            "grid_template_areas": null,
            "grid_template_columns": null,
            "grid_template_rows": null,
            "height": null,
            "justify_content": null,
            "justify_items": null,
            "left": null,
            "margin": null,
            "max_height": null,
            "max_width": null,
            "min_height": null,
            "min_width": null,
            "object_fit": null,
            "object_position": null,
            "order": null,
            "overflow": null,
            "overflow_x": null,
            "overflow_y": null,
            "padding": null,
            "right": null,
            "top": null,
            "visibility": null,
            "width": null
          }
        },
        "6ab5316997ee4282903f9d522853ea55": {
          "model_module": "@jupyter-widgets/controls",
          "model_name": "DescriptionStyleModel",
          "model_module_version": "1.5.0",
          "state": {
            "_model_module": "@jupyter-widgets/controls",
            "_model_module_version": "1.5.0",
            "_model_name": "DescriptionStyleModel",
            "_view_count": null,
            "_view_module": "@jupyter-widgets/base",
            "_view_module_version": "1.2.0",
            "_view_name": "StyleView",
            "description_width": ""
          }
        },
        "26ce0ed67e70430d9c89213bf07992f3": {
          "model_module": "@jupyter-widgets/controls",
          "model_name": "HBoxModel",
          "model_module_version": "1.5.0",
          "state": {
            "_dom_classes": [],
            "_model_module": "@jupyter-widgets/controls",
            "_model_module_version": "1.5.0",
            "_model_name": "HBoxModel",
            "_view_count": null,
            "_view_module": "@jupyter-widgets/controls",
            "_view_module_version": "1.5.0",
            "_view_name": "HBoxView",
            "box_style": "",
            "children": [
              "IPY_MODEL_c86205728c3e4c96b48de4d38b39542a",
              "IPY_MODEL_1961303cddfa4d6fa38250921c5769bd",
              "IPY_MODEL_04d85eaf2bc14e8a83dfb241687fedf5"
            ],
            "layout": "IPY_MODEL_9d14f0a67d9a4f6ea0b76b3aa4bb7a62"
          }
        },
        "c86205728c3e4c96b48de4d38b39542a": {
          "model_module": "@jupyter-widgets/controls",
          "model_name": "HTMLModel",
          "model_module_version": "1.5.0",
          "state": {
            "_dom_classes": [],
            "_model_module": "@jupyter-widgets/controls",
            "_model_module_version": "1.5.0",
            "_model_name": "HTMLModel",
            "_view_count": null,
            "_view_module": "@jupyter-widgets/controls",
            "_view_module_version": "1.5.0",
            "_view_name": "HTMLView",
            "description": "",
            "description_tooltip": null,
            "layout": "IPY_MODEL_a5757e8518274a28a628be06dcd7bc3b",
            "placeholder": "​",
            "style": "IPY_MODEL_6449d3788ed149128a73155ab5fe6df0",
            "value": "special_tokens_map.json: 100%"
          }
        },
        "1961303cddfa4d6fa38250921c5769bd": {
          "model_module": "@jupyter-widgets/controls",
          "model_name": "FloatProgressModel",
          "model_module_version": "1.5.0",
          "state": {
            "_dom_classes": [],
            "_model_module": "@jupyter-widgets/controls",
            "_model_module_version": "1.5.0",
            "_model_name": "FloatProgressModel",
            "_view_count": null,
            "_view_module": "@jupyter-widgets/controls",
            "_view_module_version": "1.5.0",
            "_view_name": "ProgressView",
            "bar_style": "success",
            "description": "",
            "description_tooltip": null,
            "layout": "IPY_MODEL_db6d8d4fd05b466d9f6998ead12cf15f",
            "max": 125,
            "min": 0,
            "orientation": "horizontal",
            "style": "IPY_MODEL_e032e3ba87ab4e489609efe954827c86",
            "value": 125
          }
        },
        "04d85eaf2bc14e8a83dfb241687fedf5": {
          "model_module": "@jupyter-widgets/controls",
          "model_name": "HTMLModel",
          "model_module_version": "1.5.0",
          "state": {
            "_dom_classes": [],
            "_model_module": "@jupyter-widgets/controls",
            "_model_module_version": "1.5.0",
            "_model_name": "HTMLModel",
            "_view_count": null,
            "_view_module": "@jupyter-widgets/controls",
            "_view_module_version": "1.5.0",
            "_view_name": "HTMLView",
            "description": "",
            "description_tooltip": null,
            "layout": "IPY_MODEL_6f00856207e84169b2f67a293becd028",
            "placeholder": "​",
            "style": "IPY_MODEL_b39971d25b3146a0b4719ccfc0fb6af8",
            "value": " 125/125 [00:00&lt;00:00, 10.1kB/s]"
          }
        },
        "9d14f0a67d9a4f6ea0b76b3aa4bb7a62": {
          "model_module": "@jupyter-widgets/base",
          "model_name": "LayoutModel",
          "model_module_version": "1.2.0",
          "state": {
            "_model_module": "@jupyter-widgets/base",
            "_model_module_version": "1.2.0",
            "_model_name": "LayoutModel",
            "_view_count": null,
            "_view_module": "@jupyter-widgets/base",
            "_view_module_version": "1.2.0",
            "_view_name": "LayoutView",
            "align_content": null,
            "align_items": null,
            "align_self": null,
            "border": null,
            "bottom": null,
            "display": null,
            "flex": null,
            "flex_flow": null,
            "grid_area": null,
            "grid_auto_columns": null,
            "grid_auto_flow": null,
            "grid_auto_rows": null,
            "grid_column": null,
            "grid_gap": null,
            "grid_row": null,
            "grid_template_areas": null,
            "grid_template_columns": null,
            "grid_template_rows": null,
            "height": null,
            "justify_content": null,
            "justify_items": null,
            "left": null,
            "margin": null,
            "max_height": null,
            "max_width": null,
            "min_height": null,
            "min_width": null,
            "object_fit": null,
            "object_position": null,
            "order": null,
            "overflow": null,
            "overflow_x": null,
            "overflow_y": null,
            "padding": null,
            "right": null,
            "top": null,
            "visibility": null,
            "width": null
          }
        },
        "a5757e8518274a28a628be06dcd7bc3b": {
          "model_module": "@jupyter-widgets/base",
          "model_name": "LayoutModel",
          "model_module_version": "1.2.0",
          "state": {
            "_model_module": "@jupyter-widgets/base",
            "_model_module_version": "1.2.0",
            "_model_name": "LayoutModel",
            "_view_count": null,
            "_view_module": "@jupyter-widgets/base",
            "_view_module_version": "1.2.0",
            "_view_name": "LayoutView",
            "align_content": null,
            "align_items": null,
            "align_self": null,
            "border": null,
            "bottom": null,
            "display": null,
            "flex": null,
            "flex_flow": null,
            "grid_area": null,
            "grid_auto_columns": null,
            "grid_auto_flow": null,
            "grid_auto_rows": null,
            "grid_column": null,
            "grid_gap": null,
            "grid_row": null,
            "grid_template_areas": null,
            "grid_template_columns": null,
            "grid_template_rows": null,
            "height": null,
            "justify_content": null,
            "justify_items": null,
            "left": null,
            "margin": null,
            "max_height": null,
            "max_width": null,
            "min_height": null,
            "min_width": null,
            "object_fit": null,
            "object_position": null,
            "order": null,
            "overflow": null,
            "overflow_x": null,
            "overflow_y": null,
            "padding": null,
            "right": null,
            "top": null,
            "visibility": null,
            "width": null
          }
        },
        "6449d3788ed149128a73155ab5fe6df0": {
          "model_module": "@jupyter-widgets/controls",
          "model_name": "DescriptionStyleModel",
          "model_module_version": "1.5.0",
          "state": {
            "_model_module": "@jupyter-widgets/controls",
            "_model_module_version": "1.5.0",
            "_model_name": "DescriptionStyleModel",
            "_view_count": null,
            "_view_module": "@jupyter-widgets/base",
            "_view_module_version": "1.2.0",
            "_view_name": "StyleView",
            "description_width": ""
          }
        },
        "db6d8d4fd05b466d9f6998ead12cf15f": {
          "model_module": "@jupyter-widgets/base",
          "model_name": "LayoutModel",
          "model_module_version": "1.2.0",
          "state": {
            "_model_module": "@jupyter-widgets/base",
            "_model_module_version": "1.2.0",
            "_model_name": "LayoutModel",
            "_view_count": null,
            "_view_module": "@jupyter-widgets/base",
            "_view_module_version": "1.2.0",
            "_view_name": "LayoutView",
            "align_content": null,
            "align_items": null,
            "align_self": null,
            "border": null,
            "bottom": null,
            "display": null,
            "flex": null,
            "flex_flow": null,
            "grid_area": null,
            "grid_auto_columns": null,
            "grid_auto_flow": null,
            "grid_auto_rows": null,
            "grid_column": null,
            "grid_gap": null,
            "grid_row": null,
            "grid_template_areas": null,
            "grid_template_columns": null,
            "grid_template_rows": null,
            "height": null,
            "justify_content": null,
            "justify_items": null,
            "left": null,
            "margin": null,
            "max_height": null,
            "max_width": null,
            "min_height": null,
            "min_width": null,
            "object_fit": null,
            "object_position": null,
            "order": null,
            "overflow": null,
            "overflow_x": null,
            "overflow_y": null,
            "padding": null,
            "right": null,
            "top": null,
            "visibility": null,
            "width": null
          }
        },
        "e032e3ba87ab4e489609efe954827c86": {
          "model_module": "@jupyter-widgets/controls",
          "model_name": "ProgressStyleModel",
          "model_module_version": "1.5.0",
          "state": {
            "_model_module": "@jupyter-widgets/controls",
            "_model_module_version": "1.5.0",
            "_model_name": "ProgressStyleModel",
            "_view_count": null,
            "_view_module": "@jupyter-widgets/base",
            "_view_module_version": "1.2.0",
            "_view_name": "StyleView",
            "bar_color": null,
            "description_width": ""
          }
        },
        "6f00856207e84169b2f67a293becd028": {
          "model_module": "@jupyter-widgets/base",
          "model_name": "LayoutModel",
          "model_module_version": "1.2.0",
          "state": {
            "_model_module": "@jupyter-widgets/base",
            "_model_module_version": "1.2.0",
            "_model_name": "LayoutModel",
            "_view_count": null,
            "_view_module": "@jupyter-widgets/base",
            "_view_module_version": "1.2.0",
            "_view_name": "LayoutView",
            "align_content": null,
            "align_items": null,
            "align_self": null,
            "border": null,
            "bottom": null,
            "display": null,
            "flex": null,
            "flex_flow": null,
            "grid_area": null,
            "grid_auto_columns": null,
            "grid_auto_flow": null,
            "grid_auto_rows": null,
            "grid_column": null,
            "grid_gap": null,
            "grid_row": null,
            "grid_template_areas": null,
            "grid_template_columns": null,
            "grid_template_rows": null,
            "height": null,
            "justify_content": null,
            "justify_items": null,
            "left": null,
            "margin": null,
            "max_height": null,
            "max_width": null,
            "min_height": null,
            "min_width": null,
            "object_fit": null,
            "object_position": null,
            "order": null,
            "overflow": null,
            "overflow_x": null,
            "overflow_y": null,
            "padding": null,
            "right": null,
            "top": null,
            "visibility": null,
            "width": null
          }
        },
        "b39971d25b3146a0b4719ccfc0fb6af8": {
          "model_module": "@jupyter-widgets/controls",
          "model_name": "DescriptionStyleModel",
          "model_module_version": "1.5.0",
          "state": {
            "_model_module": "@jupyter-widgets/controls",
            "_model_module_version": "1.5.0",
            "_model_name": "DescriptionStyleModel",
            "_view_count": null,
            "_view_module": "@jupyter-widgets/base",
            "_view_module_version": "1.2.0",
            "_view_name": "StyleView",
            "description_width": ""
          }
        },
        "daafede78e8c42fa8b58783ea113c173": {
          "model_module": "@jupyter-widgets/controls",
          "model_name": "HBoxModel",
          "model_module_version": "1.5.0",
          "state": {
            "_dom_classes": [],
            "_model_module": "@jupyter-widgets/controls",
            "_model_module_version": "1.5.0",
            "_model_name": "HBoxModel",
            "_view_count": null,
            "_view_module": "@jupyter-widgets/controls",
            "_view_module_version": "1.5.0",
            "_view_name": "HBoxView",
            "box_style": "",
            "children": [
              "IPY_MODEL_392f5d3aa32840fcb6275270494510b5",
              "IPY_MODEL_0af5bcd7c3f84a0e9ff4ce6ca2b00dcd",
              "IPY_MODEL_d7a22467b55e448fb8b06d4527de0e97"
            ],
            "layout": "IPY_MODEL_015f15161099479499f5d9beecb897a1"
          }
        },
        "392f5d3aa32840fcb6275270494510b5": {
          "model_module": "@jupyter-widgets/controls",
          "model_name": "HTMLModel",
          "model_module_version": "1.5.0",
          "state": {
            "_dom_classes": [],
            "_model_module": "@jupyter-widgets/controls",
            "_model_module_version": "1.5.0",
            "_model_name": "HTMLModel",
            "_view_count": null,
            "_view_module": "@jupyter-widgets/controls",
            "_view_module_version": "1.5.0",
            "_view_name": "HTMLView",
            "description": "",
            "description_tooltip": null,
            "layout": "IPY_MODEL_46f2ed43c9a84c638358397b6060e4fe",
            "placeholder": "​",
            "style": "IPY_MODEL_13b47ba9fc604c22911669775f536116",
            "value": "1_Pooling/config.json: 100%"
          }
        },
        "0af5bcd7c3f84a0e9ff4ce6ca2b00dcd": {
          "model_module": "@jupyter-widgets/controls",
          "model_name": "FloatProgressModel",
          "model_module_version": "1.5.0",
          "state": {
            "_dom_classes": [],
            "_model_module": "@jupyter-widgets/controls",
            "_model_module_version": "1.5.0",
            "_model_name": "FloatProgressModel",
            "_view_count": null,
            "_view_module": "@jupyter-widgets/controls",
            "_view_module_version": "1.5.0",
            "_view_name": "ProgressView",
            "bar_style": "success",
            "description": "",
            "description_tooltip": null,
            "layout": "IPY_MODEL_d0460da60f0041b3b3a05746a8b840d3",
            "max": 190,
            "min": 0,
            "orientation": "horizontal",
            "style": "IPY_MODEL_c42fc9f10c664cafabfd7ad6770b5b75",
            "value": 190
          }
        },
        "d7a22467b55e448fb8b06d4527de0e97": {
          "model_module": "@jupyter-widgets/controls",
          "model_name": "HTMLModel",
          "model_module_version": "1.5.0",
          "state": {
            "_dom_classes": [],
            "_model_module": "@jupyter-widgets/controls",
            "_model_module_version": "1.5.0",
            "_model_name": "HTMLModel",
            "_view_count": null,
            "_view_module": "@jupyter-widgets/controls",
            "_view_module_version": "1.5.0",
            "_view_name": "HTMLView",
            "description": "",
            "description_tooltip": null,
            "layout": "IPY_MODEL_9c9a0bb6464b430a8ec01c0c097ba23b",
            "placeholder": "​",
            "style": "IPY_MODEL_bae02c1cc6b14328b700a97738e4a13b",
            "value": " 190/190 [00:00&lt;00:00, 16.1kB/s]"
          }
        },
        "015f15161099479499f5d9beecb897a1": {
          "model_module": "@jupyter-widgets/base",
          "model_name": "LayoutModel",
          "model_module_version": "1.2.0",
          "state": {
            "_model_module": "@jupyter-widgets/base",
            "_model_module_version": "1.2.0",
            "_model_name": "LayoutModel",
            "_view_count": null,
            "_view_module": "@jupyter-widgets/base",
            "_view_module_version": "1.2.0",
            "_view_name": "LayoutView",
            "align_content": null,
            "align_items": null,
            "align_self": null,
            "border": null,
            "bottom": null,
            "display": null,
            "flex": null,
            "flex_flow": null,
            "grid_area": null,
            "grid_auto_columns": null,
            "grid_auto_flow": null,
            "grid_auto_rows": null,
            "grid_column": null,
            "grid_gap": null,
            "grid_row": null,
            "grid_template_areas": null,
            "grid_template_columns": null,
            "grid_template_rows": null,
            "height": null,
            "justify_content": null,
            "justify_items": null,
            "left": null,
            "margin": null,
            "max_height": null,
            "max_width": null,
            "min_height": null,
            "min_width": null,
            "object_fit": null,
            "object_position": null,
            "order": null,
            "overflow": null,
            "overflow_x": null,
            "overflow_y": null,
            "padding": null,
            "right": null,
            "top": null,
            "visibility": null,
            "width": null
          }
        },
        "46f2ed43c9a84c638358397b6060e4fe": {
          "model_module": "@jupyter-widgets/base",
          "model_name": "LayoutModel",
          "model_module_version": "1.2.0",
          "state": {
            "_model_module": "@jupyter-widgets/base",
            "_model_module_version": "1.2.0",
            "_model_name": "LayoutModel",
            "_view_count": null,
            "_view_module": "@jupyter-widgets/base",
            "_view_module_version": "1.2.0",
            "_view_name": "LayoutView",
            "align_content": null,
            "align_items": null,
            "align_self": null,
            "border": null,
            "bottom": null,
            "display": null,
            "flex": null,
            "flex_flow": null,
            "grid_area": null,
            "grid_auto_columns": null,
            "grid_auto_flow": null,
            "grid_auto_rows": null,
            "grid_column": null,
            "grid_gap": null,
            "grid_row": null,
            "grid_template_areas": null,
            "grid_template_columns": null,
            "grid_template_rows": null,
            "height": null,
            "justify_content": null,
            "justify_items": null,
            "left": null,
            "margin": null,
            "max_height": null,
            "max_width": null,
            "min_height": null,
            "min_width": null,
            "object_fit": null,
            "object_position": null,
            "order": null,
            "overflow": null,
            "overflow_x": null,
            "overflow_y": null,
            "padding": null,
            "right": null,
            "top": null,
            "visibility": null,
            "width": null
          }
        },
        "13b47ba9fc604c22911669775f536116": {
          "model_module": "@jupyter-widgets/controls",
          "model_name": "DescriptionStyleModel",
          "model_module_version": "1.5.0",
          "state": {
            "_model_module": "@jupyter-widgets/controls",
            "_model_module_version": "1.5.0",
            "_model_name": "DescriptionStyleModel",
            "_view_count": null,
            "_view_module": "@jupyter-widgets/base",
            "_view_module_version": "1.2.0",
            "_view_name": "StyleView",
            "description_width": ""
          }
        },
        "d0460da60f0041b3b3a05746a8b840d3": {
          "model_module": "@jupyter-widgets/base",
          "model_name": "LayoutModel",
          "model_module_version": "1.2.0",
          "state": {
            "_model_module": "@jupyter-widgets/base",
            "_model_module_version": "1.2.0",
            "_model_name": "LayoutModel",
            "_view_count": null,
            "_view_module": "@jupyter-widgets/base",
            "_view_module_version": "1.2.0",
            "_view_name": "LayoutView",
            "align_content": null,
            "align_items": null,
            "align_self": null,
            "border": null,
            "bottom": null,
            "display": null,
            "flex": null,
            "flex_flow": null,
            "grid_area": null,
            "grid_auto_columns": null,
            "grid_auto_flow": null,
            "grid_auto_rows": null,
            "grid_column": null,
            "grid_gap": null,
            "grid_row": null,
            "grid_template_areas": null,
            "grid_template_columns": null,
            "grid_template_rows": null,
            "height": null,
            "justify_content": null,
            "justify_items": null,
            "left": null,
            "margin": null,
            "max_height": null,
            "max_width": null,
            "min_height": null,
            "min_width": null,
            "object_fit": null,
            "object_position": null,
            "order": null,
            "overflow": null,
            "overflow_x": null,
            "overflow_y": null,
            "padding": null,
            "right": null,
            "top": null,
            "visibility": null,
            "width": null
          }
        },
        "c42fc9f10c664cafabfd7ad6770b5b75": {
          "model_module": "@jupyter-widgets/controls",
          "model_name": "ProgressStyleModel",
          "model_module_version": "1.5.0",
          "state": {
            "_model_module": "@jupyter-widgets/controls",
            "_model_module_version": "1.5.0",
            "_model_name": "ProgressStyleModel",
            "_view_count": null,
            "_view_module": "@jupyter-widgets/base",
            "_view_module_version": "1.2.0",
            "_view_name": "StyleView",
            "bar_color": null,
            "description_width": ""
          }
        },
        "9c9a0bb6464b430a8ec01c0c097ba23b": {
          "model_module": "@jupyter-widgets/base",
          "model_name": "LayoutModel",
          "model_module_version": "1.2.0",
          "state": {
            "_model_module": "@jupyter-widgets/base",
            "_model_module_version": "1.2.0",
            "_model_name": "LayoutModel",
            "_view_count": null,
            "_view_module": "@jupyter-widgets/base",
            "_view_module_version": "1.2.0",
            "_view_name": "LayoutView",
            "align_content": null,
            "align_items": null,
            "align_self": null,
            "border": null,
            "bottom": null,
            "display": null,
            "flex": null,
            "flex_flow": null,
            "grid_area": null,
            "grid_auto_columns": null,
            "grid_auto_flow": null,
            "grid_auto_rows": null,
            "grid_column": null,
            "grid_gap": null,
            "grid_row": null,
            "grid_template_areas": null,
            "grid_template_columns": null,
            "grid_template_rows": null,
            "height": null,
            "justify_content": null,
            "justify_items": null,
            "left": null,
            "margin": null,
            "max_height": null,
            "max_width": null,
            "min_height": null,
            "min_width": null,
            "object_fit": null,
            "object_position": null,
            "order": null,
            "overflow": null,
            "overflow_x": null,
            "overflow_y": null,
            "padding": null,
            "right": null,
            "top": null,
            "visibility": null,
            "width": null
          }
        },
        "bae02c1cc6b14328b700a97738e4a13b": {
          "model_module": "@jupyter-widgets/controls",
          "model_name": "DescriptionStyleModel",
          "model_module_version": "1.5.0",
          "state": {
            "_model_module": "@jupyter-widgets/controls",
            "_model_module_version": "1.5.0",
            "_model_name": "DescriptionStyleModel",
            "_view_count": null,
            "_view_module": "@jupyter-widgets/base",
            "_view_module_version": "1.2.0",
            "_view_name": "StyleView",
            "description_width": ""
          }
        },
        "f9af9a6cf6b34397a0dfa5fd50931395": {
          "model_module": "@jupyter-widgets/controls",
          "model_name": "HBoxModel",
          "model_module_version": "1.5.0",
          "state": {
            "_dom_classes": [],
            "_model_module": "@jupyter-widgets/controls",
            "_model_module_version": "1.5.0",
            "_model_name": "HBoxModel",
            "_view_count": null,
            "_view_module": "@jupyter-widgets/controls",
            "_view_module_version": "1.5.0",
            "_view_name": "HBoxView",
            "box_style": "",
            "children": [
              "IPY_MODEL_3aba645451fd4dad9286008a1f0b7646",
              "IPY_MODEL_65b797010791412bb6d2cb364d54f1f2",
              "IPY_MODEL_ec48df16fc0d44249f40b9b58330034e"
            ],
            "layout": "IPY_MODEL_41ca5ccbdc464d36b12a8d39b2c3c409"
          }
        },
        "3aba645451fd4dad9286008a1f0b7646": {
          "model_module": "@jupyter-widgets/controls",
          "model_name": "HTMLModel",
          "model_module_version": "1.5.0",
          "state": {
            "_dom_classes": [],
            "_model_module": "@jupyter-widgets/controls",
            "_model_module_version": "1.5.0",
            "_model_name": "HTMLModel",
            "_view_count": null,
            "_view_module": "@jupyter-widgets/controls",
            "_view_module_version": "1.5.0",
            "_view_name": "HTMLView",
            "description": "",
            "description_tooltip": null,
            "layout": "IPY_MODEL_d90f7c15f36e4a2191b841809e71ee06",
            "placeholder": "​",
            "style": "IPY_MODEL_d946e6dec62b4426bd481d03ff47799b",
            "value": "Computing widget examples:   0%"
          }
        },
        "65b797010791412bb6d2cb364d54f1f2": {
          "model_module": "@jupyter-widgets/controls",
          "model_name": "FloatProgressModel",
          "model_module_version": "1.5.0",
          "state": {
            "_dom_classes": [],
            "_model_module": "@jupyter-widgets/controls",
            "_model_module_version": "1.5.0",
            "_model_name": "FloatProgressModel",
            "_view_count": null,
            "_view_module": "@jupyter-widgets/controls",
            "_view_module_version": "1.5.0",
            "_view_name": "ProgressView",
            "bar_style": "",
            "description": "",
            "description_tooltip": null,
            "layout": "IPY_MODEL_40c7b7a285394432906e234cf856db57",
            "max": 1,
            "min": 0,
            "orientation": "horizontal",
            "style": "IPY_MODEL_854743f4fb69413c82e65da9c5eec433",
            "value": 1
          }
        },
        "ec48df16fc0d44249f40b9b58330034e": {
          "model_module": "@jupyter-widgets/controls",
          "model_name": "HTMLModel",
          "model_module_version": "1.5.0",
          "state": {
            "_dom_classes": [],
            "_model_module": "@jupyter-widgets/controls",
            "_model_module_version": "1.5.0",
            "_model_name": "HTMLModel",
            "_view_count": null,
            "_view_module": "@jupyter-widgets/controls",
            "_view_module_version": "1.5.0",
            "_view_name": "HTMLView",
            "description": "",
            "description_tooltip": null,
            "layout": "IPY_MODEL_3f8d865191fd4ed8adbc520f66a576e8",
            "placeholder": "​",
            "style": "IPY_MODEL_36299c3dd5d4479a839a011b727b9877",
            "value": " 0/1 [00:00&lt;?, ?example/s]"
          }
        },
        "41ca5ccbdc464d36b12a8d39b2c3c409": {
          "model_module": "@jupyter-widgets/base",
          "model_name": "LayoutModel",
          "model_module_version": "1.2.0",
          "state": {
            "_model_module": "@jupyter-widgets/base",
            "_model_module_version": "1.2.0",
            "_model_name": "LayoutModel",
            "_view_count": null,
            "_view_module": "@jupyter-widgets/base",
            "_view_module_version": "1.2.0",
            "_view_name": "LayoutView",
            "align_content": null,
            "align_items": null,
            "align_self": null,
            "border": null,
            "bottom": null,
            "display": null,
            "flex": null,
            "flex_flow": null,
            "grid_area": null,
            "grid_auto_columns": null,
            "grid_auto_flow": null,
            "grid_auto_rows": null,
            "grid_column": null,
            "grid_gap": null,
            "grid_row": null,
            "grid_template_areas": null,
            "grid_template_columns": null,
            "grid_template_rows": null,
            "height": null,
            "justify_content": null,
            "justify_items": null,
            "left": null,
            "margin": null,
            "max_height": null,
            "max_width": null,
            "min_height": null,
            "min_width": null,
            "object_fit": null,
            "object_position": null,
            "order": null,
            "overflow": null,
            "overflow_x": null,
            "overflow_y": null,
            "padding": null,
            "right": null,
            "top": null,
            "visibility": "hidden",
            "width": null
          }
        },
        "d90f7c15f36e4a2191b841809e71ee06": {
          "model_module": "@jupyter-widgets/base",
          "model_name": "LayoutModel",
          "model_module_version": "1.2.0",
          "state": {
            "_model_module": "@jupyter-widgets/base",
            "_model_module_version": "1.2.0",
            "_model_name": "LayoutModel",
            "_view_count": null,
            "_view_module": "@jupyter-widgets/base",
            "_view_module_version": "1.2.0",
            "_view_name": "LayoutView",
            "align_content": null,
            "align_items": null,
            "align_self": null,
            "border": null,
            "bottom": null,
            "display": null,
            "flex": null,
            "flex_flow": null,
            "grid_area": null,
            "grid_auto_columns": null,
            "grid_auto_flow": null,
            "grid_auto_rows": null,
            "grid_column": null,
            "grid_gap": null,
            "grid_row": null,
            "grid_template_areas": null,
            "grid_template_columns": null,
            "grid_template_rows": null,
            "height": null,
            "justify_content": null,
            "justify_items": null,
            "left": null,
            "margin": null,
            "max_height": null,
            "max_width": null,
            "min_height": null,
            "min_width": null,
            "object_fit": null,
            "object_position": null,
            "order": null,
            "overflow": null,
            "overflow_x": null,
            "overflow_y": null,
            "padding": null,
            "right": null,
            "top": null,
            "visibility": null,
            "width": null
          }
        },
        "d946e6dec62b4426bd481d03ff47799b": {
          "model_module": "@jupyter-widgets/controls",
          "model_name": "DescriptionStyleModel",
          "model_module_version": "1.5.0",
          "state": {
            "_model_module": "@jupyter-widgets/controls",
            "_model_module_version": "1.5.0",
            "_model_name": "DescriptionStyleModel",
            "_view_count": null,
            "_view_module": "@jupyter-widgets/base",
            "_view_module_version": "1.2.0",
            "_view_name": "StyleView",
            "description_width": ""
          }
        },
        "40c7b7a285394432906e234cf856db57": {
          "model_module": "@jupyter-widgets/base",
          "model_name": "LayoutModel",
          "model_module_version": "1.2.0",
          "state": {
            "_model_module": "@jupyter-widgets/base",
            "_model_module_version": "1.2.0",
            "_model_name": "LayoutModel",
            "_view_count": null,
            "_view_module": "@jupyter-widgets/base",
            "_view_module_version": "1.2.0",
            "_view_name": "LayoutView",
            "align_content": null,
            "align_items": null,
            "align_self": null,
            "border": null,
            "bottom": null,
            "display": null,
            "flex": null,
            "flex_flow": null,
            "grid_area": null,
            "grid_auto_columns": null,
            "grid_auto_flow": null,
            "grid_auto_rows": null,
            "grid_column": null,
            "grid_gap": null,
            "grid_row": null,
            "grid_template_areas": null,
            "grid_template_columns": null,
            "grid_template_rows": null,
            "height": null,
            "justify_content": null,
            "justify_items": null,
            "left": null,
            "margin": null,
            "max_height": null,
            "max_width": null,
            "min_height": null,
            "min_width": null,
            "object_fit": null,
            "object_position": null,
            "order": null,
            "overflow": null,
            "overflow_x": null,
            "overflow_y": null,
            "padding": null,
            "right": null,
            "top": null,
            "visibility": null,
            "width": null
          }
        },
        "854743f4fb69413c82e65da9c5eec433": {
          "model_module": "@jupyter-widgets/controls",
          "model_name": "ProgressStyleModel",
          "model_module_version": "1.5.0",
          "state": {
            "_model_module": "@jupyter-widgets/controls",
            "_model_module_version": "1.5.0",
            "_model_name": "ProgressStyleModel",
            "_view_count": null,
            "_view_module": "@jupyter-widgets/base",
            "_view_module_version": "1.2.0",
            "_view_name": "StyleView",
            "bar_color": null,
            "description_width": ""
          }
        },
        "3f8d865191fd4ed8adbc520f66a576e8": {
          "model_module": "@jupyter-widgets/base",
          "model_name": "LayoutModel",
          "model_module_version": "1.2.0",
          "state": {
            "_model_module": "@jupyter-widgets/base",
            "_model_module_version": "1.2.0",
            "_model_name": "LayoutModel",
            "_view_count": null,
            "_view_module": "@jupyter-widgets/base",
            "_view_module_version": "1.2.0",
            "_view_name": "LayoutView",
            "align_content": null,
            "align_items": null,
            "align_self": null,
            "border": null,
            "bottom": null,
            "display": null,
            "flex": null,
            "flex_flow": null,
            "grid_area": null,
            "grid_auto_columns": null,
            "grid_auto_flow": null,
            "grid_auto_rows": null,
            "grid_column": null,
            "grid_gap": null,
            "grid_row": null,
            "grid_template_areas": null,
            "grid_template_columns": null,
            "grid_template_rows": null,
            "height": null,
            "justify_content": null,
            "justify_items": null,
            "left": null,
            "margin": null,
            "max_height": null,
            "max_width": null,
            "min_height": null,
            "min_width": null,
            "object_fit": null,
            "object_position": null,
            "order": null,
            "overflow": null,
            "overflow_x": null,
            "overflow_y": null,
            "padding": null,
            "right": null,
            "top": null,
            "visibility": null,
            "width": null
          }
        },
        "36299c3dd5d4479a839a011b727b9877": {
          "model_module": "@jupyter-widgets/controls",
          "model_name": "DescriptionStyleModel",
          "model_module_version": "1.5.0",
          "state": {
            "_model_module": "@jupyter-widgets/controls",
            "_model_module_version": "1.5.0",
            "_model_name": "DescriptionStyleModel",
            "_view_count": null,
            "_view_module": "@jupyter-widgets/base",
            "_view_module_version": "1.2.0",
            "_view_name": "StyleView",
            "description_width": ""
          }
        }
      }
    }
  },
  "cells": [
    {
      "cell_type": "markdown",
      "metadata": {
        "id": "view-in-github",
        "colab_type": "text"
      },
      "source": [
        "<a href=\"https://colab.research.google.com/github/dhrits/LLM-Engineering-Foundations-to-SLMs/blob/main/04_Embeddings/Training_Emebddings_From_Scratch_%26_Fine_tuning_Embedding_Models_Assignment.ipynb\" target=\"_parent\"><img src=\"https://colab.research.google.com/assets/colab-badge.svg\" alt=\"Open In Colab\"/></a>"
      ]
    },
    {
      "cell_type": "markdown",
      "source": [
        "# Embeddings & You - A Brief Introduction to Embeddings in Machine Learning\n",
        "\n",
        "If you've toyed with LangChain, LlamaIndex, or even OpenAI's `ada` model - you've likely run into the word: \"Embeddings\" a few time.\n",
        "\n",
        "They've had a recent surge in popularity due to the profliferation of Retrieval Augmented Generation, but they've been around for a very long time.\n",
        "\n",
        "If you come from an NLP background, embeddings are something you might be intimately familiar with - otherwise, you might find the topic a bit...dense. (this attempt at a joke will make more sense later)\n",
        "\n",
        "In all seriousness, embeddings are a powerful piece of the NLP puzzle, so let's dive in!\n",
        "\n",
        "> NOTE: While this notebook language/NLP-centric, embeddings have uses beyond just text!\n",
        "\n",
        "## Notebook Table of Contents:\n",
        "\n",
        "- Breakout Room #1: Training Word2Vec from Scratch\n",
        "  - Task 1: Dependencies\n",
        "  - Task 2: Data Collection\n",
        "  - Task 3: Data Preprocessing\n",
        "    - ❓ Question #1\n",
        "    - 👪❓ Discussion Question #1\n",
        "  - Task 4: Training Word2Vec\n",
        "    - 🏗️ Activity #1\n",
        "    - ❓ Question #2\n",
        "- Breakout Room #2:\n",
        "  - Task 1: Fine-tuning Our Embedding Model\n",
        "    - ❓ Question #3\n",
        "    - 🏗️ Activity #2\n",
        "  - Task 2: Evaluating our Embedding Model\n",
        "    - 👪❓ Discussion Question #2"
      ],
      "metadata": {
        "id": "3ZO_xiWUoSKX"
      }
    },
    {
      "cell_type": "markdown",
      "source": [
        "### Why Do We Even Need Embeddings?\n",
        "\n",
        "In order to fully understand what Embeddings are, we first need to understand why we have them:\n",
        "\n",
        "Machine Learning algorithms, ranging from the very big to the very small, all have one thing in common:\n",
        "\n",
        "*They need numeric inputs.*\n",
        "\n",
        "So we need a process by which to translate the domain we live in, dominated by images, audio, language, and more, into the domain of the machine: Numbers.\n",
        "\n",
        "Another thing we want to be able to do is capture \"semantic information\" about words/phrases so that we can use algorithmic approaches to determine if words are closely related or not!\n",
        "\n",
        "So, we need to come up with a process that does these two things well:\n",
        "\n",
        "1. Convert non-numeric data into numeric-data\n",
        "2. Capture potential semantic relationships between individual pieces of data"
      ],
      "metadata": {
        "id": "P70JnMeToYd3"
      }
    },
    {
      "cell_type": "markdown",
      "source": [
        "## Breakout Room #1: Training Word2Vec from Scratch\n",
        "\n",
        "Now that we have a bit of background on Embeddings - let's look at what it takes to create our own embeddings using Word2Vec!\n",
        "\n",
        "We'll be leveraging the `gensim` library, which you can read all about [here](https://pypi.org/project/gensim/).\n",
        "\n",
        "Before we begin training, however, we need some data!\n",
        "\n",
        "Let's use the Wikipedia pages for Wicked and Gladiator as examples."
      ],
      "metadata": {
        "id": "_AkTA6O8boBu"
      }
    },
    {
      "cell_type": "markdown",
      "source": [
        "### Task 1: Dependencies\n",
        "We'll leverage the `wikipedia` library, and `langchain`s `WikipediaLoader` to obtain our Wikipedia data!"
      ],
      "metadata": {
        "id": "DE0PCOWjdHO8"
      }
    },
    {
      "cell_type": "code",
      "execution_count": 1,
      "metadata": {
        "id": "f1bHSdU9a8Tu",
        "colab": {
          "base_uri": "https://localhost:8080/"
        },
        "outputId": "74100281-48fe-460c-f815-f35455183a77"
      },
      "outputs": [
        {
          "output_type": "stream",
          "name": "stdout",
          "text": [
            "  Preparing metadata (setup.py) ... \u001b[?25l\u001b[?25hdone\n",
            "\u001b[2K   \u001b[90m━━━━━━━━━━━━━━━━━━━━━━━━━━━━━━━━━━━━━━━━\u001b[0m \u001b[32m1.0/1.0 MB\u001b[0m \u001b[31m18.8 MB/s\u001b[0m eta \u001b[36m0:00:00\u001b[0m\n",
            "\u001b[2K   \u001b[90m━━━━━━━━━━━━━━━━━━━━━━━━━━━━━━━━━━━━━━━━\u001b[0m \u001b[32m2.4/2.4 MB\u001b[0m \u001b[31m90.6 MB/s\u001b[0m eta \u001b[36m0:00:00\u001b[0m\n",
            "\u001b[2K   \u001b[90m━━━━━━━━━━━━━━━━━━━━━━━━━━━━━━━━━━━━━━━━\u001b[0m \u001b[32m480.6/480.6 kB\u001b[0m \u001b[31m36.5 MB/s\u001b[0m eta \u001b[36m0:00:00\u001b[0m\n",
            "\u001b[2K   \u001b[90m━━━━━━━━━━━━━━━━━━━━━━━━━━━━━━━━━━━━━━━━\u001b[0m \u001b[32m116.3/116.3 kB\u001b[0m \u001b[31m12.1 MB/s\u001b[0m eta \u001b[36m0:00:00\u001b[0m\n",
            "\u001b[2K   \u001b[90m━━━━━━━━━━━━━━━━━━━━━━━━━━━━━━━━━━━━━━━━\u001b[0m \u001b[32m179.3/179.3 kB\u001b[0m \u001b[31m16.1 MB/s\u001b[0m eta \u001b[36m0:00:00\u001b[0m\n",
            "\u001b[2K   \u001b[90m━━━━━━━━━━━━━━━━━━━━━━━━━━━━━━━━━━━━━━━━\u001b[0m \u001b[32m409.5/409.5 kB\u001b[0m \u001b[31m28.9 MB/s\u001b[0m eta \u001b[36m0:00:00\u001b[0m\n",
            "\u001b[2K   \u001b[90m━━━━━━━━━━━━━━━━━━━━━━━━━━━━━━━━━━━━━━━━\u001b[0m \u001b[32m134.8/134.8 kB\u001b[0m \u001b[31m12.6 MB/s\u001b[0m eta \u001b[36m0:00:00\u001b[0m\n",
            "\u001b[2K   \u001b[90m━━━━━━━━━━━━━━━━━━━━━━━━━━━━━━━━━━━━━━━━\u001b[0m \u001b[32m194.1/194.1 kB\u001b[0m \u001b[31m17.0 MB/s\u001b[0m eta \u001b[36m0:00:00\u001b[0m\n",
            "\u001b[2K   \u001b[90m━━━━━━━━━━━━━━━━━━━━━━━━━━━━━━━━━━━━━━━━\u001b[0m \u001b[32m49.5/49.5 kB\u001b[0m \u001b[31m4.1 MB/s\u001b[0m eta \u001b[36m0:00:00\u001b[0m\n",
            "\u001b[?25h  Building wheel for wikipedia (setup.py) ... \u001b[?25l\u001b[?25hdone\n",
            "\u001b[31mERROR: pip's dependency resolver does not currently take into account all the packages that are installed. This behaviour is the source of the following dependency conflicts.\n",
            "gcsfs 2024.10.0 requires fsspec==2024.10.0, but you have fsspec 2024.9.0 which is incompatible.\u001b[0m\u001b[31m\n",
            "\u001b[0m"
          ]
        }
      ],
      "source": [
        "!pip install -U -q wikipedia langchain langchain_community lxml datasets"
      ]
    },
    {
      "cell_type": "markdown",
      "source": [
        "> NOTE: Please reset the Colab environment after running the install cells."
      ],
      "metadata": {
        "id": "frFcUKy5ief6"
      }
    },
    {
      "cell_type": "markdown",
      "source": [
        "### Task 2: Data Collection\n",
        "\n"
      ],
      "metadata": {
        "id": "ON8zWj4GR0oz"
      }
    },
    {
      "cell_type": "code",
      "source": [
        "from langchain_community.document_loaders import WikipediaLoader\n",
        "\n",
        "wicked_docs = WikipediaLoader(\n",
        "    query=\"Wicked (2024 film)\",\n",
        "    load_max_docs=5,\n",
        "    doc_content_chars_max=1_000_000\n",
        "    ).load()"
      ],
      "metadata": {
        "id": "ME25TAtVdPmE",
        "colab": {
          "base_uri": "https://localhost:8080/"
        },
        "outputId": "77292714-670e-4bcc-98b1-cc092eedd8b2"
      },
      "execution_count": 1,
      "outputs": [
        {
          "output_type": "stream",
          "name": "stderr",
          "text": [
            "/usr/local/lib/python3.10/dist-packages/wikipedia/wikipedia.py:389: GuessedAtParserWarning: No parser was explicitly specified, so I'm using the best available HTML parser for this system (\"lxml\"). This usually isn't a problem, but if you run this code on another system, or in a different virtual environment, it may use a different parser and behave differently.\n",
            "\n",
            "The code that caused this warning is on line 389 of the file /usr/local/lib/python3.10/dist-packages/wikipedia/wikipedia.py. To get rid of this warning, pass the additional argument 'features=\"lxml\"' to the BeautifulSoup constructor.\n",
            "\n",
            "  lis = BeautifulSoup(html).find_all('li')\n"
          ]
        }
      ]
    },
    {
      "cell_type": "code",
      "source": [
        "len(wicked_docs)"
      ],
      "metadata": {
        "id": "nLV9ZD4ReBrw",
        "colab": {
          "base_uri": "https://localhost:8080/"
        },
        "outputId": "d90e41ba-bcbc-440f-f86e-951772f0e096"
      },
      "execution_count": 2,
      "outputs": [
        {
          "output_type": "execute_result",
          "data": {
            "text/plain": [
              "4"
            ]
          },
          "metadata": {},
          "execution_count": 2
        }
      ]
    },
    {
      "cell_type": "code",
      "source": [
        "gladiator_2_docs = WikipediaLoader(\n",
        "    query=\"Gladiator II\",\n",
        "    load_max_docs=5,\n",
        "    doc_content_chars_max=1_000_000\n",
        "    ).load()"
      ],
      "metadata": {
        "id": "y-_YAa6MeWmP"
      },
      "execution_count": 3,
      "outputs": []
    },
    {
      "cell_type": "code",
      "source": [
        "len(gladiator_2_docs)"
      ],
      "metadata": {
        "id": "z_Tk5-_qehyb",
        "colab": {
          "base_uri": "https://localhost:8080/"
        },
        "outputId": "1bbb996c-952b-4c30-abe5-1e2d87fb1f05"
      },
      "execution_count": 4,
      "outputs": [
        {
          "output_type": "execute_result",
          "data": {
            "text/plain": [
              "5"
            ]
          },
          "metadata": {},
          "execution_count": 4
        }
      ]
    },
    {
      "cell_type": "markdown",
      "source": [
        "### Task 3: Data Preprocessing\n",
        "\n",
        "Now that we have some text, we need to do some preprocessing! That's right - classic NLP!\n",
        "\n",
        "Let's begin by cleaning up our text, we'll:\n",
        "\n",
        "- Remove special characters\n",
        "- Remove stop words\n",
        "- Remove links\n",
        "- Convert to lowercase\n",
        "- Strip whitespace\n",
        "\n",
        "To do this, we'll need two main modules:\n",
        "\n",
        "- The `re` standard library module\n",
        "- `spacy`, another NLP library"
      ],
      "metadata": {
        "id": "QeJC376oep3N"
      }
    },
    {
      "cell_type": "code",
      "source": [
        "import nltk\n",
        "\n",
        "nltk.download('stopwords')\n",
        "nltk.download('punkt')\n",
        "nltk.download('punkt_tab')"
      ],
      "metadata": {
        "id": "3-XweJuKfl2w",
        "colab": {
          "base_uri": "https://localhost:8080/"
        },
        "outputId": "766240e9-31a6-42db-fcc5-c9d7d71751d5"
      },
      "execution_count": 5,
      "outputs": [
        {
          "output_type": "stream",
          "name": "stderr",
          "text": [
            "[nltk_data] Downloading package stopwords to /root/nltk_data...\n",
            "[nltk_data]   Unzipping corpora/stopwords.zip.\n",
            "[nltk_data] Downloading package punkt to /root/nltk_data...\n",
            "[nltk_data]   Unzipping tokenizers/punkt.zip.\n",
            "[nltk_data] Downloading package punkt_tab to /root/nltk_data...\n",
            "[nltk_data]   Unzipping tokenizers/punkt_tab.zip.\n"
          ]
        },
        {
          "output_type": "execute_result",
          "data": {
            "text/plain": [
              "True"
            ]
          },
          "metadata": {},
          "execution_count": 5
        }
      ]
    },
    {
      "cell_type": "markdown",
      "source": [
        "Let's take a peek at what these \"stopwords\" are - for traditional embedding models and NLP."
      ],
      "metadata": {
        "id": "17THAHtbcdom"
      }
    },
    {
      "cell_type": "code",
      "source": [
        "from nltk.corpus import stopwords\n",
        "stopwords.words('english')[:10]"
      ],
      "metadata": {
        "id": "pqLntUU6ftyl",
        "colab": {
          "base_uri": "https://localhost:8080/"
        },
        "outputId": "7730ff3d-8961-4cf8-8f82-6bc117ec9075"
      },
      "execution_count": 6,
      "outputs": [
        {
          "output_type": "execute_result",
          "data": {
            "text/plain": [
              "['i', 'me', 'my', 'myself', 'we', 'our', 'ours', 'ourselves', 'you', \"you're\"]"
            ]
          },
          "metadata": {},
          "execution_count": 6
        }
      ]
    },
    {
      "cell_type": "markdown",
      "source": [
        "#### Text Normalization\n",
        "\n",
        "The first step is to make a helper function that normalizes our text."
      ],
      "metadata": {
        "id": "1AoGsijwcPPo"
      }
    },
    {
      "cell_type": "code",
      "source": [
        "import re\n",
        "from typing import List\n",
        "from nltk.tokenize import word_tokenize\n",
        "\n",
        "def preprocess_text(text: str) -> List[str]:\n",
        "  # remove links\n",
        "  text = re.sub(r\"http[s]?://(?:[a-zA-Z]|[0-9]|[$-_@.&+]|[!*\\\\(\\\\),]|(?:%[0-9a-fA-F][0-9a-fA-F]))+\", \"\", text)\n",
        "  # remove all special characters (keep alphabet characters)\n",
        "  text = re.sub(\"[^a-zA-Z ]\", \" \", text)\n",
        "  # tokenize text, make lowercase, and remove stop words\n",
        "  stop_words = set(stopwords.words('english'))\n",
        "  tokens = word_tokenize(text)\n",
        "  filtered_tokens = [token.lower() for token in tokens if token.lower() not in stop_words]\n",
        "  return filtered_tokens"
      ],
      "metadata": {
        "id": "FSJqh7Cae2WY"
      },
      "execution_count": 7,
      "outputs": []
    },
    {
      "cell_type": "markdown",
      "source": [
        "Let's see how this works on some of our Wikipedia data!"
      ],
      "metadata": {
        "id": "_TLBwJtff89s"
      }
    },
    {
      "cell_type": "code",
      "source": [
        "preprocess_text(wicked_docs[0].page_content[:100])"
      ],
      "metadata": {
        "id": "0akPT-BJgB6_",
        "colab": {
          "base_uri": "https://localhost:8080/"
        },
        "outputId": "6a40aa8f-19f1-4491-9b48-19e1dc1dbf5f"
      },
      "execution_count": 8,
      "outputs": [
        {
          "output_type": "execute_result",
          "data": {
            "text/plain": [
              "['wicked',\n",
              " 'titled',\n",
              " 'onscreen',\n",
              " 'wicked',\n",
              " 'part',\n",
              " 'american',\n",
              " 'epic',\n",
              " 'musical',\n",
              " 'fantasy',\n",
              " 'film',\n",
              " 'directed']"
            ]
          },
          "metadata": {},
          "execution_count": 8
        }
      ]
    },
    {
      "cell_type": "markdown",
      "source": [
        "#### Sentence Tokenization:\n",
        "\n",
        "Now we'll turn our corpus into sets of sentences and apply our pre-processing function to each sentence individually."
      ],
      "metadata": {
        "id": "U1JVww2adC-c"
      }
    },
    {
      "cell_type": "code",
      "source": [
        "from nltk.tokenize import sent_tokenize\n",
        "\n",
        "def sentence_tokenization(text: str) -> List[List[str]]:\n",
        "    # Tokenize the text into sentences\n",
        "    sentences = sent_tokenize(text)\n",
        "    # Tokenize each sentence into words and store them in a list of lists\n",
        "    sentence_tokens = [preprocess_text(sentence) for sentence in sentences]\n",
        "    return sentence_tokens"
      ],
      "metadata": {
        "id": "goqsOzIlgF_x"
      },
      "execution_count": 9,
      "outputs": []
    },
    {
      "cell_type": "code",
      "source": [
        "sentence_tokenization(wicked_docs[0].page_content[:200])"
      ],
      "metadata": {
        "id": "anrS-SOth1tK",
        "colab": {
          "base_uri": "https://localhost:8080/"
        },
        "outputId": "c2a473e9-2a7e-4d06-f7cc-d10fb8ba997b"
      },
      "execution_count": 10,
      "outputs": [
        {
          "output_type": "execute_result",
          "data": {
            "text/plain": [
              "[['wicked',\n",
              "  'titled',\n",
              "  'onscreen',\n",
              "  'wicked',\n",
              "  'part',\n",
              "  'american',\n",
              "  'epic',\n",
              "  'musical',\n",
              "  'fantasy',\n",
              "  'film',\n",
              "  'directed',\n",
              "  'jon',\n",
              "  'chu',\n",
              "  'written',\n",
              "  'winnie',\n",
              "  'holzman',\n",
              "  'dana',\n",
              "  'fox',\n",
              "  'songs',\n",
              "  'stephen',\n",
              "  'schwartz'],\n",
              " ['fir']]"
            ]
          },
          "metadata": {},
          "execution_count": 10
        }
      ]
    },
    {
      "cell_type": "markdown",
      "source": [
        "Perfect, with that, we're ready to create our corpus!"
      ],
      "metadata": {
        "id": "AKLhQDeDiBv1"
      }
    },
    {
      "cell_type": "code",
      "source": [
        "corpus = []\n",
        "\n",
        "for doc in wicked_docs:\n",
        "  corpus += sentence_tokenization(doc.page_content)\n",
        "\n",
        "for doc in gladiator_2_docs:\n",
        "  corpus += sentence_tokenization(doc.page_content)"
      ],
      "metadata": {
        "id": "o0Expe68h70P"
      },
      "execution_count": 11,
      "outputs": []
    },
    {
      "cell_type": "markdown",
      "source": [
        "##### ❓ Question #1:\n",
        "\n",
        "Why is this normalization and tokenization necessary to train a Word2Vec Embedding Model?\n",
        "\n",
        "Let's tackle each stage:\n",
        "\n",
        "* **Normalization** - Normalization has several benefits in this case.\n",
        "\n",
        "    1. Avoids an overly large vocabulary - Without good normalization, the vocabulary for training an embedding model might get prohibitively large. This can have implications on the amount of compute needed to train the model.\n",
        "    2. Avoids overfitting by reducing \"noise\" - Often, normalization can get rid of variations of words which have very similar meanings (this can be via lowercasing, stemming, lemmatization etc) which can avoid overfitting since the model doesn't have to do extra work to understand subtle differences in usages.\n",
        "\n",
        "* **Tokenization**\n",
        "    1. Word2Vec is essentially a \"word\" embedding model which must operate on some discrete units (words). Tokenization is the process of obtaining these discrete units. Once they've been determined, we can learn the meaning of these discrete units using a neural network and from the context in which they appear.\n",
        "    2. Tokenization is important because most language models operate at the level of discrete objects like tokens (as an example, for a next-word predictor, the softmax can be over tokens). Not having any tokens would require either building a character level model (which is still arguably tokenizing but at the character level) or come up with some novel method which operates on sentences. Note that tokens don't have to be words (see next activity)."
      ],
      "metadata": {
        "id": "KyAS-JOLbwx0"
      }
    },
    {
      "cell_type": "markdown",
      "source": [
        "##### 👪❓ Discussion Question #1:\n",
        "\n",
        "When creating training data for Large Language Models, do we need to/should we use text normalization?\n",
        "\n",
        "What arguments for or against text normalization exist at LLM-scale datasets?\n",
        "\n",
        "The short answer is that modern language models have enough capacity and are trained using sufficient compute that normalization isn't *strictly necessary* but can still be useful depending on the application. To explain this further, Byte Pair Encoding tokenizer (originally used in GPT) can be configured with a target vocabulary size and use statistical techniques to determine the right tokens given the training corpus. These tokens are usually sub-word (pieces of words) determined at the byte-level. This technique can deal with nuances of a larger vocabulary without tokenization.\n",
        "\n",
        "Arguments for Normalization:\n",
        "1. Depending on the size of the \"large\" language model, normalization can still help reduce the vocabulary size (allowing accelerator flops to be used for other purposes).\n",
        "2. Depending on the context, once again, normalization might help the ease the training process by avoiding overfitting on unnecessary variations of various tokens.\n",
        "\n",
        "Arguments against Normalization:\n",
        "1. Some kinds of normalizations (like removal of extra spaces) can be detrimental depending on the application. As an example, a language model built to write Python code needs to be able to understand the meaning behind number of spaces.\n",
        "2. Depending on the kinds of normalization applied, the training pipeline for the model can become overly complicated. Large Language Models typicall have enough capacity and compute that this complexity is not worth the added trouble.\n",
        "3. A general purpose LLM should be able to understand nuances of language which normalization can destroy. As an example, a language model might be asked to correct grammar or write essays which require grasp of language constructs which normalization can impact.\n"
      ],
      "metadata": {
        "id": "ZURPmGkGci7m"
      }
    },
    {
      "cell_type": "markdown",
      "source": [
        "### Task 4: Training Word2Vec\n",
        "\n",
        "Now that we have our corpus set up, we can train our Word2Vec model.\n",
        "\n",
        "Training is straightforward, thanks to `gensim`, and more can be understood about the process by reading the paper - but let's see it in code!\n",
        "\n",
        "It's also worth considering/playing around with the `gensim` parameters."
      ],
      "metadata": {
        "id": "s2axftsiipxJ"
      }
    },
    {
      "cell_type": "code",
      "source": [
        "!pip install -q -U gensim"
      ],
      "metadata": {
        "id": "PVb5Rye_ikjC"
      },
      "execution_count": 12,
      "outputs": []
    },
    {
      "cell_type": "markdown",
      "source": [
        "### An Aside on Skip-gram (SG) and Continuous Bag of Words (CBOW):\n",
        "\n",
        "**Skip-gram**:\n",
        "\n",
        "Skip-gram is an approach to teaching computers the meaning of words by predicting the surrounding context from a given word. Think of it as a student who learns by taking a single word and trying to guess what words might appear around it. For example, given the word \"sun,\" Skip-gram would learn to predict related words like \"bright,\" \"sky,\" and \"shine.\" This method is particularly effective at handling rare words in the vocabulary and capturing multiple meanings of words, though it typically requires more training time. The key insight is that words appearing in similar contexts often have related meanings.\n",
        "\n",
        "**Continuous Bag of Words (CBOW)**:\n",
        "\n",
        "CBOW takes the opposite approach to Skip-gram by predicting a target word based on its surrounding context words. Imagine playing a fill-in-the-blank game where you see \"The ___ is barking at the mailman\" and need to predict \"dog\" based on the surrounding words. CBOW looks at multiple context words at once and tries to understand what word would make sense in the middle. This method tends to be faster to train than Skip-gram and performs particularly well with frequent words in the vocabulary. However, it might not be as effective at handling rare words or capturing multiple word meanings since it averages the context."
      ],
      "metadata": {
        "id": "0uCi3SxOfyGH"
      }
    },
    {
      "cell_type": "markdown",
      "source": [
        "#####🏗️ Activity #1:\n",
        "\n",
        "Set appropriate hyperparameters for the gensim `Word2Vec` model.\n",
        "\n",
        "> NOTE: Documentation is available [here](https://radimrehurek.com/gensim/models/word2vec.html#gensim.models.word2vec.Word2Vec)"
      ],
      "metadata": {
        "id": "V6salAYUtcSr"
      }
    },
    {
      "cell_type": "markdown",
      "source": [
        "##### ❓ Question #2:\n",
        "\n",
        "What do each of the hyper-parameters mean or relate to:\n",
        "\n",
        "- `VECTOR_SIZE` -> YOUR ANSWER HERE\n",
        "- `WINDOW` -> YOUR ANSWER HERE\n",
        "- `MIN_COUNT` -> YOUR ANSWER HERE"
      ],
      "metadata": {
        "id": "qJZTsWWqbMPJ"
      }
    },
    {
      "cell_type": "code",
      "source": [
        "from gensim.models import Word2Vec\n",
        "\n",
        "### Modify These Hyper Parameters\n",
        "VECTOR_SIZE = 128\n",
        "WINDOW = 10\n",
        "MIN_COUNT = 2\n",
        "\n",
        "### Leave this Hyper Parameter\n",
        "SG = 1\n",
        "\n",
        "model = Word2Vec(\n",
        "    sentences=corpus,\n",
        "    vector_size=VECTOR_SIZE,\n",
        "    window=WINDOW,\n",
        "    min_count=MIN_COUNT,\n",
        "    sg=SG\n",
        "    )"
      ],
      "metadata": {
        "id": "nSCza8r7i-Oh"
      },
      "execution_count": null,
      "outputs": []
    },
    {
      "cell_type": "markdown",
      "source": [
        "Blink and you'll miss it. You just trained an embeddings model!\n",
        "\n",
        "Let's try it out and see what we did!"
      ],
      "metadata": {
        "id": "m_LYRSDjjyA8"
      }
    },
    {
      "cell_type": "code",
      "source": [
        "model.wv[\"elphaba\"]"
      ],
      "metadata": {
        "id": "zaO35GCJjIlk",
        "colab": {
          "base_uri": "https://localhost:8080/"
        },
        "outputId": "4cc000f5-bcd9-44af-ee7d-8d750601db41"
      },
      "execution_count": null,
      "outputs": [
        {
          "output_type": "execute_result",
          "data": {
            "text/plain": [
              "array([-0.02341275, -0.15053523,  0.04439599,  0.18036118,  0.19055304,\n",
              "       -0.03981051,  0.01604554, -0.02038296,  0.02065723,  0.00082535,\n",
              "        0.2335535 ,  0.04686091,  0.05497289, -0.16397378,  0.07858913,\n",
              "        0.16919321, -0.2228266 ,  0.06831697, -0.27084512,  0.07973801,\n",
              "        0.23343013, -0.0212653 , -0.17287205, -0.1916334 , -0.2674237 ,\n",
              "        0.13062951, -0.0456333 ,  0.04720411,  0.06568964, -0.03385429,\n",
              "       -0.0760702 , -0.02203551,  0.11708023,  0.06955863,  0.06978006,\n",
              "        0.10260317,  0.12332713, -0.22227472,  0.02350481,  0.11268033,\n",
              "        0.08389149,  0.19307424, -0.04527461,  0.02699835,  0.03705441,\n",
              "       -0.058294  , -0.11213047,  0.03421706, -0.06636705, -0.11034712,\n",
              "        0.25096026, -0.06256425, -0.13322373,  0.06499743, -0.08742152,\n",
              "        0.02047394,  0.05854449, -0.11662163, -0.1702801 ,  0.1737293 ,\n",
              "       -0.17196897, -0.04434855,  0.06172847,  0.08120296,  0.14722982,\n",
              "       -0.01234115, -0.02159266,  0.08218032, -0.21107076, -0.29884517,\n",
              "        0.22403945, -0.23073728, -0.28856602, -0.21682876,  0.21363904,\n",
              "       -0.2166573 ,  0.04673445, -0.21645303, -0.12275012,  0.05443423,\n",
              "       -0.17320882, -0.15246221,  0.2057042 ,  0.23023303,  0.08594694,\n",
              "        0.33857274,  0.15552072, -0.07447588,  0.10746676,  0.09900539,\n",
              "       -0.15094353, -0.05175765, -0.05589363,  0.04155988,  0.07533643,\n",
              "        0.00875589, -0.1064894 , -0.30904642,  0.05756782, -0.02878324,\n",
              "       -0.25115097,  0.02109917,  0.01177672,  0.04829026, -0.00568589,\n",
              "       -0.06514279,  0.0761451 ,  0.07160801,  0.3151699 , -0.15634657,\n",
              "        0.06941205, -0.07586361, -0.01369324,  0.22173816,  0.01981845,\n",
              "        0.06397183,  0.04819468, -0.00778185,  0.1142873 , -0.1326562 ,\n",
              "       -0.04056967, -0.22628728,  0.03593028,  0.17389202, -0.33242908,\n",
              "       -0.07865882, -0.09961218, -0.11315206], dtype=float32)"
            ]
          },
          "metadata": {},
          "execution_count": 15
        }
      ]
    },
    {
      "cell_type": "markdown",
      "source": [
        "Finally! We see it: An embedding in the wild.\n",
        "\n",
        "Notice how we input a word, in this case \"Elphaba\", and we got back a 100-dimensional vector of floats.\n",
        "\n",
        "Let's see if we can't get back a list of similar vectors to the vector for \"Elphaba\", and \"Maximus\"!"
      ],
      "metadata": {
        "id": "f9yYINaHj_qI"
      }
    },
    {
      "cell_type": "code",
      "source": [
        "model.wv.most_similar(positive=[\"elphaba\"], topn=3)"
      ],
      "metadata": {
        "id": "Q3feBDOaj6WC",
        "colab": {
          "base_uri": "https://localhost:8080/"
        },
        "outputId": "f7c99d7d-4e58-45b8-cd35-eb898d8c93d8"
      },
      "execution_count": null,
      "outputs": [
        {
          "output_type": "execute_result",
          "data": {
            "text/plain": [
              "[('glinda', 0.9973530173301697),\n",
              " ('wizard', 0.9949658513069153),\n",
              " ('galinda', 0.9943375587463379)]"
            ]
          },
          "metadata": {},
          "execution_count": 16
        }
      ]
    },
    {
      "cell_type": "code",
      "source": [
        "model.wv.most_similar(positive=[\"maximus\"], topn=3)"
      ],
      "metadata": {
        "id": "FrCY4Y4Rkn0N",
        "colab": {
          "base_uri": "https://localhost:8080/"
        },
        "outputId": "d3715d2e-a4a8-4e4a-e063-bd880e14400e"
      },
      "execution_count": null,
      "outputs": [
        {
          "output_type": "execute_result",
          "data": {
            "text/plain": [
              "[('lucilla', 0.9980756044387817),\n",
              " ('marcus', 0.9977965354919434),\n",
              " ('lucius', 0.9976588487625122)]"
            ]
          },
          "metadata": {},
          "execution_count": 17
        }
      ]
    },
    {
      "cell_type": "markdown",
      "source": [
        "Now, for the moment of truth - let's do some vector math and see what happens!"
      ],
      "metadata": {
        "id": "PFJQBuooli2S"
      }
    },
    {
      "cell_type": "code",
      "source": [
        "galinda_vec = model.wv[\"galinda\"]\n",
        "good_vec = model.wv[\"good\"]\n",
        "mystery_vector = galinda_vec - good_vec"
      ],
      "metadata": {
        "id": "_fFyEP8-mRw1"
      },
      "execution_count": null,
      "outputs": []
    },
    {
      "cell_type": "code",
      "source": [
        "model.wv.most_similar(positive=[mystery_vector], topn=3)"
      ],
      "metadata": {
        "id": "hfup5uT0nDci",
        "colab": {
          "base_uri": "https://localhost:8080/"
        },
        "outputId": "c68e37d7-2f77-4e24-bf86-a973555421c6"
      },
      "execution_count": null,
      "outputs": [
        {
          "output_type": "execute_result",
          "data": {
            "text/plain": [
              "[('elphaba', 0.3943142592906952),\n",
              " ('glinda', 0.38049784302711487),\n",
              " ('wizard', 0.3661307096481323)]"
            ]
          },
          "metadata": {},
          "execution_count": 19
        }
      ]
    },
    {
      "cell_type": "markdown",
      "source": [
        "And there we have it - embeddings, and a demonstration of what makes them so powerful!\n",
        "\n",
        "> Note: This is a very small sample size, and while this result is what we'd hope for - it is largely coincidental - this behaviour is expressed better in much larger corpus' of text."
      ],
      "metadata": {
        "id": "BGdGFwRjoJjg"
      }
    },
    {
      "cell_type": "markdown",
      "source": [
        "## Breakout Room #2: Fine-tuning a BERT-Style Embedding Model on Question Answer Pairs.\n",
        "\n",
        "Now that we've seen where embeddings \"started\", as it were, let's see where they've gotten.\n",
        "\n",
        "In this section, we'll be fine-tuning Hugging Face's [sentence transformers](https://www.sbert.net/).\n",
        "\n",
        "Sentence Transformers leverages the work done in the [Sentence-BERT](https://arxiv.org/abs/1908.10084) paper. So while the idea of converting input text into a dense vector representation is the same, the way we got to those embeddings is a bit different.\n",
        "\n",
        "> NOTE: As the name implies, the following model is an *ENTIRE* transformer model (though Encoder-only, as described by Sentence-BERT)."
      ],
      "metadata": {
        "id": "Ay6CQ4yRqjc9"
      }
    },
    {
      "cell_type": "markdown",
      "source": [
        "### Fine-tuning Our Embeddings Model\n",
        "\n",
        "Finally, the set up is complete - and we can move on to fine-tuning our sentence transformer embedding model!\n",
        "\n",
        "The process is simplified considerably by how amazing the Hugging Face `sentence-transformer` library is, so let's jump straight in!"
      ],
      "metadata": {
        "id": "pUHK8gBfIv9U"
      }
    },
    {
      "cell_type": "code",
      "source": [
        "!pip install -U -q sentence-transformers"
      ],
      "metadata": {
        "id": "J6QtdQve12PP",
        "colab": {
          "base_uri": "https://localhost:8080/"
        },
        "outputId": "d26fa011-fc8a-4bed-ab8a-58629efd22ba"
      },
      "execution_count": null,
      "outputs": [
        {
          "output_type": "stream",
          "name": "stdout",
          "text": [
            "\u001b[?25l   \u001b[90m━━━━━━━━━━━━━━━━━━━━━━━━━━━━━━━━━━━━━━━━\u001b[0m \u001b[32m0.0/268.8 kB\u001b[0m \u001b[31m?\u001b[0m eta \u001b[36m-:--:--\u001b[0m\r\u001b[2K   \u001b[90m━━━━━━━━━━━━━━━━━━━━━━━━━━━━━━━━━━━━━━━━\u001b[0m \u001b[32m268.8/268.8 kB\u001b[0m \u001b[31m16.7 MB/s\u001b[0m eta \u001b[36m0:00:00\u001b[0m\n",
            "\u001b[?25h"
          ]
        }
      ]
    },
    {
      "cell_type": "code",
      "source": [
        "from sentence_transformers import SentenceTransformer"
      ],
      "metadata": {
        "id": "98C2YcEj10di"
      },
      "execution_count": null,
      "outputs": []
    },
    {
      "cell_type": "markdown",
      "source": [
        "We're going to use the `BAAI/bge-small-en` embedding model as an example, but you could use any of the `sentence-transformer` embeddings models."
      ],
      "metadata": {
        "id": "YY3CCeScJboJ"
      }
    },
    {
      "cell_type": "code",
      "source": [
        "model_id = \"BAAI/bge-small-en\"\n",
        "model = SentenceTransformer(model_id)"
      ],
      "metadata": {
        "id": "5tiyPUjj11in",
        "colab": {
          "base_uri": "https://localhost:8080/",
          "height": 496,
          "referenced_widgets": [
            "9f21c27c7a3f4bc5b2880ae43a36885a",
            "7d12990debca4f31bed29d5bd2fffc1a",
            "ee97aa427e0d4ee3a1f71a49eaf1610a",
            "c4d45084ab0746ac92f1133476f3f543",
            "4058e95362b34023ab1bc456d120cb8f",
            "175fd71748514fa282b884d6c4919b19",
            "af38160ec2f64d6ba9a9063ab28c0dcb",
            "18dad76179824466be654095ae660e1b",
            "2dbd6efa552f4500bf9b6a9d450b7558",
            "f1e01856da53444991be5667dd0713aa",
            "61cee8b360dc436aa9801ff3c8e27cca",
            "e3b4fbb1c8234b76a34fb5c6d8c103a8",
            "90bd46c8581749c0bb4a3c1e9ee75f0b",
            "82f8433e9b3245ba9212f1fbfd6f5a2e",
            "48a46e915b014648b56880b45f3ce4d4",
            "18f25710c97b46889140bc505b416186",
            "1bf8faadff474865a252c66269841dd5",
            "a34db5066c574a6ab6667bc012a1c816",
            "ca80c36ece9d402ba4201a735ccc50a7",
            "60f3e0545ceb4fd99d59faf4b2285ff9",
            "de98bd1b3e37430d97f0cdbde1b3faaa",
            "b84c464cc5494fcca233801124e735b8",
            "43cab70450b741bf81f891f9ff27f637",
            "4eba99eb75e44bf9985a4d996f906d9a",
            "800344ece3454eaaa22e1db180b7bd98",
            "ff39d610acbc490392a51b80ada4f5cf",
            "f6387f779f1a4eea9be5f4b02cea2e2e",
            "3a5709044e704c0d94252634cb0e8f4b",
            "188408adc9f6417b871d6950aef90cd1",
            "7d69d87b6abc4b698a1387b8a36aa3d5",
            "5b7b9ae32bac4635bf8624cc378514d2",
            "ecb62eb4d1e84a1ca2087d3e990af59f",
            "6a317cc6f969476dba89b7492ce442b0",
            "96e70e4f9aba4880a9179b5033c9f7fc",
            "f8b1cb977c024f7cb0945fdf0ba42cd3",
            "688ee6c4651c4e6aa562d4347e77e8d7",
            "65acf16e57be4a18bf8d1f05fe134f8a",
            "ed238b7585904d8b8e2b7024d0e04599",
            "00c3ff83c86546e993535e803e7a3097",
            "6ba954864c614bf7834adf5540248671",
            "fd18033f4fd04b79bb29ed481fa33c2e",
            "385459def67240698cb9b98dd50ee011",
            "1bf035c8f895462fa51879e45c9e5aed",
            "da8257ed74f74538a6d59196d6e5f396",
            "f42749b4badd433fad7c18551563b780",
            "3b55c6dcbc6846b6ac16988f9c4a96e0",
            "5bef67cce3a1469d83e6ee7f0a0c2783",
            "74a43cc858574188b263b676151a2a84",
            "9702b61ca3bc411aa89717c74460412f",
            "4c9e2792989c4e7a945b805f30733501",
            "8121d7adca4f40bcb1ee8635853488f9",
            "bb380529cb094b44b40b688a71221b3a",
            "4368795800bf4b0a9046b374eab55ec5",
            "155070e60bca41dea28ce7964b1c3343",
            "404879592ee94637a148366d825084d2",
            "cb6a2577d1b541c88f2515b2fc9d838c",
            "9c6d509db7904b42aa36c805c2b6fbde",
            "90ebe32571774d4cb6bea4555dd54f5a",
            "0ece4c6a66a54560b914eb1836ced1d0",
            "663f3e91167440e2967538c4623f7498",
            "ed8bc032f4084ec598dfbb7fc172539b",
            "4546796dbff040f0943f6df6c5882202",
            "774fb4243f674a9d94841a74afce7768",
            "617dc9c53216404795ab830114313a6c",
            "789b95ae91d3417b886b1b761dfa78b0",
            "d8be4edd5e844228a1845e26b76987cc",
            "bddfcb339a74418daee882294899cd1c",
            "3eedced053f24dbfa1a332165757a507",
            "7db6f35ac31941fe8b54c7fa438b4dd1",
            "f66c34826d064cdb980ed44269fbe629",
            "8ee4d5c845414c86a1b4f3cb7832b34f",
            "b063ef91adf640d9b50926ddf56deb83",
            "a7475e2b05f945718a7e759be7f7e183",
            "5b345a4222e2478ca9c9216a32be07c4",
            "1259b59685954dfd9448d7438c66234c",
            "3ec67e5108c84287a3453d55dde387af",
            "c0f9d677882144a8914b7ae6ee0370d3",
            "6bce751581284a9ba1420aa30155c20c",
            "ada6c1ffd8d0428e9f0c6a7bf36e91c9",
            "68213fcf0b6a4561b755691536d0a610",
            "bd6dc568f01b42d8be8bf935951bce96",
            "a27bcefcf0234a6a9e04a32a8e1aee80",
            "2e1b12180d6c4441af12f30c670d4bb3",
            "138948f45cdd409d9260d3bd48f9a6ee",
            "d7dea33dca4649d2907fe9d389013a04",
            "d6b6aac6c56c422ab030883a11fe833e",
            "fe64b445cbff4974b0dd17ae85656cdf",
            "4a0ed66fe628480497d7203dd6a7268b",
            "ee327dd7aede4e9b9092b5a60ecbf4da",
            "e4d88372bc3242a58be4d68452c07124",
            "cc48deb4cfba42e19b8688e2235f84c3",
            "e224fe51171c47fbb842477fe80b0b05",
            "717af470482b4734b8315c5b754b5907",
            "af4762da43824015bd7399a3270a3f3e",
            "4cd4dccb3d5e4a19a71a963bc6d6f94d",
            "126d9c2567824e1aa497435645e837fe",
            "337917d57a194f0bbf7bf1b4010c43a0",
            "43459f8a59d945c49534f911def84790",
            "6ab5316997ee4282903f9d522853ea55",
            "26ce0ed67e70430d9c89213bf07992f3",
            "c86205728c3e4c96b48de4d38b39542a",
            "1961303cddfa4d6fa38250921c5769bd",
            "04d85eaf2bc14e8a83dfb241687fedf5",
            "9d14f0a67d9a4f6ea0b76b3aa4bb7a62",
            "a5757e8518274a28a628be06dcd7bc3b",
            "6449d3788ed149128a73155ab5fe6df0",
            "db6d8d4fd05b466d9f6998ead12cf15f",
            "e032e3ba87ab4e489609efe954827c86",
            "6f00856207e84169b2f67a293becd028",
            "b39971d25b3146a0b4719ccfc0fb6af8",
            "daafede78e8c42fa8b58783ea113c173",
            "392f5d3aa32840fcb6275270494510b5",
            "0af5bcd7c3f84a0e9ff4ce6ca2b00dcd",
            "d7a22467b55e448fb8b06d4527de0e97",
            "015f15161099479499f5d9beecb897a1",
            "46f2ed43c9a84c638358397b6060e4fe",
            "13b47ba9fc604c22911669775f536116",
            "d0460da60f0041b3b3a05746a8b840d3",
            "c42fc9f10c664cafabfd7ad6770b5b75",
            "9c9a0bb6464b430a8ec01c0c097ba23b",
            "bae02c1cc6b14328b700a97738e4a13b"
          ]
        },
        "outputId": "e5de7cac-e2ac-494e-ade2-62e325307d27"
      },
      "execution_count": null,
      "outputs": [
        {
          "output_type": "stream",
          "name": "stderr",
          "text": [
            "/usr/local/lib/python3.10/dist-packages/huggingface_hub/utils/_auth.py:94: UserWarning: \n",
            "The secret `HF_TOKEN` does not exist in your Colab secrets.\n",
            "To authenticate with the Hugging Face Hub, create a token in your settings tab (https://huggingface.co/settings/tokens), set it as secret in your Google Colab and restart your session.\n",
            "You will be able to reuse this secret in all of your notebooks.\n",
            "Please note that authentication is recommended but still optional to access public models or datasets.\n",
            "  warnings.warn(\n"
          ]
        },
        {
          "output_type": "display_data",
          "data": {
            "text/plain": [
              "modules.json:   0%|          | 0.00/349 [00:00<?, ?B/s]"
            ],
            "application/vnd.jupyter.widget-view+json": {
              "version_major": 2,
              "version_minor": 0,
              "model_id": "9f21c27c7a3f4bc5b2880ae43a36885a"
            }
          },
          "metadata": {}
        },
        {
          "output_type": "display_data",
          "data": {
            "text/plain": [
              "config_sentence_transformers.json:   0%|          | 0.00/124 [00:00<?, ?B/s]"
            ],
            "application/vnd.jupyter.widget-view+json": {
              "version_major": 2,
              "version_minor": 0,
              "model_id": "e3b4fbb1c8234b76a34fb5c6d8c103a8"
            }
          },
          "metadata": {}
        },
        {
          "output_type": "display_data",
          "data": {
            "text/plain": [
              "README.md:   0%|          | 0.00/90.8k [00:00<?, ?B/s]"
            ],
            "application/vnd.jupyter.widget-view+json": {
              "version_major": 2,
              "version_minor": 0,
              "model_id": "43cab70450b741bf81f891f9ff27f637"
            }
          },
          "metadata": {}
        },
        {
          "output_type": "display_data",
          "data": {
            "text/plain": [
              "sentence_bert_config.json:   0%|          | 0.00/52.0 [00:00<?, ?B/s]"
            ],
            "application/vnd.jupyter.widget-view+json": {
              "version_major": 2,
              "version_minor": 0,
              "model_id": "96e70e4f9aba4880a9179b5033c9f7fc"
            }
          },
          "metadata": {}
        },
        {
          "output_type": "display_data",
          "data": {
            "text/plain": [
              "config.json:   0%|          | 0.00/684 [00:00<?, ?B/s]"
            ],
            "application/vnd.jupyter.widget-view+json": {
              "version_major": 2,
              "version_minor": 0,
              "model_id": "f42749b4badd433fad7c18551563b780"
            }
          },
          "metadata": {}
        },
        {
          "output_type": "display_data",
          "data": {
            "text/plain": [
              "model.safetensors:   0%|          | 0.00/133M [00:00<?, ?B/s]"
            ],
            "application/vnd.jupyter.widget-view+json": {
              "version_major": 2,
              "version_minor": 0,
              "model_id": "cb6a2577d1b541c88f2515b2fc9d838c"
            }
          },
          "metadata": {}
        },
        {
          "output_type": "display_data",
          "data": {
            "text/plain": [
              "tokenizer_config.json:   0%|          | 0.00/366 [00:00<?, ?B/s]"
            ],
            "application/vnd.jupyter.widget-view+json": {
              "version_major": 2,
              "version_minor": 0,
              "model_id": "bddfcb339a74418daee882294899cd1c"
            }
          },
          "metadata": {}
        },
        {
          "output_type": "display_data",
          "data": {
            "text/plain": [
              "vocab.txt:   0%|          | 0.00/232k [00:00<?, ?B/s]"
            ],
            "application/vnd.jupyter.widget-view+json": {
              "version_major": 2,
              "version_minor": 0,
              "model_id": "6bce751581284a9ba1420aa30155c20c"
            }
          },
          "metadata": {}
        },
        {
          "output_type": "display_data",
          "data": {
            "text/plain": [
              "tokenizer.json:   0%|          | 0.00/711k [00:00<?, ?B/s]"
            ],
            "application/vnd.jupyter.widget-view+json": {
              "version_major": 2,
              "version_minor": 0,
              "model_id": "ee327dd7aede4e9b9092b5a60ecbf4da"
            }
          },
          "metadata": {}
        },
        {
          "output_type": "display_data",
          "data": {
            "text/plain": [
              "special_tokens_map.json:   0%|          | 0.00/125 [00:00<?, ?B/s]"
            ],
            "application/vnd.jupyter.widget-view+json": {
              "version_major": 2,
              "version_minor": 0,
              "model_id": "26ce0ed67e70430d9c89213bf07992f3"
            }
          },
          "metadata": {}
        },
        {
          "output_type": "display_data",
          "data": {
            "text/plain": [
              "1_Pooling/config.json:   0%|          | 0.00/190 [00:00<?, ?B/s]"
            ],
            "application/vnd.jupyter.widget-view+json": {
              "version_major": 2,
              "version_minor": 0,
              "model_id": "daafede78e8c42fa8b58783ea113c173"
            }
          },
          "metadata": {}
        }
      ]
    },
    {
      "cell_type": "code",
      "source": [
        "model"
      ],
      "metadata": {
        "id": "Y4wJgYpg1-Nh",
        "colab": {
          "base_uri": "https://localhost:8080/"
        },
        "outputId": "17e8c971-817e-4095-db02-ff320763f3b5"
      },
      "execution_count": null,
      "outputs": [
        {
          "output_type": "execute_result",
          "data": {
            "text/plain": [
              "SentenceTransformer(\n",
              "  (0): Transformer({'max_seq_length': 512, 'do_lower_case': True}) with Transformer model: BertModel \n",
              "  (1): Pooling({'word_embedding_dimension': 384, 'pooling_mode_cls_token': True, 'pooling_mode_mean_tokens': False, 'pooling_mode_max_tokens': False, 'pooling_mode_mean_sqrt_len_tokens': False, 'pooling_mode_weightedmean_tokens': False, 'pooling_mode_lasttoken': False, 'include_prompt': True})\n",
              "  (2): Normalize()\n",
              ")"
            ]
          },
          "metadata": {},
          "execution_count": 23
        }
      ]
    },
    {
      "cell_type": "markdown",
      "source": [
        "Let's load our data into the desired format!"
      ],
      "metadata": {
        "id": "fBP9U6w-Jyyo"
      }
    },
    {
      "cell_type": "code",
      "source": [
        "from torch.utils.data import DataLoader\n",
        "from sentence_transformers import InputExample"
      ],
      "metadata": {
        "id": "cUy0HwPp1-TW"
      },
      "execution_count": null,
      "outputs": []
    },
    {
      "cell_type": "code",
      "source": [
        "!git clone https://github.com/AI-Maker-Space/DataRepository"
      ],
      "metadata": {
        "colab": {
          "base_uri": "https://localhost:8080/"
        },
        "id": "xhxUvhnkghmo",
        "outputId": "edafa290-982a-4f6c-fd07-dfc92cf812a5"
      },
      "execution_count": null,
      "outputs": [
        {
          "output_type": "stream",
          "name": "stdout",
          "text": [
            "Cloning into 'DataRepository'...\n",
            "remote: Enumerating objects: 119, done.\u001b[K\n",
            "remote: Counting objects: 100% (111/111), done.\u001b[K\n",
            "remote: Compressing objects: 100% (96/96), done.\u001b[K\n",
            "remote: Total 119 (delta 36), reused 40 (delta 10), pack-reused 8 (from 1)\u001b[K\n",
            "Receiving objects: 100% (119/119), 78.04 MiB | 12.17 MiB/s, done.\n",
            "Resolving deltas: 100% (36/36), done.\n"
          ]
        }
      ]
    },
    {
      "cell_type": "code",
      "source": [
        "TRAIN_DATASET_FPATH = './DataRepository/embedding_data/train_dataset.json'\n",
        "VAL_DATASET_FPATH = './DataRepository/embedding_data/eval_dataset.json'"
      ],
      "metadata": {
        "id": "q7OEQVmu2Kfb"
      },
      "execution_count": null,
      "outputs": []
    },
    {
      "cell_type": "code",
      "source": [
        "import json\n",
        "\n",
        "with open(TRAIN_DATASET_FPATH, 'r+') as f:\n",
        "    train_dataset = json.load(f)\n",
        "\n",
        "with open(VAL_DATASET_FPATH, 'r+') as f:\n",
        "    val_dataset = json.load(f)"
      ],
      "metadata": {
        "id": "Mw_hAOx_2NLz"
      },
      "execution_count": null,
      "outputs": []
    },
    {
      "cell_type": "code",
      "source": [
        "dataset = train_dataset\n",
        "\n",
        "corpus = dataset['corpus']\n",
        "queries = dataset['queries']\n",
        "relevant_docs = dataset['relevant_docs']\n",
        "\n",
        "examples = []\n",
        "for query_id, query in queries.items():\n",
        "    node_id = relevant_docs[query_id][0]\n",
        "    text = corpus[node_id]\n",
        "    example = InputExample(texts=[query, text])\n",
        "    examples.append(example)"
      ],
      "metadata": {
        "id": "6tOJ3GIN2Odx"
      },
      "execution_count": null,
      "outputs": []
    },
    {
      "cell_type": "markdown",
      "source": [
        "We're going to be leveraging `sentence_transformers` `MultipleNegativesRankingLoss` as our loss function.\n",
        "\n",
        "You can read more about it in the docs, [here](https://www.sbert.net/docs/package_reference/losses.html#multiplenegativesrankingloss).\n",
        "\n",
        "Note that there is [research](https://arxiv.org/pdf/1705.00652.pdf) that indicates that performance generally scales with `BATCH_SIZE`, but we're going to stick with an arbitrary 10 for the example in the notebook."
      ],
      "metadata": {
        "id": "6uAhnbW_LxaK"
      }
    },
    {
      "cell_type": "markdown",
      "source": [
        "##### ❓ Question #3:\n",
        "\n",
        "What is happening in `MultipleNegativesRankingLoss` that makes it useful for our task?"
      ],
      "metadata": {
        "id": "4lcgcmPdd3K2"
      }
    },
    {
      "cell_type": "code",
      "source": [
        "from sentence_transformers import losses"
      ],
      "metadata": {
        "id": "JwX2ltEj2RBn"
      },
      "execution_count": null,
      "outputs": []
    },
    {
      "cell_type": "code",
      "source": [
        "loss = losses.MultipleNegativesRankingLoss(model)"
      ],
      "metadata": {
        "id": "T6LQuafa2R54"
      },
      "execution_count": null,
      "outputs": []
    },
    {
      "cell_type": "code",
      "source": [
        "BATCH_SIZE = 10\n",
        "\n",
        "loader = DataLoader(\n",
        "    examples, batch_size=BATCH_SIZE\n",
        ")"
      ],
      "metadata": {
        "id": "RCZwGmQY2Pv5"
      },
      "execution_count": null,
      "outputs": []
    },
    {
      "cell_type": "markdown",
      "source": [
        "We'll set up the `InformationRetrievalEvaluator` to determine performance during training."
      ],
      "metadata": {
        "id": "lpPrZ_6ZMOqh"
      }
    },
    {
      "cell_type": "code",
      "source": [
        "from sentence_transformers.evaluation import InformationRetrievalEvaluator"
      ],
      "metadata": {
        "id": "HCuVK5S22TnQ"
      },
      "execution_count": null,
      "outputs": []
    },
    {
      "cell_type": "code",
      "source": [
        "dataset = val_dataset\n",
        "\n",
        "corpus = dataset['corpus']\n",
        "queries = dataset['queries']\n",
        "relevant_docs = dataset['relevant_docs']\n",
        "\n",
        "evaluator = InformationRetrievalEvaluator(queries, corpus, relevant_docs)"
      ],
      "metadata": {
        "id": "0d90XGt92U1P"
      },
      "execution_count": null,
      "outputs": []
    },
    {
      "cell_type": "markdown",
      "source": [
        "You could use a larger epoch size here, but for the example in the Notebook, we'll stick with 10."
      ],
      "metadata": {
        "id": "P2GR2A28MUBD"
      }
    },
    {
      "cell_type": "code",
      "source": [
        "EPOCHS = 10"
      ],
      "metadata": {
        "id": "un4ee2dM2WF4"
      },
      "execution_count": null,
      "outputs": []
    },
    {
      "cell_type": "markdown",
      "source": [
        "Nothing left to do but #trainthatmodel!\n",
        "\n",
        "> NOTE: You'll need to make sure you enter the desired Weights and Biases key - you should be able to simple click the link `https://wandb.ai/authorize` and follow the outlined steps to get the API key."
      ],
      "metadata": {
        "id": "mhClKkMLMZxW"
      }
    },
    {
      "cell_type": "code",
      "source": [
        "import os\n",
        "os.environ[\"WANDB_DISABLED\"] = \"true\""
      ],
      "metadata": {
        "id": "AjUh-ecqTxmQ"
      },
      "execution_count": null,
      "outputs": []
    },
    {
      "cell_type": "code",
      "source": [
        "from datasets import Dataset\n",
        "from torch.utils.data import DataLoader\n",
        "\n",
        "warmup_steps = int(len(loader) * EPOCHS * 0.1)\n",
        "\n",
        "model.fit(\n",
        "    train_objectives=[(loader, loss)],\n",
        "    epochs=EPOCHS,\n",
        "    warmup_steps=warmup_steps,\n",
        "    output_path='exp_finetune',\n",
        "    show_progress_bar=True,\n",
        "    evaluator=evaluator,\n",
        "    evaluation_steps=50,\n",
        ")"
      ],
      "metadata": {
        "id": "l8-oSdDB2Ymm",
        "colab": {
          "base_uri": "https://localhost:8080/",
          "height": 776,
          "referenced_widgets": [
            "f9af9a6cf6b34397a0dfa5fd50931395",
            "3aba645451fd4dad9286008a1f0b7646",
            "65b797010791412bb6d2cb364d54f1f2",
            "ec48df16fc0d44249f40b9b58330034e",
            "41ca5ccbdc464d36b12a8d39b2c3c409",
            "d90f7c15f36e4a2191b841809e71ee06",
            "d946e6dec62b4426bd481d03ff47799b",
            "40c7b7a285394432906e234cf856db57",
            "854743f4fb69413c82e65da9c5eec433",
            "3f8d865191fd4ed8adbc520f66a576e8",
            "36299c3dd5d4479a839a011b727b9877"
          ]
        },
        "outputId": "8a42a0ed-44fd-4fae-e68d-87ea900aae6f"
      },
      "execution_count": null,
      "outputs": [
        {
          "output_type": "stream",
          "name": "stderr",
          "text": [
            "Using the `WANDB_DISABLED` environment variable is deprecated and will be removed in v5. Use the --report_to flag to control the integrations used for logging result (for instance --report_to none).\n",
            "Using the `WANDB_DISABLED` environment variable is deprecated and will be removed in v5. Use the --report_to flag to control the integrations used for logging result (for instance --report_to none).\n"
          ]
        },
        {
          "output_type": "display_data",
          "data": {
            "text/plain": [
              "<IPython.core.display.HTML object>"
            ],
            "text/html": [
              "\n",
              "    <div>\n",
              "      \n",
              "      <progress value='600' max='600' style='width:300px; height:20px; vertical-align: middle;'></progress>\n",
              "      [600/600 02:09, Epoch 10/10]\n",
              "    </div>\n",
              "    <table border=\"1\" class=\"dataframe\">\n",
              "  <thead>\n",
              " <tr style=\"text-align: left;\">\n",
              "      <th>Step</th>\n",
              "      <th>Training Loss</th>\n",
              "      <th>Validation Loss</th>\n",
              "      <th>Cosine Accuracy@1</th>\n",
              "      <th>Cosine Accuracy@3</th>\n",
              "      <th>Cosine Accuracy@5</th>\n",
              "      <th>Cosine Accuracy@10</th>\n",
              "      <th>Cosine Precision@1</th>\n",
              "      <th>Cosine Precision@3</th>\n",
              "      <th>Cosine Precision@5</th>\n",
              "      <th>Cosine Precision@10</th>\n",
              "      <th>Cosine Recall@1</th>\n",
              "      <th>Cosine Recall@3</th>\n",
              "      <th>Cosine Recall@5</th>\n",
              "      <th>Cosine Recall@10</th>\n",
              "      <th>Cosine Ndcg@10</th>\n",
              "      <th>Cosine Mrr@10</th>\n",
              "      <th>Cosine Map@100</th>\n",
              "    </tr>\n",
              "  </thead>\n",
              "  <tbody>\n",
              "    <tr>\n",
              "      <td>50</td>\n",
              "      <td>No log</td>\n",
              "      <td>No log</td>\n",
              "      <td>0.630872</td>\n",
              "      <td>0.791946</td>\n",
              "      <td>0.838926</td>\n",
              "      <td>0.899329</td>\n",
              "      <td>0.630872</td>\n",
              "      <td>0.263982</td>\n",
              "      <td>0.167785</td>\n",
              "      <td>0.089933</td>\n",
              "      <td>0.630872</td>\n",
              "      <td>0.791946</td>\n",
              "      <td>0.838926</td>\n",
              "      <td>0.899329</td>\n",
              "      <td>0.763430</td>\n",
              "      <td>0.720113</td>\n",
              "      <td>0.724508</td>\n",
              "    </tr>\n",
              "    <tr>\n",
              "      <td>60</td>\n",
              "      <td>No log</td>\n",
              "      <td>No log</td>\n",
              "      <td>0.627517</td>\n",
              "      <td>0.778523</td>\n",
              "      <td>0.842282</td>\n",
              "      <td>0.885906</td>\n",
              "      <td>0.627517</td>\n",
              "      <td>0.259508</td>\n",
              "      <td>0.168456</td>\n",
              "      <td>0.088591</td>\n",
              "      <td>0.627517</td>\n",
              "      <td>0.778523</td>\n",
              "      <td>0.842282</td>\n",
              "      <td>0.885906</td>\n",
              "      <td>0.755411</td>\n",
              "      <td>0.713607</td>\n",
              "      <td>0.718658</td>\n",
              "    </tr>\n",
              "    <tr>\n",
              "      <td>100</td>\n",
              "      <td>No log</td>\n",
              "      <td>No log</td>\n",
              "      <td>0.644295</td>\n",
              "      <td>0.788591</td>\n",
              "      <td>0.845638</td>\n",
              "      <td>0.895973</td>\n",
              "      <td>0.644295</td>\n",
              "      <td>0.262864</td>\n",
              "      <td>0.169128</td>\n",
              "      <td>0.089597</td>\n",
              "      <td>0.644295</td>\n",
              "      <td>0.788591</td>\n",
              "      <td>0.845638</td>\n",
              "      <td>0.895973</td>\n",
              "      <td>0.767730</td>\n",
              "      <td>0.726899</td>\n",
              "      <td>0.731367</td>\n",
              "    </tr>\n",
              "    <tr>\n",
              "      <td>120</td>\n",
              "      <td>No log</td>\n",
              "      <td>No log</td>\n",
              "      <td>0.634228</td>\n",
              "      <td>0.788591</td>\n",
              "      <td>0.832215</td>\n",
              "      <td>0.895973</td>\n",
              "      <td>0.634228</td>\n",
              "      <td>0.262864</td>\n",
              "      <td>0.166443</td>\n",
              "      <td>0.089597</td>\n",
              "      <td>0.634228</td>\n",
              "      <td>0.788591</td>\n",
              "      <td>0.832215</td>\n",
              "      <td>0.895973</td>\n",
              "      <td>0.764712</td>\n",
              "      <td>0.722739</td>\n",
              "      <td>0.727859</td>\n",
              "    </tr>\n",
              "    <tr>\n",
              "      <td>150</td>\n",
              "      <td>No log</td>\n",
              "      <td>No log</td>\n",
              "      <td>0.630872</td>\n",
              "      <td>0.771812</td>\n",
              "      <td>0.835570</td>\n",
              "      <td>0.885906</td>\n",
              "      <td>0.630872</td>\n",
              "      <td>0.257271</td>\n",
              "      <td>0.167114</td>\n",
              "      <td>0.088591</td>\n",
              "      <td>0.630872</td>\n",
              "      <td>0.771812</td>\n",
              "      <td>0.835570</td>\n",
              "      <td>0.885906</td>\n",
              "      <td>0.756317</td>\n",
              "      <td>0.714995</td>\n",
              "      <td>0.720317</td>\n",
              "    </tr>\n",
              "    <tr>\n",
              "      <td>180</td>\n",
              "      <td>No log</td>\n",
              "      <td>No log</td>\n",
              "      <td>0.637584</td>\n",
              "      <td>0.798658</td>\n",
              "      <td>0.832215</td>\n",
              "      <td>0.902685</td>\n",
              "      <td>0.637584</td>\n",
              "      <td>0.266219</td>\n",
              "      <td>0.166443</td>\n",
              "      <td>0.090268</td>\n",
              "      <td>0.637584</td>\n",
              "      <td>0.798658</td>\n",
              "      <td>0.832215</td>\n",
              "      <td>0.902685</td>\n",
              "      <td>0.767390</td>\n",
              "      <td>0.724489</td>\n",
              "      <td>0.728832</td>\n",
              "    </tr>\n",
              "    <tr>\n",
              "      <td>200</td>\n",
              "      <td>No log</td>\n",
              "      <td>No log</td>\n",
              "      <td>0.630872</td>\n",
              "      <td>0.795302</td>\n",
              "      <td>0.835570</td>\n",
              "      <td>0.906040</td>\n",
              "      <td>0.630872</td>\n",
              "      <td>0.265101</td>\n",
              "      <td>0.167114</td>\n",
              "      <td>0.090604</td>\n",
              "      <td>0.630872</td>\n",
              "      <td>0.795302</td>\n",
              "      <td>0.835570</td>\n",
              "      <td>0.906040</td>\n",
              "      <td>0.766550</td>\n",
              "      <td>0.722321</td>\n",
              "      <td>0.726448</td>\n",
              "    </tr>\n",
              "    <tr>\n",
              "      <td>240</td>\n",
              "      <td>No log</td>\n",
              "      <td>No log</td>\n",
              "      <td>0.627517</td>\n",
              "      <td>0.778523</td>\n",
              "      <td>0.812081</td>\n",
              "      <td>0.889262</td>\n",
              "      <td>0.627517</td>\n",
              "      <td>0.259508</td>\n",
              "      <td>0.162416</td>\n",
              "      <td>0.088926</td>\n",
              "      <td>0.627517</td>\n",
              "      <td>0.778523</td>\n",
              "      <td>0.812081</td>\n",
              "      <td>0.889262</td>\n",
              "      <td>0.755208</td>\n",
              "      <td>0.712708</td>\n",
              "      <td>0.717628</td>\n",
              "    </tr>\n",
              "    <tr>\n",
              "      <td>250</td>\n",
              "      <td>No log</td>\n",
              "      <td>No log</td>\n",
              "      <td>0.634228</td>\n",
              "      <td>0.778523</td>\n",
              "      <td>0.815436</td>\n",
              "      <td>0.889262</td>\n",
              "      <td>0.634228</td>\n",
              "      <td>0.259508</td>\n",
              "      <td>0.163087</td>\n",
              "      <td>0.088926</td>\n",
              "      <td>0.634228</td>\n",
              "      <td>0.778523</td>\n",
              "      <td>0.815436</td>\n",
              "      <td>0.889262</td>\n",
              "      <td>0.758341</td>\n",
              "      <td>0.716775</td>\n",
              "      <td>0.722066</td>\n",
              "    </tr>\n",
              "    <tr>\n",
              "      <td>300</td>\n",
              "      <td>No log</td>\n",
              "      <td>No log</td>\n",
              "      <td>0.637584</td>\n",
              "      <td>0.791946</td>\n",
              "      <td>0.838926</td>\n",
              "      <td>0.895973</td>\n",
              "      <td>0.637584</td>\n",
              "      <td>0.263982</td>\n",
              "      <td>0.167785</td>\n",
              "      <td>0.089597</td>\n",
              "      <td>0.637584</td>\n",
              "      <td>0.791946</td>\n",
              "      <td>0.838926</td>\n",
              "      <td>0.895973</td>\n",
              "      <td>0.764657</td>\n",
              "      <td>0.722772</td>\n",
              "      <td>0.727183</td>\n",
              "    </tr>\n",
              "    <tr>\n",
              "      <td>350</td>\n",
              "      <td>No log</td>\n",
              "      <td>No log</td>\n",
              "      <td>0.614094</td>\n",
              "      <td>0.795302</td>\n",
              "      <td>0.828859</td>\n",
              "      <td>0.892617</td>\n",
              "      <td>0.614094</td>\n",
              "      <td>0.265101</td>\n",
              "      <td>0.165772</td>\n",
              "      <td>0.089262</td>\n",
              "      <td>0.614094</td>\n",
              "      <td>0.795302</td>\n",
              "      <td>0.828859</td>\n",
              "      <td>0.892617</td>\n",
              "      <td>0.753747</td>\n",
              "      <td>0.709248</td>\n",
              "      <td>0.713611</td>\n",
              "    </tr>\n",
              "    <tr>\n",
              "      <td>360</td>\n",
              "      <td>No log</td>\n",
              "      <td>No log</td>\n",
              "      <td>0.624161</td>\n",
              "      <td>0.785235</td>\n",
              "      <td>0.825503</td>\n",
              "      <td>0.889262</td>\n",
              "      <td>0.624161</td>\n",
              "      <td>0.261745</td>\n",
              "      <td>0.165101</td>\n",
              "      <td>0.088926</td>\n",
              "      <td>0.624161</td>\n",
              "      <td>0.785235</td>\n",
              "      <td>0.825503</td>\n",
              "      <td>0.889262</td>\n",
              "      <td>0.755448</td>\n",
              "      <td>0.712725</td>\n",
              "      <td>0.717313</td>\n",
              "    </tr>\n",
              "    <tr>\n",
              "      <td>400</td>\n",
              "      <td>No log</td>\n",
              "      <td>No log</td>\n",
              "      <td>0.637584</td>\n",
              "      <td>0.788591</td>\n",
              "      <td>0.842282</td>\n",
              "      <td>0.892617</td>\n",
              "      <td>0.637584</td>\n",
              "      <td>0.262864</td>\n",
              "      <td>0.168456</td>\n",
              "      <td>0.089262</td>\n",
              "      <td>0.637584</td>\n",
              "      <td>0.788591</td>\n",
              "      <td>0.842282</td>\n",
              "      <td>0.892617</td>\n",
              "      <td>0.765749</td>\n",
              "      <td>0.724904</td>\n",
              "      <td>0.729708</td>\n",
              "    </tr>\n",
              "    <tr>\n",
              "      <td>420</td>\n",
              "      <td>No log</td>\n",
              "      <td>No log</td>\n",
              "      <td>0.637584</td>\n",
              "      <td>0.791946</td>\n",
              "      <td>0.848993</td>\n",
              "      <td>0.892617</td>\n",
              "      <td>0.637584</td>\n",
              "      <td>0.263982</td>\n",
              "      <td>0.169799</td>\n",
              "      <td>0.089262</td>\n",
              "      <td>0.637584</td>\n",
              "      <td>0.791946</td>\n",
              "      <td>0.848993</td>\n",
              "      <td>0.892617</td>\n",
              "      <td>0.765594</td>\n",
              "      <td>0.724688</td>\n",
              "      <td>0.729387</td>\n",
              "    </tr>\n",
              "    <tr>\n",
              "      <td>450</td>\n",
              "      <td>No log</td>\n",
              "      <td>No log</td>\n",
              "      <td>0.634228</td>\n",
              "      <td>0.785235</td>\n",
              "      <td>0.842282</td>\n",
              "      <td>0.885906</td>\n",
              "      <td>0.634228</td>\n",
              "      <td>0.261745</td>\n",
              "      <td>0.168456</td>\n",
              "      <td>0.088591</td>\n",
              "      <td>0.634228</td>\n",
              "      <td>0.785235</td>\n",
              "      <td>0.842282</td>\n",
              "      <td>0.885906</td>\n",
              "      <td>0.759971</td>\n",
              "      <td>0.719484</td>\n",
              "      <td>0.724560</td>\n",
              "    </tr>\n",
              "    <tr>\n",
              "      <td>480</td>\n",
              "      <td>No log</td>\n",
              "      <td>No log</td>\n",
              "      <td>0.634228</td>\n",
              "      <td>0.788591</td>\n",
              "      <td>0.835570</td>\n",
              "      <td>0.892617</td>\n",
              "      <td>0.634228</td>\n",
              "      <td>0.262864</td>\n",
              "      <td>0.167114</td>\n",
              "      <td>0.089262</td>\n",
              "      <td>0.634228</td>\n",
              "      <td>0.788591</td>\n",
              "      <td>0.835570</td>\n",
              "      <td>0.892617</td>\n",
              "      <td>0.761011</td>\n",
              "      <td>0.719037</td>\n",
              "      <td>0.723595</td>\n",
              "    </tr>\n",
              "    <tr>\n",
              "      <td>500</td>\n",
              "      <td>0.233700</td>\n",
              "      <td>No log</td>\n",
              "      <td>0.627517</td>\n",
              "      <td>0.785235</td>\n",
              "      <td>0.835570</td>\n",
              "      <td>0.892617</td>\n",
              "      <td>0.627517</td>\n",
              "      <td>0.261745</td>\n",
              "      <td>0.167114</td>\n",
              "      <td>0.089262</td>\n",
              "      <td>0.627517</td>\n",
              "      <td>0.785235</td>\n",
              "      <td>0.835570</td>\n",
              "      <td>0.892617</td>\n",
              "      <td>0.758707</td>\n",
              "      <td>0.715921</td>\n",
              "      <td>0.720494</td>\n",
              "    </tr>\n",
              "    <tr>\n",
              "      <td>540</td>\n",
              "      <td>0.233700</td>\n",
              "      <td>No log</td>\n",
              "      <td>0.627517</td>\n",
              "      <td>0.788591</td>\n",
              "      <td>0.832215</td>\n",
              "      <td>0.892617</td>\n",
              "      <td>0.627517</td>\n",
              "      <td>0.262864</td>\n",
              "      <td>0.166443</td>\n",
              "      <td>0.089262</td>\n",
              "      <td>0.627517</td>\n",
              "      <td>0.788591</td>\n",
              "      <td>0.832215</td>\n",
              "      <td>0.892617</td>\n",
              "      <td>0.758650</td>\n",
              "      <td>0.715884</td>\n",
              "      <td>0.720390</td>\n",
              "    </tr>\n",
              "    <tr>\n",
              "      <td>550</td>\n",
              "      <td>0.233700</td>\n",
              "      <td>No log</td>\n",
              "      <td>0.627517</td>\n",
              "      <td>0.785235</td>\n",
              "      <td>0.832215</td>\n",
              "      <td>0.892617</td>\n",
              "      <td>0.627517</td>\n",
              "      <td>0.261745</td>\n",
              "      <td>0.166443</td>\n",
              "      <td>0.089262</td>\n",
              "      <td>0.627517</td>\n",
              "      <td>0.785235</td>\n",
              "      <td>0.832215</td>\n",
              "      <td>0.892617</td>\n",
              "      <td>0.758534</td>\n",
              "      <td>0.715721</td>\n",
              "      <td>0.720230</td>\n",
              "    </tr>\n",
              "    <tr>\n",
              "      <td>600</td>\n",
              "      <td>0.233700</td>\n",
              "      <td>No log</td>\n",
              "      <td>0.627517</td>\n",
              "      <td>0.788591</td>\n",
              "      <td>0.835570</td>\n",
              "      <td>0.892617</td>\n",
              "      <td>0.627517</td>\n",
              "      <td>0.262864</td>\n",
              "      <td>0.167114</td>\n",
              "      <td>0.089262</td>\n",
              "      <td>0.627517</td>\n",
              "      <td>0.788591</td>\n",
              "      <td>0.835570</td>\n",
              "      <td>0.892617</td>\n",
              "      <td>0.758799</td>\n",
              "      <td>0.716025</td>\n",
              "      <td>0.720560</td>\n",
              "    </tr>\n",
              "  </tbody>\n",
              "</table><p>"
            ]
          },
          "metadata": {}
        },
        {
          "output_type": "display_data",
          "data": {
            "text/plain": [
              "Computing widget examples:   0%|          | 0/1 [00:00<?, ?example/s]"
            ],
            "application/vnd.jupyter.widget-view+json": {
              "version_major": 2,
              "version_minor": 0,
              "model_id": "f9af9a6cf6b34397a0dfa5fd50931395"
            }
          },
          "metadata": {}
        }
      ]
    },
    {
      "cell_type": "markdown",
      "source": [
        "### Task 2: Evaluating our Embeddings Models\n",
        "\n",
        "Now that we've fine-tuned our embedding model on our data - lets see how it performs compared to the base embeddings!"
      ],
      "metadata": {
        "id": "pqfp0F8lMeal"
      }
    },
    {
      "cell_type": "code",
      "source": [
        "import json\n",
        "from tqdm.notebook import tqdm\n",
        "import pandas as pd"
      ],
      "metadata": {
        "id": "OTtogOHpAUnA"
      },
      "execution_count": null,
      "outputs": []
    },
    {
      "cell_type": "code",
      "source": [
        "TRAIN_DATASET_FPATH = './DataRepository/embedding_data/train_dataset.json'\n",
        "EVAL_DATASET_FPATH = './DataRepository/embedding_data/eval_dataset.json'"
      ],
      "metadata": {
        "id": "phzSwbIWAVPB"
      },
      "execution_count": null,
      "outputs": []
    },
    {
      "cell_type": "code",
      "source": [
        "with open(TRAIN_DATASET_FPATH, 'r+') as f:\n",
        "    train_dataset = json.load(f)\n",
        "\n",
        "with open(EVAL_DATASET_FPATH, 'r+') as f:\n",
        "    eval_dataset = json.load(f)"
      ],
      "metadata": {
        "id": "SNygAxVNAYdT"
      },
      "execution_count": null,
      "outputs": []
    },
    {
      "cell_type": "markdown",
      "source": [
        "We're going to be using the `InformationRetrievalEvaluator` to help us determine how well our embedding model is performing on a widely used task: Information Retrieval!\n",
        "\n",
        "You can dive deeper into the documentation [here](https://sbert.net/docs/package_reference/sentence_transformer/evaluation.html#informationretrievalevaluator) to see under the hood.\n",
        "\n",
        "You'll notice, however, that we have common suffixes for our evaluation metrics:\n",
        "\n",
        "- `X_accuracy@1`, `X_accuracy@3`, etc.\n",
        "\n",
        "This is computing metrics by looking at the accuracy, recall, precision, Mean Reciprocal Rank (MRR), Normalized Discounted Cumulative Gain (NDGC), and Mean-Average Precision (MAP) at various numbers of retrieved items.\n",
        "\n",
        "That is to say:\n",
        "\n",
        "We look at these scores as we include the first closest document, top three closest documents, etc.\n",
        "\n",
        "We can think of these `@k` as \"top k` metrics.\n",
        "\n",
        "These will help us guide important hyper-parameters when using these models for Information Retrieval tasks down the road!"
      ],
      "metadata": {
        "id": "mvbEUNfPMrRu"
      }
    },
    {
      "cell_type": "code",
      "source": [
        "from sentence_transformers.evaluation import InformationRetrievalEvaluator\n",
        "from sentence_transformers import SentenceTransformer\n",
        "\n",
        "def evaluate_st(\n",
        "    dataset,\n",
        "    model_id,\n",
        "    name,\n",
        "):\n",
        "    corpus = dataset['corpus']\n",
        "    queries = dataset['queries']\n",
        "    relevant_docs = dataset['relevant_docs']\n",
        "\n",
        "    evaluator = InformationRetrievalEvaluator(queries, corpus, relevant_docs, name=name)\n",
        "    model = SentenceTransformer(model_id)\n",
        "    return evaluator(model, output_path=\"/content/\")"
      ],
      "metadata": {
        "id": "ZU3Rt8c5AcTH"
      },
      "execution_count": null,
      "outputs": []
    },
    {
      "cell_type": "markdown",
      "source": [
        "#####🏗️ Activity #2:\n",
        "\n",
        "Describe what the `evaluate` function is doing in the above cell in natural language."
      ],
      "metadata": {
        "id": "oCmlLxW1ugI0"
      }
    },
    {
      "cell_type": "markdown",
      "source": [
        "#### Base Embeddings Model Results"
      ],
      "metadata": {
        "id": "uKBjZ40dNtxA"
      }
    },
    {
      "cell_type": "code",
      "source": [
        "evaluate_st(eval_dataset, \"BAAI/bge-small-en\", name='bge')"
      ],
      "metadata": {
        "id": "c3_dVwuhAmJR",
        "colab": {
          "base_uri": "https://localhost:8080/"
        },
        "outputId": "459e2cce-5364-4248-ebca-4d5f5b39b14e"
      },
      "execution_count": null,
      "outputs": [
        {
          "output_type": "execute_result",
          "data": {
            "text/plain": [
              "{'bge_cosine_accuracy@1': 0.5067114093959731,\n",
              " 'bge_cosine_accuracy@3': 0.714765100671141,\n",
              " 'bge_cosine_accuracy@5': 0.7818791946308725,\n",
              " 'bge_cosine_accuracy@10': 0.8288590604026845,\n",
              " 'bge_cosine_precision@1': 0.5067114093959731,\n",
              " 'bge_cosine_precision@3': 0.23825503355704697,\n",
              " 'bge_cosine_precision@5': 0.1563758389261745,\n",
              " 'bge_cosine_precision@10': 0.08288590604026844,\n",
              " 'bge_cosine_recall@1': 0.5067114093959731,\n",
              " 'bge_cosine_recall@3': 0.714765100671141,\n",
              " 'bge_cosine_recall@5': 0.7818791946308725,\n",
              " 'bge_cosine_recall@10': 0.8288590604026845,\n",
              " 'bge_cosine_ndcg@10': 0.6710313851865369,\n",
              " 'bge_cosine_mrr@10': 0.619814637264302,\n",
              " 'bge_cosine_map@100': 0.6279603491960256}"
            ]
          },
          "metadata": {},
          "execution_count": 41
        }
      ]
    },
    {
      "cell_type": "markdown",
      "source": [
        "{'bge_cosine_accuracy@1': 0.5067114093959731,\n",
        " 'bge_cosine_accuracy@3': 0.714765100671141,\n",
        " 'bge_cosine_accuracy@5': 0.7818791946308725,\n",
        " 'bge_cosine_accuracy@10': 0.8288590604026845,\n",
        " 'bge_cosine_precision@1': 0.5067114093959731,\n",
        " 'bge_cosine_precision@3': 0.23825503355704697,\n",
        " 'bge_cosine_precision@5': 0.1563758389261745,\n",
        " 'bge_cosine_precision@10': 0.08288590604026844,\n",
        " 'bge_cosine_recall@1': 0.5067114093959731,\n",
        " 'bge_cosine_recall@3': 0.714765100671141,\n",
        " 'bge_cosine_recall@5': 0.7818791946308725,\n",
        " 'bge_cosine_recall@10': 0.8288590604026845,\n",
        " 'bge_cosine_ndcg@10': 0.6710313851865369,\n",
        " 'bge_cosine_mrr@10': 0.619814637264302,\n",
        " 'bge_cosine_map@100': 0.6279603491960256}"
      ],
      "metadata": {
        "id": "5zK8hbBnUkmn"
      }
    },
    {
      "cell_type": "markdown",
      "source": [
        "#### Fine-tuned Results"
      ],
      "metadata": {
        "id": "nFQ6yFlmN9mc"
      }
    },
    {
      "cell_type": "code",
      "source": [
        "evaluate_st(eval_dataset, \"exp_finetune\", name='finetuned')"
      ],
      "metadata": {
        "id": "9Ddpn0ErAquN",
        "colab": {
          "base_uri": "https://localhost:8080/"
        },
        "outputId": "3ea9e5f5-cffc-4c66-b99e-cb4e022b7c9d"
      },
      "execution_count": null,
      "outputs": [
        {
          "output_type": "execute_result",
          "data": {
            "text/plain": [
              "{'finetuned_cosine_accuracy@1': 0.6442953020134228,\n",
              " 'finetuned_cosine_accuracy@3': 0.7885906040268457,\n",
              " 'finetuned_cosine_accuracy@5': 0.8456375838926175,\n",
              " 'finetuned_cosine_accuracy@10': 0.8959731543624161,\n",
              " 'finetuned_cosine_precision@1': 0.6442953020134228,\n",
              " 'finetuned_cosine_precision@3': 0.2628635346756152,\n",
              " 'finetuned_cosine_precision@5': 0.16912751677852347,\n",
              " 'finetuned_cosine_precision@10': 0.0895973154362416,\n",
              " 'finetuned_cosine_recall@1': 0.6442953020134228,\n",
              " 'finetuned_cosine_recall@3': 0.7885906040268457,\n",
              " 'finetuned_cosine_recall@5': 0.8456375838926175,\n",
              " 'finetuned_cosine_recall@10': 0.8959731543624161,\n",
              " 'finetuned_cosine_ndcg@10': 0.7677298263110102,\n",
              " 'finetuned_cosine_mrr@10': 0.7268989027378289,\n",
              " 'finetuned_cosine_map@100': 0.7313671834327362}"
            ]
          },
          "metadata": {},
          "execution_count": 42
        }
      ]
    },
    {
      "cell_type": "markdown",
      "source": [
        "{'finetuned_cosine_accuracy@1': 0.6442953020134228,\n",
        " 'finetuned_cosine_accuracy@3': 0.7885906040268457,\n",
        " 'finetuned_cosine_accuracy@5': 0.8456375838926175,\n",
        " 'finetuned_cosine_accuracy@10': 0.8959731543624161,\n",
        " 'finetuned_cosine_precision@1': 0.6442953020134228,\n",
        " 'finetuned_cosine_precision@3': 0.2628635346756152,\n",
        " 'finetuned_cosine_precision@5': 0.16912751677852347,\n",
        " 'finetuned_cosine_precision@10': 0.0895973154362416,\n",
        " 'finetuned_cosine_recall@1': 0.6442953020134228,\n",
        " 'finetuned_cosine_recall@3': 0.7885906040268457,\n",
        " 'finetuned_cosine_recall@5': 0.8456375838926175,\n",
        " 'finetuned_cosine_recall@10': 0.8959731543624161,\n",
        " 'finetuned_cosine_ndcg@10': 0.7677298263110102,\n",
        " 'finetuned_cosine_mrr@10': 0.7268989027378289,\n",
        " 'finetuned_cosine_map@100': 0.7313671834327362}"
      ],
      "metadata": {
        "id": "iRr8kZcYUq1O"
      }
    },
    {
      "cell_type": "markdown",
      "source": [
        "### Conclusion\n",
        "\n",
        "Now we can compare the embeddings models to see which performed the best!"
      ],
      "metadata": {
        "id": "o1nWWOohN_e5"
      }
    },
    {
      "cell_type": "code",
      "source": [
        "df_st_bge = pd.read_csv('/content/Information-Retrieval_evaluation_bge_results.csv')\n",
        "df_st_finetuned = pd.read_csv('/content/Information-Retrieval_evaluation_finetuned_results.csv')"
      ],
      "metadata": {
        "id": "Yse1ckCdAuLp"
      },
      "execution_count": null,
      "outputs": []
    },
    {
      "cell_type": "code",
      "source": [
        "df_st_bge['model'] = 'bge'\n",
        "df_st_finetuned['model'] = 'fine_tuned'\n",
        "df_st_all = pd.concat([df_st_bge, df_st_finetuned])\n",
        "df_st_all = df_st_all.set_index('model')\n",
        "df_st_all"
      ],
      "metadata": {
        "id": "qOV9YTDnA4d2",
        "colab": {
          "base_uri": "https://localhost:8080/",
          "height": 181
        },
        "outputId": "1c31b250-a453-4556-e436-9ca31d06d714"
      },
      "execution_count": null,
      "outputs": [
        {
          "output_type": "execute_result",
          "data": {
            "text/plain": [
              "            epoch  steps  cosine-Accuracy@1  cosine-Accuracy@3  \\\n",
              "model                                                            \n",
              "bge            -1     -1           0.506711           0.714765   \n",
              "fine_tuned     -1     -1           0.644295           0.788591   \n",
              "\n",
              "            cosine-Accuracy@5  cosine-Accuracy@10  cosine-Precision@1  \\\n",
              "model                                                                   \n",
              "bge                  0.781879            0.828859            0.506711   \n",
              "fine_tuned           0.845638            0.895973            0.644295   \n",
              "\n",
              "            cosine-Recall@1  cosine-Precision@3  cosine-Recall@3  \\\n",
              "model                                                              \n",
              "bge                0.506711            0.238255         0.714765   \n",
              "fine_tuned         0.644295            0.262864         0.788591   \n",
              "\n",
              "            cosine-Precision@5  cosine-Recall@5  cosine-Precision@10  \\\n",
              "model                                                                  \n",
              "bge                   0.156376         0.781879             0.082886   \n",
              "fine_tuned            0.169128         0.845638             0.089597   \n",
              "\n",
              "            cosine-Recall@10  cosine-MRR@10  cosine-NDCG@10  cosine-MAP@100  \n",
              "model                                                                        \n",
              "bge                 0.828859       0.619815        0.671031        0.627960  \n",
              "fine_tuned          0.895973       0.726899        0.767730        0.731367  "
            ],
            "text/html": [
              "\n",
              "  <div id=\"df-5686f93b-715a-47fd-aed0-d2ba31eba4a6\" class=\"colab-df-container\">\n",
              "    <div>\n",
              "<style scoped>\n",
              "    .dataframe tbody tr th:only-of-type {\n",
              "        vertical-align: middle;\n",
              "    }\n",
              "\n",
              "    .dataframe tbody tr th {\n",
              "        vertical-align: top;\n",
              "    }\n",
              "\n",
              "    .dataframe thead th {\n",
              "        text-align: right;\n",
              "    }\n",
              "</style>\n",
              "<table border=\"1\" class=\"dataframe\">\n",
              "  <thead>\n",
              "    <tr style=\"text-align: right;\">\n",
              "      <th></th>\n",
              "      <th>epoch</th>\n",
              "      <th>steps</th>\n",
              "      <th>cosine-Accuracy@1</th>\n",
              "      <th>cosine-Accuracy@3</th>\n",
              "      <th>cosine-Accuracy@5</th>\n",
              "      <th>cosine-Accuracy@10</th>\n",
              "      <th>cosine-Precision@1</th>\n",
              "      <th>cosine-Recall@1</th>\n",
              "      <th>cosine-Precision@3</th>\n",
              "      <th>cosine-Recall@3</th>\n",
              "      <th>cosine-Precision@5</th>\n",
              "      <th>cosine-Recall@5</th>\n",
              "      <th>cosine-Precision@10</th>\n",
              "      <th>cosine-Recall@10</th>\n",
              "      <th>cosine-MRR@10</th>\n",
              "      <th>cosine-NDCG@10</th>\n",
              "      <th>cosine-MAP@100</th>\n",
              "    </tr>\n",
              "    <tr>\n",
              "      <th>model</th>\n",
              "      <th></th>\n",
              "      <th></th>\n",
              "      <th></th>\n",
              "      <th></th>\n",
              "      <th></th>\n",
              "      <th></th>\n",
              "      <th></th>\n",
              "      <th></th>\n",
              "      <th></th>\n",
              "      <th></th>\n",
              "      <th></th>\n",
              "      <th></th>\n",
              "      <th></th>\n",
              "      <th></th>\n",
              "      <th></th>\n",
              "      <th></th>\n",
              "      <th></th>\n",
              "    </tr>\n",
              "  </thead>\n",
              "  <tbody>\n",
              "    <tr>\n",
              "      <th>bge</th>\n",
              "      <td>-1</td>\n",
              "      <td>-1</td>\n",
              "      <td>0.506711</td>\n",
              "      <td>0.714765</td>\n",
              "      <td>0.781879</td>\n",
              "      <td>0.828859</td>\n",
              "      <td>0.506711</td>\n",
              "      <td>0.506711</td>\n",
              "      <td>0.238255</td>\n",
              "      <td>0.714765</td>\n",
              "      <td>0.156376</td>\n",
              "      <td>0.781879</td>\n",
              "      <td>0.082886</td>\n",
              "      <td>0.828859</td>\n",
              "      <td>0.619815</td>\n",
              "      <td>0.671031</td>\n",
              "      <td>0.627960</td>\n",
              "    </tr>\n",
              "    <tr>\n",
              "      <th>fine_tuned</th>\n",
              "      <td>-1</td>\n",
              "      <td>-1</td>\n",
              "      <td>0.644295</td>\n",
              "      <td>0.788591</td>\n",
              "      <td>0.845638</td>\n",
              "      <td>0.895973</td>\n",
              "      <td>0.644295</td>\n",
              "      <td>0.644295</td>\n",
              "      <td>0.262864</td>\n",
              "      <td>0.788591</td>\n",
              "      <td>0.169128</td>\n",
              "      <td>0.845638</td>\n",
              "      <td>0.089597</td>\n",
              "      <td>0.895973</td>\n",
              "      <td>0.726899</td>\n",
              "      <td>0.767730</td>\n",
              "      <td>0.731367</td>\n",
              "    </tr>\n",
              "  </tbody>\n",
              "</table>\n",
              "</div>\n",
              "    <div class=\"colab-df-buttons\">\n",
              "\n",
              "  <div class=\"colab-df-container\">\n",
              "    <button class=\"colab-df-convert\" onclick=\"convertToInteractive('df-5686f93b-715a-47fd-aed0-d2ba31eba4a6')\"\n",
              "            title=\"Convert this dataframe to an interactive table.\"\n",
              "            style=\"display:none;\">\n",
              "\n",
              "  <svg xmlns=\"http://www.w3.org/2000/svg\" height=\"24px\" viewBox=\"0 -960 960 960\">\n",
              "    <path d=\"M120-120v-720h720v720H120Zm60-500h600v-160H180v160Zm220 220h160v-160H400v160Zm0 220h160v-160H400v160ZM180-400h160v-160H180v160Zm440 0h160v-160H620v160ZM180-180h160v-160H180v160Zm440 0h160v-160H620v160Z\"/>\n",
              "  </svg>\n",
              "    </button>\n",
              "\n",
              "  <style>\n",
              "    .colab-df-container {\n",
              "      display:flex;\n",
              "      gap: 12px;\n",
              "    }\n",
              "\n",
              "    .colab-df-convert {\n",
              "      background-color: #E8F0FE;\n",
              "      border: none;\n",
              "      border-radius: 50%;\n",
              "      cursor: pointer;\n",
              "      display: none;\n",
              "      fill: #1967D2;\n",
              "      height: 32px;\n",
              "      padding: 0 0 0 0;\n",
              "      width: 32px;\n",
              "    }\n",
              "\n",
              "    .colab-df-convert:hover {\n",
              "      background-color: #E2EBFA;\n",
              "      box-shadow: 0px 1px 2px rgba(60, 64, 67, 0.3), 0px 1px 3px 1px rgba(60, 64, 67, 0.15);\n",
              "      fill: #174EA6;\n",
              "    }\n",
              "\n",
              "    .colab-df-buttons div {\n",
              "      margin-bottom: 4px;\n",
              "    }\n",
              "\n",
              "    [theme=dark] .colab-df-convert {\n",
              "      background-color: #3B4455;\n",
              "      fill: #D2E3FC;\n",
              "    }\n",
              "\n",
              "    [theme=dark] .colab-df-convert:hover {\n",
              "      background-color: #434B5C;\n",
              "      box-shadow: 0px 1px 3px 1px rgba(0, 0, 0, 0.15);\n",
              "      filter: drop-shadow(0px 1px 2px rgba(0, 0, 0, 0.3));\n",
              "      fill: #FFFFFF;\n",
              "    }\n",
              "  </style>\n",
              "\n",
              "    <script>\n",
              "      const buttonEl =\n",
              "        document.querySelector('#df-5686f93b-715a-47fd-aed0-d2ba31eba4a6 button.colab-df-convert');\n",
              "      buttonEl.style.display =\n",
              "        google.colab.kernel.accessAllowed ? 'block' : 'none';\n",
              "\n",
              "      async function convertToInteractive(key) {\n",
              "        const element = document.querySelector('#df-5686f93b-715a-47fd-aed0-d2ba31eba4a6');\n",
              "        const dataTable =\n",
              "          await google.colab.kernel.invokeFunction('convertToInteractive',\n",
              "                                                    [key], {});\n",
              "        if (!dataTable) return;\n",
              "\n",
              "        const docLinkHtml = 'Like what you see? Visit the ' +\n",
              "          '<a target=\"_blank\" href=https://colab.research.google.com/notebooks/data_table.ipynb>data table notebook</a>'\n",
              "          + ' to learn more about interactive tables.';\n",
              "        element.innerHTML = '';\n",
              "        dataTable['output_type'] = 'display_data';\n",
              "        await google.colab.output.renderOutput(dataTable, element);\n",
              "        const docLink = document.createElement('div');\n",
              "        docLink.innerHTML = docLinkHtml;\n",
              "        element.appendChild(docLink);\n",
              "      }\n",
              "    </script>\n",
              "  </div>\n",
              "\n",
              "\n",
              "<div id=\"df-ed8daa46-fe5c-467f-a74d-ea32383017bb\">\n",
              "  <button class=\"colab-df-quickchart\" onclick=\"quickchart('df-ed8daa46-fe5c-467f-a74d-ea32383017bb')\"\n",
              "            title=\"Suggest charts\"\n",
              "            style=\"display:none;\">\n",
              "\n",
              "<svg xmlns=\"http://www.w3.org/2000/svg\" height=\"24px\"viewBox=\"0 0 24 24\"\n",
              "     width=\"24px\">\n",
              "    <g>\n",
              "        <path d=\"M19 3H5c-1.1 0-2 .9-2 2v14c0 1.1.9 2 2 2h14c1.1 0 2-.9 2-2V5c0-1.1-.9-2-2-2zM9 17H7v-7h2v7zm4 0h-2V7h2v10zm4 0h-2v-4h2v4z\"/>\n",
              "    </g>\n",
              "</svg>\n",
              "  </button>\n",
              "\n",
              "<style>\n",
              "  .colab-df-quickchart {\n",
              "      --bg-color: #E8F0FE;\n",
              "      --fill-color: #1967D2;\n",
              "      --hover-bg-color: #E2EBFA;\n",
              "      --hover-fill-color: #174EA6;\n",
              "      --disabled-fill-color: #AAA;\n",
              "      --disabled-bg-color: #DDD;\n",
              "  }\n",
              "\n",
              "  [theme=dark] .colab-df-quickchart {\n",
              "      --bg-color: #3B4455;\n",
              "      --fill-color: #D2E3FC;\n",
              "      --hover-bg-color: #434B5C;\n",
              "      --hover-fill-color: #FFFFFF;\n",
              "      --disabled-bg-color: #3B4455;\n",
              "      --disabled-fill-color: #666;\n",
              "  }\n",
              "\n",
              "  .colab-df-quickchart {\n",
              "    background-color: var(--bg-color);\n",
              "    border: none;\n",
              "    border-radius: 50%;\n",
              "    cursor: pointer;\n",
              "    display: none;\n",
              "    fill: var(--fill-color);\n",
              "    height: 32px;\n",
              "    padding: 0;\n",
              "    width: 32px;\n",
              "  }\n",
              "\n",
              "  .colab-df-quickchart:hover {\n",
              "    background-color: var(--hover-bg-color);\n",
              "    box-shadow: 0 1px 2px rgba(60, 64, 67, 0.3), 0 1px 3px 1px rgba(60, 64, 67, 0.15);\n",
              "    fill: var(--button-hover-fill-color);\n",
              "  }\n",
              "\n",
              "  .colab-df-quickchart-complete:disabled,\n",
              "  .colab-df-quickchart-complete:disabled:hover {\n",
              "    background-color: var(--disabled-bg-color);\n",
              "    fill: var(--disabled-fill-color);\n",
              "    box-shadow: none;\n",
              "  }\n",
              "\n",
              "  .colab-df-spinner {\n",
              "    border: 2px solid var(--fill-color);\n",
              "    border-color: transparent;\n",
              "    border-bottom-color: var(--fill-color);\n",
              "    animation:\n",
              "      spin 1s steps(1) infinite;\n",
              "  }\n",
              "\n",
              "  @keyframes spin {\n",
              "    0% {\n",
              "      border-color: transparent;\n",
              "      border-bottom-color: var(--fill-color);\n",
              "      border-left-color: var(--fill-color);\n",
              "    }\n",
              "    20% {\n",
              "      border-color: transparent;\n",
              "      border-left-color: var(--fill-color);\n",
              "      border-top-color: var(--fill-color);\n",
              "    }\n",
              "    30% {\n",
              "      border-color: transparent;\n",
              "      border-left-color: var(--fill-color);\n",
              "      border-top-color: var(--fill-color);\n",
              "      border-right-color: var(--fill-color);\n",
              "    }\n",
              "    40% {\n",
              "      border-color: transparent;\n",
              "      border-right-color: var(--fill-color);\n",
              "      border-top-color: var(--fill-color);\n",
              "    }\n",
              "    60% {\n",
              "      border-color: transparent;\n",
              "      border-right-color: var(--fill-color);\n",
              "    }\n",
              "    80% {\n",
              "      border-color: transparent;\n",
              "      border-right-color: var(--fill-color);\n",
              "      border-bottom-color: var(--fill-color);\n",
              "    }\n",
              "    90% {\n",
              "      border-color: transparent;\n",
              "      border-bottom-color: var(--fill-color);\n",
              "    }\n",
              "  }\n",
              "</style>\n",
              "\n",
              "  <script>\n",
              "    async function quickchart(key) {\n",
              "      const quickchartButtonEl =\n",
              "        document.querySelector('#' + key + ' button');\n",
              "      quickchartButtonEl.disabled = true;  // To prevent multiple clicks.\n",
              "      quickchartButtonEl.classList.add('colab-df-spinner');\n",
              "      try {\n",
              "        const charts = await google.colab.kernel.invokeFunction(\n",
              "            'suggestCharts', [key], {});\n",
              "      } catch (error) {\n",
              "        console.error('Error during call to suggestCharts:', error);\n",
              "      }\n",
              "      quickchartButtonEl.classList.remove('colab-df-spinner');\n",
              "      quickchartButtonEl.classList.add('colab-df-quickchart-complete');\n",
              "    }\n",
              "    (() => {\n",
              "      let quickchartButtonEl =\n",
              "        document.querySelector('#df-ed8daa46-fe5c-467f-a74d-ea32383017bb button');\n",
              "      quickchartButtonEl.style.display =\n",
              "        google.colab.kernel.accessAllowed ? 'block' : 'none';\n",
              "    })();\n",
              "  </script>\n",
              "</div>\n",
              "\n",
              "  <div id=\"id_5d97198a-b619-4cec-bb32-1ef70f68bb66\">\n",
              "    <style>\n",
              "      .colab-df-generate {\n",
              "        background-color: #E8F0FE;\n",
              "        border: none;\n",
              "        border-radius: 50%;\n",
              "        cursor: pointer;\n",
              "        display: none;\n",
              "        fill: #1967D2;\n",
              "        height: 32px;\n",
              "        padding: 0 0 0 0;\n",
              "        width: 32px;\n",
              "      }\n",
              "\n",
              "      .colab-df-generate:hover {\n",
              "        background-color: #E2EBFA;\n",
              "        box-shadow: 0px 1px 2px rgba(60, 64, 67, 0.3), 0px 1px 3px 1px rgba(60, 64, 67, 0.15);\n",
              "        fill: #174EA6;\n",
              "      }\n",
              "\n",
              "      [theme=dark] .colab-df-generate {\n",
              "        background-color: #3B4455;\n",
              "        fill: #D2E3FC;\n",
              "      }\n",
              "\n",
              "      [theme=dark] .colab-df-generate:hover {\n",
              "        background-color: #434B5C;\n",
              "        box-shadow: 0px 1px 3px 1px rgba(0, 0, 0, 0.15);\n",
              "        filter: drop-shadow(0px 1px 2px rgba(0, 0, 0, 0.3));\n",
              "        fill: #FFFFFF;\n",
              "      }\n",
              "    </style>\n",
              "    <button class=\"colab-df-generate\" onclick=\"generateWithVariable('df_st_all')\"\n",
              "            title=\"Generate code using this dataframe.\"\n",
              "            style=\"display:none;\">\n",
              "\n",
              "  <svg xmlns=\"http://www.w3.org/2000/svg\" height=\"24px\"viewBox=\"0 0 24 24\"\n",
              "       width=\"24px\">\n",
              "    <path d=\"M7,19H8.4L18.45,9,17,7.55,7,17.6ZM5,21V16.75L18.45,3.32a2,2,0,0,1,2.83,0l1.4,1.43a1.91,1.91,0,0,1,.58,1.4,1.91,1.91,0,0,1-.58,1.4L9.25,21ZM18.45,9,17,7.55Zm-12,3A5.31,5.31,0,0,0,4.9,8.1,5.31,5.31,0,0,0,1,6.5,5.31,5.31,0,0,0,4.9,4.9,5.31,5.31,0,0,0,6.5,1,5.31,5.31,0,0,0,8.1,4.9,5.31,5.31,0,0,0,12,6.5,5.46,5.46,0,0,0,6.5,12Z\"/>\n",
              "  </svg>\n",
              "    </button>\n",
              "    <script>\n",
              "      (() => {\n",
              "      const buttonEl =\n",
              "        document.querySelector('#id_5d97198a-b619-4cec-bb32-1ef70f68bb66 button.colab-df-generate');\n",
              "      buttonEl.style.display =\n",
              "        google.colab.kernel.accessAllowed ? 'block' : 'none';\n",
              "\n",
              "      buttonEl.onclick = () => {\n",
              "        google.colab.notebook.generateWithVariable('df_st_all');\n",
              "      }\n",
              "      })();\n",
              "    </script>\n",
              "  </div>\n",
              "\n",
              "    </div>\n",
              "  </div>\n"
            ],
            "application/vnd.google.colaboratory.intrinsic+json": {
              "type": "dataframe",
              "variable_name": "df_st_all",
              "summary": "{\n  \"name\": \"df_st_all\",\n  \"rows\": 2,\n  \"fields\": [\n    {\n      \"column\": \"model\",\n      \"properties\": {\n        \"dtype\": \"string\",\n        \"num_unique_values\": 2,\n        \"samples\": [\n          \"fine_tuned\",\n          \"bge\"\n        ],\n        \"semantic_type\": \"\",\n        \"description\": \"\"\n      }\n    },\n    {\n      \"column\": \"epoch\",\n      \"properties\": {\n        \"dtype\": \"number\",\n        \"std\": 0,\n        \"min\": -1,\n        \"max\": -1,\n        \"num_unique_values\": 1,\n        \"samples\": [\n          -1\n        ],\n        \"semantic_type\": \"\",\n        \"description\": \"\"\n      }\n    },\n    {\n      \"column\": \"steps\",\n      \"properties\": {\n        \"dtype\": \"number\",\n        \"std\": 0,\n        \"min\": -1,\n        \"max\": -1,\n        \"num_unique_values\": 1,\n        \"samples\": [\n          -1\n        ],\n        \"semantic_type\": \"\",\n        \"description\": \"\"\n      }\n    },\n    {\n      \"column\": \"cosine-Accuracy@1\",\n      \"properties\": {\n        \"dtype\": \"number\",\n        \"std\": 0.09728650345184041,\n        \"min\": 0.5067114093959731,\n        \"max\": 0.6442953020134228,\n        \"num_unique_values\": 2,\n        \"samples\": [\n          0.6442953020134228\n        ],\n        \"semantic_type\": \"\",\n        \"description\": \"\"\n      }\n    },\n    {\n      \"column\": \"cosine-Accuracy@3\",\n      \"properties\": {\n        \"dtype\": \"number\",\n        \"std\": 0.052202514047329014,\n        \"min\": 0.714765100671141,\n        \"max\": 0.7885906040268457,\n        \"num_unique_values\": 2,\n        \"samples\": [\n          0.7885906040268457\n        ],\n        \"semantic_type\": \"\",\n        \"description\": \"\"\n      }\n    },\n    {\n      \"column\": \"cosine-Accuracy@5\",\n      \"properties\": {\n        \"dtype\": \"number\",\n        \"std\": 0.045083989404511395,\n        \"min\": 0.7818791946308725,\n        \"max\": 0.8456375838926175,\n        \"num_unique_values\": 2,\n        \"samples\": [\n          0.8456375838926175\n        ],\n        \"semantic_type\": \"\",\n        \"description\": \"\"\n      }\n    },\n    {\n      \"column\": \"cosine-Accuracy@10\",\n      \"properties\": {\n        \"dtype\": \"number\",\n        \"std\": 0.04745683095211729,\n        \"min\": 0.8288590604026845,\n        \"max\": 0.8959731543624161,\n        \"num_unique_values\": 2,\n        \"samples\": [\n          0.8959731543624161\n        ],\n        \"semantic_type\": \"\",\n        \"description\": \"\"\n      }\n    },\n    {\n      \"column\": \"cosine-Precision@1\",\n      \"properties\": {\n        \"dtype\": \"number\",\n        \"std\": 0.09728650345184041,\n        \"min\": 0.5067114093959731,\n        \"max\": 0.6442953020134228,\n        \"num_unique_values\": 2,\n        \"samples\": [\n          0.6442953020134228\n        ],\n        \"semantic_type\": \"\",\n        \"description\": \"\"\n      }\n    },\n    {\n      \"column\": \"cosine-Recall@1\",\n      \"properties\": {\n        \"dtype\": \"number\",\n        \"std\": 0.09728650345184041,\n        \"min\": 0.5067114093959731,\n        \"max\": 0.6442953020134228,\n        \"num_unique_values\": 2,\n        \"samples\": [\n          0.6442953020134228\n        ],\n        \"semantic_type\": \"\",\n        \"description\": \"\"\n      }\n    },\n    {\n      \"column\": \"cosine-Precision@3\",\n      \"properties\": {\n        \"dtype\": \"number\",\n        \"std\": 0.017400838015776365,\n        \"min\": 0.2382550335570469,\n        \"max\": 0.2628635346756152,\n        \"num_unique_values\": 2,\n        \"samples\": [\n          0.2628635346756152\n        ],\n        \"semantic_type\": \"\",\n        \"description\": \"\"\n      }\n    },\n    {\n      \"column\": \"cosine-Recall@3\",\n      \"properties\": {\n        \"dtype\": \"number\",\n        \"std\": 0.052202514047329014,\n        \"min\": 0.714765100671141,\n        \"max\": 0.7885906040268457,\n        \"num_unique_values\": 2,\n        \"samples\": [\n          0.7885906040268457\n        ],\n        \"semantic_type\": \"\",\n        \"description\": \"\"\n      }\n    },\n    {\n      \"column\": \"cosine-Precision@5\",\n      \"properties\": {\n        \"dtype\": \"number\",\n        \"std\": 0.009016797880902221,\n        \"min\": 0.1563758389261745,\n        \"max\": 0.1691275167785234,\n        \"num_unique_values\": 2,\n        \"samples\": [\n          0.1691275167785234\n        ],\n        \"semantic_type\": \"\",\n        \"description\": \"\"\n      }\n    },\n    {\n      \"column\": \"cosine-Recall@5\",\n      \"properties\": {\n        \"dtype\": \"number\",\n        \"std\": 0.045083989404511395,\n        \"min\": 0.7818791946308725,\n        \"max\": 0.8456375838926175,\n        \"num_unique_values\": 2,\n        \"samples\": [\n          0.8456375838926175\n        ],\n        \"semantic_type\": \"\",\n        \"description\": \"\"\n      }\n    },\n    {\n      \"column\": \"cosine-Precision@10\",\n      \"properties\": {\n        \"dtype\": \"number\",\n        \"std\": 0.004745683095211761,\n        \"min\": 0.0828859060402684,\n        \"max\": 0.0895973154362416,\n        \"num_unique_values\": 2,\n        \"samples\": [\n          0.0895973154362416\n        ],\n        \"semantic_type\": \"\",\n        \"description\": \"\"\n      }\n    },\n    {\n      \"column\": \"cosine-Recall@10\",\n      \"properties\": {\n        \"dtype\": \"number\",\n        \"std\": 0.04745683095211729,\n        \"min\": 0.8288590604026845,\n        \"max\": 0.8959731543624161,\n        \"num_unique_values\": 2,\n        \"samples\": [\n          0.8959731543624161\n        ],\n        \"semantic_type\": \"\",\n        \"description\": \"\"\n      }\n    },\n    {\n      \"column\": \"cosine-MRR@10\",\n      \"properties\": {\n        \"dtype\": \"number\",\n        \"std\": 0.07572001027471134,\n        \"min\": 0.619814637264302,\n        \"max\": 0.7268989027378289,\n        \"num_unique_values\": 2,\n        \"samples\": [\n          0.7268989027378289\n        ],\n        \"semantic_type\": \"\",\n        \"description\": \"\"\n      }\n    },\n    {\n      \"column\": \"cosine-NDCG@10\",\n      \"properties\": {\n        \"dtype\": \"number\",\n        \"std\": 0.06837612344928314,\n        \"min\": 0.6710313851865369,\n        \"max\": 0.7677298263110102,\n        \"num_unique_values\": 2,\n        \"samples\": [\n          0.7677298263110102\n        ],\n        \"semantic_type\": \"\",\n        \"description\": \"\"\n      }\n    },\n    {\n      \"column\": \"cosine-MAP@100\",\n      \"properties\": {\n        \"dtype\": \"number\",\n        \"std\": 0.07311967370981132,\n        \"min\": 0.6279603491960256,\n        \"max\": 0.7313671834327362,\n        \"num_unique_values\": 2,\n        \"samples\": [\n          0.7313671834327362\n        ],\n        \"semantic_type\": \"\",\n        \"description\": \"\"\n      }\n    }\n  ]\n}"
            }
          },
          "metadata": {},
          "execution_count": 44
        }
      ]
    },
    {
      "cell_type": "markdown",
      "source": [
        "##### 👪❓Discussion Question #2:\n",
        "\n",
        "Discuss the results with your group!"
      ],
      "metadata": {
        "id": "Cb4Mpdq_eQbV"
      }
    }
  ]
}