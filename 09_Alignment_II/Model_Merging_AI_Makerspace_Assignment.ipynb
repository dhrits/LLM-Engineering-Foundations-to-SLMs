{
  "nbformat": 4,
  "nbformat_minor": 0,
  "metadata": {
    "colab": {
      "provenance": [],
      "machine_shape": "hm",
      "gpuType": "A100",
      "include_colab_link": true
    },
    "kernelspec": {
      "name": "python3",
      "display_name": "Python 3"
    },
    "language_info": {
      "name": "python"
    },
    "accelerator": "GPU",
    "widgets": {
      "application/vnd.jupyter.widget-state+json": {
        "5a18490b16b042c4b2ffd1b6a0bdfd82": {
          "model_module": "@jupyter-widgets/controls",
          "model_name": "VBoxModel",
          "model_module_version": "1.5.0",
          "state": {
            "_dom_classes": [],
            "_model_module": "@jupyter-widgets/controls",
            "_model_module_version": "1.5.0",
            "_model_name": "VBoxModel",
            "_view_count": null,
            "_view_module": "@jupyter-widgets/controls",
            "_view_module_version": "1.5.0",
            "_view_name": "VBoxView",
            "box_style": "",
            "children": [],
            "layout": "IPY_MODEL_51abf9b59be74998a44eafdabd2377d1"
          }
        },
        "04c66e6d5d2a4750986d7be823a923e6": {
          "model_module": "@jupyter-widgets/controls",
          "model_name": "HTMLModel",
          "model_module_version": "1.5.0",
          "state": {
            "_dom_classes": [],
            "_model_module": "@jupyter-widgets/controls",
            "_model_module_version": "1.5.0",
            "_model_name": "HTMLModel",
            "_view_count": null,
            "_view_module": "@jupyter-widgets/controls",
            "_view_module_version": "1.5.0",
            "_view_name": "HTMLView",
            "description": "",
            "description_tooltip": null,
            "layout": "IPY_MODEL_70e8c5cdd0114800b3a1738a9527f2c6",
            "placeholder": "​",
            "style": "IPY_MODEL_c3068a1c9c2341909a9d8e0e52c3e3e6",
            "value": "<center> <img\nsrc=https://huggingface.co/front/assets/huggingface_logo-noborder.svg\nalt='Hugging Face'> <br> Copy a token from <a\nhref=\"https://huggingface.co/settings/tokens\" target=\"_blank\">your Hugging Face\ntokens page</a> and paste it below. <br> Immediately click login after copying\nyour token or it might be stored in plain text in this notebook file. </center>"
          }
        },
        "bb9e56e4007147aeb06ad5f31146c7f3": {
          "model_module": "@jupyter-widgets/controls",
          "model_name": "PasswordModel",
          "model_module_version": "1.5.0",
          "state": {
            "_dom_classes": [],
            "_model_module": "@jupyter-widgets/controls",
            "_model_module_version": "1.5.0",
            "_model_name": "PasswordModel",
            "_view_count": null,
            "_view_module": "@jupyter-widgets/controls",
            "_view_module_version": "1.5.0",
            "_view_name": "PasswordView",
            "continuous_update": true,
            "description": "Token:",
            "description_tooltip": null,
            "disabled": false,
            "layout": "IPY_MODEL_935d8cc9acdf48e0ba557b8fb8a7f886",
            "placeholder": "​",
            "style": "IPY_MODEL_c233cac0e15e432faf569e27004e394e",
            "value": ""
          }
        },
        "91e2f17f013a416e839a64078fc4a853": {
          "model_module": "@jupyter-widgets/controls",
          "model_name": "CheckboxModel",
          "model_module_version": "1.5.0",
          "state": {
            "_dom_classes": [],
            "_model_module": "@jupyter-widgets/controls",
            "_model_module_version": "1.5.0",
            "_model_name": "CheckboxModel",
            "_view_count": null,
            "_view_module": "@jupyter-widgets/controls",
            "_view_module_version": "1.5.0",
            "_view_name": "CheckboxView",
            "description": "Add token as git credential?",
            "description_tooltip": null,
            "disabled": false,
            "indent": true,
            "layout": "IPY_MODEL_2dfe0fd71ff14ade94d2d8d05c01091c",
            "style": "IPY_MODEL_53b9c443806c400ab055a9ab9760f3a1",
            "value": true
          }
        },
        "c6c5164019bb41029a39f5657b2d2eac": {
          "model_module": "@jupyter-widgets/controls",
          "model_name": "ButtonModel",
          "model_module_version": "1.5.0",
          "state": {
            "_dom_classes": [],
            "_model_module": "@jupyter-widgets/controls",
            "_model_module_version": "1.5.0",
            "_model_name": "ButtonModel",
            "_view_count": null,
            "_view_module": "@jupyter-widgets/controls",
            "_view_module_version": "1.5.0",
            "_view_name": "ButtonView",
            "button_style": "",
            "description": "Login",
            "disabled": false,
            "icon": "",
            "layout": "IPY_MODEL_4ca0583116294f7da20f073246aaf176",
            "style": "IPY_MODEL_50472d6df81343d89ae8e148b31a3f7e",
            "tooltip": ""
          }
        },
        "43137cbaefd745d9a7b988c7a425a33e": {
          "model_module": "@jupyter-widgets/controls",
          "model_name": "HTMLModel",
          "model_module_version": "1.5.0",
          "state": {
            "_dom_classes": [],
            "_model_module": "@jupyter-widgets/controls",
            "_model_module_version": "1.5.0",
            "_model_name": "HTMLModel",
            "_view_count": null,
            "_view_module": "@jupyter-widgets/controls",
            "_view_module_version": "1.5.0",
            "_view_name": "HTMLView",
            "description": "",
            "description_tooltip": null,
            "layout": "IPY_MODEL_7d8ecefcdf024944a766edf6db3de8e6",
            "placeholder": "​",
            "style": "IPY_MODEL_bf87634c876845c48a8f6998624e7e3f",
            "value": "\n<b>Pro Tip:</b> If you don't already have one, you can create a dedicated\n'notebooks' token with 'write' access, that you can then easily reuse for all\nnotebooks. </center>"
          }
        },
        "51abf9b59be74998a44eafdabd2377d1": {
          "model_module": "@jupyter-widgets/base",
          "model_name": "LayoutModel",
          "model_module_version": "1.2.0",
          "state": {
            "_model_module": "@jupyter-widgets/base",
            "_model_module_version": "1.2.0",
            "_model_name": "LayoutModel",
            "_view_count": null,
            "_view_module": "@jupyter-widgets/base",
            "_view_module_version": "1.2.0",
            "_view_name": "LayoutView",
            "align_content": null,
            "align_items": "center",
            "align_self": null,
            "border": null,
            "bottom": null,
            "display": "flex",
            "flex": null,
            "flex_flow": "column",
            "grid_area": null,
            "grid_auto_columns": null,
            "grid_auto_flow": null,
            "grid_auto_rows": null,
            "grid_column": null,
            "grid_gap": null,
            "grid_row": null,
            "grid_template_areas": null,
            "grid_template_columns": null,
            "grid_template_rows": null,
            "height": null,
            "justify_content": null,
            "justify_items": null,
            "left": null,
            "margin": null,
            "max_height": null,
            "max_width": null,
            "min_height": null,
            "min_width": null,
            "object_fit": null,
            "object_position": null,
            "order": null,
            "overflow": null,
            "overflow_x": null,
            "overflow_y": null,
            "padding": null,
            "right": null,
            "top": null,
            "visibility": null,
            "width": "50%"
          }
        },
        "70e8c5cdd0114800b3a1738a9527f2c6": {
          "model_module": "@jupyter-widgets/base",
          "model_name": "LayoutModel",
          "model_module_version": "1.2.0",
          "state": {
            "_model_module": "@jupyter-widgets/base",
            "_model_module_version": "1.2.0",
            "_model_name": "LayoutModel",
            "_view_count": null,
            "_view_module": "@jupyter-widgets/base",
            "_view_module_version": "1.2.0",
            "_view_name": "LayoutView",
            "align_content": null,
            "align_items": null,
            "align_self": null,
            "border": null,
            "bottom": null,
            "display": null,
            "flex": null,
            "flex_flow": null,
            "grid_area": null,
            "grid_auto_columns": null,
            "grid_auto_flow": null,
            "grid_auto_rows": null,
            "grid_column": null,
            "grid_gap": null,
            "grid_row": null,
            "grid_template_areas": null,
            "grid_template_columns": null,
            "grid_template_rows": null,
            "height": null,
            "justify_content": null,
            "justify_items": null,
            "left": null,
            "margin": null,
            "max_height": null,
            "max_width": null,
            "min_height": null,
            "min_width": null,
            "object_fit": null,
            "object_position": null,
            "order": null,
            "overflow": null,
            "overflow_x": null,
            "overflow_y": null,
            "padding": null,
            "right": null,
            "top": null,
            "visibility": null,
            "width": null
          }
        },
        "c3068a1c9c2341909a9d8e0e52c3e3e6": {
          "model_module": "@jupyter-widgets/controls",
          "model_name": "DescriptionStyleModel",
          "model_module_version": "1.5.0",
          "state": {
            "_model_module": "@jupyter-widgets/controls",
            "_model_module_version": "1.5.0",
            "_model_name": "DescriptionStyleModel",
            "_view_count": null,
            "_view_module": "@jupyter-widgets/base",
            "_view_module_version": "1.2.0",
            "_view_name": "StyleView",
            "description_width": ""
          }
        },
        "935d8cc9acdf48e0ba557b8fb8a7f886": {
          "model_module": "@jupyter-widgets/base",
          "model_name": "LayoutModel",
          "model_module_version": "1.2.0",
          "state": {
            "_model_module": "@jupyter-widgets/base",
            "_model_module_version": "1.2.0",
            "_model_name": "LayoutModel",
            "_view_count": null,
            "_view_module": "@jupyter-widgets/base",
            "_view_module_version": "1.2.0",
            "_view_name": "LayoutView",
            "align_content": null,
            "align_items": null,
            "align_self": null,
            "border": null,
            "bottom": null,
            "display": null,
            "flex": null,
            "flex_flow": null,
            "grid_area": null,
            "grid_auto_columns": null,
            "grid_auto_flow": null,
            "grid_auto_rows": null,
            "grid_column": null,
            "grid_gap": null,
            "grid_row": null,
            "grid_template_areas": null,
            "grid_template_columns": null,
            "grid_template_rows": null,
            "height": null,
            "justify_content": null,
            "justify_items": null,
            "left": null,
            "margin": null,
            "max_height": null,
            "max_width": null,
            "min_height": null,
            "min_width": null,
            "object_fit": null,
            "object_position": null,
            "order": null,
            "overflow": null,
            "overflow_x": null,
            "overflow_y": null,
            "padding": null,
            "right": null,
            "top": null,
            "visibility": null,
            "width": null
          }
        },
        "c233cac0e15e432faf569e27004e394e": {
          "model_module": "@jupyter-widgets/controls",
          "model_name": "DescriptionStyleModel",
          "model_module_version": "1.5.0",
          "state": {
            "_model_module": "@jupyter-widgets/controls",
            "_model_module_version": "1.5.0",
            "_model_name": "DescriptionStyleModel",
            "_view_count": null,
            "_view_module": "@jupyter-widgets/base",
            "_view_module_version": "1.2.0",
            "_view_name": "StyleView",
            "description_width": ""
          }
        },
        "2dfe0fd71ff14ade94d2d8d05c01091c": {
          "model_module": "@jupyter-widgets/base",
          "model_name": "LayoutModel",
          "model_module_version": "1.2.0",
          "state": {
            "_model_module": "@jupyter-widgets/base",
            "_model_module_version": "1.2.0",
            "_model_name": "LayoutModel",
            "_view_count": null,
            "_view_module": "@jupyter-widgets/base",
            "_view_module_version": "1.2.0",
            "_view_name": "LayoutView",
            "align_content": null,
            "align_items": null,
            "align_self": null,
            "border": null,
            "bottom": null,
            "display": null,
            "flex": null,
            "flex_flow": null,
            "grid_area": null,
            "grid_auto_columns": null,
            "grid_auto_flow": null,
            "grid_auto_rows": null,
            "grid_column": null,
            "grid_gap": null,
            "grid_row": null,
            "grid_template_areas": null,
            "grid_template_columns": null,
            "grid_template_rows": null,
            "height": null,
            "justify_content": null,
            "justify_items": null,
            "left": null,
            "margin": null,
            "max_height": null,
            "max_width": null,
            "min_height": null,
            "min_width": null,
            "object_fit": null,
            "object_position": null,
            "order": null,
            "overflow": null,
            "overflow_x": null,
            "overflow_y": null,
            "padding": null,
            "right": null,
            "top": null,
            "visibility": null,
            "width": null
          }
        },
        "53b9c443806c400ab055a9ab9760f3a1": {
          "model_module": "@jupyter-widgets/controls",
          "model_name": "DescriptionStyleModel",
          "model_module_version": "1.5.0",
          "state": {
            "_model_module": "@jupyter-widgets/controls",
            "_model_module_version": "1.5.0",
            "_model_name": "DescriptionStyleModel",
            "_view_count": null,
            "_view_module": "@jupyter-widgets/base",
            "_view_module_version": "1.2.0",
            "_view_name": "StyleView",
            "description_width": ""
          }
        },
        "4ca0583116294f7da20f073246aaf176": {
          "model_module": "@jupyter-widgets/base",
          "model_name": "LayoutModel",
          "model_module_version": "1.2.0",
          "state": {
            "_model_module": "@jupyter-widgets/base",
            "_model_module_version": "1.2.0",
            "_model_name": "LayoutModel",
            "_view_count": null,
            "_view_module": "@jupyter-widgets/base",
            "_view_module_version": "1.2.0",
            "_view_name": "LayoutView",
            "align_content": null,
            "align_items": null,
            "align_self": null,
            "border": null,
            "bottom": null,
            "display": null,
            "flex": null,
            "flex_flow": null,
            "grid_area": null,
            "grid_auto_columns": null,
            "grid_auto_flow": null,
            "grid_auto_rows": null,
            "grid_column": null,
            "grid_gap": null,
            "grid_row": null,
            "grid_template_areas": null,
            "grid_template_columns": null,
            "grid_template_rows": null,
            "height": null,
            "justify_content": null,
            "justify_items": null,
            "left": null,
            "margin": null,
            "max_height": null,
            "max_width": null,
            "min_height": null,
            "min_width": null,
            "object_fit": null,
            "object_position": null,
            "order": null,
            "overflow": null,
            "overflow_x": null,
            "overflow_y": null,
            "padding": null,
            "right": null,
            "top": null,
            "visibility": null,
            "width": null
          }
        },
        "50472d6df81343d89ae8e148b31a3f7e": {
          "model_module": "@jupyter-widgets/controls",
          "model_name": "ButtonStyleModel",
          "model_module_version": "1.5.0",
          "state": {
            "_model_module": "@jupyter-widgets/controls",
            "_model_module_version": "1.5.0",
            "_model_name": "ButtonStyleModel",
            "_view_count": null,
            "_view_module": "@jupyter-widgets/base",
            "_view_module_version": "1.2.0",
            "_view_name": "StyleView",
            "button_color": null,
            "font_weight": ""
          }
        },
        "7d8ecefcdf024944a766edf6db3de8e6": {
          "model_module": "@jupyter-widgets/base",
          "model_name": "LayoutModel",
          "model_module_version": "1.2.0",
          "state": {
            "_model_module": "@jupyter-widgets/base",
            "_model_module_version": "1.2.0",
            "_model_name": "LayoutModel",
            "_view_count": null,
            "_view_module": "@jupyter-widgets/base",
            "_view_module_version": "1.2.0",
            "_view_name": "LayoutView",
            "align_content": null,
            "align_items": null,
            "align_self": null,
            "border": null,
            "bottom": null,
            "display": null,
            "flex": null,
            "flex_flow": null,
            "grid_area": null,
            "grid_auto_columns": null,
            "grid_auto_flow": null,
            "grid_auto_rows": null,
            "grid_column": null,
            "grid_gap": null,
            "grid_row": null,
            "grid_template_areas": null,
            "grid_template_columns": null,
            "grid_template_rows": null,
            "height": null,
            "justify_content": null,
            "justify_items": null,
            "left": null,
            "margin": null,
            "max_height": null,
            "max_width": null,
            "min_height": null,
            "min_width": null,
            "object_fit": null,
            "object_position": null,
            "order": null,
            "overflow": null,
            "overflow_x": null,
            "overflow_y": null,
            "padding": null,
            "right": null,
            "top": null,
            "visibility": null,
            "width": null
          }
        },
        "bf87634c876845c48a8f6998624e7e3f": {
          "model_module": "@jupyter-widgets/controls",
          "model_name": "DescriptionStyleModel",
          "model_module_version": "1.5.0",
          "state": {
            "_model_module": "@jupyter-widgets/controls",
            "_model_module_version": "1.5.0",
            "_model_name": "DescriptionStyleModel",
            "_view_count": null,
            "_view_module": "@jupyter-widgets/base",
            "_view_module_version": "1.2.0",
            "_view_name": "StyleView",
            "description_width": ""
          }
        },
        "9db801d53677408ebc9ab5b541b35411": {
          "model_module": "@jupyter-widgets/controls",
          "model_name": "LabelModel",
          "model_module_version": "1.5.0",
          "state": {
            "_dom_classes": [],
            "_model_module": "@jupyter-widgets/controls",
            "_model_module_version": "1.5.0",
            "_model_name": "LabelModel",
            "_view_count": null,
            "_view_module": "@jupyter-widgets/controls",
            "_view_module_version": "1.5.0",
            "_view_name": "LabelView",
            "description": "",
            "description_tooltip": null,
            "layout": "IPY_MODEL_2b2b956d06ad4231887bcf7f1c4f0f23",
            "placeholder": "​",
            "style": "IPY_MODEL_7964f16c39c4439fb5cd7b9924a6732d",
            "value": "Connecting..."
          }
        },
        "2b2b956d06ad4231887bcf7f1c4f0f23": {
          "model_module": "@jupyter-widgets/base",
          "model_name": "LayoutModel",
          "model_module_version": "1.2.0",
          "state": {
            "_model_module": "@jupyter-widgets/base",
            "_model_module_version": "1.2.0",
            "_model_name": "LayoutModel",
            "_view_count": null,
            "_view_module": "@jupyter-widgets/base",
            "_view_module_version": "1.2.0",
            "_view_name": "LayoutView",
            "align_content": null,
            "align_items": null,
            "align_self": null,
            "border": null,
            "bottom": null,
            "display": null,
            "flex": null,
            "flex_flow": null,
            "grid_area": null,
            "grid_auto_columns": null,
            "grid_auto_flow": null,
            "grid_auto_rows": null,
            "grid_column": null,
            "grid_gap": null,
            "grid_row": null,
            "grid_template_areas": null,
            "grid_template_columns": null,
            "grid_template_rows": null,
            "height": null,
            "justify_content": null,
            "justify_items": null,
            "left": null,
            "margin": null,
            "max_height": null,
            "max_width": null,
            "min_height": null,
            "min_width": null,
            "object_fit": null,
            "object_position": null,
            "order": null,
            "overflow": null,
            "overflow_x": null,
            "overflow_y": null,
            "padding": null,
            "right": null,
            "top": null,
            "visibility": null,
            "width": null
          }
        },
        "7964f16c39c4439fb5cd7b9924a6732d": {
          "model_module": "@jupyter-widgets/controls",
          "model_name": "DescriptionStyleModel",
          "model_module_version": "1.5.0",
          "state": {
            "_model_module": "@jupyter-widgets/controls",
            "_model_module_version": "1.5.0",
            "_model_name": "DescriptionStyleModel",
            "_view_count": null,
            "_view_module": "@jupyter-widgets/base",
            "_view_module_version": "1.2.0",
            "_view_name": "StyleView",
            "description_width": ""
          }
        },
        "702a47b0c44346b8b361db3176ebf713": {
          "model_module": "@jupyter-widgets/controls",
          "model_name": "HBoxModel",
          "model_module_version": "1.5.0",
          "state": {
            "_dom_classes": [],
            "_model_module": "@jupyter-widgets/controls",
            "_model_module_version": "1.5.0",
            "_model_name": "HBoxModel",
            "_view_count": null,
            "_view_module": "@jupyter-widgets/controls",
            "_view_module_version": "1.5.0",
            "_view_name": "HBoxView",
            "box_style": "",
            "children": [
              "IPY_MODEL_b48efe76915c48d3ac902e22bd46616b",
              "IPY_MODEL_5a8abc8524cd442b805bcfe0b8366260",
              "IPY_MODEL_9f12ba288eaa4582837ad5274a6f63db"
            ],
            "layout": "IPY_MODEL_7c9db37821f74b0f8ebc8bd5e7e0b3ec"
          }
        },
        "b48efe76915c48d3ac902e22bd46616b": {
          "model_module": "@jupyter-widgets/controls",
          "model_name": "HTMLModel",
          "model_module_version": "1.5.0",
          "state": {
            "_dom_classes": [],
            "_model_module": "@jupyter-widgets/controls",
            "_model_module_version": "1.5.0",
            "_model_name": "HTMLModel",
            "_view_count": null,
            "_view_module": "@jupyter-widgets/controls",
            "_view_module_version": "1.5.0",
            "_view_name": "HTMLView",
            "description": "",
            "description_tooltip": null,
            "layout": "IPY_MODEL_1dedf768478f4ec88cdb88149cbd452e",
            "placeholder": "​",
            "style": "IPY_MODEL_83628548939b4e949a4ab0406d978d8c",
            "value": "Loading checkpoint shards: 100%"
          }
        },
        "5a8abc8524cd442b805bcfe0b8366260": {
          "model_module": "@jupyter-widgets/controls",
          "model_name": "FloatProgressModel",
          "model_module_version": "1.5.0",
          "state": {
            "_dom_classes": [],
            "_model_module": "@jupyter-widgets/controls",
            "_model_module_version": "1.5.0",
            "_model_name": "FloatProgressModel",
            "_view_count": null,
            "_view_module": "@jupyter-widgets/controls",
            "_view_module_version": "1.5.0",
            "_view_name": "ProgressView",
            "bar_style": "success",
            "description": "",
            "description_tooltip": null,
            "layout": "IPY_MODEL_7d9545fc02964b25a0a5707f297d7205",
            "max": 4,
            "min": 0,
            "orientation": "horizontal",
            "style": "IPY_MODEL_276dfafd4df4469abb5fcafe3cddd423",
            "value": 4
          }
        },
        "9f12ba288eaa4582837ad5274a6f63db": {
          "model_module": "@jupyter-widgets/controls",
          "model_name": "HTMLModel",
          "model_module_version": "1.5.0",
          "state": {
            "_dom_classes": [],
            "_model_module": "@jupyter-widgets/controls",
            "_model_module_version": "1.5.0",
            "_model_name": "HTMLModel",
            "_view_count": null,
            "_view_module": "@jupyter-widgets/controls",
            "_view_module_version": "1.5.0",
            "_view_name": "HTMLView",
            "description": "",
            "description_tooltip": null,
            "layout": "IPY_MODEL_2a3c1cf9331c4895b5f66c238448b8f5",
            "placeholder": "​",
            "style": "IPY_MODEL_2c7fbb168de14d7d955a1928926791ac",
            "value": " 4/4 [00:09&lt;00:00,  2.19s/it]"
          }
        },
        "7c9db37821f74b0f8ebc8bd5e7e0b3ec": {
          "model_module": "@jupyter-widgets/base",
          "model_name": "LayoutModel",
          "model_module_version": "1.2.0",
          "state": {
            "_model_module": "@jupyter-widgets/base",
            "_model_module_version": "1.2.0",
            "_model_name": "LayoutModel",
            "_view_count": null,
            "_view_module": "@jupyter-widgets/base",
            "_view_module_version": "1.2.0",
            "_view_name": "LayoutView",
            "align_content": null,
            "align_items": null,
            "align_self": null,
            "border": null,
            "bottom": null,
            "display": null,
            "flex": null,
            "flex_flow": null,
            "grid_area": null,
            "grid_auto_columns": null,
            "grid_auto_flow": null,
            "grid_auto_rows": null,
            "grid_column": null,
            "grid_gap": null,
            "grid_row": null,
            "grid_template_areas": null,
            "grid_template_columns": null,
            "grid_template_rows": null,
            "height": null,
            "justify_content": null,
            "justify_items": null,
            "left": null,
            "margin": null,
            "max_height": null,
            "max_width": null,
            "min_height": null,
            "min_width": null,
            "object_fit": null,
            "object_position": null,
            "order": null,
            "overflow": null,
            "overflow_x": null,
            "overflow_y": null,
            "padding": null,
            "right": null,
            "top": null,
            "visibility": null,
            "width": null
          }
        },
        "1dedf768478f4ec88cdb88149cbd452e": {
          "model_module": "@jupyter-widgets/base",
          "model_name": "LayoutModel",
          "model_module_version": "1.2.0",
          "state": {
            "_model_module": "@jupyter-widgets/base",
            "_model_module_version": "1.2.0",
            "_model_name": "LayoutModel",
            "_view_count": null,
            "_view_module": "@jupyter-widgets/base",
            "_view_module_version": "1.2.0",
            "_view_name": "LayoutView",
            "align_content": null,
            "align_items": null,
            "align_self": null,
            "border": null,
            "bottom": null,
            "display": null,
            "flex": null,
            "flex_flow": null,
            "grid_area": null,
            "grid_auto_columns": null,
            "grid_auto_flow": null,
            "grid_auto_rows": null,
            "grid_column": null,
            "grid_gap": null,
            "grid_row": null,
            "grid_template_areas": null,
            "grid_template_columns": null,
            "grid_template_rows": null,
            "height": null,
            "justify_content": null,
            "justify_items": null,
            "left": null,
            "margin": null,
            "max_height": null,
            "max_width": null,
            "min_height": null,
            "min_width": null,
            "object_fit": null,
            "object_position": null,
            "order": null,
            "overflow": null,
            "overflow_x": null,
            "overflow_y": null,
            "padding": null,
            "right": null,
            "top": null,
            "visibility": null,
            "width": null
          }
        },
        "83628548939b4e949a4ab0406d978d8c": {
          "model_module": "@jupyter-widgets/controls",
          "model_name": "DescriptionStyleModel",
          "model_module_version": "1.5.0",
          "state": {
            "_model_module": "@jupyter-widgets/controls",
            "_model_module_version": "1.5.0",
            "_model_name": "DescriptionStyleModel",
            "_view_count": null,
            "_view_module": "@jupyter-widgets/base",
            "_view_module_version": "1.2.0",
            "_view_name": "StyleView",
            "description_width": ""
          }
        },
        "7d9545fc02964b25a0a5707f297d7205": {
          "model_module": "@jupyter-widgets/base",
          "model_name": "LayoutModel",
          "model_module_version": "1.2.0",
          "state": {
            "_model_module": "@jupyter-widgets/base",
            "_model_module_version": "1.2.0",
            "_model_name": "LayoutModel",
            "_view_count": null,
            "_view_module": "@jupyter-widgets/base",
            "_view_module_version": "1.2.0",
            "_view_name": "LayoutView",
            "align_content": null,
            "align_items": null,
            "align_self": null,
            "border": null,
            "bottom": null,
            "display": null,
            "flex": null,
            "flex_flow": null,
            "grid_area": null,
            "grid_auto_columns": null,
            "grid_auto_flow": null,
            "grid_auto_rows": null,
            "grid_column": null,
            "grid_gap": null,
            "grid_row": null,
            "grid_template_areas": null,
            "grid_template_columns": null,
            "grid_template_rows": null,
            "height": null,
            "justify_content": null,
            "justify_items": null,
            "left": null,
            "margin": null,
            "max_height": null,
            "max_width": null,
            "min_height": null,
            "min_width": null,
            "object_fit": null,
            "object_position": null,
            "order": null,
            "overflow": null,
            "overflow_x": null,
            "overflow_y": null,
            "padding": null,
            "right": null,
            "top": null,
            "visibility": null,
            "width": null
          }
        },
        "276dfafd4df4469abb5fcafe3cddd423": {
          "model_module": "@jupyter-widgets/controls",
          "model_name": "ProgressStyleModel",
          "model_module_version": "1.5.0",
          "state": {
            "_model_module": "@jupyter-widgets/controls",
            "_model_module_version": "1.5.0",
            "_model_name": "ProgressStyleModel",
            "_view_count": null,
            "_view_module": "@jupyter-widgets/base",
            "_view_module_version": "1.2.0",
            "_view_name": "StyleView",
            "bar_color": null,
            "description_width": ""
          }
        },
        "2a3c1cf9331c4895b5f66c238448b8f5": {
          "model_module": "@jupyter-widgets/base",
          "model_name": "LayoutModel",
          "model_module_version": "1.2.0",
          "state": {
            "_model_module": "@jupyter-widgets/base",
            "_model_module_version": "1.2.0",
            "_model_name": "LayoutModel",
            "_view_count": null,
            "_view_module": "@jupyter-widgets/base",
            "_view_module_version": "1.2.0",
            "_view_name": "LayoutView",
            "align_content": null,
            "align_items": null,
            "align_self": null,
            "border": null,
            "bottom": null,
            "display": null,
            "flex": null,
            "flex_flow": null,
            "grid_area": null,
            "grid_auto_columns": null,
            "grid_auto_flow": null,
            "grid_auto_rows": null,
            "grid_column": null,
            "grid_gap": null,
            "grid_row": null,
            "grid_template_areas": null,
            "grid_template_columns": null,
            "grid_template_rows": null,
            "height": null,
            "justify_content": null,
            "justify_items": null,
            "left": null,
            "margin": null,
            "max_height": null,
            "max_width": null,
            "min_height": null,
            "min_width": null,
            "object_fit": null,
            "object_position": null,
            "order": null,
            "overflow": null,
            "overflow_x": null,
            "overflow_y": null,
            "padding": null,
            "right": null,
            "top": null,
            "visibility": null,
            "width": null
          }
        },
        "2c7fbb168de14d7d955a1928926791ac": {
          "model_module": "@jupyter-widgets/controls",
          "model_name": "DescriptionStyleModel",
          "model_module_version": "1.5.0",
          "state": {
            "_model_module": "@jupyter-widgets/controls",
            "_model_module_version": "1.5.0",
            "_model_name": "DescriptionStyleModel",
            "_view_count": null,
            "_view_module": "@jupyter-widgets/base",
            "_view_module_version": "1.2.0",
            "_view_name": "StyleView",
            "description_width": ""
          }
        },
        "933c088d049c4509b65d669f8ba1e513": {
          "model_module": "@jupyter-widgets/controls",
          "model_name": "HBoxModel",
          "model_module_version": "1.5.0",
          "state": {
            "_dom_classes": [],
            "_model_module": "@jupyter-widgets/controls",
            "_model_module_version": "1.5.0",
            "_model_name": "HBoxModel",
            "_view_count": null,
            "_view_module": "@jupyter-widgets/controls",
            "_view_module_version": "1.5.0",
            "_view_name": "HBoxView",
            "box_style": "",
            "children": [
              "IPY_MODEL_49d839c7e98d4c7cac770f31aa140f57",
              "IPY_MODEL_7a80daff4c0140c486e9c1a9af77b81f",
              "IPY_MODEL_733ee0c6077645f39bbe29208ac9ba21"
            ],
            "layout": "IPY_MODEL_eab0c1b6a8b04bb79265fa39f4bc09a4"
          }
        },
        "49d839c7e98d4c7cac770f31aa140f57": {
          "model_module": "@jupyter-widgets/controls",
          "model_name": "HTMLModel",
          "model_module_version": "1.5.0",
          "state": {
            "_dom_classes": [],
            "_model_module": "@jupyter-widgets/controls",
            "_model_module_version": "1.5.0",
            "_model_name": "HTMLModel",
            "_view_count": null,
            "_view_module": "@jupyter-widgets/controls",
            "_view_module_version": "1.5.0",
            "_view_name": "HTMLView",
            "description": "",
            "description_tooltip": null,
            "layout": "IPY_MODEL_9f243440a7194a749696d75c0197b75e",
            "placeholder": "​",
            "style": "IPY_MODEL_edf2efc7d547450880c2ad816dd67c3c",
            "value": "Loading checkpoint shards: 100%"
          }
        },
        "7a80daff4c0140c486e9c1a9af77b81f": {
          "model_module": "@jupyter-widgets/controls",
          "model_name": "FloatProgressModel",
          "model_module_version": "1.5.0",
          "state": {
            "_dom_classes": [],
            "_model_module": "@jupyter-widgets/controls",
            "_model_module_version": "1.5.0",
            "_model_name": "FloatProgressModel",
            "_view_count": null,
            "_view_module": "@jupyter-widgets/controls",
            "_view_module_version": "1.5.0",
            "_view_name": "ProgressView",
            "bar_style": "success",
            "description": "",
            "description_tooltip": null,
            "layout": "IPY_MODEL_cf7be11760cc43799303d6104a6b8300",
            "max": 2,
            "min": 0,
            "orientation": "horizontal",
            "style": "IPY_MODEL_a413aaf4eb1a4fc3a1be382137ce834e",
            "value": 2
          }
        },
        "733ee0c6077645f39bbe29208ac9ba21": {
          "model_module": "@jupyter-widgets/controls",
          "model_name": "HTMLModel",
          "model_module_version": "1.5.0",
          "state": {
            "_dom_classes": [],
            "_model_module": "@jupyter-widgets/controls",
            "_model_module_version": "1.5.0",
            "_model_name": "HTMLModel",
            "_view_count": null,
            "_view_module": "@jupyter-widgets/controls",
            "_view_module_version": "1.5.0",
            "_view_name": "HTMLView",
            "description": "",
            "description_tooltip": null,
            "layout": "IPY_MODEL_47cf436c25fd47d288f25961f80b92a4",
            "placeholder": "​",
            "style": "IPY_MODEL_bbcea02a7e324386a1166926b0d1b66c",
            "value": " 2/2 [00:06&lt;00:00,  3.22s/it]"
          }
        },
        "eab0c1b6a8b04bb79265fa39f4bc09a4": {
          "model_module": "@jupyter-widgets/base",
          "model_name": "LayoutModel",
          "model_module_version": "1.2.0",
          "state": {
            "_model_module": "@jupyter-widgets/base",
            "_model_module_version": "1.2.0",
            "_model_name": "LayoutModel",
            "_view_count": null,
            "_view_module": "@jupyter-widgets/base",
            "_view_module_version": "1.2.0",
            "_view_name": "LayoutView",
            "align_content": null,
            "align_items": null,
            "align_self": null,
            "border": null,
            "bottom": null,
            "display": null,
            "flex": null,
            "flex_flow": null,
            "grid_area": null,
            "grid_auto_columns": null,
            "grid_auto_flow": null,
            "grid_auto_rows": null,
            "grid_column": null,
            "grid_gap": null,
            "grid_row": null,
            "grid_template_areas": null,
            "grid_template_columns": null,
            "grid_template_rows": null,
            "height": null,
            "justify_content": null,
            "justify_items": null,
            "left": null,
            "margin": null,
            "max_height": null,
            "max_width": null,
            "min_height": null,
            "min_width": null,
            "object_fit": null,
            "object_position": null,
            "order": null,
            "overflow": null,
            "overflow_x": null,
            "overflow_y": null,
            "padding": null,
            "right": null,
            "top": null,
            "visibility": null,
            "width": null
          }
        },
        "9f243440a7194a749696d75c0197b75e": {
          "model_module": "@jupyter-widgets/base",
          "model_name": "LayoutModel",
          "model_module_version": "1.2.0",
          "state": {
            "_model_module": "@jupyter-widgets/base",
            "_model_module_version": "1.2.0",
            "_model_name": "LayoutModel",
            "_view_count": null,
            "_view_module": "@jupyter-widgets/base",
            "_view_module_version": "1.2.0",
            "_view_name": "LayoutView",
            "align_content": null,
            "align_items": null,
            "align_self": null,
            "border": null,
            "bottom": null,
            "display": null,
            "flex": null,
            "flex_flow": null,
            "grid_area": null,
            "grid_auto_columns": null,
            "grid_auto_flow": null,
            "grid_auto_rows": null,
            "grid_column": null,
            "grid_gap": null,
            "grid_row": null,
            "grid_template_areas": null,
            "grid_template_columns": null,
            "grid_template_rows": null,
            "height": null,
            "justify_content": null,
            "justify_items": null,
            "left": null,
            "margin": null,
            "max_height": null,
            "max_width": null,
            "min_height": null,
            "min_width": null,
            "object_fit": null,
            "object_position": null,
            "order": null,
            "overflow": null,
            "overflow_x": null,
            "overflow_y": null,
            "padding": null,
            "right": null,
            "top": null,
            "visibility": null,
            "width": null
          }
        },
        "edf2efc7d547450880c2ad816dd67c3c": {
          "model_module": "@jupyter-widgets/controls",
          "model_name": "DescriptionStyleModel",
          "model_module_version": "1.5.0",
          "state": {
            "_model_module": "@jupyter-widgets/controls",
            "_model_module_version": "1.5.0",
            "_model_name": "DescriptionStyleModel",
            "_view_count": null,
            "_view_module": "@jupyter-widgets/base",
            "_view_module_version": "1.2.0",
            "_view_name": "StyleView",
            "description_width": ""
          }
        },
        "cf7be11760cc43799303d6104a6b8300": {
          "model_module": "@jupyter-widgets/base",
          "model_name": "LayoutModel",
          "model_module_version": "1.2.0",
          "state": {
            "_model_module": "@jupyter-widgets/base",
            "_model_module_version": "1.2.0",
            "_model_name": "LayoutModel",
            "_view_count": null,
            "_view_module": "@jupyter-widgets/base",
            "_view_module_version": "1.2.0",
            "_view_name": "LayoutView",
            "align_content": null,
            "align_items": null,
            "align_self": null,
            "border": null,
            "bottom": null,
            "display": null,
            "flex": null,
            "flex_flow": null,
            "grid_area": null,
            "grid_auto_columns": null,
            "grid_auto_flow": null,
            "grid_auto_rows": null,
            "grid_column": null,
            "grid_gap": null,
            "grid_row": null,
            "grid_template_areas": null,
            "grid_template_columns": null,
            "grid_template_rows": null,
            "height": null,
            "justify_content": null,
            "justify_items": null,
            "left": null,
            "margin": null,
            "max_height": null,
            "max_width": null,
            "min_height": null,
            "min_width": null,
            "object_fit": null,
            "object_position": null,
            "order": null,
            "overflow": null,
            "overflow_x": null,
            "overflow_y": null,
            "padding": null,
            "right": null,
            "top": null,
            "visibility": null,
            "width": null
          }
        },
        "a413aaf4eb1a4fc3a1be382137ce834e": {
          "model_module": "@jupyter-widgets/controls",
          "model_name": "ProgressStyleModel",
          "model_module_version": "1.5.0",
          "state": {
            "_model_module": "@jupyter-widgets/controls",
            "_model_module_version": "1.5.0",
            "_model_name": "ProgressStyleModel",
            "_view_count": null,
            "_view_module": "@jupyter-widgets/base",
            "_view_module_version": "1.2.0",
            "_view_name": "StyleView",
            "bar_color": null,
            "description_width": ""
          }
        },
        "47cf436c25fd47d288f25961f80b92a4": {
          "model_module": "@jupyter-widgets/base",
          "model_name": "LayoutModel",
          "model_module_version": "1.2.0",
          "state": {
            "_model_module": "@jupyter-widgets/base",
            "_model_module_version": "1.2.0",
            "_model_name": "LayoutModel",
            "_view_count": null,
            "_view_module": "@jupyter-widgets/base",
            "_view_module_version": "1.2.0",
            "_view_name": "LayoutView",
            "align_content": null,
            "align_items": null,
            "align_self": null,
            "border": null,
            "bottom": null,
            "display": null,
            "flex": null,
            "flex_flow": null,
            "grid_area": null,
            "grid_auto_columns": null,
            "grid_auto_flow": null,
            "grid_auto_rows": null,
            "grid_column": null,
            "grid_gap": null,
            "grid_row": null,
            "grid_template_areas": null,
            "grid_template_columns": null,
            "grid_template_rows": null,
            "height": null,
            "justify_content": null,
            "justify_items": null,
            "left": null,
            "margin": null,
            "max_height": null,
            "max_width": null,
            "min_height": null,
            "min_width": null,
            "object_fit": null,
            "object_position": null,
            "order": null,
            "overflow": null,
            "overflow_x": null,
            "overflow_y": null,
            "padding": null,
            "right": null,
            "top": null,
            "visibility": null,
            "width": null
          }
        },
        "bbcea02a7e324386a1166926b0d1b66c": {
          "model_module": "@jupyter-widgets/controls",
          "model_name": "DescriptionStyleModel",
          "model_module_version": "1.5.0",
          "state": {
            "_model_module": "@jupyter-widgets/controls",
            "_model_module_version": "1.5.0",
            "_model_name": "DescriptionStyleModel",
            "_view_count": null,
            "_view_module": "@jupyter-widgets/base",
            "_view_module_version": "1.2.0",
            "_view_name": "StyleView",
            "description_width": ""
          }
        }
      }
    }
  },
  "cells": [
    {
      "cell_type": "markdown",
      "metadata": {
        "id": "view-in-github",
        "colab_type": "text"
      },
      "source": [
        "<a href=\"https://colab.research.google.com/github/dhrits/LLM-Engineering-Foundations-to-SLMs/blob/main/09_Alignment_II/Model_Merging_AI_Makerspace_Assignment.ipynb\" target=\"_parent\"><img src=\"https://colab.research.google.com/assets/colab-badge.svg\" alt=\"Open In Colab\"/></a>"
      ]
    },
    {
      "cell_type": "markdown",
      "source": [
        "## Let's Merge our Model!\n",
        "\n",
        "We have a \"Riddle\" model, and a \"LegalEasy\" model - both of which are good at their respective tasks:\n",
        "\n",
        "1. Speaking in Riddles\n",
        "2. Translating from legalese to English\n",
        "\n",
        "What if we want a model that's good at...both of those things at once.\n",
        "\n",
        "We can use the handy `mergekit-gui` Hugging Face Space (found [here](https://huggingface.co/spaces/arcee-ai/mergekit-gui?ref=blog.arcee.ai)) to merge our model - this was is `config.yaml`:\n",
        "\n",
        "```yaml\n",
        "models:\n",
        "  - model: NousResearch/Meta-Llama-3-8B-Instruct\n",
        "  - model: ai-maker-space/leagaleasy-llama-3-instruct-v2\n",
        "    parameters:\n",
        "      density: 0.5\n",
        "      weight: 0.5\n",
        "  - model: ai-maker-space/riddle-bot-v1\n",
        "    parameters:\n",
        "      density: 0.5\n",
        "      weight: 0.5\n",
        "\n",
        "merge_method: ties\n",
        "base_model: NousResearch/Meta-Llama-3-8B-Instruct\n",
        "parameters:\n",
        "  normalize: false\n",
        "  int8_mask: true\n",
        "dtype: float16\n",
        "```\n",
        "\n",
        "You can see that this model was merged using the `ties` method.\n",
        "\n",
        "- [TIES-Merging Paper](https://arxiv.org/abs/2306.01708)\n",
        "- [TIES README.md Reference](https://github.com/arcee-ai/mergekit?tab=readme-ov-file#ties)\n"
      ],
      "metadata": {
        "id": "5FOJpctx0WMW"
      }
    },
    {
      "cell_type": "markdown",
      "source": [
        "##### ❓ Question #1:\n",
        "\n",
        "Describe what is happening in the TIES method of merging in your own words.\n",
        "\n",
        "TIES - Trim, Elect and Merge is a 3 step model parameter merging technique. First any redundant parameters are pruned. Thereafter, parameters with conflicting signs are resolved into an aggregate task vector. Finally, parameters whose signs match those of the aggregated vectors signs are averaged. This [visual](https://developer-blogs.nvidia.com/wp-content/uploads/2024/10/ties-process-diagram.png) describes this process best."
      ],
      "metadata": {
        "id": "cfLfKDtx2Y5U"
      }
    },
    {
      "cell_type": "markdown",
      "source": [
        "##### ❓ Question #2:\n",
        "\n",
        "Discuss when Model Merging would be most useful to an organization!\n",
        "\n",
        "TIES ends up being a good default which can bring together many models using a \"sane\" default weight merging strategy. Although SLERP might be simpler to implement."
      ],
      "metadata": {
        "id": "wZDnglIi2lJV"
      }
    },
    {
      "cell_type": "markdown",
      "source": [
        "# Testing the Merged Model\n",
        "\n",
        "Now that we've merged our model, let's test it!"
      ],
      "metadata": {
        "id": "ag00B9Ly0Pch"
      }
    },
    {
      "cell_type": "markdown",
      "source": [
        "## Gather Dependencies and HF Token"
      ],
      "metadata": {
        "id": "Zem2sC3Z2lEv"
      }
    },
    {
      "cell_type": "code",
      "source": [
        "!pip install -qU transformers peft trl accelerate bitsandbytes datasets"
      ],
      "metadata": {
        "colab": {
          "base_uri": "https://localhost:8080/"
        },
        "id": "ZYSvuz8ZvDVh",
        "outputId": "2393313a-c2bc-45b5-b6b0-c6e72084c380"
      },
      "execution_count": 1,
      "outputs": [
        {
          "output_type": "stream",
          "name": "stdout",
          "text": [
            "\u001b[2K     \u001b[90m━━━━━━━━━━━━━━━━━━━━━━━━━━━━━━━━━━━━━━━━\u001b[0m \u001b[32m44.1/44.1 kB\u001b[0m \u001b[31m1.9 MB/s\u001b[0m eta \u001b[36m0:00:00\u001b[0m\n",
            "\u001b[2K   \u001b[90m━━━━━━━━━━━━━━━━━━━━━━━━━━━━━━━━━━━━━━━━\u001b[0m \u001b[32m10.1/10.1 MB\u001b[0m \u001b[31m75.0 MB/s\u001b[0m eta \u001b[36m0:00:00\u001b[0m\n",
            "\u001b[2K   \u001b[90m━━━━━━━━━━━━━━━━━━━━━━━━━━━━━━━━━━━━━━━━\u001b[0m \u001b[32m293.4/293.4 kB\u001b[0m \u001b[31m25.4 MB/s\u001b[0m eta \u001b[36m0:00:00\u001b[0m\n",
            "\u001b[2K   \u001b[90m━━━━━━━━━━━━━━━━━━━━━━━━━━━━━━━━━━━━━━━━\u001b[0m \u001b[32m69.1/69.1 MB\u001b[0m \u001b[31m29.0 MB/s\u001b[0m eta \u001b[36m0:00:00\u001b[0m\n",
            "\u001b[2K   \u001b[90m━━━━━━━━━━━━━━━━━━━━━━━━━━━━━━━━━━━━━━━━\u001b[0m \u001b[32m480.6/480.6 kB\u001b[0m \u001b[31m32.3 MB/s\u001b[0m eta \u001b[36m0:00:00\u001b[0m\n",
            "\u001b[2K   \u001b[90m━━━━━━━━━━━━━━━━━━━━━━━━━━━━━━━━━━━━━━━━\u001b[0m \u001b[32m116.3/116.3 kB\u001b[0m \u001b[31m10.1 MB/s\u001b[0m eta \u001b[36m0:00:00\u001b[0m\n",
            "\u001b[2K   \u001b[90m━━━━━━━━━━━━━━━━━━━━━━━━━━━━━━━━━━━━━━━━\u001b[0m \u001b[32m179.3/179.3 kB\u001b[0m \u001b[31m16.1 MB/s\u001b[0m eta \u001b[36m0:00:00\u001b[0m\n",
            "\u001b[2K   \u001b[90m━━━━━━━━━━━━━━━━━━━━━━━━━━━━━━━━━━━━━━━━\u001b[0m \u001b[32m134.8/134.8 kB\u001b[0m \u001b[31m12.1 MB/s\u001b[0m eta \u001b[36m0:00:00\u001b[0m\n",
            "\u001b[2K   \u001b[90m━━━━━━━━━━━━━━━━━━━━━━━━━━━━━━━━━━━━━━━━\u001b[0m \u001b[32m194.1/194.1 kB\u001b[0m \u001b[31m17.7 MB/s\u001b[0m eta \u001b[36m0:00:00\u001b[0m\n",
            "\u001b[?25h\u001b[31mERROR: pip's dependency resolver does not currently take into account all the packages that are installed. This behaviour is the source of the following dependency conflicts.\n",
            "gcsfs 2024.10.0 requires fsspec==2024.10.0, but you have fsspec 2024.9.0 which is incompatible.\u001b[0m\u001b[31m\n",
            "\u001b[0m"
          ]
        }
      ]
    },
    {
      "cell_type": "code",
      "source": [
        "from huggingface_hub import notebook_login\n",
        "\n",
        "notebook_login()"
      ],
      "metadata": {
        "colab": {
          "base_uri": "https://localhost:8080/",
          "height": 17,
          "referenced_widgets": [
            "5a18490b16b042c4b2ffd1b6a0bdfd82",
            "04c66e6d5d2a4750986d7be823a923e6",
            "bb9e56e4007147aeb06ad5f31146c7f3",
            "91e2f17f013a416e839a64078fc4a853",
            "c6c5164019bb41029a39f5657b2d2eac",
            "43137cbaefd745d9a7b988c7a425a33e",
            "51abf9b59be74998a44eafdabd2377d1",
            "70e8c5cdd0114800b3a1738a9527f2c6",
            "c3068a1c9c2341909a9d8e0e52c3e3e6",
            "935d8cc9acdf48e0ba557b8fb8a7f886",
            "c233cac0e15e432faf569e27004e394e",
            "2dfe0fd71ff14ade94d2d8d05c01091c",
            "53b9c443806c400ab055a9ab9760f3a1",
            "4ca0583116294f7da20f073246aaf176",
            "50472d6df81343d89ae8e148b31a3f7e",
            "7d8ecefcdf024944a766edf6db3de8e6",
            "bf87634c876845c48a8f6998624e7e3f",
            "9db801d53677408ebc9ab5b541b35411",
            "2b2b956d06ad4231887bcf7f1c4f0f23",
            "7964f16c39c4439fb5cd7b9924a6732d"
          ]
        },
        "id": "unNXpVzic-iz",
        "outputId": "e9530c76-79f6-4f7a-bb6b-6bd3b8cca94f"
      },
      "execution_count": 2,
      "outputs": [
        {
          "output_type": "display_data",
          "data": {
            "text/plain": [
              "VBox(children=(HTML(value='<center> <img\\nsrc=https://huggingface.co/front/assets/huggingface_logo-noborder.sv…"
            ],
            "application/vnd.jupyter.widget-view+json": {
              "version_major": 2,
              "version_minor": 0,
              "model_id": "5a18490b16b042c4b2ffd1b6a0bdfd82"
            }
          },
          "metadata": {}
        }
      ]
    },
    {
      "cell_type": "markdown",
      "source": [
        "### Data Collection for Testing"
      ],
      "metadata": {
        "id": "HIrW1TZL2rR1"
      }
    },
    {
      "cell_type": "code",
      "execution_count": 3,
      "metadata": {
        "colab": {
          "base_uri": "https://localhost:8080/"
        },
        "id": "CbxEc1W6UwKv",
        "outputId": "a76d8d7d-a7dd-4981-87a1-2ba439a7ced3"
      },
      "outputs": [
        {
          "output_type": "stream",
          "name": "stdout",
          "text": [
            "Cloning into 'legal_summarization'...\n",
            "remote: Enumerating objects: 31, done.\u001b[K\n",
            "remote: Counting objects: 100% (6/6), done.\u001b[K\n",
            "remote: Compressing objects: 100% (6/6), done.\u001b[K\n",
            "remote: Total 31 (delta 2), reused 0 (delta 0), pack-reused 25 (from 1)\u001b[K\n",
            "Receiving objects: 100% (31/31), 136.60 KiB | 2.63 MiB/s, done.\n",
            "Resolving deltas: 100% (10/10), done.\n"
          ]
        }
      ],
      "source": [
        "!git clone https://github.com/lauramanor/legal_summarization.git"
      ]
    },
    {
      "cell_type": "code",
      "source": [
        "import json\n",
        "\n",
        "jsonl_array = []\n",
        "\n",
        "with open('legal_summarization/tldrlegal_v1.json') as f:\n",
        "  data = json.load(f)\n",
        "  for key, value in data.items():\n",
        "    jsonl_array.append(value)"
      ],
      "metadata": {
        "id": "VTwMGMG8WgpL"
      },
      "execution_count": 57,
      "outputs": []
    },
    {
      "cell_type": "code",
      "source": [
        "from datasets import Dataset, load_dataset\n",
        "\n",
        "legal_dataset = Dataset.from_list(jsonl_array)"
      ],
      "metadata": {
        "id": "tCehsSR6VlCC"
      },
      "execution_count": 58,
      "outputs": []
    },
    {
      "cell_type": "code",
      "source": [
        "legal_dataset"
      ],
      "metadata": {
        "colab": {
          "base_uri": "https://localhost:8080/"
        },
        "id": "uaTeOwoFV94I",
        "outputId": "d3c78866-3800-4e0f-cfbe-00d307546d30"
      },
      "execution_count": 59,
      "outputs": [
        {
          "output_type": "execute_result",
          "data": {
            "text/plain": [
              "Dataset({\n",
              "    features: ['doc', 'id', 'original_text', 'reference_summary', 'title', 'uid'],\n",
              "    num_rows: 85\n",
              "})"
            ]
          },
          "metadata": {},
          "execution_count": 59
        }
      ]
    },
    {
      "cell_type": "code",
      "source": [
        "prepared_legal_dataset = legal_dataset.train_test_split(test_size=0.1)"
      ],
      "metadata": {
        "id": "-Qy2AmZtymiV"
      },
      "execution_count": 60,
      "outputs": []
    },
    {
      "cell_type": "code",
      "execution_count": 61,
      "metadata": {
        "id": "lvYuECldvWUe"
      },
      "outputs": [],
      "source": [
        "from datasets import load_dataset\n",
        "\n",
        "riddle_dataset = load_dataset(\"riddle_sense\")"
      ]
    },
    {
      "cell_type": "code",
      "source": [
        "riddle_dataset"
      ],
      "metadata": {
        "colab": {
          "base_uri": "https://localhost:8080/"
        },
        "outputId": "994eb353-d88a-4af4-e44c-1ccdb549f082",
        "id": "UR_FdUT8vWUe"
      },
      "execution_count": 9,
      "outputs": [
        {
          "output_type": "execute_result",
          "data": {
            "text/plain": [
              "DatasetDict({\n",
              "    train: Dataset({\n",
              "        features: ['answerKey', 'question', 'choices'],\n",
              "        num_rows: 3510\n",
              "    })\n",
              "    validation: Dataset({\n",
              "        features: ['answerKey', 'question', 'choices'],\n",
              "        num_rows: 1021\n",
              "    })\n",
              "    test: Dataset({\n",
              "        features: ['answerKey', 'question', 'choices'],\n",
              "        num_rows: 1184\n",
              "    })\n",
              "})"
            ]
          },
          "metadata": {},
          "execution_count": 9
        }
      ]
    },
    {
      "cell_type": "markdown",
      "source": [
        "#### Instruction Templates for Each Task\n",
        "\n",
        "We'll want to provide the training template for our tasks so we can see the desired behaviour."
      ],
      "metadata": {
        "id": "I4n5rTkF25JO"
      }
    },
    {
      "cell_type": "code",
      "source": [
        "RIDDLE_PROMPT_TEMPLATE = \"\"\"\\\n",
        "<|begin_of_text|><|start_header_id|>system<|end_header_id|>\n",
        "\n",
        "Please answer the following multiple-choice riddle by selecting the correct choice.<|eot_id|><|start_header_id|>user<|end_header_id|>\n",
        "\n",
        "{question}\\n\\nA: {choice_a}\\nB: {choice_b}\\nC: {choice_c}\\nD: {choice_d}\\nE: {choice_e}\\n<|eot_id|><|start_header_id|>assistant<|end_header_id|>\"\"\"\n",
        "\n",
        "RIDDLE_RESPONSE_TEMPLATE = \"\"\"\\\n",
        "{answer}<|eot_id|><|end_of_text|>\"\"\""
      ],
      "metadata": {
        "id": "xcQ96_dpXvdP"
      },
      "execution_count": 62,
      "outputs": []
    },
    {
      "cell_type": "code",
      "source": [
        "SUMMARIZE_PROMPT_TEMPLATE = \"\"\"\\\n",
        "<|begin_of_text|><|start_header_id|>system<|end_header_id|>\n",
        "\n",
        "Please convert the following legal content into a human-readable summary<|eot_id|><|start_header_id|>user<|end_header_id|>\n",
        "\n",
        "[LEGAL_DOC]{LEGAL_TEXT}[END_LEGAL_DOC]<|eot_id|><|start_header_id|>assistant<|end_header_id|>\"\"\"\n",
        "\n",
        "SUMMARIZE_RESPONSE_TEMPLATE = \"\"\"\\\n",
        "{NATURAL_LANGUAGE_SUMMARY}<|eot_id|><|end_of_text|>\"\"\""
      ],
      "metadata": {
        "id": "iEPArfF6vI9L"
      },
      "execution_count": 63,
      "outputs": []
    },
    {
      "cell_type": "markdown",
      "source": [
        "Now we can create a helper function that will convert our dataset row into the above prompt!"
      ],
      "metadata": {
        "id": "ijY9u04Uxg0-"
      }
    },
    {
      "cell_type": "code",
      "source": [
        "def create_instruction(sample, return_response=True):\n",
        "  prompt = SUMMARIZE_PROMPT_TEMPLATE.format(LEGAL_TEXT=sample[\"original_text\"])\n",
        "\n",
        "  if return_response:\n",
        "    prompt += SUMMARIZE_RESPONSE_TEMPLATE.format(NATURAL_LANGUAGE_SUMMARY=sample[\"reference_summary\"])\n",
        "\n",
        "  return prompt"
      ],
      "metadata": {
        "id": "uPu2A7YGvI9M"
      },
      "execution_count": 64,
      "outputs": []
    },
    {
      "cell_type": "code",
      "source": [
        "def create_riddle_instruction(sample, return_response=True):\n",
        "  prompt = RIDDLE_PROMPT_TEMPLATE.format(\n",
        "      question=sample[\"question\"],\n",
        "      choice_a=sample[\"choices\"][\"text\"][0],\n",
        "      choice_b=sample[\"choices\"][\"text\"][1],\n",
        "      choice_c=sample[\"choices\"][\"text\"][2],\n",
        "      choice_d=sample[\"choices\"][\"text\"][3],\n",
        "      choice_e=sample[\"choices\"][\"text\"][4],\n",
        "  )\n",
        "\n",
        "  if return_response:\n",
        "    prompt += RIDDLE_RESPONSE_TEMPLATE.format(answer=sample[\"answerKey\"])\n",
        "\n",
        "  return prompt"
      ],
      "metadata": {
        "id": "1BIViIY5Xr0p"
      },
      "execution_count": 65,
      "outputs": []
    },
    {
      "cell_type": "markdown",
      "source": [
        "## Baselining Meta-Llama-3-8B-Instruct on Tasks\n",
        "\n",
        "Now that we have some test data, and the original instruction templates for each task - we can"
      ],
      "metadata": {
        "id": "wXgCaoeb2uRk"
      }
    },
    {
      "cell_type": "code",
      "source": [
        "import torch\n",
        "from transformers import AutoModelForCausalLM, AutoTokenizer, BitsAndBytesConfig\n",
        "\n",
        "model_id = \"NousResearch/Meta-Llama-3-8B-Instruct\"\n",
        "\n",
        "quantization_config = BitsAndBytesConfig(\n",
        "    load_in_4bit=True,\n",
        "    bnb_4bit_use_double_quant=True,\n",
        "    bnb_4bit_quant_type=\"nf4\",\n",
        "    bnb_4bit_compute_dtype=torch.float16,\n",
        ")\n",
        "\n",
        "base_model = AutoModelForCausalLM.from_pretrained(\n",
        "    model_id,\n",
        "    device_map=\"auto\",\n",
        "    torch_dtype=torch.float16,\n",
        "    quantization_config=quantization_config,\n",
        ")"
      ],
      "metadata": {
        "colab": {
          "base_uri": "https://localhost:8080/",
          "height": 49,
          "referenced_widgets": [
            "702a47b0c44346b8b361db3176ebf713",
            "b48efe76915c48d3ac902e22bd46616b",
            "5a8abc8524cd442b805bcfe0b8366260",
            "9f12ba288eaa4582837ad5274a6f63db",
            "7c9db37821f74b0f8ebc8bd5e7e0b3ec",
            "1dedf768478f4ec88cdb88149cbd452e",
            "83628548939b4e949a4ab0406d978d8c",
            "7d9545fc02964b25a0a5707f297d7205",
            "276dfafd4df4469abb5fcafe3cddd423",
            "2a3c1cf9331c4895b5f66c238448b8f5",
            "2c7fbb168de14d7d955a1928926791ac"
          ]
        },
        "id": "7s9d4vcnaOlK",
        "outputId": "15697275-1f4b-42f3-b702-766f31cad337"
      },
      "execution_count": 67,
      "outputs": [
        {
          "output_type": "display_data",
          "data": {
            "text/plain": [
              "Loading checkpoint shards:   0%|          | 0/4 [00:00<?, ?it/s]"
            ],
            "application/vnd.jupyter.widget-view+json": {
              "version_major": 2,
              "version_minor": 0,
              "model_id": "702a47b0c44346b8b361db3176ebf713"
            }
          },
          "metadata": {}
        }
      ]
    },
    {
      "cell_type": "code",
      "source": [
        "base_tokenizer = AutoTokenizer.from_pretrained(model_id)"
      ],
      "metadata": {
        "id": "xiimWF0pbTRz"
      },
      "execution_count": 68,
      "outputs": []
    },
    {
      "cell_type": "code",
      "source": [
        "from transformers import pipeline\n",
        "\n",
        "base_model_pipe = pipeline(\"text-generation\", base_model, tokenizer=base_tokenizer, max_new_tokens=256, return_full_text=False)"
      ],
      "metadata": {
        "id": "5sWR7qjJx63e",
        "outputId": "85f41889-4f21-4992-8359-198317a53608",
        "colab": {
          "base_uri": "https://localhost:8080/"
        }
      },
      "execution_count": 69,
      "outputs": [
        {
          "output_type": "stream",
          "name": "stderr",
          "text": [
            "Device set to use cuda:0\n"
          ]
        }
      ]
    },
    {
      "cell_type": "markdown",
      "source": [
        "## Riddle Baseline\n",
        "\n",
        "Let's see how the base model performs at the riddle task!"
      ],
      "metadata": {
        "id": "PHT6e7Mq61GX"
      }
    },
    {
      "cell_type": "code",
      "source": [
        "riddle_dataset[\"test\"][0][\"question\"]"
      ],
      "metadata": {
        "colab": {
          "base_uri": "https://localhost:8080/",
          "height": 35
        },
        "outputId": "171f122c-eb2a-4ffd-a68f-c34ef30a903d",
        "id": "uPtuolDWtn5T"
      },
      "execution_count": 70,
      "outputs": [
        {
          "output_type": "execute_result",
          "data": {
            "text/plain": [
              "'My life can be measured in hours. I serve by being devoured. Thin, I am quick. Fat, I am slow. Wind is my foe. What am I?'"
            ],
            "application/vnd.google.colaboratory.intrinsic+json": {
              "type": "string"
            }
          },
          "metadata": {},
          "execution_count": 70
        }
      ]
    },
    {
      "cell_type": "code",
      "source": [
        "for text, label in zip(riddle_dataset[\"test\"][0][\"choices\"][\"text\"], riddle_dataset[\"test\"][0][\"choices\"][\"label\"]):\n",
        "  print(f\"{label} : {text}\")"
      ],
      "metadata": {
        "colab": {
          "base_uri": "https://localhost:8080/"
        },
        "outputId": "139d36f9-2e53-4570-d044-c31b4d16ce73",
        "id": "1ynIDiaqtn5T"
      },
      "execution_count": 71,
      "outputs": [
        {
          "output_type": "stream",
          "name": "stdout",
          "text": [
            "A : paper\n",
            "B : candle\n",
            "C : lamp\n",
            "D : clock\n",
            "E : worm\n"
          ]
        }
      ]
    },
    {
      "cell_type": "code",
      "source": [
        "outputs = base_model_pipe(create_riddle_instruction(riddle_dataset[\"test\"][0], return_response=False), do_sample=True, max_new_tokens=256, temperature=0.1, top_k=50)"
      ],
      "metadata": {
        "id": "BQfLioW8tbrd",
        "colab": {
          "base_uri": "https://localhost:8080/"
        },
        "outputId": "bd611e7a-80eb-4f38-8821-946ee2b53c11"
      },
      "execution_count": 72,
      "outputs": [
        {
          "output_type": "stream",
          "name": "stderr",
          "text": [
            "Setting `pad_token_id` to `eos_token_id`:128001 for open-end generation.\n"
          ]
        }
      ]
    },
    {
      "cell_type": "code",
      "source": [
        "outputs[0][\"generated_text\"]"
      ],
      "metadata": {
        "colab": {
          "base_uri": "https://localhost:8080/",
          "height": 71
        },
        "id": "6RNWik_utfYE",
        "outputId": "abdcae10-0958-41d9-a601-6c24623b2815"
      },
      "execution_count": 73,
      "outputs": [
        {
          "output_type": "execute_result",
          "data": {
            "text/plain": [
              "'\\n\\nThe correct answer is B: candle.\\n\\nHere\\'s how the description fits:\\n\\n* \"My life can be measured in hours\": A candle\\'s life can be measured in hours, as it burns for a certain amount of time.\\n* \"I serve by being devoured\": A candle serves by providing light, and it is \"devoured\" (burned) to do so.\\n* \"Thin, I am quick\": A thin candle burns quickly.\\n* \"Fat, I am slow\": A fat or large candle burns slowly.\\n* \"Wind is my foe\": Wind can extinguish a candle\\'s flame, making it a foe to its continued burning.'"
            ],
            "application/vnd.google.colaboratory.intrinsic+json": {
              "type": "string"
            }
          },
          "metadata": {},
          "execution_count": 73
        }
      ]
    },
    {
      "cell_type": "markdown",
      "source": [
        "Unfortunately, as we can see, the model still gives an very verbose (albeit correct) answer."
      ],
      "metadata": {
        "id": "CftIFwaj7IzI"
      }
    },
    {
      "cell_type": "markdown",
      "source": [
        "## Summary Baseline:\n",
        "\n",
        "Let's see how our base model performs on our summarization task!"
      ],
      "metadata": {
        "id": "tY2bvb9g7rIV"
      }
    },
    {
      "cell_type": "code",
      "source": [
        "prepared_legal_dataset[\"test\"][1][\"original_text\"]"
      ],
      "metadata": {
        "colab": {
          "base_uri": "https://localhost:8080/",
          "height": 71
        },
        "id": "tM1GqSCSsJro",
        "outputId": "b50eb8a3-b41e-4686-cd7f-3b555dbbc5bf"
      },
      "execution_count": 74,
      "outputs": [
        {
          "output_type": "execute_result",
          "data": {
            "text/plain": [
              "'we welcome feedback comments and suggestions for improvements to the services feedback. you can submit feedback by reaching out to us on facebook twitter or google. you grant to us a nonexclusive worldwide perpetual irrevocable fully paid royalty free sublicensable and transferable license under any and all intellectual property rights that you own or control to use copy modify create derivative works based upon and otherwise exploit the feedback for any purpose.'"
            ],
            "application/vnd.google.colaboratory.intrinsic+json": {
              "type": "string"
            }
          },
          "metadata": {},
          "execution_count": 74
        }
      ]
    },
    {
      "cell_type": "code",
      "source": [
        "outputs = base_model_pipe(create_instruction(prepared_legal_dataset[\"test\"][1], return_response=False), do_sample=True, max_new_tokens=256, temperature=0.1, top_k=50)"
      ],
      "metadata": {
        "id": "mJhel4mmkBHN",
        "colab": {
          "base_uri": "https://localhost:8080/"
        },
        "outputId": "31d6dd94-3981-45ba-a945-de0a635d38e5"
      },
      "execution_count": 75,
      "outputs": [
        {
          "output_type": "stream",
          "name": "stderr",
          "text": [
            "Setting `pad_token_id` to `eos_token_id`:128001 for open-end generation.\n"
          ]
        }
      ]
    },
    {
      "cell_type": "code",
      "source": [
        "outputs[0][\"generated_text\"].split(\"[LEGAL_DOC]\")[-1]"
      ],
      "metadata": {
        "colab": {
          "base_uri": "https://localhost:8080/",
          "height": 71
        },
        "id": "GDaKyjkIkrzQ",
        "outputId": "9031c1fe-8c16-467c-c95e-1ac9dc3305da"
      },
      "execution_count": 76,
      "outputs": [
        {
          "output_type": "execute_result",
          "data": {
            "text/plain": [
              "'\\n\\nHere\\'s a human-readable summary of the legal content:\\n\\n\"We value your feedback and suggestions for improving our services. If you have any comments or ideas, you can share them with us on Facebook, Twitter, or Google. By sharing your feedback, you\\'re giving us permission to use, modify, and share it in any way we see fit, without needing to ask for your permission or pay you any royalties. This means we can use your feedback to improve our services and make them better for everyone.'"
            ],
            "application/vnd.google.colaboratory.intrinsic+json": {
              "type": "string"
            }
          },
          "metadata": {},
          "execution_count": 76
        }
      ]
    },
    {
      "cell_type": "code",
      "source": [
        "prepared_legal_dataset[\"test\"][0][\"reference_summary\"]"
      ],
      "metadata": {
        "colab": {
          "base_uri": "https://localhost:8080/",
          "height": 35
        },
        "id": "b1bAi_i-lMSj",
        "outputId": "7a4e8ad9-bd4b-4df2-9330-6c72b28b7cf5"
      },
      "execution_count": 77,
      "outputs": [
        {
          "output_type": "execute_result",
          "data": {
            "text/plain": [
              "'there are no warranties and we are not liable for anything bad that happens when using youtube.'"
            ],
            "application/vnd.google.colaboratory.intrinsic+json": {
              "type": "string"
            }
          },
          "metadata": {},
          "execution_count": 77
        }
      ]
    },
    {
      "cell_type": "markdown",
      "source": [
        "While this is an effective description of the reference text - the summary itself is rather verbose and doesn't match the simple language of the training set."
      ],
      "metadata": {
        "id": "Sfpr_e9t8Qx-"
      }
    },
    {
      "cell_type": "markdown",
      "source": [
        "Let's free up some resources so we can load the merged model!"
      ],
      "metadata": {
        "id": "ydx_mRlS8YyI"
      }
    },
    {
      "cell_type": "code",
      "source": [
        "del base_model_pipe\n",
        "del base_model\n",
        "torch.cuda.empty_cache()"
      ],
      "metadata": {
        "id": "u2ZsilIZyvCg"
      },
      "execution_count": 78,
      "outputs": []
    },
    {
      "cell_type": "markdown",
      "source": [
        "## Loading Merged Model\n",
        "\n",
        "Loading our merged model is simple, as we've uploaded it to the hub already!"
      ],
      "metadata": {
        "id": "ej9ni2Xc8c8F"
      }
    },
    {
      "cell_type": "code",
      "source": [
        "model_id = \"c-s-ale/RiddleLegalEasy\"\n",
        "\n",
        "quantization_config = BitsAndBytesConfig(\n",
        "    load_in_4bit=True,\n",
        "    bnb_4bit_use_double_quant=True,\n",
        "    bnb_4bit_quant_type=\"nf4\",\n",
        "    bnb_4bit_compute_dtype=torch.float16,\n",
        ")\n",
        "\n",
        "model = AutoModelForCausalLM.from_pretrained(\n",
        "    model_id,\n",
        "    device_map=\"auto\",\n",
        "    torch_dtype=torch.float16,\n",
        "    quantization_config=quantization_config,\n",
        ")"
      ],
      "metadata": {
        "colab": {
          "base_uri": "https://localhost:8080/",
          "height": 49,
          "referenced_widgets": [
            "933c088d049c4509b65d669f8ba1e513",
            "49d839c7e98d4c7cac770f31aa140f57",
            "7a80daff4c0140c486e9c1a9af77b81f",
            "733ee0c6077645f39bbe29208ac9ba21",
            "eab0c1b6a8b04bb79265fa39f4bc09a4",
            "9f243440a7194a749696d75c0197b75e",
            "edf2efc7d547450880c2ad816dd67c3c",
            "cf7be11760cc43799303d6104a6b8300",
            "a413aaf4eb1a4fc3a1be382137ce834e",
            "47cf436c25fd47d288f25961f80b92a4",
            "bbcea02a7e324386a1166926b0d1b66c"
          ]
        },
        "id": "SCZ3z5Xby3pO",
        "outputId": "6d81000a-df05-42c3-c591-221d69f2f186"
      },
      "execution_count": 79,
      "outputs": [
        {
          "output_type": "display_data",
          "data": {
            "text/plain": [
              "Loading checkpoint shards:   0%|          | 0/2 [00:00<?, ?it/s]"
            ],
            "application/vnd.jupyter.widget-view+json": {
              "version_major": 2,
              "version_minor": 0,
              "model_id": "933c088d049c4509b65d669f8ba1e513"
            }
          },
          "metadata": {}
        }
      ]
    },
    {
      "cell_type": "code",
      "source": [
        "\n",
        "tokenizer = AutoTokenizer.from_pretrained(model_id)"
      ],
      "metadata": {
        "id": "bZAWSwEbzAH4"
      },
      "execution_count": 80,
      "outputs": []
    },
    {
      "cell_type": "code",
      "source": [
        "merged_model_pipe = pipeline(\"text-generation\", model, tokenizer=tokenizer, max_new_tokens=256, return_full_text=False)"
      ],
      "metadata": {
        "id": "rB_GE1ygzCs2",
        "outputId": "21dd2992-655c-457d-b286-acda471657b2",
        "colab": {
          "base_uri": "https://localhost:8080/"
        }
      },
      "execution_count": 81,
      "outputs": [
        {
          "output_type": "stream",
          "name": "stderr",
          "text": [
            "Device set to use cuda:0\n"
          ]
        }
      ]
    },
    {
      "cell_type": "markdown",
      "source": [
        "## Riddle Test\n",
        "\n",
        "Let's see if our model \"remembers\" what we trained it on when it comes to answering riddles!"
      ],
      "metadata": {
        "id": "gQjWWiat8n_J"
      }
    },
    {
      "cell_type": "code",
      "source": [
        "riddle_dataset[\"test\"][0][\"question\"]"
      ],
      "metadata": {
        "colab": {
          "base_uri": "https://localhost:8080/",
          "height": 35
        },
        "outputId": "8a572357-6518-4f3d-8641-9263063e35a9",
        "id": "gfWy-jrR3Gnp"
      },
      "execution_count": 82,
      "outputs": [
        {
          "output_type": "execute_result",
          "data": {
            "text/plain": [
              "'My life can be measured in hours. I serve by being devoured. Thin, I am quick. Fat, I am slow. Wind is my foe. What am I?'"
            ],
            "application/vnd.google.colaboratory.intrinsic+json": {
              "type": "string"
            }
          },
          "metadata": {},
          "execution_count": 82
        }
      ]
    },
    {
      "cell_type": "code",
      "source": [
        "for text, label in zip(riddle_dataset[\"test\"][0][\"choices\"][\"text\"], riddle_dataset[\"test\"][0][\"choices\"][\"label\"]):\n",
        "  print(f\"{label} : {text}\")"
      ],
      "metadata": {
        "colab": {
          "base_uri": "https://localhost:8080/"
        },
        "outputId": "d087df83-0dfb-4ce9-a769-6a8067c34a45",
        "id": "BJB3PQ-N3Gnp"
      },
      "execution_count": 83,
      "outputs": [
        {
          "output_type": "stream",
          "name": "stdout",
          "text": [
            "A : paper\n",
            "B : candle\n",
            "C : lamp\n",
            "D : clock\n",
            "E : worm\n"
          ]
        }
      ]
    },
    {
      "cell_type": "code",
      "source": [
        "outputs = merged_model_pipe(create_riddle_instruction(riddle_dataset[\"test\"][0], return_response=False), do_sample=True, max_new_tokens=256, temperature=0.1, top_k=50)"
      ],
      "metadata": {
        "colab": {
          "base_uri": "https://localhost:8080/"
        },
        "outputId": "da779d4c-d896-48a9-b63c-0ef048085dd6",
        "id": "Fqn6FF7y3Gnp"
      },
      "execution_count": 84,
      "outputs": [
        {
          "output_type": "stream",
          "name": "stderr",
          "text": [
            "Setting `pad_token_id` to `eos_token_id`:128001 for open-end generation.\n"
          ]
        }
      ]
    },
    {
      "cell_type": "code",
      "source": [
        "outputs[0][\"generated_text\"]"
      ],
      "metadata": {
        "colab": {
          "base_uri": "https://localhost:8080/",
          "height": 35
        },
        "outputId": "74ed1465-0894-4aa8-a85b-92318794bb34",
        "id": "1PJ5JEN43Gnp"
      },
      "execution_count": 85,
      "outputs": [
        {
          "output_type": "execute_result",
          "data": {
            "text/plain": [
              "'B'"
            ],
            "application/vnd.google.colaboratory.intrinsic+json": {
              "type": "string"
            }
          },
          "metadata": {},
          "execution_count": 85
        }
      ]
    },
    {
      "cell_type": "markdown",
      "source": [
        "Absolutely amazing! It remembers to only output the letter - exactly as we fine-tuned it to do!"
      ],
      "metadata": {
        "id": "O_RgGM8n8t-c"
      }
    },
    {
      "cell_type": "code",
      "source": [
        "prepared_legal_dataset[\"test\"][1][\"original_text\"]"
      ],
      "metadata": {
        "colab": {
          "base_uri": "https://localhost:8080/",
          "height": 71
        },
        "outputId": "7023765a-46c0-486a-932e-afe06a941c0b",
        "id": "2PLak-fo3Gnq"
      },
      "execution_count": 86,
      "outputs": [
        {
          "output_type": "execute_result",
          "data": {
            "text/plain": [
              "'we welcome feedback comments and suggestions for improvements to the services feedback. you can submit feedback by reaching out to us on facebook twitter or google. you grant to us a nonexclusive worldwide perpetual irrevocable fully paid royalty free sublicensable and transferable license under any and all intellectual property rights that you own or control to use copy modify create derivative works based upon and otherwise exploit the feedback for any purpose.'"
            ],
            "application/vnd.google.colaboratory.intrinsic+json": {
              "type": "string"
            }
          },
          "metadata": {},
          "execution_count": 86
        }
      ]
    },
    {
      "cell_type": "code",
      "source": [
        "outputs = merged_model_pipe(create_instruction(prepared_legal_dataset[\"test\"][1], return_response=False), do_sample=True, max_new_tokens=256, temperature=0.1, top_k=50)"
      ],
      "metadata": {
        "colab": {
          "base_uri": "https://localhost:8080/"
        },
        "outputId": "05613099-46a6-46bc-af9c-9971d3ee3053",
        "id": "-3JlUi4E3Gnq"
      },
      "execution_count": 87,
      "outputs": [
        {
          "output_type": "stream",
          "name": "stderr",
          "text": [
            "Setting `pad_token_id` to `eos_token_id`:128001 for open-end generation.\n"
          ]
        }
      ]
    },
    {
      "cell_type": "code",
      "source": [
        "outputs[0][\"generated_text\"].split(\"[LEGAL_DOC]\")[-1]"
      ],
      "metadata": {
        "colab": {
          "base_uri": "https://localhost:8080/",
          "height": 53
        },
        "outputId": "daa53df4-6ca0-4a25-883f-f906bd93e834",
        "id": "OrClytHD3Gnq"
      },
      "execution_count": 88,
      "outputs": [
        {
          "output_type": "execute_result",
          "data": {
            "text/plain": [
              "'Here is a human-readable summary of the legal content:\\n\\nWe appreciate your feedback and suggestions for improving our services. You can share your thoughts with us on Facebook, Twitter, or Google. By submitting your feedback, you give us permission to use it in any way we see fit, without paying you or asking for your permission.'"
            ],
            "application/vnd.google.colaboratory.intrinsic+json": {
              "type": "string"
            }
          },
          "metadata": {},
          "execution_count": 88
        }
      ]
    },
    {
      "cell_type": "code",
      "source": [
        "prepared_legal_dataset[\"test\"][1][\"reference_summary\"]"
      ],
      "metadata": {
        "colab": {
          "base_uri": "https://localhost:8080/",
          "height": 35
        },
        "outputId": "226921c9-277a-4497-fbd6-654ce41c7982",
        "id": "C94MG8PM3Gnq"
      },
      "execution_count": 89,
      "outputs": [
        {
          "output_type": "execute_result",
          "data": {
            "text/plain": [
              "'give us feedback and we can do whatever we want with it.'"
            ],
            "application/vnd.google.colaboratory.intrinsic+json": {
              "type": "string"
            }
          },
          "metadata": {},
          "execution_count": 89
        }
      ]
    },
    {
      "cell_type": "markdown",
      "source": [
        "Not only is this response more of a summary, but it's also more in line with the casual language of the training set!"
      ],
      "metadata": {
        "id": "ckc74HGh80a5"
      }
    },
    {
      "cell_type": "code",
      "source": [],
      "metadata": {
        "id": "rACaOzo4oBtH"
      },
      "execution_count": 89,
      "outputs": []
    }
  ]
}