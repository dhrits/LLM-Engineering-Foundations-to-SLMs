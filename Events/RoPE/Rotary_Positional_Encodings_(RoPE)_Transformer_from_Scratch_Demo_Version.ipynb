{
  "nbformat": 4,
  "nbformat_minor": 0,
  "metadata": {
    "colab": {
      "provenance": [],
      "machine_shape": "hm",
      "gpuType": "A100"
    },
    "kernelspec": {
      "name": "python3",
      "display_name": "Python 3"
    },
    "language_info": {
      "name": "python"
    },
    "accelerator": "GPU"
  },
  "cells": [
    {
      "cell_type": "markdown",
      "source": [
        "# Rotary Positional Encodings (RoPE)\n",
        "\n",
        "In today's notebook, we'll be focusing on RoPE!\n",
        "\n",
        "> NOTE: Check the paper [here](https://arxiv.org/pdf/2104.09864)"
      ],
      "metadata": {
        "id": "9ZwKP3f2HGz9"
      }
    },
    {
      "cell_type": "code",
      "source": [
        "!pip install -qU torch=='2.4.1+cu121' torchvision=='0.19.1+cu121' torchaudio=='2.4.1+cu121' --index-url https://download.pytorch.org/whl/cu121"
      ],
      "metadata": {
        "id": "8SHpazOYCPyT",
        "colab": {
          "base_uri": "https://localhost:8080/"
        },
        "outputId": "2db35334-4b45-44f9-bcfa-7560df7bb2be"
      },
      "execution_count": null,
      "outputs": [
        {
          "output_type": "stream",
          "name": "stdout",
          "text": [
            "\u001b[2K     \u001b[90m━━━━━━━━━━━━━━━━━━━━━━━━━━━━━━━━━━━━━━━━\u001b[0m \u001b[32m798.9/798.9 MB\u001b[0m \u001b[31m1.4 MB/s\u001b[0m eta \u001b[36m0:00:00\u001b[0m\n",
            "\u001b[2K     \u001b[90m━━━━━━━━━━━━━━━━━━━━━━━━━━━━━━━━━━━━━━━━\u001b[0m \u001b[32m7.1/7.1 MB\u001b[0m \u001b[31m114.0 MB/s\u001b[0m eta \u001b[36m0:00:00\u001b[0m\n",
            "\u001b[2K     \u001b[90m━━━━━━━━━━━━━━━━━━━━━━━━━━━━━━━━━━━━━━━━\u001b[0m \u001b[32m3.4/3.4 MB\u001b[0m \u001b[31m105.0 MB/s\u001b[0m eta \u001b[36m0:00:00\u001b[0m\n",
            "\u001b[2K     \u001b[90m━━━━━━━━━━━━━━━━━━━━━━━━━━━━━━━━━━━━━━━━\u001b[0m \u001b[32m23.7/23.7 MB\u001b[0m \u001b[31m79.0 MB/s\u001b[0m eta \u001b[36m0:00:00\u001b[0m\n",
            "\u001b[2K     \u001b[90m━━━━━━━━━━━━━━━━━━━━━━━━━━━━━━━━━━━━━━━━\u001b[0m \u001b[32m823.6/823.6 kB\u001b[0m \u001b[31m53.8 MB/s\u001b[0m eta \u001b[36m0:00:00\u001b[0m\n",
            "\u001b[2K     \u001b[90m━━━━━━━━━━━━━━━━━━━━━━━━━━━━━━━━━━━━━━━━\u001b[0m \u001b[32m14.1/14.1 MB\u001b[0m \u001b[31m105.4 MB/s\u001b[0m eta \u001b[36m0:00:00\u001b[0m\n",
            "\u001b[2K     \u001b[90m━━━━━━━━━━━━━━━━━━━━━━━━━━━━━━━━━━━━━━━━\u001b[0m \u001b[32m664.8/664.8 MB\u001b[0m \u001b[31m1.9 MB/s\u001b[0m eta \u001b[36m0:00:00\u001b[0m\n",
            "\u001b[2K     \u001b[90m━━━━━━━━━━━━━━━━━━━━━━━━━━━━━━━━━━━━━━━━\u001b[0m \u001b[32m410.6/410.6 MB\u001b[0m \u001b[31m2.5 MB/s\u001b[0m eta \u001b[36m0:00:00\u001b[0m\n",
            "\u001b[2K     \u001b[90m━━━━━━━━━━━━━━━━━━━━━━━━━━━━━━━━━━━━━━━━\u001b[0m \u001b[32m121.6/121.6 MB\u001b[0m \u001b[31m19.5 MB/s\u001b[0m eta \u001b[36m0:00:00\u001b[0m\n",
            "\u001b[2K     \u001b[90m━━━━━━━━━━━━━━━━━━━━━━━━━━━━━━━━━━━━━━━━\u001b[0m \u001b[32m56.5/56.5 MB\u001b[0m \u001b[31m40.7 MB/s\u001b[0m eta \u001b[36m0:00:00\u001b[0m\n",
            "\u001b[2K     \u001b[90m━━━━━━━━━━━━━━━━━━━━━━━━━━━━━━━━━━━━━━━━\u001b[0m \u001b[32m124.2/124.2 MB\u001b[0m \u001b[31m18.9 MB/s\u001b[0m eta \u001b[36m0:00:00\u001b[0m\n",
            "\u001b[2K     \u001b[90m━━━━━━━━━━━━━━━━━━━━━━━━━━━━━━━━━━━━━━━━\u001b[0m \u001b[32m196.0/196.0 MB\u001b[0m \u001b[31m5.7 MB/s\u001b[0m eta \u001b[36m0:00:00\u001b[0m\n",
            "\u001b[2K     \u001b[90m━━━━━━━━━━━━━━━━━━━━━━━━━━━━━━━━━━━━━━━━\u001b[0m \u001b[32m176.2/176.2 MB\u001b[0m \u001b[31m12.8 MB/s\u001b[0m eta \u001b[36m0:00:00\u001b[0m\n",
            "\u001b[2K     \u001b[90m━━━━━━━━━━━━━━━━━━━━━━━━━━━━━━━━━━━━━━━━\u001b[0m \u001b[32m99.1/99.1 kB\u001b[0m \u001b[31m186.8 kB/s\u001b[0m eta \u001b[36m0:00:00\u001b[0m\n",
            "\u001b[2K     \u001b[90m━━━━━━━━━━━━━━━━━━━━━━━━━━━━━━━━━━━━━━━━\u001b[0m \u001b[32m209.4/209.4 MB\u001b[0m \u001b[31m11.5 MB/s\u001b[0m eta \u001b[36m0:00:00\u001b[0m\n",
            "\u001b[?25h"
          ]
        }
      ]
    },
    {
      "cell_type": "code",
      "source": [
        "!pip install -qU flash-attn"
      ],
      "metadata": {
        "id": "_TOStK75C74F",
        "colab": {
          "base_uri": "https://localhost:8080/"
        },
        "outputId": "88373b98-fe95-4e05-ed9f-ad116153ccce"
      },
      "execution_count": null,
      "outputs": [
        {
          "output_type": "stream",
          "name": "stdout",
          "text": [
            "\u001b[?25l     \u001b[90m━━━━━━━━━━━━━━━━━━━━━━━━━━━━━━━━━━━━━━━━\u001b[0m \u001b[32m0.0/2.7 MB\u001b[0m \u001b[31m?\u001b[0m eta \u001b[36m-:--:--\u001b[0m\r\u001b[2K     \u001b[91m━━━━━━━━━━━━━━━━━━\u001b[0m\u001b[90m╺\u001b[0m\u001b[90m━━━━━━━━━━━━━━━━━━━━━\u001b[0m \u001b[32m1.2/2.7 MB\u001b[0m \u001b[31m45.1 MB/s\u001b[0m eta \u001b[36m0:00:01\u001b[0m\r\u001b[2K     \u001b[91m━━━━━━━━━━━━━━━━━━━━━━━━\u001b[0m\u001b[91m╸\u001b[0m\u001b[90m━━━━━━━━━━━━━━━\u001b[0m \u001b[32m1.6/2.7 MB\u001b[0m \u001b[31m23.9 MB/s\u001b[0m eta \u001b[36m0:00:01\u001b[0m\r\u001b[2K     \u001b[91m━━━━━━━━━━━━━━━━━━━━━━━━━━━━━━━━━━━━\u001b[0m\u001b[90m╺\u001b[0m\u001b[90m━━━\u001b[0m \u001b[32m2.4/2.7 MB\u001b[0m \u001b[31m23.6 MB/s\u001b[0m eta \u001b[36m0:00:01\u001b[0m\r\u001b[2K     \u001b[90m━━━━━━━━━━━━━━━━━━━━━━━━━━━━━━━━━━━━━━━━\u001b[0m \u001b[32m2.7/2.7 MB\u001b[0m \u001b[31m20.8 MB/s\u001b[0m eta \u001b[36m0:00:00\u001b[0m\n",
            "\u001b[?25h  Preparing metadata (setup.py) ... \u001b[?25l\u001b[?25hdone\n",
            "  Building wheel for flash-attn (setup.py) ... \u001b[?25l\u001b[?25hdone\n"
          ]
        }
      ]
    },
    {
      "cell_type": "markdown",
      "source": [
        "# 🤝 BREAKOUT ROOM #1:"
      ],
      "metadata": {
        "id": "RRKKlvApG2Oz"
      }
    },
    {
      "cell_type": "markdown",
      "source": [
        "# The Building Block Fundamentals of Transformer Architecture\n",
        "\n",
        "We're going to start with an example of an encoder-decoder model - the kind found in the classic paper:\n",
        "\n",
        "[Attention is All You Need](https://arxiv.org/pdf/1706.03762.pdf).\n",
        "\n",
        "We'll walk through each step in code - leveraging the [PyTorch]() library heavily - in order to get an idea of how these models work.\n",
        "\n",
        "While this example notebook could be extended to a sincere usecase - we'll be using a toy dataset, and we will not fully train the model until it converges (under-train), as the full training process might take many days!"
      ],
      "metadata": {
        "id": "Z43kfJGvlQyA"
      }
    },
    {
      "cell_type": "markdown",
      "source": [
        "## The Desired Architecture\n",
        "\n",
        "![image](https://i.imgur.com/Od5LhSM.png)\n",
        "\n",
        "We'll skip over the diagram for now, and talk through each component in detail!"
      ],
      "metadata": {
        "id": "_sd2KYudl0Hn"
      }
    },
    {
      "cell_type": "code",
      "source": [
        "import torch\n",
        "import torch.nn as nn\n",
        "import math\n",
        "from typing import Optional\n",
        "from dataclasses import dataclass\n",
        "from enum import Enum"
      ],
      "metadata": {
        "id": "TPUnyvsuovuP"
      },
      "execution_count": null,
      "outputs": []
    },
    {
      "cell_type": "markdown",
      "source": [
        "## Embedding\n",
        "\n",
        "![image](https://i.imgur.com/zJepUWV.png)\n",
        "\n",
        "The first step will be do convert our tokenized sequence of inputs into an embedding vector. This allows use to understand a rich amount of information about input sequences and their semantic meanings.\n",
        "\n",
        "As the embedding layer will be training along side the rest of the model - it will allow us to have an excellent vector-representation of the tokens in our dataset.\n",
        "\n",
        "Let's see how it looks in code!"
      ],
      "metadata": {
        "id": "JR8M3oT0l8fM"
      }
    },
    {
      "cell_type": "code",
      "source": [
        "class InputEmbeddings(nn.Module):\n",
        "  def __init__(self, d_model: int, vocab_size: int, verbose=False) -> None:\n",
        "    \"\"\"\n",
        "    vocab_size - the size of our vocabulary\n",
        "    d_model - the dimension of our embeddings and the input dimension for our model\n",
        "    \"\"\"\n",
        "    super().__init__()\n",
        "    self.vocab_size = vocab_size\n",
        "    self.d_model = d_model\n",
        "    self.embedding = nn.Embedding(vocab_size, d_model)\n",
        "    self.verbose = verbose\n",
        "\n",
        "  def forward(self, x):\n",
        "    if self.verbose:\n",
        "      print(f\"Embedding Vector (1st 5 elements): {self.embedding(x)[:5] * math.sqrt(self.d_model)}\")\n",
        "    return self.embedding(x) * math.sqrt(self.d_model) # scale embeddings by square root of d_model"
      ],
      "metadata": {
        "id": "ddpQjPJWmXZg"
      },
      "execution_count": null,
      "outputs": []
    },
    {
      "cell_type": "markdown",
      "source": [
        "### Test Embedding Layer\n",
        "\n",
        "We'll set up a sample Embedding Layer and then test that it does what we'd expect!"
      ],
      "metadata": {
        "id": "ZCx8DYkaxwto"
      }
    },
    {
      "cell_type": "code",
      "source": [
        "def test_input_embeddings_with_example():\n",
        "    # Create a small embedding layer\n",
        "    embed = InputEmbeddings(d_model=512, vocab_size=1000)\n",
        "\n",
        "    # Example sentence tokens (simplified)\n",
        "    tokens = torch.tensor([[1, 2, 3, 4, 5]])  # \"The cat sat down quickly\"\n",
        "\n",
        "    output = embed(tokens)\n",
        "    print(f\"Input shape: {tokens.shape}\")\n",
        "    print(f\"Output shape: {output.shape}\")\n",
        "    print(\"\\nExample shows how words are converted to high-dimensional vectors\")\n",
        "\n",
        "    # Run technical test\n",
        "    assert output.shape == (1, 5, 512), f\"Expected shape (1, 5, 512), got {output.shape}\"\n",
        "    print(\"✓ Input Embeddings Test Passed\")"
      ],
      "metadata": {
        "id": "xl9VdXuYwfVU"
      },
      "execution_count": null,
      "outputs": []
    },
    {
      "cell_type": "code",
      "source": [
        "test_input_embeddings_with_example()"
      ],
      "metadata": {
        "colab": {
          "base_uri": "https://localhost:8080/"
        },
        "id": "CBIElPiqxORa",
        "outputId": "b3533da6-e8b2-4183-9698-2cd012a4c9ff"
      },
      "execution_count": null,
      "outputs": [
        {
          "output_type": "stream",
          "name": "stdout",
          "text": [
            "Input shape: torch.Size([1, 5])\n",
            "Output shape: torch.Size([1, 5, 512])\n",
            "\n",
            "Example shows how words are converted to high-dimensional vectors\n",
            "✓ Input Embeddings Test Passed\n"
          ]
        }
      ]
    },
    {
      "cell_type": "markdown",
      "source": [
        "## Positional Encoding\n",
        "\n",
        "![image](https://i.imgur.com/cz6TTNn.png)\n",
        "\n",
        "We need to impart information about where each token is in the sequence, but we aren't using any recurrence or convolutions - the easiest way to encode positional information is to inject positional information into our input embeddings.\n",
        "\n",
        "We're going to use the process outlined in the paper to do this - which is to use a specific combination of functions to add positional information to the embeddings."
      ],
      "metadata": {
        "id": "ra5KCa1KnfrC"
      }
    },
    {
      "cell_type": "code",
      "source": [
        "class RotaryPositionalEncoding(nn.Module):\n",
        "    def __init__(self, d_model: int, seq_len: int, dropout: float = 0.1, base: int = 10000) -> None:\n",
        "        \"\"\"\n",
        "        Implements Rotary Position Embedding (RoPE).\n",
        "\n",
        "        Args:\n",
        "            d_model: Dimension of the model/embeddings\n",
        "            seq_len: Maximum sequence length\n",
        "            dropout: Dropout rate\n",
        "            base: Base for the angular frequencies\n",
        "        \"\"\"\n",
        "        super().__init__()\n",
        "        self.d_model = d_model\n",
        "        self.seq_len = seq_len\n",
        "        self.dropout = nn.Dropout(dropout)\n",
        "        self.base = base\n",
        "\n",
        "        # Only need half the dimensions since we'll create complex rotations\n",
        "        assert d_model % 2 == 0, \"Model dimension must be even for RoPE\"\n",
        "\n",
        "        # Create position-dependent rotation angles\n",
        "        self.register_buffer(\n",
        "            \"inv_freq\",\n",
        "            1.0 / (base ** (torch.arange(0, d_model, 2).float() / d_model))\n",
        "        )\n",
        "\n",
        "    def _get_rotation_matrix(self, position: torch.Tensor) -> torch.Tensor:\n",
        "        \"\"\"Creates rotation matrices for the given positions.\"\"\"\n",
        "        position = position.unsqueeze(-1)\n",
        "        angles = position * self.inv_freq\n",
        "        cos = torch.cos(angles)\n",
        "        sin = torch.sin(angles)\n",
        "        return cos, sin\n",
        "\n",
        "    def _rotate_half(self, x: torch.Tensor) -> torch.Tensor:\n",
        "        \"\"\"Rotates half of the hidden dimensions of the input.\"\"\"\n",
        "        x1, x2 = x[..., ::2], x[..., 1::2]\n",
        "        return torch.cat((-x2, x1), dim=-1)\n",
        "\n",
        "    def forward(self, x: torch.Tensor) -> torch.Tensor:\n",
        "        \"\"\"\n",
        "        Apply rotary position embeddings to input tensor.\n",
        "\n",
        "        Args:\n",
        "            x: Input tensor of shape [batch_size, seq_len, d_model]\n",
        "\n",
        "        Returns:\n",
        "            Tensor with rotary position embeddings applied\n",
        "        \"\"\"\n",
        "        positions = torch.arange(x.size(1), device=x.device)\n",
        "        cos, sin = self._get_rotation_matrix(positions)\n",
        "\n",
        "        # Reshape for broadcasting\n",
        "        cos = cos.view(1, x.size(1), 1, x.size(-1) // 2).repeat(x.size(0), 1, 1, 1)\n",
        "        sin = sin.view(1, x.size(1), 1, x.size(-1) // 2).repeat(x.size(0), 1, 1, 1)\n",
        "\n",
        "        # Reshape input for rotation\n",
        "        x_reshape = x.view(x.size(0), x.size(1), -1, x.size(-1))\n",
        "\n",
        "        # Apply rotation using complex multiplication\n",
        "        x_out = torch.cat([\n",
        "            cos * x_reshape[..., ::2] - sin * x_reshape[..., 1::2],\n",
        "            cos * x_reshape[..., 1::2] + sin * x_reshape[..., ::2]\n",
        "        ], dim=-1)\n",
        "\n",
        "        # Restore original shape\n",
        "        x_out = x_out.view(x.size())\n",
        "\n",
        "        return self.dropout(x_out)\n",
        "\n",
        "    def get_rotary_embeddings(self, x: torch.Tensor, offset: int = 0) -> torch.Tensor:\n",
        "        \"\"\"\n",
        "        Get rotary embeddings for input tensor, with optional position offset.\n",
        "        Useful for sliding window attention or inference.\n",
        "\n",
        "        Args:\n",
        "            x: Input tensor\n",
        "            offset: Position offset to start from\n",
        "\n",
        "        Returns:\n",
        "            Rotary embeddings tensor\n",
        "        \"\"\"\n",
        "        positions = torch.arange(x.size(1), device=x.device) + offset\n",
        "        cos, sin = self._get_rotation_matrix(positions)\n",
        "        return cos.view(1, -1, 1, x.size(-1) // 2), sin.view(1, -1, 1, x.size(-1) // 2)"
      ],
      "metadata": {
        "id": "5K3NXh7MoM5D"
      },
      "execution_count": null,
      "outputs": []
    },
    {
      "cell_type": "markdown",
      "source": [
        "## Add & Norm\n",
        "\n",
        "Next we'll tackle the Add & Norm Block of the diagram.\n",
        "\n",
        "![image](https://i.imgur.com/CLB2BVS.png)"
      ],
      "metadata": {
        "id": "ueiM7LzKpcFY"
      }
    },
    {
      "cell_type": "markdown",
      "source": [
        "### Layer Normalization\n",
        "\n",
        "The first step is to add layer normalization. You can read more about it [here](https://paperswithcode.com/method/layer-normalization)!\n",
        "\n",
        "The basic idea is that it makes training the model a bit easier, and allows the model to generalize a bit better."
      ],
      "metadata": {
        "id": "_lDABPLSKqOt"
      }
    },
    {
      "cell_type": "code",
      "source": [
        "class LayerNormalization(nn.Module):\n",
        "  def __init__(self, features: int, epsilon:float=10**-6) -> None:\n",
        "    super().__init__()\n",
        "    self.epsilon = epsilon\n",
        "    self.gamma = nn.Parameter(torch.ones(features))\n",
        "    self.beta = nn.Parameter(torch.zeros(features))\n",
        "\n",
        "  def forward(self, x):\n",
        "    mean = x.mean(dim = -1, keepdim = True)\n",
        "    standard_deviation = x.std(dim = -1, keepdim = True)\n",
        "    return self.gamma * (x - mean) / (standard_deviation + self.epsilon) + self.beta"
      ],
      "metadata": {
        "id": "1Nlv7BH7ruSf"
      },
      "execution_count": null,
      "outputs": []
    },
    {
      "cell_type": "markdown",
      "source": [
        "### Test Layer Normalization\n",
        "\n",
        "We'll set up a sample Layer Normalization and then test that it does what we'd expect!"
      ],
      "metadata": {
        "id": "vft5kFUBy1aE"
      }
    },
    {
      "cell_type": "code",
      "source": [
        "def test_layer_normalization_with_example():\n",
        "    layer_norm = LayerNormalization(features=3)  # Smaller feature size for example\n",
        "\n",
        "    # Simulate word embeddings with different magnitudes\n",
        "    word_embeddings = torch.tensor([\n",
        "        [2.5, 4.1, -3.2],  # \"The\" (high magnitude)\n",
        "        [0.1, 0.2, -0.1],  # \"cat\" (low magnitude)\n",
        "        [8.2, -6.1, 5.5]   # \"sat\" (very high magnitude)\n",
        "    ]).unsqueeze(0)\n",
        "\n",
        "    normalized = layer_norm(word_embeddings)\n",
        "\n",
        "    print(\"Before normalization (magnitudes vary greatly):\")\n",
        "    print(word_embeddings[0])\n",
        "    print(\"\\nAfter normalization (values scaled to similar ranges):\")\n",
        "    print(normalized[0])\n",
        "\n",
        "    # Verify statistical properties\n",
        "    mean = normalized.mean(dim=-1)\n",
        "    var = normalized.var(dim=-1)\n",
        "    assert torch.allclose(mean, torch.zeros_like(mean), atol=1e-5)\n",
        "    assert torch.allclose(var, torch.ones_like(var), atol=1e-5)\n",
        "    print(\"✓ Layer Normalization Test Passed\")"
      ],
      "metadata": {
        "id": "01Llr9cwy7C2"
      },
      "execution_count": null,
      "outputs": []
    },
    {
      "cell_type": "code",
      "source": [
        "test_layer_normalization_with_example()"
      ],
      "metadata": {
        "colab": {
          "base_uri": "https://localhost:8080/"
        },
        "id": "75hToLCry9mR",
        "outputId": "6958a040-5fa2-4ae1-8258-38c30197839f"
      },
      "execution_count": null,
      "outputs": [
        {
          "output_type": "stream",
          "name": "stdout",
          "text": [
            "Before normalization (magnitudes vary greatly):\n",
            "tensor([[ 2.5000,  4.1000, -3.2000],\n",
            "        [ 0.1000,  0.2000, -0.1000],\n",
            "        [ 8.2000, -6.1000,  5.5000]])\n",
            "\n",
            "After normalization (values scaled to similar ranges):\n",
            "tensor([[ 0.3562,  0.7732, -1.1293],\n",
            "        [ 0.2182,  0.8729, -1.0911],\n",
            "        [ 0.7459, -1.1363,  0.3905]], grad_fn=<SelectBackward0>)\n",
            "✓ Layer Normalization Test Passed\n"
          ]
        }
      ]
    },
    {
      "cell_type": "markdown",
      "source": [
        "### Residual Connection\n",
        "\n",
        "Another technique that makes model training easier, we add a Residual connection to the outputs of the Attention Block - this helps to prevent vanishing gradient."
      ],
      "metadata": {
        "id": "rwXt7KKKycrl"
      }
    },
    {
      "cell_type": "code",
      "source": [
        "class ResidualConnection(nn.Module):\n",
        "  def __init__(self, features: int, dropout: float = 0.1) -> None:\n",
        "    super().__init__()\n",
        "    self.dropout = nn.Dropout(dropout)\n",
        "    self.layernorm = LayerNormalization(features)\n",
        "\n",
        "  def forward(self, x, sublayer):\n",
        "    return x + self.dropout(sublayer(self.layernorm(x)))"
      ],
      "metadata": {
        "id": "XKwGFD2-yd-Z"
      },
      "execution_count": null,
      "outputs": []
    },
    {
      "cell_type": "markdown",
      "source": [
        "### Testing Residual Connection\n",
        "\n",
        "We'll set up a sample Residual Connection and then test that it does what we'd expect!"
      ],
      "metadata": {
        "id": "p668YYgBzc3G"
      }
    },
    {
      "cell_type": "code",
      "source": [
        "def test_residual_connection_with_example():\n",
        "    residual = ResidualConnection(features=3, dropout=0.1)\n",
        "\n",
        "    # Original input \"The cat\"\n",
        "    x = torch.tensor([\n",
        "        [1.0, 1.0, 1.0],\n",
        "        [2.0, 2.0, 2.0]\n",
        "    ]).unsqueeze(0)\n",
        "\n",
        "    # Sublayer that makes meaningful changes\n",
        "    def sublayer(x):\n",
        "        return torch.nn.functional.relu(x + 0.5) # Non-linear transformation\n",
        "\n",
        "    output = residual(x, sublayer)\n",
        "\n",
        "    print(\"Original input:\")\n",
        "    print(x[0])\n",
        "    print(\"\\nAfter residual connection (combines original + transformed):\")\n",
        "    print(output[0])\n",
        "\n",
        "    # Verify output changed but maintained shape\n",
        "    assert output.shape == x.shape\n",
        "    assert torch.any(torch.abs(output - x) > 1e-6), \"Output should differ from input\"\n",
        "    print(\"✓ Residual Connection Test Passed\")"
      ],
      "metadata": {
        "id": "heebV5mIzje4"
      },
      "execution_count": null,
      "outputs": []
    },
    {
      "cell_type": "code",
      "source": [
        "test_residual_connection_with_example()"
      ],
      "metadata": {
        "colab": {
          "base_uri": "https://localhost:8080/"
        },
        "id": "YZMF65cmzmgx",
        "outputId": "aae154d3-5b9b-45b4-83b4-4f32dbe9f7c3"
      },
      "execution_count": null,
      "outputs": [
        {
          "output_type": "stream",
          "name": "stdout",
          "text": [
            "Original input:\n",
            "tensor([[1., 1., 1.],\n",
            "        [2., 2., 2.]])\n",
            "\n",
            "After residual connection (combines original + transformed):\n",
            "tensor([[1.5556, 1.5556, 1.5556],\n",
            "        [2.0000, 2.5556, 2.5556]], grad_fn=<SelectBackward0>)\n",
            "✓ Residual Connection Test Passed\n"
          ]
        }
      ]
    },
    {
      "cell_type": "markdown",
      "source": [
        "## Feed Forward Network\n",
        "\n",
        "![image](https://i.imgur.com/y2jdmNx.png)\n",
        "\n",
        "Moving onto the next component, we have our feed forward network.\n",
        "\n",
        "The feed forward networks servers two purposes in our model:\n",
        "\n",
        "1. It reforms the attention outputs into a format that works with the next block.\n",
        "\n",
        "2. It helps add complexity to prevent each attention block acting in a similar fashion."
      ],
      "metadata": {
        "id": "IIOZp3xhsaXK"
      }
    },
    {
      "cell_type": "code",
      "source": [
        "class FeedForwardBlock(nn.Module):\n",
        "  def __init__(self, d_model: int, d_ff: int = 2048, dropout: float = 0.1) -> None:\n",
        "    \"\"\"\n",
        "    d_model - dimension of model\n",
        "    d_ff - dimension of feed forward network\n",
        "    dropout - regularization measure\n",
        "    \"\"\"\n",
        "    super().__init__()\n",
        "    self.linear_1 = nn.Linear(d_model, d_ff)\n",
        "    self.dropout = nn.Dropout(dropout)\n",
        "    self.linear_2 = nn.Linear(d_ff, d_model)\n",
        "\n",
        "  def forward(self, x):\n",
        "    return self.linear_2(self.dropout(torch.relu(self.linear_1(x))))"
      ],
      "metadata": {
        "id": "JueNG2UBszbR"
      },
      "execution_count": null,
      "outputs": []
    },
    {
      "cell_type": "markdown",
      "source": [
        "### Testing the Feed-forward Block\n",
        "\n",
        "Let's test!"
      ],
      "metadata": {
        "id": "cU-H1m4L0UhY"
      }
    },
    {
      "cell_type": "code",
      "source": [
        "def test_feed_forward_block_with_example():\n",
        "   ff_block = FeedForwardBlock(d_model=3, d_ff=8)  # Small dimensions for demonstration\n",
        "\n",
        "   # Input: Word embeddings for \"The cat\"\n",
        "   x = torch.tensor([\n",
        "       [1.0, 0.5, 0.2],  # \"The\"\n",
        "       [2.0, -0.3, 1.1]  # \"cat\"\n",
        "   ]).unsqueeze(0)\n",
        "\n",
        "   output = ff_block(x)\n",
        "\n",
        "   print(\"Input embeddings:\")\n",
        "   print(x[0])\n",
        "   print(\"\\nAfter feed-forward transformation:\")\n",
        "   print(output[0])\n",
        "\n",
        "   # First linear layer expands to d_ff dimensions\n",
        "   # ReLU keeps only positive values\n",
        "   # Second linear layer projects back to d_model dimensions\n",
        "   assert output.shape == x.shape\n",
        "   assert not torch.allclose(output, x)\n",
        "   print(\"✓ Feed Forward Block Test Passed\")"
      ],
      "metadata": {
        "id": "pwtbsJou0fxz"
      },
      "execution_count": null,
      "outputs": []
    },
    {
      "cell_type": "code",
      "source": [
        "test_feed_forward_block_with_example()"
      ],
      "metadata": {
        "colab": {
          "base_uri": "https://localhost:8080/"
        },
        "id": "IMHE9fWB0hj3",
        "outputId": "2833ef7c-6611-423d-d14e-e4d6970c6830"
      },
      "execution_count": null,
      "outputs": [
        {
          "output_type": "stream",
          "name": "stdout",
          "text": [
            "Input embeddings:\n",
            "tensor([[ 1.0000,  0.5000,  0.2000],\n",
            "        [ 2.0000, -0.3000,  1.1000]])\n",
            "\n",
            "After feed-forward transformation:\n",
            "tensor([[-0.0642,  0.3999,  0.1095],\n",
            "        [-0.1528,  0.4453,  0.0139]], grad_fn=<SelectBackward0>)\n",
            "✓ Feed Forward Block Test Passed\n"
          ]
        }
      ]
    },
    {
      "cell_type": "markdown",
      "source": [
        "## Task #1: Multi-Head Attention\n",
        "\n",
        "![image](https://i.imgur.com/9c5dioJ.png)\n",
        "\n",
        "Next up is the heart and soul of the Transformer - Multi-Head Attention.\n",
        "\n",
        "We'll break it down into the basic building blocks in code in the following section!"
      ],
      "metadata": {
        "id": "bJ5EGkvdtP0O"
      }
    },
    {
      "cell_type": "markdown",
      "source": [
        "### Task 2: Multi-Head Attention Class\n",
        "\n"
      ],
      "metadata": {
        "id": "-Oto52ZyvX0k"
      }
    },
    {
      "cell_type": "code",
      "source": [
        "class MultiHeadAttention(nn.Module):\n",
        "  def __init__(self, d_model: int = 512, num_heads: int = 8, dropout: float = 0.1) -> None:\n",
        "    super().__init__()\n",
        "    self.d_model = d_model\n",
        "    self.num_heads = num_heads\n",
        "    assert d_model % num_heads == 0, \"d_model is not divisible by h\"\n",
        "\n",
        "    self.d_k = d_model // num_heads\n",
        "\n",
        "    self.w_q = nn.Linear(d_model, d_model, bias=False)\n",
        "    self.w_k = nn.Linear(d_model, d_model, bias=False)\n",
        "    self.w_v = nn.Linear(d_model, d_model, bias=False)\n",
        "\n",
        "    self.w_o = nn.Linear(d_model, d_model, bias=False)\n",
        "\n",
        "    self.dropout = nn.Dropout(dropout)"
      ],
      "metadata": {
        "id": "mDHkw1f_vmuv"
      },
      "execution_count": null,
      "outputs": []
    },
    {
      "cell_type": "markdown",
      "source": [
        "### 👪❓Discussion Question 1:\n",
        "\n",
        "Describe, in your own words, intuitively what each of `Q`, `K`, and `V` represent - beyond their names and functions.\n",
        "\n",
        "Discuss among your group!\n",
        "\n",
        "There is no single correct answer - and if you get stuck - feel free to ask your favourite Large Language Model!"
      ],
      "metadata": {
        "id": "dEm7I6iwMiom"
      }
    },
    {
      "cell_type": "markdown",
      "source": [
        "### Testing Multi-Head Attention\n",
        "\n",
        "Let's test it out!"
      ],
      "metadata": {
        "id": "9dp3eM7H1cRl"
      }
    },
    {
      "cell_type": "markdown",
      "source": [
        "### Task #3: Scaled Dot-Product Attention\n",
        "\n",
        "![image](https://i.imgur.com/Yp48DuB.png)"
      ],
      "metadata": {
        "id": "FyD7nAM6tb0K"
      }
    },
    {
      "cell_type": "code",
      "source": [
        "def attention(query, key, value, mask, d_k, dropout: nn.Dropout = None):\n",
        "  attention_scores = (query @ key.transpose(-2, -1)) / math.sqrt(d_k)\n",
        "\n",
        "  if mask is not None:\n",
        "    attention_scores.masked_fill_(mask == 0, -1e9)\n",
        "\n",
        "  attention_scores = attention_scores.softmax(dim=-1)\n",
        "\n",
        "  if dropout is not None:\n",
        "    attention_scores = dropout(attention_scores)\n",
        "\n",
        "  return (attention_scores @ value), attention_scores"
      ],
      "metadata": {
        "id": "dKk08SvowJIc"
      },
      "execution_count": null,
      "outputs": []
    },
    {
      "cell_type": "markdown",
      "source": [
        "### ❓Question 1:\n",
        "\n",
        "Describe the above code that defines the attension mechanism.\n",
        "\n",
        "Write, in natural language, what each step is doing."
      ],
      "metadata": {
        "id": "qphuqoXl-1jW"
      }
    },
    {
      "cell_type": "markdown",
      "source": [
        "### Task #4: Forward Method\n",
        "\n",
        "This is code is required to do a forward pass with our model."
      ],
      "metadata": {
        "id": "Ac8k7b3SxKOC"
      }
    },
    {
      "cell_type": "code",
      "source": [
        "def forward(self, query, key, value, mask):\n",
        "  query = self.w_q(query)\n",
        "  key = self.w_k(key)\n",
        "  value = self.w_v(value)\n",
        "\n",
        "  query = query.view(query.shape[0], query.shape[1], self.num_heads, self.d_k).transpose(1, 2)\n",
        "  key = key.view(key.shape[0], key.shape[1], self.num_heads, self.d_k).transpose(1, 2)\n",
        "  value = value.view(value.shape[0], value.shape[1], self.num_heads, self.d_k).transpose(1, 2)\n",
        "\n",
        "  x, self.attention_scores = MultiHeadAttention.attention(query, key, value, mask, self.dropout)\n",
        "\n",
        "  x = x.transpose(1, 2).contiguous().view(x.shape[0], -1, self.num_heads * self.d_k)\n",
        "\n",
        "  return self.w_o(x)"
      ],
      "metadata": {
        "id": "um2Oxv1axWYK"
      },
      "execution_count": null,
      "outputs": []
    },
    {
      "cell_type": "markdown",
      "source": [
        "### Task #4: Combining it All Together - and Introducing Flash Attention\n",
        "\n",
        "We'll start with implementing a simple set of `configs` - and then get straight into an Attention implementation!"
      ],
      "metadata": {
        "id": "kgr_D0mmyEgp"
      }
    },
    {
      "cell_type": "code",
      "source": [
        "class AttentionType(Enum):\n",
        "    REGULAR = \"regular\"\n",
        "    FLASH = \"flash\"\n",
        "\n",
        "@dataclass\n",
        "class AttentionConfig:\n",
        "    attention_type: AttentionType\n",
        "    d_model: int = 512\n",
        "    num_heads: int = 8\n",
        "    dropout: float = 0.1\n",
        "    rotary_dim: int = None"
      ],
      "metadata": {
        "id": "E-AMu8nkGQM2"
      },
      "execution_count": null,
      "outputs": []
    },
    {
      "cell_type": "markdown",
      "source": [
        "All we need to do is tie together the above steps into one big block!"
      ],
      "metadata": {
        "id": "WPOFAp7lIb0p"
      }
    },
    {
      "cell_type": "code",
      "source": [
        "class ModularAttentionWithRoPE(nn.Module):\n",
        "    def __init__(self, config: AttentionConfig):\n",
        "        super().__init__()\n",
        "        self.config = config\n",
        "        self.d_model = config.d_model\n",
        "        self.num_heads = config.num_heads\n",
        "        self.d_k = config.d_model // config.num_heads\n",
        "\n",
        "        # Linear projections\n",
        "        self.w_q = nn.Linear(config.d_model, config.d_model, bias=False)\n",
        "        self.w_k = nn.Linear(config.d_model, config.d_model, bias=False)\n",
        "        self.w_v = nn.Linear(config.d_model, config.d_model, bias=False)\n",
        "        self.w_o = nn.Linear(config.d_model, config.d_model, bias=False)\n",
        "\n",
        "        self.dropout = config.dropout\n",
        "\n",
        "        # Store attention scores\n",
        "        self.attention_scores = None\n",
        "\n",
        "        # RoPE embedding\n",
        "        self.rope = RotaryPositionalEncoding(\n",
        "            d_model=self.d_k,\n",
        "            seq_len=2048\n",
        "        )\n",
        "\n",
        "    def _apply_rotary_pos_emb(self, q: torch.Tensor, k: torch.Tensor) -> tuple:\n",
        "        q_rot = self.rope(q)\n",
        "        k_rot = self.rope(k)\n",
        "        return q_rot, k_rot\n",
        "\n",
        "    def _regular_attention(self, q: torch.Tensor, k: torch.Tensor, v: torch.Tensor,\n",
        "                         mask: Optional[torch.Tensor]) -> torch.Tensor:\n",
        "        q, k = self._apply_rotary_pos_emb(q, k)\n",
        "\n",
        "        d_k = q.shape[-1]\n",
        "        scores = (q @ k.transpose(-2, -1)) / math.sqrt(d_k)\n",
        "\n",
        "        if mask is not None:\n",
        "            scores = scores.masked_fill(mask == 0, -1e9)\n",
        "\n",
        "        attention_weights = torch.softmax(scores, dim=-1)\n",
        "\n",
        "        # Store the attention scores\n",
        "        self.attention_scores = attention_weights.detach()\n",
        "\n",
        "        if self.training:\n",
        "            attention_weights = torch.dropout(attention_weights, self.dropout, self.training)\n",
        "\n",
        "        return attention_weights @ v\n",
        "\n",
        "    def _flash_attention(self, q: torch.Tensor, k: torch.Tensor, v: torch.Tensor,\n",
        "                        mask: Optional[torch.Tensor]) -> torch.Tensor:\n",
        "        try:\n",
        "            from flash_attn import flash_attn_func\n",
        "\n",
        "            q, k = self._apply_rotary_pos_emb(q, k)\n",
        "\n",
        "            if not all(x.dtype == torch.float16 for x in [q, k, v]):\n",
        "                return self._regular_attention(q, k, v, mask)\n",
        "\n",
        "            if not all(x.is_cuda for x in [q, k, v]):\n",
        "                return self._regular_attention(q, k, v, mask)\n",
        "\n",
        "            if mask is not None:\n",
        "                mask = mask.to(dtype=torch.float32)\n",
        "\n",
        "            dropout_p = self.dropout if self.training else 0.0\n",
        "            q, k, v = q.contiguous(), k.contiguous(), v.contiguous()\n",
        "\n",
        "            # Flash attention doesn't give us access to attention scores directly\n",
        "            # So we'll compute them separately for visualization\n",
        "            with torch.no_grad():\n",
        "                scores = (q @ k.transpose(-2, -1)) / math.sqrt(q.size(-1))\n",
        "                self.attention_scores = torch.softmax(scores, dim=-1).detach()\n",
        "\n",
        "            return flash_attn_func(\n",
        "                q, k, v,\n",
        "                dropout_p=dropout_p,\n",
        "                causal=False,\n",
        "                softmax_scale=None\n",
        "            )\n",
        "\n",
        "        except ImportError:\n",
        "            return self._regular_attention(q, k, v, mask)\n",
        "        except Exception as e:\n",
        "            return self._regular_attention(q, k, v, mask)\n",
        "\n",
        "    def forward(self, query: torch.Tensor, key: torch.Tensor, value: torch.Tensor,\n",
        "                mask: Optional[torch.Tensor] = None) -> torch.Tensor:\n",
        "        batch_size = query.shape[0]\n",
        "\n",
        "        # Linear projections and reshape\n",
        "        q = self.w_q(query).view(batch_size, -1, self.num_heads, self.d_k).transpose(1, 2)\n",
        "        k = self.w_k(key).view(batch_size, -1, self.num_heads, self.d_k).transpose(1, 2)\n",
        "        v = self.w_v(value).view(batch_size, -1, self.num_heads, self.d_k).transpose(1, 2)\n",
        "\n",
        "        q, k, v = q.contiguous(), k.contiguous(), v.contiguous()\n",
        "\n",
        "        if self.config.attention_type == AttentionType.FLASH:\n",
        "            attn_output = self._flash_attention(q, k, v, mask)\n",
        "        else:\n",
        "            attn_output = self._regular_attention(q, k, v, mask)\n",
        "\n",
        "        attn_output = attn_output.transpose(1, 2).contiguous().view(batch_size, -1, self.d_model)\n",
        "        return self.w_o(attn_output)\n",
        "\n",
        "    def get_attention_scores(self) -> Optional[torch.Tensor]:\n",
        "        \"\"\"Returns the attention scores from the last forward pass\"\"\"\n",
        "        return self.attention_scores"
      ],
      "metadata": {
        "id": "QKiXahC_GKMV"
      },
      "execution_count": null,
      "outputs": []
    },
    {
      "cell_type": "markdown",
      "source": [
        "#### 👪❓Discussion Question 2:\n",
        "\n",
        "Work with your breakout room to build a visualization of the above `forward` pass - including dummy inputs.\n",
        "\n",
        "You can use drawing programs (like [Excalidraw](https://excalidraw.com/)), or write a visualization in code.\n",
        "\n",
        "> NOTE: LLMs like Claude 3.5 Sonnet is a fantastic tool to produce (and test) visualizations in it's [Web UI](https://claude.ai/new)!"
      ],
      "metadata": {
        "id": "ySBbU7Zo_x5T"
      }
    },
    {
      "cell_type": "markdown",
      "source": [
        "### Testing MultiHeadAttention\n",
        "\n",
        "Let's test it out!"
      ],
      "metadata": {
        "id": "qRFqoZyD1-AU"
      }
    },
    {
      "cell_type": "code",
      "source": [
        "def test_attention_mechanisms():\n",
        "    attention_configs = [\n",
        "        AttentionConfig(attention_type=AttentionType.REGULAR, d_model=6, num_heads=2, dropout=0.1),\n",
        "        AttentionConfig(attention_type=AttentionType.FLASH, d_model=6, num_heads=2, dropout=0.1)\n",
        "    ]\n",
        "\n",
        "    # Create sequence in float16\n",
        "    seq = torch.tensor([\n",
        "        [1.0, 1.0, 0.0, 0.0, 0.0, 0.0],\n",
        "        [0.0, 0.0, 1.0, 1.0, 0.0, 0.0],\n",
        "        [0.0, 0.0, 0.0, 0.0, 1.0, 1.0]\n",
        "    ], dtype=torch.float16).unsqueeze(0).cuda()\n",
        "\n",
        "    mask = None\n",
        "\n",
        "    for config in attention_configs:\n",
        "        try:\n",
        "            print(f\"\\nTesting {config.attention_type.value} attention:\")\n",
        "            print(\"-\" * 50)\n",
        "\n",
        "            mha = ModularAttentionWithRoPE(config).cuda().half()\n",
        "\n",
        "            # Convert model weights to float16\n",
        "            for param in mha.parameters():\n",
        "                param.data = param.data.half()\n",
        "\n",
        "            output = mha(seq, seq, seq, mask)\n",
        "\n",
        "            print(f\"Input shape: {seq.shape}\")\n",
        "            print(\"Input values:\")\n",
        "            print(seq[0])\n",
        "            print(\"\\nOutput values:\")\n",
        "            print(output[0])\n",
        "\n",
        "            assert output.shape == seq.shape\n",
        "            assert not torch.allclose(output, seq)\n",
        "            print(f\"✓ {config.attention_type.value.title()} Attention Test Passed\")\n",
        "\n",
        "        except ImportError:\n",
        "            print(f\"Flash Attention not available, skipping {config.attention_type.value} test\")\n",
        "        except Exception as e:\n",
        "            print(f\"Error testing {config.attention_type.value} attention: {str(e)}\")\n",
        "\n",
        "        # Cleanup to prevent CUDA memory issues\n",
        "        torch.cuda.empty_cache()"
      ],
      "metadata": {
        "id": "sY1N60di2CHQ"
      },
      "execution_count": null,
      "outputs": []
    },
    {
      "cell_type": "code",
      "source": [
        "test_attention_mechanisms()"
      ],
      "metadata": {
        "id": "2qEqn4BS2DHt",
        "colab": {
          "base_uri": "https://localhost:8080/"
        },
        "outputId": "a2cd8a14-a35e-437c-a138-2bb269c78718"
      },
      "execution_count": null,
      "outputs": [
        {
          "output_type": "stream",
          "name": "stdout",
          "text": [
            "\n",
            "Testing regular attention:\n",
            "--------------------------------------------------\n",
            "Input shape: torch.Size([1, 3, 6])\n",
            "Input values:\n",
            "tensor([[1., 1., 0., 0., 0., 0.],\n",
            "        [0., 0., 1., 1., 0., 0.],\n",
            "        [0., 0., 0., 0., 1., 1.]], device='cuda:0', dtype=torch.float16)\n",
            "\n",
            "Output values:\n",
            "tensor([[-0.2059,  0.0512,  0.3945,  0.4014, -0.1779, -0.0786],\n",
            "        [-0.1819, -0.0387,  0.2798,  0.2803, -0.0506, -0.1565],\n",
            "        [-0.2034,  0.0331,  0.3730,  0.3789, -0.1537, -0.0837]],\n",
            "       device='cuda:0', dtype=torch.float16, grad_fn=<SelectBackward0>)\n",
            "✓ Regular Attention Test Passed\n",
            "\n",
            "Testing flash attention:\n",
            "--------------------------------------------------\n",
            "Input shape: torch.Size([1, 3, 6])\n",
            "Input values:\n",
            "tensor([[1., 1., 0., 0., 0., 0.],\n",
            "        [0., 0., 1., 1., 0., 0.],\n",
            "        [0., 0., 0., 0., 1., 1.]], device='cuda:0', dtype=torch.float16)\n",
            "\n",
            "Output values:\n",
            "tensor([[ 0.2949,  0.3127,  0.0592, -0.0163, -0.3589, -0.1509],\n",
            "        [-0.0501, -0.0475,  0.1141, -0.0030,  0.0639, -0.1714],\n",
            "        [ 0.0790,  0.0347, -0.1809,  0.0184, -0.0250,  0.3604]],\n",
            "       device='cuda:0', dtype=torch.float16, grad_fn=<SelectBackward0>)\n",
            "✓ Flash Attention Test Passed\n"
          ]
        }
      ]
    },
    {
      "cell_type": "code",
      "source": [
        "class TransformerBlockWithRoPE(nn.Module):\n",
        "    def __init__(self,\n",
        "                 features: int,\n",
        "                 attn_config: AttentionConfig,\n",
        "                 feed_forward: nn.Module,\n",
        "                 dropout: float,\n",
        "                 is_decoder: bool = False):\n",
        "        super().__init__()\n",
        "        self.is_decoder = is_decoder\n",
        "        self.self_attention = ModularAttentionWithRoPE(attn_config)\n",
        "        self.feed_forward = feed_forward\n",
        "\n",
        "        num_connections = 3 if is_decoder else 2\n",
        "        self.residual_connections = nn.ModuleList([\n",
        "            ResidualConnection(features, dropout) for _ in range(num_connections)\n",
        "        ])\n",
        "\n",
        "        if is_decoder:\n",
        "            self.cross_attention = ModularAttentionWithRoPE(attn_config)\n",
        "\n",
        "    def forward(self, x: torch.Tensor,\n",
        "                encoder_output: Optional[torch.Tensor] = None,\n",
        "                self_mask: Optional[torch.Tensor] = None,\n",
        "                cross_mask: Optional[torch.Tensor] = None) -> torch.Tensor:\n",
        "        x = self.residual_connections[0](x, lambda x: self.self_attention(x, x, x, self_mask))\n",
        "\n",
        "        if self.is_decoder:\n",
        "            if encoder_output is None:\n",
        "                raise ValueError(\"Decoder block requires encoder_output\")\n",
        "            x = self.residual_connections[1](x, lambda x: self.cross_attention(x, encoder_output, encoder_output, cross_mask))\n",
        "            return self.residual_connections[2](x, self.feed_forward)\n",
        "\n",
        "        return self.residual_connections[1](x, self.feed_forward)"
      ],
      "metadata": {
        "id": "vLJ3xAJcIizf"
      },
      "execution_count": null,
      "outputs": []
    },
    {
      "cell_type": "markdown",
      "source": [
        "## Encoder\n",
        "\n",
        "When we pass information through our model - the first thing we will do is Encode it by passing it through our Encoder Blocks.\n"
      ],
      "metadata": {
        "id": "EkKjLhpiyz5b"
      }
    },
    {
      "cell_type": "markdown",
      "source": [
        "### Encoder Block\n",
        "\n",
        "![image](https://i.imgur.com/BkM8lxV.png)\n",
        "\n",
        "The encoder takes in the source language sentence (e.g. English). Each word is converted into a vector representation using an embedding layer. Then a positional encoder adds information about the position of each word. This goes through multiple self-attention layers, where each word vector attends to all other word vectors to build contextual representations."
      ],
      "metadata": {
        "id": "f-0edIfMzijj"
      }
    },
    {
      "cell_type": "code",
      "source": [
        "class EncoderBlock(nn.Module):\n",
        "  def __init__(self, features: int, self_attention_block: MultiHeadAttention, feed_forward_block: FeedForwardBlock, dropout: float) -> None:\n",
        "    super().__init__()\n",
        "    self.self_attention_block = self_attention_block\n",
        "    self.feed_forward_block = feed_forward_block\n",
        "    self.residual_connections = nn.ModuleList([ResidualConnection(features, dropout) for _ in range(2)])\n",
        "\n",
        "  def forward(self, x, input_mask):\n",
        "    x = self.residual_connections[0](x, lambda x: self.self_attention_block(x, x, x, input_mask))\n",
        "    x = self.residual_connections[1](x, self.feed_forward_block)\n",
        "    return x"
      ],
      "metadata": {
        "id": "dMVnZiGDy1PG"
      },
      "execution_count": null,
      "outputs": []
    },
    {
      "cell_type": "markdown",
      "source": [
        "### Encoder Stack\n",
        "\n",
        "Following along from the original paper - we will organize these blocks into a set of 6.\n",
        "\n",
        "These 6 Encoder Blocks (each with 8 Attention Heads) will comprise our Encoding Stack."
      ],
      "metadata": {
        "id": "a-AvnoPrzvwu"
      }
    },
    {
      "cell_type": "code",
      "source": [
        "class EncoderStack(nn.Module):\n",
        "  def __init__(self, features: int, layers: nn.ModuleList) -> None:\n",
        "    super().__init__()\n",
        "    self.layers = layers\n",
        "    self.norm = LayerNormalization(features)\n",
        "\n",
        "  def forward(self, x, mask):\n",
        "    for layer in self.layers:\n",
        "      x = layer(x, mask)\n",
        "    return self.norm(x)"
      ],
      "metadata": {
        "id": "kOaR5SjUzxv7"
      },
      "execution_count": null,
      "outputs": []
    },
    {
      "cell_type": "markdown",
      "source": [
        "## Decoder\n",
        "\n",
        "Next, we will take the encoded sequence and decode it through our Decoder Blocks."
      ],
      "metadata": {
        "id": "fQyujsRTz5NT"
      }
    },
    {
      "cell_type": "markdown",
      "source": [
        "### Decoder Block\n",
        "\n",
        "![image](https://i.imgur.com/G3dmyIp.png)\n",
        "\n",
        "The decoder takes in the target language sentence (e.g. Italian). It also converts words to vectors and adds positional info. Then it goes through self-attention layers. Here, a mask is applied so each word can only see the words before it, not after.\n",
        "\n",
        "The decoder also does attention over the encoder output. This allows each French word to find relevant connections with the English words."
      ],
      "metadata": {
        "id": "zBYgl77Kz6bx"
      }
    },
    {
      "cell_type": "code",
      "source": [
        "class DecoderBlock(nn.Module):\n",
        "  def __init__(self, features: int, self_attention_block: MultiHeadAttention, cross_attention_block: MultiHeadAttention, feed_forward_block: FeedForwardBlock, dropout: float) -> None:\n",
        "    super().__init__()\n",
        "    self.self_attention_block = self_attention_block\n",
        "    self.cross_attention_block = cross_attention_block\n",
        "    self.feed_forward_block = feed_forward_block\n",
        "    self.residual_connections = nn.ModuleList([ResidualConnection(features, dropout) for _ in range(3)])\n",
        "\n",
        "  def forward(self, x, encoder_output, input_mask, target_mask):\n",
        "    x = self.residual_connections[0](x, lambda x: self.self_attention_block(x, x, x, target_mask))\n",
        "    x = self.residual_connections[1](x, lambda x: self.cross_attention_block(x, encoder_output, encoder_output, input_mask))\n",
        "    x = self.residual_connections[2](x, self.feed_forward_block)\n",
        "    return x"
      ],
      "metadata": {
        "id": "SIwafbqzz5-n"
      },
      "execution_count": null,
      "outputs": []
    },
    {
      "cell_type": "markdown",
      "source": [
        "### Decoder Stack\n",
        "\n",
        "We'll use the same number of Decoder Blocks as we did Encoder Blocks - leaving us with 6 Deocder Blocks in our Decoder Stack."
      ],
      "metadata": {
        "id": "sa4yiTNn0BkA"
      }
    },
    {
      "cell_type": "code",
      "source": [
        "class DecoderStack(nn.Module):\n",
        "  def __init__(self, features: int, layers: nn.ModuleList) -> None:\n",
        "    super().__init__()\n",
        "    self.layers = layers\n",
        "    self.norm = LayerNormalization(features)\n",
        "\n",
        "  def forward(self, x, encoder_output, input_mask, target_mask):\n",
        "    for layer in self.layers:\n",
        "      x = layer(x, encoder_output, input_mask, target_mask)\n",
        "    return self.norm(x)"
      ],
      "metadata": {
        "id": "1QUXzOXk0CcT"
      },
      "execution_count": null,
      "outputs": []
    },
    {
      "cell_type": "markdown",
      "source": [
        "## Linear Projection Layer\n",
        "\n",
        "After the decoder's self-attention and encoder-decoder attention layers, we have a context vector representing each Italian word. This context vector has a high dimension (e.g. 512 or 1024).\n",
        "\n",
        "We want to take this context vector and generate a probability distribution over the French vocabulary so we can pick the next translated word.\n",
        "\n",
        "The linear projection layer helps with this. It projects the context vector into a much larger vector called the vocabulary distribution - one entry per word in the vocabulary.\n",
        "\n",
        "For example, if our Italian vocabulary has 50,000 words, the vocabulary distribution will have 50,000 dimensions. Each dimension corresponds to the probability of that Italian word being the correct translation."
      ],
      "metadata": {
        "id": "kRFiAP580S4b"
      }
    },
    {
      "cell_type": "code",
      "source": [
        "class LinearProjectionLayer(nn.Module):\n",
        "  def __init__(self, d_model, vocab_size) -> None:\n",
        "    super().__init__()\n",
        "    self.proj = nn.Linear(d_model, vocab_size)\n",
        "\n",
        "  def forward(self, x) -> None:\n",
        "    return self.proj(x)"
      ],
      "metadata": {
        "id": "tkBBMAZK0WLB"
      },
      "execution_count": null,
      "outputs": []
    },
    {
      "cell_type": "markdown",
      "source": [
        "## The Transformer\n",
        "\n",
        "At this point, all we need to do is create a class that represents our model!"
      ],
      "metadata": {
        "id": "v9ucsRWs0lG9"
      }
    },
    {
      "cell_type": "code",
      "source": [
        "class Transformer(nn.Module):\n",
        "  def __init__(self, encoder: EncoderBlock, decoder: DecoderBlock, src_embed: InputEmbeddings, tgt_embed: InputEmbeddings, src_pos: RotaryPositionalEncoding, tgt_pos: RotaryPositionalEncoding, projection_layer: LinearProjectionLayer) -> None:\n",
        "    super().__init__()\n",
        "    self.encoder = encoder\n",
        "    self.decoder = decoder\n",
        "    self.src_embed = src_embed\n",
        "    self.tgt_embed = tgt_embed\n",
        "    self.src_pos = src_pos\n",
        "    self.tgt_pos = tgt_pos\n",
        "    self.projection_layer = projection_layer\n",
        "\n",
        "  def encode(self, src, src_mask):\n",
        "    src = self.src_embed(src)\n",
        "    src = self.src_pos(src)\n",
        "    return self.encoder(src, src_mask)\n",
        "\n",
        "  def decode(self, encoder_output: torch.Tensor, src_mask: torch.Tensor, tgt: torch.Tensor, tgt_mask: torch.Tensor):\n",
        "    tgt = self.tgt_embed(tgt)\n",
        "    tgt = self.tgt_pos(tgt)\n",
        "    return self.decoder(tgt, encoder_output, src_mask, tgt_mask)\n",
        "\n",
        "  def project(self, x):\n",
        "    return self.projection_layer(x)"
      ],
      "metadata": {
        "id": "5ip11mmQ0nMM"
      },
      "execution_count": null,
      "outputs": []
    },
    {
      "cell_type": "markdown",
      "source": [
        "## Building Our Transformer\n",
        "\n",
        "Now that we have each of our components - we need to construct an actual model!\n",
        "\n",
        "We'll use this helper function to aid in our goal and set up our Encoder/Decoder Stacks!"
      ],
      "metadata": {
        "id": "4Ssr5nA039--"
      }
    },
    {
      "cell_type": "code",
      "source": [
        "def build_transformer_with_rope(config: dict, attention_type: AttentionType = AttentionType.REGULAR) -> nn.Module:\n",
        "    attn_config = AttentionConfig(\n",
        "        attention_type=attention_type,\n",
        "        d_model=config['d_model'],\n",
        "        num_heads=config.get('num_heads', 8),\n",
        "        dropout=config.get('dropout', 0.1),\n",
        "        rotary_dim=config['d_model'] // config.get('num_heads', 8)  # RoPE dimension per head\n",
        "    )\n",
        "\n",
        "    # Create embeddings (no positional encodings needed as RoPE handles positions)\n",
        "    input_embeddings = InputEmbeddings(config['d_model'], config['input_vocab_size'])\n",
        "    target_embeddings = InputEmbeddings(config['d_model'], config['target_vocab_size'])\n",
        "\n",
        "    encoder_blocks = [\n",
        "        TransformerBlockWithRoPE(\n",
        "            features=config['d_model'],\n",
        "            attn_config=attn_config,\n",
        "            feed_forward=FeedForwardBlock(config['d_model'], config.get('d_ff', 2048)),\n",
        "            dropout=config.get('dropout', 0.1)\n",
        "        ) for _ in range(config.get('N', 6))\n",
        "    ]\n",
        "\n",
        "    decoder_blocks = [\n",
        "        TransformerBlockWithRoPE(\n",
        "            features=config['d_model'],\n",
        "            attn_config=attn_config,\n",
        "            feed_forward=FeedForwardBlock(config['d_model'], config.get('d_ff', 2048)),\n",
        "            dropout=config.get('dropout', 0.1),\n",
        "            is_decoder=True\n",
        "        ) for _ in range(config.get('N', 6))\n",
        "    ]\n",
        "\n",
        "    # Create transformer without traditional positional encodings\n",
        "    model = Transformer(\n",
        "        encoder=EncoderStack(config['d_model'], nn.ModuleList(encoder_blocks)),\n",
        "        decoder=DecoderStack(config['d_model'], nn.ModuleList(decoder_blocks)),\n",
        "        src_embed=input_embeddings,\n",
        "        tgt_embed=target_embeddings,\n",
        "        src_pos=nn.Identity(),  # No traditional positional encoding\n",
        "        tgt_pos=nn.Identity(),  # No traditional positional encoding\n",
        "        projection_layer=LinearProjectionLayer(config['d_model'], config['target_vocab_size'])\n",
        "    )\n",
        "\n",
        "    # Initialize parameters\n",
        "    for p in model.parameters():\n",
        "        if p.dim() > 1:\n",
        "            nn.init.xavier_uniform_(p)\n",
        "\n",
        "    return model"
      ],
      "metadata": {
        "id": "kdCt3wNi4EvY"
      },
      "execution_count": null,
      "outputs": []
    },
    {
      "cell_type": "markdown",
      "source": [
        "# 🤝 Demo:"
      ],
      "metadata": {
        "id": "6dn9RuqQEjQp"
      }
    },
    {
      "cell_type": "code",
      "source": [
        "import numpy as np\n",
        "import matplotlib.pyplot as plt\n",
        "from matplotlib.patches import Arc, Arrow\n",
        "import seaborn as sns\n",
        "\n",
        "def create_clear_rope_demo():\n",
        "    # Set up the figure with a larger size and white background\n",
        "    plt.style.use('default')\n",
        "    fig = plt.figure(figsize=(20, 10))\n",
        "\n",
        "    # 1. Vector Rotation Demonstration\n",
        "    ax1 = plt.subplot(121)\n",
        "    ax1.set_title('RoPE: Vector Rotation Across Positions', pad=20, size=14)\n",
        "\n",
        "    # Setup circular plot\n",
        "    circle = plt.Circle((0, 0), 1, fill=False, color='gray', linestyle='--', alpha=0.5)\n",
        "    ax1.add_artist(circle)\n",
        "    ax1.set_xlim(-1.5, 1.5)\n",
        "    ax1.set_ylim(-1.5, 1.5)\n",
        "    ax1.grid(True, alpha=0.3)\n",
        "    ax1.axhline(y=0, color='k', alpha=0.3)\n",
        "    ax1.axvline(x=0, color='k', alpha=0.3)\n",
        "\n",
        "    # Draw vectors for different positions\n",
        "    colors = ['#FF9999', '#FF6666', '#FF3333', '#FF0000']\n",
        "    positions = [0, 1, 2, 3]\n",
        "    base = 10000\n",
        "    dim = 0  # Demonstrating rotation for first dimension pair\n",
        "\n",
        "    for i, pos in enumerate(positions):\n",
        "        # Calculate rotation angle\n",
        "        theta = pos / (base ** (dim/64))  # Using smaller d_model for demonstration\n",
        "        x = np.cos(theta)\n",
        "        y = np.sin(theta)\n",
        "\n",
        "        # Draw vector\n",
        "        arrow = Arrow(0, 0, x, y, width=0.1, color=colors[i])\n",
        "        ax1.add_patch(arrow)\n",
        "\n",
        "        # Add position label\n",
        "        ax1.text(x*1.2, y*1.2, f'pos={pos}', color=colors[i])\n",
        "\n",
        "        # Draw arc for angle\n",
        "        if i > 0:\n",
        "            arc = Arc((0, 0), 0.5, 0.5,\n",
        "                     theta1=0,\n",
        "                     theta2=np.degrees(theta),\n",
        "                     color=colors[i], alpha=0.3)\n",
        "            ax1.add_patch(arc)\n",
        "\n",
        "    ax1.set_aspect('equal')\n",
        "\n",
        "    # 2. Frequency Variation Across Dimensions\n",
        "    ax2 = plt.subplot(122)\n",
        "    ax2.set_title('RoPE: Rotation Frequencies Across Dimension Pairs', pad=20, size=14)\n",
        "\n",
        "    # Create dimension pairs\n",
        "    d_model = 8\n",
        "    positions = np.arange(5)\n",
        "    dim_pairs = np.arange(d_model//2)\n",
        "\n",
        "    # Calculate rotation angles for each position and dimension pair\n",
        "    angles = np.zeros((len(positions), len(dim_pairs)))\n",
        "    for pos in positions:\n",
        "        for dim in dim_pairs:\n",
        "            angles[pos, dim] = pos / (base ** (2*dim/d_model))\n",
        "\n",
        "    # Create heatmap\n",
        "    sns.heatmap(angles,\n",
        "                cmap='YlOrRd',\n",
        "                xticklabels=[f'Dim {2*i}-{2*i+1}' for i in range(d_model//2)],\n",
        "                yticklabels=[f'Pos {i}' for i in positions],\n",
        "                annot=True,\n",
        "                fmt='.2f',\n",
        "                cbar_kws={'label': 'Rotation Angle (radians)'},\n",
        "                ax=ax2)\n",
        "\n",
        "    ax2.set_xlabel('Dimension Pairs')\n",
        "    ax2.set_ylabel('Position in Sequence')\n",
        "\n",
        "    plt.tight_layout()\n",
        "    plt.show()\n",
        "\n",
        "    # Additional explanation plot: How RoPE affects attention\n",
        "    plt.figure(figsize=(15, 6))\n",
        "\n",
        "    # Create sample query and key vectors\n",
        "    positions = np.arange(4)\n",
        "    queries = np.ones((4, 2))  # Simple 2D vectors\n",
        "    keys = np.ones((4, 2))\n",
        "\n",
        "    # Calculate attention scores with and without RoPE\n",
        "    attention_regular = np.zeros((4, 4))\n",
        "    attention_rope = np.zeros((4, 4))\n",
        "\n",
        "    for i in positions:\n",
        "        for j in positions:\n",
        "            # Regular attention\n",
        "            attention_regular[i, j] = 1  # All ones due to identical vectors\n",
        "\n",
        "            # RoPE attention\n",
        "            theta_diff = (i-j) / (base ** (0/64))\n",
        "            attention_rope[i, j] = np.cos(theta_diff)  # Shows position-dependent attention\n",
        "\n",
        "    # Plot attention patterns\n",
        "    plt.subplot(121)\n",
        "    sns.heatmap(attention_regular,\n",
        "                cmap='viridis',\n",
        "                xticklabels=positions,\n",
        "                yticklabels=positions,\n",
        "                annot=True,\n",
        "                fmt='.2f',\n",
        "                cbar_kws={'label': 'Attention Score'})\n",
        "    plt.title('Regular Attention\\n(Position-Agnostic)')\n",
        "    plt.xlabel('Key Position')\n",
        "    plt.ylabel('Query Position')\n",
        "\n",
        "    plt.subplot(122)\n",
        "    sns.heatmap(attention_rope,\n",
        "                cmap='viridis',\n",
        "                xticklabels=positions,\n",
        "                yticklabels=positions,\n",
        "                annot=True,\n",
        "                fmt='.2f',\n",
        "                cbar_kws={'label': 'Attention Score'})\n",
        "    plt.title('RoPE Attention\\n(Position-Aware)')\n",
        "    plt.xlabel('Key Position')\n",
        "    plt.ylabel('Query Position')\n",
        "\n",
        "    plt.tight_layout()\n",
        "    plt.show()\n",
        "\n",
        "# Run the demonstration\n",
        "create_clear_rope_demo()"
      ],
      "metadata": {
        "colab": {
          "base_uri": "https://localhost:8080/",
          "height": 1000
        },
        "id": "NxfaEUPqzFns",
        "outputId": "3f463a86-1eb6-4965-d535-9fe974065e94"
      },
      "execution_count": null,
      "outputs": [
        {
          "output_type": "display_data",
          "data": {
            "text/plain": [
              "<Figure size 2000x1000 with 3 Axes>"
            ],
            "image/png": "[encoded data removed]"
          },
          "metadata": {}
        },
        {
          "output_type": "display_data",
          "data": {
            "text/plain": [
              "<Figure size 1500x600 with 4 Axes>"
            ],
            "image/png": "[encoded data removed]"
          },
          "metadata": {}
        }
      ]
    },
    {
      "cell_type": "markdown",
      "source": [
        "#### Acknowledgements\n",
        "\n",
        "This notebook is heavily adapted from a number of incredible resources on Transformers, including but not limited to:\n",
        "\n",
        "- https://blog.floydhub.com/the-transformer-in-pytorch/\n",
        "- https://arxiv.org/pdf/1706.03762.pdf\n",
        "- https://txt.cohere.com/what-are-transformer-models/\n",
        "- https://jalammar.github.io/illustrated-transformer/"
      ],
      "metadata": {
        "id": "Z9Cofqp53bQB"
      }
    }
  ]
}