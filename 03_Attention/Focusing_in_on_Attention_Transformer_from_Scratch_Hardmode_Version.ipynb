{
 "cells": [
  {
   "cell_type": "markdown",
   "metadata": {
    "colab_type": "text",
    "id": "view-in-github"
   },
   "source": [
    "<a href=\"https://colab.research.google.com/github/dhrits/LLM-Engineering-Foundations-to-SLMs/blob/main/03_Attention/Focusing_in_on_Attention_Transformer_from_Scratch_Hardmode_Version.ipynb\" target=\"_parent\"><img src=\"https://colab.research.google.com/assets/colab-badge.svg\" alt=\"Open In Colab\"/></a>"
   ]
  },
  {
   "cell_type": "markdown",
   "metadata": {
    "id": "9ZwKP3f2HGz9"
   },
   "source": [
    "# Encoder-Decoder Transformer Model from Scratch in PyTorch\n",
    "\n",
    "In today's notebook, we'll be focusing on the main engine of the Transformer - ATTENTION!"
   ]
  },
  {
   "cell_type": "code",
   "execution_count": 43,
   "metadata": {
    "id": "8SHpazOYCPyT"
   },
   "outputs": [],
   "source": [
    "!pip install -qU torch=='2.4.1+cu121' torchvision=='0.19.1+cu121' torchaudio=='2.4.1+cu121' --index-url https://download.pytorch.org/whl/cu121"
   ]
  },
  {
   "cell_type": "code",
   "execution_count": 44,
   "metadata": {
    "id": "_TOStK75C74F"
   },
   "outputs": [],
   "source": [
    "!pip install -qU flash-attn"
   ]
  },
  {
   "cell_type": "markdown",
   "metadata": {
    "id": "RRKKlvApG2Oz"
   },
   "source": [
    "# 🤝 BREAKOUT ROOM #1:"
   ]
  },
  {
   "cell_type": "markdown",
   "metadata": {
    "id": "Z43kfJGvlQyA"
   },
   "source": [
    "# The Building Block Fundamentals of Transformer Architecture\n",
    "\n",
    "We're going to start with an example of an encoder-decoder model - the kind found in the classic paper:\n",
    "\n",
    "[Attention is All You Need](https://arxiv.org/pdf/1706.03762.pdf).\n",
    "\n",
    "We'll walk through each step in code - leveraging the [PyTorch]() library heavily - in order to get an idea of how these models work.\n",
    "\n",
    "While this example notebook could be extended to a sincere usecase - we'll be using a toy dataset, and we will not fully train the model until it converges (under-train), as the full training process might take many days!"
   ]
  },
  {
   "cell_type": "markdown",
   "metadata": {
    "id": "_sd2KYudl0Hn"
   },
   "source": [
    "## The Desired Architecture\n",
    "\n",
    "![image](https://i.imgur.com/YPjbqW6.png)\n",
    "\n",
    "We'll skip over the diagram for now, and talk through each component in detail!"
   ]
  },
  {
   "cell_type": "code",
   "execution_count": 45,
   "metadata": {
    "id": "TPUnyvsuovuP"
   },
   "outputs": [],
   "source": [
    "import torch\n",
    "import torch.nn as nn\n",
    "import math\n",
    "from typing import Optional\n",
    "from dataclasses import dataclass\n",
    "from enum import Enum"
   ]
  },
  {
   "cell_type": "markdown",
   "metadata": {
    "id": "JR8M3oT0l8fM"
   },
   "source": [
    "## Embedding\n",
    "\n",
    "![image](https://i.imgur.com/sFlEZ2e.png)\n",
    "\n",
    "The first step will be do convert our tokenized sequence of inputs into an embedding vector. This allows use to understand a rich amount of information about input sequences and their semantic meanings.\n",
    "\n",
    "As the embedding layer will be training along side the rest of the model - it will allow us to have an excellent vector-representation of the tokens in our dataset.\n",
    "\n",
    "Let's see how it looks in code!"
   ]
  },
  {
   "cell_type": "code",
   "execution_count": 46,
   "metadata": {
    "id": "ddpQjPJWmXZg"
   },
   "outputs": [],
   "source": [
    "class InputEmbeddings(nn.Module):\n",
    "  def __init__(self, d_model: int, vocab_size: int, verbose=False) -> None:\n",
    "    \"\"\"\n",
    "    vocab_size - the size of our vocabulary\n",
    "    d_model - the dimension of our embeddings and the input dimension for our model\n",
    "    \"\"\"\n",
    "    super().__init__()\n",
    "    self.vocab_size = vocab_size\n",
    "    self.d_model = d_model\n",
    "    self.embedding = nn.Embedding(vocab_size, d_model)\n",
    "    self.verbose = verbose\n",
    "\n",
    "  def forward(self, x):\n",
    "    if self.verbose:\n",
    "      print(f\"Embedding Vector (1st 5 elements): {self.embedding(x)[:5] * math.sqrt(self.d_model)}\")\n",
    "    return self.embedding(x) * math.sqrt(self.d_model) # scale embeddings by square root of d_model"
   ]
  },
  {
   "cell_type": "markdown",
   "metadata": {
    "id": "ZCx8DYkaxwto"
   },
   "source": [
    "### Test Embedding Layer\n",
    "\n",
    "We'll set up a sample Embedding Layer and then test that it does what we'd expect!"
   ]
  },
  {
   "cell_type": "code",
   "execution_count": 47,
   "metadata": {
    "id": "xl9VdXuYwfVU"
   },
   "outputs": [],
   "source": [
    "def test_input_embeddings_with_example():\n",
    "    # Create a small embedding layer\n",
    "    embed = InputEmbeddings(d_model=512, vocab_size=1000)\n",
    "\n",
    "    # Example sentence tokens (simplified)\n",
    "    tokens = torch.tensor([[1, 2, 3, 4, 5]])  # \"The cat sat down quickly\"\n",
    "\n",
    "    output = embed(tokens)\n",
    "    print(f\"Input shape: {tokens.shape}\")\n",
    "    print(f\"Output shape: {output.shape}\")\n",
    "    print(\"\\nExample shows how words are converted to high-dimensional vectors\")\n",
    "\n",
    "    # Run technical test\n",
    "    assert output.shape == (1, 5, 512), f\"Expected shape (1, 5, 512), got {output.shape}\"\n",
    "    print(\"✓ Input Embeddings Test Passed\")"
   ]
  },
  {
   "cell_type": "code",
   "execution_count": 48,
   "metadata": {
    "colab": {
     "base_uri": "https://localhost:8080/"
    },
    "id": "CBIElPiqxORa",
    "outputId": "73de7286-b0da-4bad-81fd-614924cdf5dc"
   },
   "outputs": [
    {
     "name": "stdout",
     "output_type": "stream",
     "text": [
      "Input shape: torch.Size([1, 5])\n",
      "Output shape: torch.Size([1, 5, 512])\n",
      "\n",
      "Example shows how words are converted to high-dimensional vectors\n",
      "✓ Input Embeddings Test Passed\n"
     ]
    }
   ],
   "source": [
    "test_input_embeddings_with_example()"
   ]
  },
  {
   "cell_type": "markdown",
   "metadata": {
    "id": "ra5KCa1KnfrC"
   },
   "source": [
    "## Positional Encoding\n",
    "\n",
    "![image](https://i.imgur.com/IIA3NK3.png)\n",
    "\n",
    "We need to impart information about where each token is in the sequence, but we aren't using any recurrence or convolutions - the easiest way to encode positional information is to inject positional information into our input embeddings.\n",
    "\n",
    "We're going to use the process outlined in the paper to do this - which is to use a specific combination of functions to add positional information to the embeddings."
   ]
  },
  {
   "cell_type": "code",
   "execution_count": 49,
   "metadata": {
    "id": "5K3NXh7MoM5D"
   },
   "outputs": [],
   "source": [
    "class PositionalEncoding(nn.Module):\n",
    "  def __init__(self, d_model: int, seq_len: int, dropout: float, verbose=False) -> None:\n",
    "    super().__init__()\n",
    "    self.d_model = d_model\n",
    "    self.seq_len = seq_len\n",
    "    self.dropout = nn.Dropout(dropout)\n",
    "    self.verbose=verbose\n",
    "\n",
    "    positional_embeddings = torch.zeros(seq_len, d_model)\n",
    "    positional_sequence_vector = torch.arange(0, seq_len, dtype=torch.float).unsqueeze(1)\n",
    "    positional_model_vector = torch.exp(torch.arange(0, d_model, 2).float() * (-math.log(10000.0) / d_model))\n",
    "    positional_embeddings[:, 0::2] = torch.sin(positional_sequence_vector * positional_model_vector)\n",
    "    positional_embeddings[:, 1::2] = torch.cos(positional_sequence_vector * positional_model_vector)\n",
    "    positional_embeddings = positional_embeddings.unsqueeze(0)\n",
    "\n",
    "    self.register_buffer('positional_embeddings', positional_embeddings)\n",
    "\n",
    "  def forward(self, x):\n",
    "    x = x + (self.positional_embeddings[:, :x.shape[1], :]).requires_grad_(False)\n",
    "    if self.verbose:\n",
    "      print(f\"Positional Encodings (1st 5 elements): {x}\")\n",
    "    return self.dropout(x)"
   ]
  },
  {
   "cell_type": "markdown",
   "metadata": {
    "id": "zkcMmoT2yOZs"
   },
   "source": [
    "### Test Positional Encoding Layer\n",
    "\n",
    "We'll set up a sample Positional Encoding Layer and then test that it does what we'd expect!"
   ]
  },
  {
   "cell_type": "code",
   "execution_count": 50,
   "metadata": {
    "id": "ayoWMbSYySBp"
   },
   "outputs": [],
   "source": [
    "def test_positional_encoding_with_example():\n",
    "    pos = PositionalEncoding(d_model=512, seq_len=10, dropout=0.1)\n",
    "\n",
    "    # Create sample embeddings for \"The cat sat\"\n",
    "    x = torch.randn(1, 3, 512)\n",
    "\n",
    "    output = pos(x)\n",
    "    print(\"Input tokens position:  [1, 2, 3]\")\n",
    "    print(\"Added position info to each word's embedding\")\n",
    "    print(f\"Output maintains shape: {output.shape}\")\n",
    "\n",
    "    # Verify position information was added\n",
    "    assert not torch.allclose(output, x), \"Position information should modify embeddings\"\n",
    "    print(\"✓ Positional Encoding Test Passed\")"
   ]
  },
  {
   "cell_type": "code",
   "execution_count": 51,
   "metadata": {
    "colab": {
     "base_uri": "https://localhost:8080/"
    },
    "id": "Z4hDXJaGyU5M",
    "outputId": "d156e271-4545-435d-e238-b8f653071e93"
   },
   "outputs": [
    {
     "name": "stdout",
     "output_type": "stream",
     "text": [
      "Input tokens position:  [1, 2, 3]\n",
      "Added position info to each word's embedding\n",
      "Output maintains shape: torch.Size([1, 3, 512])\n",
      "✓ Positional Encoding Test Passed\n"
     ]
    }
   ],
   "source": [
    "test_positional_encoding_with_example()"
   ]
  },
  {
   "cell_type": "markdown",
   "metadata": {
    "id": "ueiM7LzKpcFY"
   },
   "source": [
    "## Add & Norm\n",
    "\n",
    "Next we'll tackle the Add & Norm Block of the diagram.\n",
    "\n",
    "![image](https://i.imgur.com/otdEq4D.png)"
   ]
  },
  {
   "cell_type": "markdown",
   "metadata": {
    "id": "_lDABPLSKqOt"
   },
   "source": [
    "### Layer Normalization\n",
    "\n",
    "The first step is to add layer normalization. You can read more about it [here](https://paperswithcode.com/method/layer-normalization)!\n",
    "\n",
    "The basic idea is that it makes training the model a bit easier, and allows the model to generalize a bit better."
   ]
  },
  {
   "cell_type": "code",
   "execution_count": 52,
   "metadata": {
    "id": "1Nlv7BH7ruSf"
   },
   "outputs": [],
   "source": [
    "class LayerNormalization(nn.Module):\n",
    "  def __init__(self, features: int, epsilon:float=10**-6) -> None:\n",
    "    super().__init__()\n",
    "    self.epsilon = epsilon\n",
    "    self.gamma = nn.Parameter(torch.ones(features))\n",
    "    self.beta = nn.Parameter(torch.zeros(features))\n",
    "\n",
    "  def forward(self, x):\n",
    "    mean = x.mean(dim = -1, keepdim = True)\n",
    "    standard_deviation = x.std(dim = -1, keepdim = True)\n",
    "    return self.gamma * (x - mean) / (standard_deviation + self.epsilon) + self.beta"
   ]
  },
  {
   "cell_type": "markdown",
   "metadata": {
    "id": "vft5kFUBy1aE"
   },
   "source": [
    "### Test Layer Normalization\n",
    "\n",
    "We'll set up a sample Layer Normalization and then test that it does what we'd expect!"
   ]
  },
  {
   "cell_type": "code",
   "execution_count": 53,
   "metadata": {
    "id": "01Llr9cwy7C2"
   },
   "outputs": [],
   "source": [
    "def test_layer_normalization_with_example():\n",
    "    layer_norm = LayerNormalization(features=3)  # Smaller feature size for example\n",
    "\n",
    "    # Simulate word embeddings with different magnitudes\n",
    "    word_embeddings = torch.tensor([\n",
    "        [2.5, 4.1, -3.2],  # \"The\" (high magnitude)\n",
    "        [0.1, 0.2, -0.1],  # \"cat\" (low magnitude)\n",
    "        [8.2, -6.1, 5.5]   # \"sat\" (very high magnitude)\n",
    "    ]).unsqueeze(0)\n",
    "\n",
    "    normalized = layer_norm(word_embeddings)\n",
    "\n",
    "    print(\"Before normalization (magnitudes vary greatly):\")\n",
    "    print(word_embeddings[0])\n",
    "    print(\"\\nAfter normalization (values scaled to similar ranges):\")\n",
    "    print(normalized[0])\n",
    "\n",
    "    # Verify statistical properties\n",
    "    mean = normalized.mean(dim=-1)\n",
    "    var = normalized.var(dim=-1)\n",
    "    assert torch.allclose(mean, torch.zeros_like(mean), atol=1e-5)\n",
    "    assert torch.allclose(var, torch.ones_like(var), atol=1e-5)\n",
    "    print(\"✓ Layer Normalization Test Passed\")"
   ]
  },
  {
   "cell_type": "code",
   "execution_count": 54,
   "metadata": {
    "colab": {
     "base_uri": "https://localhost:8080/"
    },
    "id": "75hToLCry9mR",
    "outputId": "2e526977-e80e-41c7-a643-7e2377a17b11"
   },
   "outputs": [
    {
     "name": "stdout",
     "output_type": "stream",
     "text": [
      "Before normalization (magnitudes vary greatly):\n",
      "tensor([[ 2.5000,  4.1000, -3.2000],\n",
      "        [ 0.1000,  0.2000, -0.1000],\n",
      "        [ 8.2000, -6.1000,  5.5000]])\n",
      "\n",
      "After normalization (values scaled to similar ranges):\n",
      "tensor([[ 0.3562,  0.7732, -1.1293],\n",
      "        [ 0.2182,  0.8729, -1.0911],\n",
      "        [ 0.7459, -1.1363,  0.3905]], grad_fn=<SelectBackward0>)\n",
      "✓ Layer Normalization Test Passed\n"
     ]
    }
   ],
   "source": [
    "test_layer_normalization_with_example()"
   ]
  },
  {
   "cell_type": "markdown",
   "metadata": {
    "id": "rwXt7KKKycrl"
   },
   "source": [
    "### Residual Connection\n",
    "\n",
    "Another technique that makes model training easier, we add a Residual connection to the outputs of the Attention Block - this helps to prevent vanishing gradient."
   ]
  },
  {
   "cell_type": "code",
   "execution_count": 55,
   "metadata": {
    "id": "XKwGFD2-yd-Z"
   },
   "outputs": [],
   "source": [
    "class ResidualConnection(nn.Module):\n",
    "  def __init__(self, features: int, dropout: float = 0.1) -> None:\n",
    "    super().__init__()\n",
    "    self.dropout = nn.Dropout(dropout)\n",
    "    self.layernorm = LayerNormalization(features)\n",
    "\n",
    "  def forward(self, x, sublayer):\n",
    "    return x + self.dropout(sublayer(self.layernorm(x)))"
   ]
  },
  {
   "cell_type": "markdown",
   "metadata": {
    "id": "p668YYgBzc3G"
   },
   "source": [
    "### Testing Residual Connection\n",
    "\n",
    "We'll set up a sample Residual Connection and then test that it does what we'd expect!"
   ]
  },
  {
   "cell_type": "code",
   "execution_count": 56,
   "metadata": {
    "id": "heebV5mIzje4"
   },
   "outputs": [],
   "source": [
    "def test_residual_connection_with_example():\n",
    "    residual = ResidualConnection(features=3, dropout=0.1)\n",
    "\n",
    "    # Original input \"The cat\"\n",
    "    x = torch.tensor([\n",
    "        [1.0, 1.0, 1.0],\n",
    "        [2.0, 2.0, 2.0]\n",
    "    ]).unsqueeze(0)\n",
    "\n",
    "    # Sublayer that makes meaningful changes\n",
    "    def sublayer(x):\n",
    "        return torch.nn.functional.relu(x + 0.5) # Non-linear transformation\n",
    "\n",
    "    output = residual(x, sublayer)\n",
    "\n",
    "    print(\"Original input:\")\n",
    "    print(x[0])\n",
    "    print(\"\\nAfter residual connection (combines original + transformed):\")\n",
    "    print(output[0])\n",
    "\n",
    "    # Verify output changed but maintained shape\n",
    "    assert output.shape == x.shape\n",
    "    assert torch.any(torch.abs(output - x) > 1e-6), \"Output should differ from input\"\n",
    "    print(\"✓ Residual Connection Test Passed\")"
   ]
  },
  {
   "cell_type": "code",
   "execution_count": 57,
   "metadata": {
    "colab": {
     "base_uri": "https://localhost:8080/"
    },
    "id": "YZMF65cmzmgx",
    "outputId": "66e9b8c5-6c47-4c92-b648-c8077091a7f7"
   },
   "outputs": [
    {
     "name": "stdout",
     "output_type": "stream",
     "text": [
      "Original input:\n",
      "tensor([[1., 1., 1.],\n",
      "        [2., 2., 2.]])\n",
      "\n",
      "After residual connection (combines original + transformed):\n",
      "tensor([[1.5556, 1.5556, 1.5556],\n",
      "        [2.5556, 2.0000, 2.5556]], grad_fn=<SelectBackward0>)\n",
      "✓ Residual Connection Test Passed\n"
     ]
    }
   ],
   "source": [
    "test_residual_connection_with_example()"
   ]
  },
  {
   "cell_type": "markdown",
   "metadata": {
    "id": "IIOZp3xhsaXK"
   },
   "source": [
    "## Feed Forward Network\n",
    "\n",
    "![image](https://i.imgur.com/woEqBjQ.png)\n",
    "\n",
    "Moving onto the next component, we have our feed forward network.\n",
    "\n",
    "The feed forward networks servers two purposes in our model:\n",
    "\n",
    "1. It reforms the attention outputs into a format that works with the next block.\n",
    "\n",
    "2. It helps add complexity to prevent each attention block acting in a similar fashion."
   ]
  },
  {
   "cell_type": "code",
   "execution_count": 58,
   "metadata": {
    "id": "JueNG2UBszbR"
   },
   "outputs": [],
   "source": [
    "class FeedForwardBlock(nn.Module):\n",
    "  def __init__(self, d_model: int, d_ff: int = 2048, dropout: float = 0.1) -> None:\n",
    "    \"\"\"\n",
    "    d_model - dimension of model\n",
    "    d_ff - dimension of feed forward network\n",
    "    dropout - regularization measure\n",
    "    \"\"\"\n",
    "    super().__init__()\n",
    "    self.linear_1 = nn.Linear(d_model, d_ff)\n",
    "    self.dropout = nn.Dropout(dropout)\n",
    "    self.linear_2 = nn.Linear(d_ff, d_model)\n",
    "\n",
    "  def forward(self, x):\n",
    "    return self.linear_2(self.dropout(torch.relu(self.linear_1(x))))"
   ]
  },
  {
   "cell_type": "markdown",
   "metadata": {
    "id": "cU-H1m4L0UhY"
   },
   "source": [
    "### Testing the Feed-forward Block\n",
    "\n",
    "Let's test!"
   ]
  },
  {
   "cell_type": "code",
   "execution_count": 59,
   "metadata": {
    "id": "pwtbsJou0fxz"
   },
   "outputs": [],
   "source": [
    "def test_feed_forward_block_with_example():\n",
    "   ff_block = FeedForwardBlock(d_model=3, d_ff=8)  # Small dimensions for demonstration\n",
    "\n",
    "   # Input: Word embeddings for \"The cat\"\n",
    "   x = torch.tensor([\n",
    "       [1.0, 0.5, 0.2],  # \"The\"\n",
    "       [2.0, -0.3, 1.1]  # \"cat\"\n",
    "   ]).unsqueeze(0)\n",
    "\n",
    "   output = ff_block(x)\n",
    "\n",
    "   print(\"Input embeddings:\")\n",
    "   print(x[0])\n",
    "   print(\"\\nAfter feed-forward transformation:\")\n",
    "   print(output[0])\n",
    "\n",
    "   # First linear layer expands to d_ff dimensions\n",
    "   # ReLU keeps only positive values\n",
    "   # Second linear layer projects back to d_model dimensions\n",
    "   assert output.shape == x.shape\n",
    "   assert not torch.allclose(output, x)\n",
    "   print(\"✓ Feed Forward Block Test Passed\")"
   ]
  },
  {
   "cell_type": "code",
   "execution_count": 60,
   "metadata": {
    "colab": {
     "base_uri": "https://localhost:8080/"
    },
    "id": "IMHE9fWB0hj3",
    "outputId": "e6c1bc15-b4a4-4fe9-930c-5084b83606d3"
   },
   "outputs": [
    {
     "name": "stdout",
     "output_type": "stream",
     "text": [
      "Input embeddings:\n",
      "tensor([[ 1.0000,  0.5000,  0.2000],\n",
      "        [ 2.0000, -0.3000,  1.1000]])\n",
      "\n",
      "After feed-forward transformation:\n",
      "tensor([[-0.0450, -0.1149, -0.0714],\n",
      "        [ 0.1952, -0.3175,  0.1493]], grad_fn=<SelectBackward0>)\n",
      "✓ Feed Forward Block Test Passed\n"
     ]
    }
   ],
   "source": [
    "test_feed_forward_block_with_example()"
   ]
  },
  {
   "cell_type": "markdown",
   "metadata": {
    "id": "bJ5EGkvdtP0O"
   },
   "source": [
    "## Task #1: Multi-Head Attention\n",
    "\n",
    "![image](https://i.imgur.com/4qOT46y.png)\n",
    "\n",
    "Next up is the heart and soul of the Transformer - Multi-Head Attention.\n",
    "\n",
    "We'll break it down into the basic building blocks in code in the following section!"
   ]
  },
  {
   "cell_type": "markdown",
   "metadata": {
    "id": "-Oto52ZyvX0k"
   },
   "source": [
    "### Task 2: Multi-Head Attention Class\n",
    "\n"
   ]
  },
  {
   "cell_type": "code",
   "execution_count": 61,
   "metadata": {
    "id": "mDHkw1f_vmuv"
   },
   "outputs": [],
   "source": [
    "class MultiHeadAttention(nn.Module):\n",
    "  def __init__(self, d_model: int = 512, num_heads: int = 8, dropout: float = 0.1) -> None:\n",
    "    super().__init__()\n",
    "    self.d_model = d_model\n",
    "    self.num_heads = num_heads\n",
    "    assert d_model % num_heads == 0, \"d_model is not divisible by h\"\n",
    "\n",
    "    self.d_k = d_model // num_heads\n",
    "\n",
    "    self.w_q = nn.Linear(d_model, d_model, bias=False)\n",
    "    self.w_k = nn.Linear(d_model, d_model, bias=False)\n",
    "    self.w_v = nn.Linear(d_model, d_model, bias=False)\n",
    "\n",
    "    self.w_o = nn.Linear(d_model, d_model, bias=False)\n",
    "\n",
    "    self.dropout = nn.Dropout(dropout)"
   ]
  },
  {
   "cell_type": "markdown",
   "metadata": {
    "id": "dEm7I6iwMiom"
   },
   "source": [
    "### 👪❓Discussion Question 1:\n",
    "\n",
    "Describe, in your own words, intuitively what each of `Q`, `K`, and `V` represent - beyond their names and functions.\n",
    "\n",
    "Discuss among your group!\n",
    "\n",
    "There is no single correct answer - and if you get stuck - feel free to ask your favourite Large Language Model!\n",
    "\n",
    "I've listed out a more pedantic definition at the bottom, but have also tried to describe `query`, `key` and `value` and in terms of various analogies and metaphors.\n",
    "\n",
    "#### Amazon Search\n",
    "* `query` - When searching for a product on Amazon, the `query` is the search term a user enters into the search box.\n",
    "* `key` - These are the descriptions of various objects on the search results page against which the `query` is matched by the user to find the objects of interest.\n",
    "* `value` - This is the actual object description on its dedicated page (or the object itself).\n",
    "\n",
    "The above also applies to any search system.\n",
    "\n",
    "#### Table of Contents of a Book\n",
    "* `query` - This might be a topic of interest which a user is looking for in a book.\n",
    "* `key` - This is the table of contents of the book which the user will look in to try and match the topic of interest.\n",
    "* `value` - This is the actual passages/chapters in the book with the information.\n",
    "\n",
    "\n",
    "More formally:\n",
    "\n",
    "* Q: or `query` Represents a transformation of the current token looking for relevant information in the rest of the sequence.\n",
    "* K: or `key` can be thought of as the address (a transformation) of the rest of (really all of) the sequence which can be matched against Q to find similarities.\n",
    "* V: or `value` represents a transformation of the rest of (all of) of sequence which holds the actual information needed by the query Q.\n",
    "O: or output is a final linear transformation applied after attention.\n"
   ]
  },
  {
   "cell_type": "markdown",
   "metadata": {
    "id": "9dp3eM7H1cRl"
   },
   "source": [
    "### Testing Multi-Head Attention\n",
    "\n",
    "Let's test it out!"
   ]
  },
  {
   "cell_type": "markdown",
   "metadata": {
    "id": "FyD7nAM6tb0K"
   },
   "source": [
    "### Task #3: Scaled Dot-Product Attention\n",
    "\n",
    "![image](https://i.imgur.com/Yp48DuB.png)"
   ]
  },
  {
   "cell_type": "markdown",
   "metadata": {
    "id": "haK5aiVNIwU1"
   },
   "source": [
    "#### 🏗️ Activity #1:\n",
    "\n",
    "Implement the above!"
   ]
  },
  {
   "cell_type": "code",
   "execution_count": 62,
   "metadata": {
    "id": "dKk08SvowJIc"
   },
   "outputs": [],
   "source": [
    "def attention(query, key, value, mask, d_k, dropout: nn.Dropout = None):\n",
    "\n",
    "  ### YOUR CODE HERE\n",
    "  attention_scores = (query @ key.transpose(-2, -1))/math.sqrt(d_k)\n",
    "\n",
    "  if mask is not None:\n",
    "    attention_scores = attention_scores.masked_fill(mask == 0, -1e9)\n",
    "\n",
    "  attention_scores = attention_scores.softmax(dim=-1)\n",
    "\n",
    "  if dropout is not None:\n",
    "    attention_scores = dropout(attention_scores)\n",
    "\n",
    "  return (attention_scores @ value), attention_scores"
   ]
  },
  {
   "cell_type": "markdown",
   "metadata": {
    "id": "qphuqoXl-1jW"
   },
   "source": [
    "### ❓Question 1:\n",
    "\n",
    "Describe the above code that defines the attension mechanism.\n",
    "\n",
    "Write, in natural language, what each step is doing.\n",
    "\n",
    "Describe the above code that defines the attension mechanism.\n",
    "\n",
    "Write, in natural language, what each step is doing.\n",
    "\n",
    "1. The very first step is a matrix multiplication (or dot product) between the query and the key which finds similarity between the current tokens and all other tokens. The dot-product is a measure of vector similarity.\n",
    "2. We also scale the magnitude of the dot-product, `attention_scores` by dividing it by `sqrt(d_k)` which ensures the magnitude of the dot product doesn't overwhelm the softmax calculation which comes after.\n",
    "3. We then apply the `mask`. This has many functions. In the case of the decoder, it prevents attention scores from looking forward in the sequence when modeling auto-regressing behavior. It may also mask out `[PAD]` or other unnecessary tokens.\n",
    "4. A `softmax` is applied over the attention scores which creates a valid probability distribution.\n",
    "5. `dropout` is applied as a means of regularization to prevent overfitting.\n",
    "6. Finally a matmul between `attention_scores` and `value` extracts the relevant attention output."
   ]
  },
  {
   "cell_type": "markdown",
   "metadata": {
    "id": "Ac8k7b3SxKOC"
   },
   "source": [
    "### Task #4: Forward Method\n",
    "\n",
    "This is code is required to do a forward pass with our model."
   ]
  },
  {
   "cell_type": "code",
   "execution_count": 63,
   "metadata": {
    "id": "um2Oxv1axWYK"
   },
   "outputs": [],
   "source": [
    "def forward(self, query, key, value, mask):\n",
    "  query = self.w_q(query)\n",
    "  key = self.w_k(key)\n",
    "  value = self.w_v(value)\n",
    "\n",
    "  query = query.view(query.shape[0], -1, self.num_heads, self.d_k).transpose(1, 2).contigous()\n",
    "  key = key.view(key.shape[0], -1, self.num_heads, self.d_k).transpose(1, 2).contigous()\n",
    "  value = value.view(value.shape[0], -1, self.num_heads, self.d_k).transpose(1, 2).contigous()\n",
    "\n",
    "  x, self.attention_scores = attention(query, key, value, mask, self.d_k, self.dropout)\n",
    "\n",
    "  x = x.transpose(1, 2).contiguous().view(x.shape[0], -1, self.d_model)\n",
    "\n",
    "  return self.w_o(x)"
   ]
  },
  {
   "cell_type": "markdown",
   "metadata": {
    "id": "kgr_D0mmyEgp"
   },
   "source": [
    "### Task #5: Combining it All Together - and Introducing Flash Attention\n",
    "\n",
    "We'll start with implementing a simple set of `configs` - and then get straight into an Attention implementation!"
   ]
  },
  {
   "cell_type": "code",
   "execution_count": 64,
   "metadata": {
    "id": "E-AMu8nkGQM2"
   },
   "outputs": [],
   "source": [
    "class AttentionType(Enum):\n",
    "    REGULAR = \"regular\"\n",
    "    FLASH = \"flash\"\n",
    "\n",
    "@dataclass\n",
    "class AttentionConfig:\n",
    "    attention_type: AttentionType\n",
    "    d_model: int = 512\n",
    "    num_heads: int = 8\n",
    "    dropout: float = 0.1"
   ]
  },
  {
   "cell_type": "markdown",
   "metadata": {
    "id": "WPOFAp7lIb0p"
   },
   "source": [
    "All we need to do is tie together the above steps into one big block!"
   ]
  },
  {
   "cell_type": "code",
   "execution_count": 89,
   "metadata": {
    "id": "QKiXahC_GKMV"
   },
   "outputs": [],
   "source": [
    "class ModularAttention(nn.Module):\n",
    "    def __init__(self, config: AttentionConfig):\n",
    "        super().__init__()\n",
    "        self.config = config\n",
    "        self.d_model = config.d_model\n",
    "        self.num_heads = config.num_heads\n",
    "        self.d_k = config.d_model // config.num_heads\n",
    "\n",
    "        self.w_q = nn.Linear(config.d_model, config.d_model, bias=False)\n",
    "        self.w_k = nn.Linear(config.d_model, config.d_model, bias=False)\n",
    "        self.w_v = nn.Linear(config.d_model, config.d_model, bias=False)\n",
    "        self.w_o = nn.Linear(config.d_model, config.d_model, bias=False)\n",
    "        self.dropout = config.dropout\n",
    "        if isinstance(self.dropout, float):\n",
    "          self.dropout_layer = nn.Dropout(self.dropout)\n",
    "        elif isinstance(self.dropout, nn.Dropout):\n",
    "          self.dropout_layer = self.dropout\n",
    "\n",
    "    def _regular_attention(self, q: torch.Tensor, k: torch.Tensor, v: torch.Tensor,\n",
    "                         mask: Optional[torch.Tensor]) -> torch.Tensor:\n",
    "        d_k = q.shape[-1]\n",
    "        scores = (q @ k.transpose(-2, -1)) / math.sqrt(d_k)\n",
    "\n",
    "        if mask is not None:\n",
    "            scores = scores.masked_fill(mask == 0, -1e9)\n",
    "\n",
    "        attention_weights = torch.softmax(scores, dim=-1)\n",
    "        if self.training:\n",
    "            attention_weights = torch.dropout(attention_weights, self.dropout, self.training)\n",
    "\n",
    "        return attention_weights @ v\n",
    "\n",
    "    def _flash_attention(self, q: torch.Tensor, k: torch.Tensor, v: torch.Tensor,\n",
    "                    mask: Optional[torch.Tensor]) -> torch.Tensor:\n",
    "        try:\n",
    "            from flash_attn import flash_attn_func\n",
    "\n",
    "            if not all(x.dtype == torch.float16 for x in [q, k, v]):\n",
    "                print(\"Warning: Inputs must be in float16 for Flash Attention\")\n",
    "                return self._regular_attention(q, k, v, mask)\n",
    "\n",
    "            if not all(x.is_cuda for x in [q, k, v]):\n",
    "                print(\"Warning: Inputs must be on CUDA for Flash Attention\")\n",
    "                return self._regular_attention(q, k, v, mask)\n",
    "\n",
    "            if mask is not None:\n",
    "                mask = mask.to(dtype=torch.float32)\n",
    "\n",
    "            dropout_p = self.dropout if self.training else 0.0\n",
    "\n",
    "            q = q.contiguous()\n",
    "            k = k.contiguous()\n",
    "            v = v.contiguous()\n",
    "\n",
    "            return flash_attn_func(\n",
    "                q, k, v,\n",
    "                dropout_p=dropout_p,\n",
    "                causal=False,\n",
    "                softmax_scale=None\n",
    "            )\n",
    "\n",
    "        except ImportError:\n",
    "            print(\"Flash Attention not available, falling back to regular attention\")\n",
    "            return self._regular_attention(q, k, v, mask)\n",
    "        except Exception as e:\n",
    "            print(f\"Error using Flash Attention: {str(e)}\")\n",
    "            print(\"Falling back to regular attention\")\n",
    "            return self._regular_attention(q, k, v, mask)\n",
    "\n",
    "    def forward(self, query: torch.Tensor, key: torch.Tensor, value: torch.Tensor,\n",
    "                mask: Optional[torch.Tensor] = None) -> torch.Tensor:\n",
    "        batch_size = query.shape[0]\n",
    "\n",
    "        q = self.w_q(query).view(batch_size, -1, self.num_heads, self.d_k).transpose(1, 2)\n",
    "        k = self.w_k(key).view(batch_size, -1, self.num_heads, self.d_k).transpose(1, 2)\n",
    "        v = self.w_v(value).view(batch_size, -1, self.num_heads, self.d_k).transpose(1, 2)\n",
    "\n",
    "        q, k, v = q.contiguous(), k.contiguous(), v.contiguous()\n",
    "\n",
    "        if self.config.attention_type == AttentionType.FLASH:\n",
    "            attn_output = self._flash_attention(q, k, v, mask)\n",
    "        else:\n",
    "            attn_output = self._regular_attention(q, k, v, mask)\n",
    "\n",
    "        attn_output = attn_output.transpose(1, 2).contiguous().view(batch_size, -1, self.d_model)\n",
    "        return self.w_o(attn_output)"
   ]
  },
  {
   "cell_type": "markdown",
   "metadata": {
    "id": "ySBbU7Zo_x5T"
   },
   "source": [
    "#### 👪❓Discussion Question 2:\n",
    "\n",
    "Work with your breakout room to build a visualization of the above `forward` pass - including dummy inputs.\n",
    "\n",
    "You can use drawing programs (like [Excalidraw](https://excalidraw.com/)), or write a visualization in code.\n",
    "\n",
    "> NOTE: LLMs like Claude 3.5 Sonnet is a fantastic tool to produce (and test) visualizations in it's [Web UI](https://claude.ai/new\n",
    "\n",
    "![attention visualization](./attention_visualization.png)"
   ]
  },
  {
   "cell_type": "markdown",
   "metadata": {
    "id": "qRFqoZyD1-AU"
   },
   "source": [
    "### Testing MultiHeadAttention\n",
    "\n",
    "Let's test it out!"
   ]
  },
  {
   "cell_type": "code",
   "execution_count": 90,
   "metadata": {
    "id": "sY1N60di2CHQ"
   },
   "outputs": [],
   "source": [
    "def test_attention_mechanisms():\n",
    "    attention_configs = [\n",
    "        AttentionConfig(attention_type=AttentionType.REGULAR, d_model=6, num_heads=2, dropout=0.1),\n",
    "        AttentionConfig(attention_type=AttentionType.FLASH, d_model=6, num_heads=2, dropout=0.1)\n",
    "    ]\n",
    "\n",
    "    # Create sequence in float16\n",
    "    seq = torch.tensor([\n",
    "        [1.0, 1.0, 0.0, 0.0, 0.0, 0.0],\n",
    "        [0.0, 0.0, 1.0, 1.0, 0.0, 0.0],\n",
    "        [0.0, 0.0, 0.0, 0.0, 1.0, 1.0]\n",
    "    ], dtype=torch.float16).unsqueeze(0).cuda()\n",
    "\n",
    "    mask = None\n",
    "\n",
    "    for config in attention_configs:\n",
    "        try:\n",
    "            print(f\"\\nTesting {config.attention_type.value} attention:\")\n",
    "            print(\"-\" * 50)\n",
    "\n",
    "            mha = ModularAttention(config).cuda().half()\n",
    "\n",
    "            # Convert model weights to float16\n",
    "            for param in mha.parameters():\n",
    "                param.data = param.data.half()\n",
    "\n",
    "            output = mha(seq, seq, seq, mask)\n",
    "\n",
    "            print(f\"Input shape: {seq.shape}\")\n",
    "            print(\"Input values:\")\n",
    "            print(seq[0])\n",
    "            print(\"\\nOutput values:\")\n",
    "            print(output[0])\n",
    "\n",
    "            assert output.shape == seq.shape\n",
    "            assert not torch.allclose(output, seq)\n",
    "            print(f\"✓ {config.attention_type.value.title()} Attention Test Passed\")\n",
    "\n",
    "        except ImportError:\n",
    "            print(f\"Flash Attention not available, skipping {config.attention_type.value} test\")\n",
    "        except Exception as e:\n",
    "            print(f\"Error testing {config.attention_type.value} attention: {str(e)}\")\n",
    "\n",
    "        # Cleanup to prevent CUDA memory issues\n",
    "        torch.cuda.empty_cache()"
   ]
  },
  {
   "cell_type": "code",
   "execution_count": 91,
   "metadata": {
    "colab": {
     "base_uri": "https://localhost:8080/"
    },
    "id": "2qEqn4BS2DHt",
    "outputId": "537ad7dd-61c7-4622-8e06-24db2f53b5bd"
   },
   "outputs": [
    {
     "name": "stdout",
     "output_type": "stream",
     "text": [
      "\n",
      "Testing regular attention:\n",
      "--------------------------------------------------\n",
      "Input shape: torch.Size([1, 3, 6])\n",
      "Input values:\n",
      "tensor([[1., 1., 0., 0., 0., 0.],\n",
      "        [0., 0., 1., 1., 0., 0.],\n",
      "        [0., 0., 0., 0., 1., 1.]], device='cuda:0', dtype=torch.float16)\n",
      "\n",
      "Output values:\n",
      "tensor([[ 0.1278, -0.2284,  0.0298, -0.3015,  0.0834,  0.0563],\n",
      "        [ 0.1577, -0.2035, -0.0206, -0.2812,  0.0796,  0.0403],\n",
      "        [ 0.0676, -0.1810,  0.0102, -0.2306,  0.0589,  0.0561]],\n",
      "       device='cuda:0', dtype=torch.float16, grad_fn=<SelectBackward0>)\n",
      "✓ Regular Attention Test Passed\n",
      "\n",
      "Testing flash attention:\n",
      "--------------------------------------------------\n",
      "Input shape: torch.Size([1, 3, 6])\n",
      "Input values:\n",
      "tensor([[1., 1., 0., 0., 0., 0.],\n",
      "        [0., 0., 1., 1., 0., 0.],\n",
      "        [0., 0., 0., 0., 1., 1.]], device='cuda:0', dtype=torch.float16)\n",
      "\n",
      "Output values:\n",
      "tensor([[ 0.2380, -0.4624,  0.0812,  0.1268,  0.1678, -0.4475],\n",
      "        [-0.0828,  0.0969,  0.0195, -0.0183, -0.0431,  0.0547],\n",
      "        [ 0.0230, -0.3030,  0.1791,  0.2301,  0.1935, -0.4019]],\n",
      "       device='cuda:0', dtype=torch.float16, grad_fn=<SelectBackward0>)\n",
      "✓ Flash Attention Test Passed\n"
     ]
    }
   ],
   "source": [
    "test_attention_mechanisms()"
   ]
  },
  {
   "cell_type": "code",
   "execution_count": 92,
   "metadata": {
    "id": "vLJ3xAJcIizf"
   },
   "outputs": [],
   "source": [
    "class TransformerBlock(nn.Module):\n",
    "    def __init__(self,\n",
    "                 features: int,\n",
    "                 attn_config: AttentionConfig,\n",
    "                 feed_forward: nn.Module,\n",
    "                 dropout: float,\n",
    "                 is_decoder: bool = False):\n",
    "        super().__init__()\n",
    "        self.is_decoder = is_decoder\n",
    "        self.self_attention = ModularAttention(attn_config)\n",
    "        self.feed_forward = feed_forward\n",
    "\n",
    "        num_connections = 3 if is_decoder else 2\n",
    "        self.residual_connections = nn.ModuleList([\n",
    "            ResidualConnection(features, dropout) for _ in range(num_connections)\n",
    "        ])\n",
    "\n",
    "        if is_decoder:\n",
    "            self.cross_attention = ModularAttention(attn_config)\n",
    "\n",
    "    def forward(self, x: torch.Tensor,\n",
    "                encoder_output: Optional[torch.Tensor] = None,\n",
    "                self_mask: Optional[torch.Tensor] = None,\n",
    "                cross_mask: Optional[torch.Tensor] = None) -> torch.Tensor:\n",
    "        x = self.residual_connections[0](x, lambda x: self.self_attention(x, x, x, self_mask))\n",
    "\n",
    "        if self.is_decoder:\n",
    "            if encoder_output is None:\n",
    "                raise ValueError(\"Decoder block requires encoder_output\")\n",
    "            x = self.residual_connections[1](x, lambda x: self.cross_attention(x, encoder_output, encoder_output, cross_mask))\n",
    "            return self.residual_connections[2](x, self.feed_forward)\n",
    "\n",
    "        return self.residual_connections[1](x, self.feed_forward)"
   ]
  },
  {
   "cell_type": "markdown",
   "metadata": {
    "id": "EkKjLhpiyz5b"
   },
   "source": [
    "## Encoder\n",
    "\n",
    "When we pass information through our model - the first thing we will do is Encode it by passing it through our Encoder Blocks.\n"
   ]
  },
  {
   "cell_type": "markdown",
   "metadata": {
    "id": "f-0edIfMzijj"
   },
   "source": [
    "### Encoder Block\n",
    "\n",
    "![image](https://i.imgur.com/nwNYZAT.png)\n",
    "\n",
    "The encoder takes in the source language sentence (e.g. English). Each word is converted into a vector representation using an embedding layer. Then a positional encoder adds information about the position of each word. This goes through multiple self-attention layers, where each word vector attends to all other word vectors to build contextual representations."
   ]
  },
  {
   "cell_type": "code",
   "execution_count": 93,
   "metadata": {
    "id": "dMVnZiGDy1PG"
   },
   "outputs": [],
   "source": [
    "class EncoderBlock(nn.Module):\n",
    "  def __init__(self, features: int, self_attention_block: MultiHeadAttention, feed_forward_block: FeedForwardBlock, dropout: float) -> None:\n",
    "    super().__init__()\n",
    "    self.self_attention_block = self_attention_block\n",
    "    self.feed_forward_block = feed_forward_block\n",
    "    self.residual_connections = nn.ModuleList([ResidualConnection(features, dropout) for _ in range(2)])\n",
    "\n",
    "  def forward(self, x, input_mask):\n",
    "    x = self.residual_connections[0](x, lambda x: self.self_attention_block(x, x, x, input_mask))\n",
    "    x = self.residual_connections[1](x, self.feed_forward_block)\n",
    "    return x"
   ]
  },
  {
   "cell_type": "markdown",
   "metadata": {
    "id": "_twqqReS28ul"
   },
   "source": [
    "### Testing the EncoderBlock\n",
    "\n",
    "Testing time!"
   ]
  },
  {
   "cell_type": "code",
   "execution_count": 94,
   "metadata": {
    "id": "PP_wq0R02_g0"
   },
   "outputs": [],
   "source": [
    "def test_encoder_blocks():\n",
    "    # Use float32 for regular attention, float16 only for flash attention\n",
    "    input_seq = torch.tensor([\n",
    "        [1.0, 1.0, 0.0, 0.0, 0.0, 0.0],  # \"The\"\n",
    "        [0.0, 0.0, 1.0, 1.0, 0.0, 0.0],  # \"cat\"\n",
    "        [0.0, 0.0, 0.0, 0.0, 1.0, 1.0]   # \"sleeps\"\n",
    "    ]).unsqueeze(0).cuda()\n",
    "\n",
    "    mask = torch.ones(1, 1, 3, 3, dtype=torch.bool).cuda()\n",
    "\n",
    "    attention_configs = [\n",
    "        AttentionConfig(AttentionType.REGULAR, d_model=6, num_heads=2, dropout=0.1),\n",
    "        AttentionConfig(AttentionType.FLASH, d_model=6, num_heads=2, dropout=0.1)\n",
    "    ]\n",
    "\n",
    "    for config in attention_configs:\n",
    "        try:\n",
    "            print(f\"\\nTesting Encoder with {config.attention_type.value} attention:\")\n",
    "            print(\"-\" * 50)\n",
    "\n",
    "            attention = ModularAttention(config).cuda()\n",
    "            ff = FeedForwardBlock(d_model=6, d_ff=12).cuda()\n",
    "            encoder = TransformerBlock(\n",
    "                features=6,\n",
    "                attn_config=config,\n",
    "                feed_forward=ff,\n",
    "                dropout=0.1\n",
    "            ).cuda()\n",
    "\n",
    "            # Convert to float16 only for flash attention\n",
    "            if config.attention_type == AttentionType.FLASH:\n",
    "                input_seq = input_seq.half()\n",
    "                encoder = encoder.half()\n",
    "                for param in encoder.parameters():\n",
    "                    param.data = param.data.half()\n",
    "\n",
    "            output = encoder(input_seq, self_mask=mask)\n",
    "\n",
    "            print(\"Input sequence:\")\n",
    "            print(input_seq[0])\n",
    "            print(\"\\nAfter encoder processing:\")\n",
    "            print(output[0])\n",
    "\n",
    "            assert output.shape == input_seq.shape\n",
    "            assert not torch.allclose(output, input_seq)\n",
    "            print(f\"✓ Encoder Block with {config.attention_type.value} attention Test Passed\")\n",
    "\n",
    "        except ImportError:\n",
    "            print(f\"Flash Attention not available, skipping {config.attention_type.value} test\")\n",
    "        except Exception as e:\n",
    "            print(f\"Error testing encoder with {config.attention_type.value} attention: {str(e)}\")\n",
    "\n",
    "        # Reset to float32 for next iteration\n",
    "        input_seq = input_seq.float()\n",
    "        torch.cuda.empty_cache()"
   ]
  },
  {
   "cell_type": "code",
   "execution_count": 95,
   "metadata": {
    "colab": {
     "base_uri": "https://localhost:8080/"
    },
    "id": "DPAH-NKA3AEN",
    "outputId": "1e616ff5-d3ec-42dc-f66a-1bc2a2f9d82a"
   },
   "outputs": [
    {
     "name": "stdout",
     "output_type": "stream",
     "text": [
      "\n",
      "Testing Encoder with regular attention:\n",
      "--------------------------------------------------\n",
      "Input sequence:\n",
      "tensor([[1., 1., 0., 0., 0., 0.],\n",
      "        [0., 0., 1., 1., 0., 0.],\n",
      "        [0., 0., 0., 0., 1., 1.]], device='cuda:0')\n",
      "\n",
      "After encoder processing:\n",
      "tensor([[ 1.5171,  1.1446,  0.3976, -0.9150, -0.2350, -0.4203],\n",
      "        [ 0.3453, -0.1121,  1.3127,  0.9664,  0.2854,  0.0253],\n",
      "        [ 0.1391,  0.6917,  0.1248, -0.3540,  1.3931,  0.9762]],\n",
      "       device='cuda:0', grad_fn=<SelectBackward0>)\n",
      "✓ Encoder Block with regular attention Test Passed\n",
      "\n",
      "Testing Encoder with flash attention:\n",
      "--------------------------------------------------\n",
      "Input sequence:\n",
      "tensor([[1., 1., 0., 0., 0., 0.],\n",
      "        [0., 0., 1., 1., 0., 0.],\n",
      "        [0., 0., 0., 0., 1., 1.]], device='cuda:0', dtype=torch.float16)\n",
      "\n",
      "After encoder processing:\n",
      "tensor([[ 0.7783,  1.0234, -0.3586, -0.0851, -0.3760, -0.1392],\n",
      "        [ 0.5840,  0.1870,  0.8926,  1.1494,  0.5498,  0.4712],\n",
      "        [ 0.0084,  0.0208, -0.6611, -0.3779,  0.2473,  1.1035]],\n",
      "       device='cuda:0', dtype=torch.float16, grad_fn=<SelectBackward0>)\n",
      "✓ Encoder Block with flash attention Test Passed\n"
     ]
    }
   ],
   "source": [
    "test_encoder_blocks()"
   ]
  },
  {
   "cell_type": "markdown",
   "metadata": {
    "id": "a-AvnoPrzvwu"
   },
   "source": [
    "### Encoder Stack\n",
    "\n",
    "Following along from the original paper - we will organize these blocks into a set of 6.\n",
    "\n",
    "These 6 Encoder Blocks (each with 8 Attention Heads) will comprise our Encoding Stack."
   ]
  },
  {
   "cell_type": "code",
   "execution_count": 96,
   "metadata": {
    "id": "kOaR5SjUzxv7"
   },
   "outputs": [],
   "source": [
    "class EncoderStack(nn.Module):\n",
    "  def __init__(self, features: int, layers: nn.ModuleList) -> None:\n",
    "    super().__init__()\n",
    "    self.layers = layers\n",
    "    self.norm = LayerNormalization(features)\n",
    "\n",
    "  def forward(self, x, mask):\n",
    "    for layer in self.layers:\n",
    "      x = layer(x, mask)\n",
    "    return self.norm(x)"
   ]
  },
  {
   "cell_type": "markdown",
   "metadata": {
    "id": "fQyujsRTz5NT"
   },
   "source": [
    "## Decoder\n",
    "\n",
    "Next, we will take the encoded sequence and decode it through our Decoder Blocks."
   ]
  },
  {
   "cell_type": "markdown",
   "metadata": {
    "id": "zBYgl77Kz6bx"
   },
   "source": [
    "### Decoder Block\n",
    "\n",
    "![image](https://i.imgur.com/HtAAXZc.png)\n",
    "\n",
    "The decoder takes in the target language sentence (e.g. Italian). It also converts words to vectors and adds positional info. Then it goes through self-attention layers. Here, a mask is applied so each word can only see the words before it, not after.\n",
    "\n",
    "The decoder also does attention over the encoder output. This allows each French word to find relevant connections with the English words."
   ]
  },
  {
   "cell_type": "code",
   "execution_count": 97,
   "metadata": {
    "id": "SIwafbqzz5-n"
   },
   "outputs": [],
   "source": [
    "class DecoderBlock(nn.Module):\n",
    "  def __init__(self, features: int, self_attention_block: MultiHeadAttention, cross_attention_block: MultiHeadAttention, feed_forward_block: FeedForwardBlock, dropout: float) -> None:\n",
    "    super().__init__()\n",
    "    self.self_attention_block = self_attention_block\n",
    "    self.cross_attention_block = cross_attention_block\n",
    "    self.feed_forward_block = feed_forward_block\n",
    "    self.residual_connections = nn.ModuleList([ResidualConnection(features, dropout) for _ in range(3)])\n",
    "\n",
    "  def forward(self, x, encoder_output, input_mask, target_mask):\n",
    "    x = self.residual_connections[0](x, lambda x: self.self_attention_block(x, x, x, target_mask))\n",
    "    x = self.residual_connections[1](x, lambda x: self.cross_attention_block(x, encoder_output, encoder_output, input_mask))\n",
    "    x = self.residual_connections[2](x, self.feed_forward_block)\n",
    "    return x"
   ]
  },
  {
   "cell_type": "markdown",
   "metadata": {
    "id": "s0KkwjkM3xe7"
   },
   "source": [
    "### Testing DecoderBlock\n",
    "\n",
    "You know what's up next...testing!"
   ]
  },
  {
   "cell_type": "code",
   "execution_count": 98,
   "metadata": {
    "id": "UnmnWAVl307S"
   },
   "outputs": [],
   "source": [
    "def test_decoder_blocks():\n",
    "    x = torch.tensor([\n",
    "        [1.0, 1.0, 0.0, 0.0, 0.0, 0.0],  # \"El\"\n",
    "        [0.0, 0.0, 1.0, 1.0, 0.0, 0.0],  # \"gato\"\n",
    "    ]).unsqueeze(0).cuda()\n",
    "\n",
    "    encoder_output = torch.tensor([\n",
    "        [1.0, 1.0, 0.0, 0.0, 0.0, 0.0],  # \"The\"\n",
    "        [0.0, 0.0, 1.0, 1.0, 0.0, 0.0],  # \"cat\"\n",
    "    ]).unsqueeze(0).cuda()\n",
    "\n",
    "    cross_mask = torch.ones(1, 1, 2, 2, dtype=torch.bool).cuda()\n",
    "    self_mask = torch.tril(torch.ones(1, 1, 2, 2, dtype=torch.bool)).cuda()\n",
    "\n",
    "    attention_configs = [\n",
    "        AttentionConfig(AttentionType.REGULAR, d_model=6, num_heads=2, dropout=0.1),\n",
    "        AttentionConfig(AttentionType.FLASH, d_model=6, num_heads=2, dropout=0.1)\n",
    "    ]\n",
    "\n",
    "    for config in attention_configs:\n",
    "        try:\n",
    "            print(f\"\\nTesting Decoder with {config.attention_type.value} attention:\")\n",
    "            print(\"-\" * 50)\n",
    "\n",
    "            ff = FeedForwardBlock(d_model=6, d_ff=12).cuda()\n",
    "            decoder = TransformerBlock(\n",
    "                features=6,\n",
    "                attn_config=config,\n",
    "                feed_forward=ff,\n",
    "                dropout=0.1,\n",
    "                is_decoder=True\n",
    "            ).cuda()\n",
    "\n",
    "            if config.attention_type == AttentionType.FLASH:\n",
    "                x = x.half()\n",
    "                encoder_output = encoder_output.half()\n",
    "                decoder = decoder.half()\n",
    "                for param in decoder.parameters():\n",
    "                    param.data = param.data.half()\n",
    "\n",
    "            output = decoder(x, encoder_output=encoder_output,\n",
    "                           self_mask=self_mask, cross_mask=cross_mask)\n",
    "\n",
    "            print(\"Input target sequence:\")\n",
    "            print(x[0])\n",
    "            print(\"\\nSource (encoder) sequence:\")\n",
    "            print(encoder_output[0])\n",
    "            print(\"\\nDecoder output:\")\n",
    "            print(output[0])\n",
    "\n",
    "            assert output.shape == x.shape\n",
    "            assert not torch.allclose(output, x)\n",
    "            print(f\"✓ Decoder Block with {config.attention_type.value} attention Test Passed\")\n",
    "\n",
    "        except ImportError:\n",
    "            print(f\"Flash Attention not available, skipping {config.attention_type.value} test\")\n",
    "        except Exception as e:\n",
    "            print(f\"Error testing decoder with {config.attention_type.value} attention: {str(e)}\")\n",
    "\n",
    "        x = x.float()\n",
    "        encoder_output = encoder_output.float()\n",
    "        torch.cuda.empty_cache()"
   ]
  },
  {
   "cell_type": "code",
   "execution_count": 99,
   "metadata": {
    "colab": {
     "base_uri": "https://localhost:8080/"
    },
    "id": "COJlCq3033A2",
    "outputId": "534877d3-05de-4ecb-fdee-01b9463b3fb5"
   },
   "outputs": [
    {
     "name": "stdout",
     "output_type": "stream",
     "text": [
      "\n",
      "Testing Decoder with regular attention:\n",
      "--------------------------------------------------\n",
      "Input target sequence:\n",
      "tensor([[1., 1., 0., 0., 0., 0.],\n",
      "        [0., 0., 1., 1., 0., 0.]], device='cuda:0')\n",
      "\n",
      "Source (encoder) sequence:\n",
      "tensor([[1., 1., 0., 0., 0., 0.],\n",
      "        [0., 0., 1., 1., 0., 0.]], device='cuda:0')\n",
      "\n",
      "Decoder output:\n",
      "tensor([[ 0.8096,  0.7881, -0.4624,  0.0876,  0.0038, -0.4498],\n",
      "        [-0.2040, -0.0768,  1.0516,  1.4122,  0.2071,  0.0495]],\n",
      "       device='cuda:0', grad_fn=<SelectBackward0>)\n",
      "✓ Decoder Block with regular attention Test Passed\n",
      "\n",
      "Testing Decoder with flash attention:\n",
      "--------------------------------------------------\n",
      "Input target sequence:\n",
      "tensor([[1., 1., 0., 0., 0., 0.],\n",
      "        [0., 0., 1., 1., 0., 0.]], device='cuda:0', dtype=torch.float16)\n",
      "\n",
      "Source (encoder) sequence:\n",
      "tensor([[1., 1., 0., 0., 0., 0.],\n",
      "        [0., 0., 1., 1., 0., 0.]], device='cuda:0', dtype=torch.float16)\n",
      "\n",
      "Decoder output:\n",
      "tensor([[ 0.5659,  0.4185,  0.1379,  0.2859,  0.2703, -0.4829],\n",
      "        [-0.1953,  0.2686,  1.4199,  0.9741,  0.8506,  0.1036]],\n",
      "       device='cuda:0', dtype=torch.float16, grad_fn=<SelectBackward0>)\n",
      "✓ Decoder Block with flash attention Test Passed\n"
     ]
    }
   ],
   "source": [
    "test_decoder_blocks()"
   ]
  },
  {
   "cell_type": "markdown",
   "metadata": {
    "id": "sa4yiTNn0BkA"
   },
   "source": [
    "### Decoder Stack\n",
    "\n",
    "We'll use the same number of Decoder Blocks as we did Encoder Blocks - leaving us with 6 Deocder Blocks in our Decoder Stack."
   ]
  },
  {
   "cell_type": "code",
   "execution_count": 100,
   "metadata": {
    "id": "1QUXzOXk0CcT"
   },
   "outputs": [],
   "source": [
    "class DecoderStack(nn.Module):\n",
    "  def __init__(self, features: int, layers: nn.ModuleList) -> None:\n",
    "    super().__init__()\n",
    "    self.layers = layers\n",
    "    self.norm = LayerNormalization(features)\n",
    "\n",
    "  def forward(self, x, encoder_output, input_mask, target_mask):\n",
    "    for layer in self.layers:\n",
    "      x = layer(x, encoder_output, input_mask, target_mask)\n",
    "    return self.norm(x)"
   ]
  },
  {
   "cell_type": "markdown",
   "metadata": {
    "id": "kRFiAP580S4b"
   },
   "source": [
    "## Linear Projection Layer\n",
    "\n",
    "After the decoder's self-attention and encoder-decoder attention layers, we have a context vector representing each Italian word. This context vector has a high dimension (e.g. 512 or 1024).\n",
    "\n",
    "We want to take this context vector and generate a probability distribution over the French vocabulary so we can pick the next translated word.\n",
    "\n",
    "The linear projection layer helps with this. It projects the context vector into a much larger vector called the vocabulary distribution - one entry per word in the vocabulary.\n",
    "\n",
    "For example, if our Italian vocabulary has 50,000 words, the vocabulary distribution will have 50,000 dimensions. Each dimension corresponds to the probability of that Italian word being the correct translation."
   ]
  },
  {
   "cell_type": "code",
   "execution_count": 101,
   "metadata": {
    "id": "tkBBMAZK0WLB"
   },
   "outputs": [],
   "source": [
    "class LinearProjectionLayer(nn.Module):\n",
    "  def __init__(self, d_model, vocab_size) -> None:\n",
    "    super().__init__()\n",
    "    self.proj = nn.Linear(d_model, vocab_size)\n",
    "\n",
    "  def forward(self, x) -> None:\n",
    "    return self.proj(x)"
   ]
  },
  {
   "cell_type": "markdown",
   "metadata": {
    "id": "v9ucsRWs0lG9"
   },
   "source": [
    "## The Transformer\n",
    "\n",
    "At this point, all we need to do is create a class that represents our model!"
   ]
  },
  {
   "cell_type": "code",
   "execution_count": 102,
   "metadata": {
    "id": "5ip11mmQ0nMM"
   },
   "outputs": [],
   "source": [
    "class Transformer(nn.Module):\n",
    "  def __init__(self, encoder: EncoderBlock, decoder: DecoderBlock, src_embed: InputEmbeddings, tgt_embed: InputEmbeddings, src_pos: PositionalEncoding, tgt_pos: PositionalEncoding, projection_layer: LinearProjectionLayer) -> None:\n",
    "    super().__init__()\n",
    "    self.encoder = encoder\n",
    "    self.decoder = decoder\n",
    "    self.src_embed = src_embed\n",
    "    self.tgt_embed = tgt_embed\n",
    "    self.src_pos = src_pos\n",
    "    self.tgt_pos = tgt_pos\n",
    "    self.projection_layer = projection_layer\n",
    "\n",
    "  def encode(self, src, src_mask):\n",
    "    src = self.src_embed(src)\n",
    "    src = self.src_pos(src)\n",
    "    return self.encoder(src, src_mask)\n",
    "\n",
    "  def decode(self, encoder_output: torch.Tensor, src_mask: torch.Tensor, tgt: torch.Tensor, tgt_mask: torch.Tensor):\n",
    "    tgt = self.tgt_embed(tgt)\n",
    "    tgt = self.tgt_pos(tgt)\n",
    "    return self.decoder(tgt, encoder_output, src_mask, tgt_mask)\n",
    "\n",
    "  def project(self, x):\n",
    "    return self.projection_layer(x)"
   ]
  },
  {
   "cell_type": "markdown",
   "metadata": {
    "id": "4Ssr5nA039--"
   },
   "source": [
    "## Building Our Transformer\n",
    "\n",
    "Now that we have each of our components - we need to construct an actual model!\n",
    "\n",
    "We'll use this helper function to aid in our goal and set up our Encoder/Decoder Stacks!"
   ]
  },
  {
   "cell_type": "code",
   "execution_count": 103,
   "metadata": {
    "id": "kdCt3wNi4EvY"
   },
   "outputs": [],
   "source": [
    "def build_transformer(config: dict, attention_type: AttentionType = AttentionType.REGULAR) -> nn.Module:\n",
    "    attn_config = AttentionConfig(\n",
    "        attention_type=attention_type,\n",
    "        d_model=config['d_model'],\n",
    "        num_heads=config.get('num_heads', 8),\n",
    "        dropout=config.get('dropout', 0.1)\n",
    "    )\n",
    "\n",
    "    input_embeddings = InputEmbeddings(config['d_model'], config['input_vocab_size'])\n",
    "    target_embeddings = InputEmbeddings(config['d_model'], config['target_vocab_size'])\n",
    "\n",
    "    input_position = PositionalEncoding(config['d_model'], config['seq_len'], config.get('dropout', 0.1))\n",
    "    target_position = PositionalEncoding(config['d_model'], config['seq_len'], config.get('dropout', 0.1))\n",
    "\n",
    "    encoder_blocks = [\n",
    "        TransformerBlock(\n",
    "            features=config['d_model'],\n",
    "            attn_config=attn_config,\n",
    "            feed_forward=FeedForwardBlock(config['d_model'], config.get('d_ff', 2048)),\n",
    "            dropout=config.get('dropout', 0.1)\n",
    "        ) for _ in range(config.get('N', 6))\n",
    "    ]\n",
    "\n",
    "    decoder_blocks = [\n",
    "        TransformerBlock(\n",
    "            features=config['d_model'],\n",
    "            attn_config=attn_config,\n",
    "            feed_forward=FeedForwardBlock(config['d_model'], config.get('d_ff', 2048)),\n",
    "            dropout=config.get('dropout', 0.1),\n",
    "            is_decoder=True\n",
    "        ) for _ in range(config.get('N', 6))\n",
    "    ]\n",
    "\n",
    "    model = Transformer(\n",
    "        encoder=EncoderStack(config['d_model'], nn.ModuleList(encoder_blocks)),\n",
    "        decoder=DecoderStack(config['d_model'], nn.ModuleList(decoder_blocks)),\n",
    "        src_embed=input_embeddings,\n",
    "        tgt_embed=target_embeddings,\n",
    "        src_pos=input_position,\n",
    "        tgt_pos=target_position,\n",
    "        projection_layer=LinearProjectionLayer(config['d_model'], config['target_vocab_size'])\n",
    "    )\n",
    "\n",
    "    # Initialize parameters\n",
    "    for p in model.parameters():\n",
    "        if p.dim() > 1:\n",
    "            nn.init.xavier_uniform_(p)\n",
    "\n",
    "    return model"
   ]
  },
  {
   "cell_type": "markdown",
   "metadata": {
    "id": "6dn9RuqQEjQp"
   },
   "source": [
    "# 🤝 BREAKOUT ROOM #2:"
   ]
  },
  {
   "cell_type": "markdown",
   "metadata": {
    "id": "BNjAS-LvV557"
   },
   "source": [
    "## Benchmarking Flash Attention Against Naive Attention\n",
    "\n",
    "In this Breakout Room, we're going to explore the differences in Flash Attention and Naive Attention by way of benchmarking one against the other.\n",
    "\n",
    "We'll start with some verification helper functions to make sure things are working as expected.\n"
   ]
  },
  {
   "cell_type": "markdown",
   "metadata": {
    "id": "-hjqEag6E53O"
   },
   "source": [
    "### Task 1: Verification Functions\n",
    "\n",
    "Let's start by making sure we *can* use Flash Attention.\n",
    "\n",
    "Then confirm that we have access to a GPU environment - and then confirm we're running in reduced precision (required for Flash Attention)."
   ]
  },
  {
   "cell_type": "code",
   "execution_count": 104,
   "metadata": {
    "id": "Xp6w1tnbdiOx"
   },
   "outputs": [],
   "source": [
    "def check_flash_attn_available():\n",
    "    try:\n",
    "        import flash_attn\n",
    "        return True\n",
    "    except ImportError:\n",
    "        return False\n",
    "\n",
    "def verify_flash_attention(model):\n",
    "    \"\"\"Verify Flash Attention is actually being used\"\"\"\n",
    "    if not check_flash_attn_available():\n",
    "        print(\"Flash Attention is not available\")\n",
    "        return False\n",
    "\n",
    "    # Check if CUDA is available\n",
    "    if not torch.cuda.is_available():\n",
    "        print(\"CUDA is required for Flash Attention\")\n",
    "        return False\n",
    "\n",
    "    # Verify model precision\n",
    "    if not any(p.dtype == torch.float16 for p in model.parameters()):\n",
    "        print(\"Model needs to be in float16 for Flash Attention\")\n",
    "        return False\n",
    "\n",
    "    return True\n",
    "\n",
    "def profile_attention_call(model, input_data):\n",
    "    start_event = torch.cuda.Event(enable_timing=True)\n",
    "    end_event = torch.cuda.Event(enable_timing=True)\n",
    "\n",
    "    torch.cuda.synchronize()\n",
    "    start_event.record()\n",
    "\n",
    "    output = model(input_data)\n",
    "\n",
    "    end_event.record()\n",
    "    torch.cuda.synchronize()\n",
    "\n",
    "    return start_event.elapsed_time(end_event)"
   ]
  },
  {
   "cell_type": "markdown",
   "metadata": {
    "id": "_NgRCa9FFOjE"
   },
   "source": [
    "### Task 2: Implement Benchmarking Suite\n",
    "\n",
    "This step should be easy enough - we just need to set up a class that can help us benchmark our model using the two forms of Attention we care about!"
   ]
  },
  {
   "cell_type": "markdown",
   "metadata": {
    "id": "MMFHRNZwKdlF"
   },
   "source": [
    "#### 🏗️ Activity #1:\n",
    "\n",
    "Implement the single run benchmark code!"
   ]
  },
  {
   "cell_type": "code",
   "execution_count": 105,
   "metadata": {
    "id": "hfBcSHUo-MU6"
   },
   "outputs": [],
   "source": [
    "import time\n",
    "import pandas as pd\n",
    "from typing import List, Tuple\n",
    "import numpy as np\n",
    "import gc\n",
    "from tqdm import tqdm\n",
    "from dataclasses import dataclass\n",
    "import torch\n",
    "\n",
    "@dataclass\n",
    "class BenchmarkResult:\n",
    "    time_ms: float\n",
    "\n",
    "class AttentionBenchmark:\n",
    "    def __init__(\n",
    "        self,\n",
    "        seq_lengths: List[int] = [128, 256, 512, 1024, 2048, 4096],\n",
    "        num_trials: int = 3,\n",
    "        num_warmup: int = 5,\n",
    "        num_iterations: int = 100,\n",
    "        device: str = \"cuda\"\n",
    "    ):\n",
    "        self.seq_lengths = seq_lengths\n",
    "        self.num_trials = num_trials\n",
    "        self.num_warmup = num_warmup\n",
    "        self.num_iterations = num_iterations\n",
    "        self.device = torch.device(device if torch.cuda.is_available() else \"cpu\")\n",
    "\n",
    "    def _clear_memory(self):\n",
    "        \"\"\"Clear GPU and CPU memory.\"\"\"\n",
    "        if self.device.type == \"cuda\":\n",
    "            torch.cuda.empty_cache()\n",
    "        gc.collect()\n",
    "\n",
    "    def _run_single_test(self, attention_type, seq_len: int, d_model: int = 256, num_heads: int = 4) -> Tuple[torch.Tensor, BenchmarkResult]:\n",
    "        \"\"\"Run a single test for the specified attention type and sequence length.\"\"\"\n",
    "\n",
    "        ### YOUR CODE HERE\n",
    "        self._clear_memory()\n",
    "\n",
    "        if self.device.type == \"cuda\":\n",
    "            torch.cuda.reset_max_memory_allocated()\n",
    "\n",
    "        batch_size = 1\n",
    "\n",
    "        x = torch.randn(batch_size, seq_len, d_model).to(self.device)\n",
    "        mask = torch.ones(batch_size, 1, seq_len, seq_len).bool().to(self.device)\n",
    "\n",
    "        attn_config = AttentionConfig(\n",
    "            attention_type=attention_type,\n",
    "            d_model=d_model,\n",
    "            num_heads=num_heads,\n",
    "            dropout=0.1\n",
    "        )\n",
    "        model = ModularAttention(attn_config).to(self.device)\n",
    "\n",
    "        if attention_type == AttentionType.FLASH:\n",
    "            if not check_flash_attn_available():\n",
    "                print(f\"Flash Attention not available for seq_len {seq_len}. Skipping...\")\n",
    "                return None, None\n",
    "            model = model.half()\n",
    "            x = x.half()\n",
    "            if not verify_flash_attention(model):\n",
    "                print(f\"Flash Attention verification failed for seq_len {seq_len}. Skipping...\")\n",
    "                return None, None\n",
    "\n",
    "        try:\n",
    "            for _ in range(self.num_warmup):\n",
    "                _ = model(x, x, x, mask)\n",
    "                torch.cuda.synchronize()\n",
    "\n",
    "            total_time_ms = 0\n",
    "\n",
    "            for _ in range(self.num_iterations):\n",
    "                torch.cuda.synchronize()\n",
    "                start_time = time.perf_counter()\n",
    "\n",
    "                _ = model(x, x, x, mask)\n",
    "\n",
    "                torch.cuda.synchronize()\n",
    "                end_time = time.perf_counter()\n",
    "\n",
    "                iteration_time_ms = (end_time - start_time) * 1000\n",
    "                total_time_ms += iteration_time_ms\n",
    "\n",
    "            avg_time_ms = total_time_ms / self.num_iterations\n",
    "\n",
    "            del x, mask, model\n",
    "            self._clear_memory()\n",
    "\n",
    "            return None, BenchmarkResult(time_ms=avg_time_ms)\n",
    "\n",
    "        except Exception as e:\n",
    "            print(f\"Error during {attention_type.value} test for seq_len {seq_len}: {str(e)}\")\n",
    "            return None, None\n",
    "\n",
    "\n",
    "    def run_benchmark(self) -> pd.DataFrame:\n",
    "        \"\"\"Run the complete benchmark suite.\"\"\"\n",
    "        results = []\n",
    "\n",
    "        for seq_len in tqdm(self.seq_lengths, desc=\"Testing sequence lengths\"):\n",
    "            batch_size = 4\n",
    "            trial_results = {attention_type: [] for attention_type in AttentionType}\n",
    "\n",
    "            for _ in range(self.num_trials):\n",
    "                for attention_type in AttentionType:\n",
    "                    _, result = self._run_single_test(\n",
    "                        attention_type=attention_type,\n",
    "                        seq_len=seq_len\n",
    "                    )\n",
    "                    if result is None:\n",
    "                        print(f\"Skipping {attention_type.value} for seq_len {seq_len} due to failure.\")\n",
    "                        continue\n",
    "\n",
    "                    trial_results[attention_type].append(result)\n",
    "\n",
    "                self._clear_memory()\n",
    "\n",
    "            for attention_type in AttentionType:\n",
    "                trial_data = trial_results[attention_type]\n",
    "                if not trial_data:\n",
    "                    continue\n",
    "\n",
    "                results.append({\n",
    "                    'Sequence Length': seq_len,\n",
    "                    'Attention Type': attention_type.value,\n",
    "                    'Batch Size': batch_size,\n",
    "                    'Time per Iteration (ms)': np.mean([r.time_ms for r in trial_data]),\n",
    "                    'Time Std Dev (ms)': np.std([r.time_ms for r in trial_data])\n",
    "                })\n",
    "\n",
    "            self._clear_memory()\n",
    "\n",
    "        if not results:\n",
    "            print(\"No successful benchmark results obtained.\")\n",
    "            return pd.DataFrame()\n",
    "\n",
    "        return pd.DataFrame(results)"
   ]
  },
  {
   "cell_type": "markdown",
   "metadata": {
    "id": "hEAe3A7yHHQH"
   },
   "source": [
    "#### 🏗️ Activity #2:\n",
    "\n",
    "Write out, in natural language, how this benchmark class works!\n",
    "\n",
    "The benchmark class computes average time taken to compute attention outputs for different types of attentions. It is parameterized on a few parameters:\n",
    "1. `sequence_lengths` - The sequence lengths over which different types of attentions are computed. The time taken for computing the forward pass is measured.\n",
    "2. `num_trials` - The number of times computation is repeated for each sequence length\n",
    "3. `num_warmup` - Number of times we run a \"warmup\" computation to ensure the GPU is ready for more accurate measurements.\n",
    "4. `num_iterations` - The number of times attention is computed for a given sequence length. The computed time is averaged over `num_iterations` to get a more accurate measurement of time.\n",
    "\n",
    "Essentially, the benchmark class loops over **every sequence length** then computes regular attention and flash attention using dummy inputs of the same sequence length *several times* to get an accurate measurement of the time taken to compute attention of the specific type for that sequence length. Several measurements are taken over the same sequence length for a better average measurement of the time taken. Threafter, we store the time taken to compute attion for each sequence length and attention type. These result tuples of sequence length, attention type, batch size, measured time and standard deviation for measured time are then stored in a pandas dataframe.\n",
    "\n",
    "To avoid inconsistency in measurement while the GPU \"warms up\", several warm-up iterations are performed which are not measured as part of the average time taken."
   ]
  },
  {
   "cell_type": "markdown",
   "metadata": {
    "id": "iktRcvIrFZqE"
   },
   "source": [
    "### Task 3: Run Benchmark!\n",
    "\n",
    "Easily enough, all we need to do is actually fire the benchmark off!"
   ]
  },
  {
   "cell_type": "code",
   "execution_count": 106,
   "metadata": {
    "colab": {
     "base_uri": "https://localhost:8080/"
    },
    "id": "whjxtCWUL6po",
    "outputId": "53284767-4577-446b-ea21-3a83364f76c2"
   },
   "outputs": [
    {
     "name": "stderr",
     "output_type": "stream",
     "text": [
      "Testing sequence lengths: 100%|██████████| 8/8 [01:12<00:00,  9.07s/it]\n"
     ]
    }
   ],
   "source": [
    "benchmark = AttentionBenchmark(\n",
    "    seq_lengths=[128, 256, 512, 1024, 2048, 4096, 8192, 16392],\n",
    "    num_trials=5,\n",
    ")\n",
    "results_df = benchmark.run_benchmark()"
   ]
  },
  {
   "cell_type": "markdown",
   "metadata": {
    "id": "8P40ubk9FfHC"
   },
   "source": [
    "### Task 4: Plotting the Results\n",
    "\n",
    "Now that we have a benchmark created - we'll use Plotly to...well, plot our results!"
   ]
  },
  {
   "cell_type": "code",
   "execution_count": 107,
   "metadata": {
    "id": "FhQrcBi6L2m6"
   },
   "outputs": [],
   "source": [
    "import plotly.graph_objects as go\n",
    "\n",
    "def plot_benchmark_results(df: pd.DataFrame) -> go.Figure:\n",
    "    \"\"\"Visualize benchmark results focusing on time per iteration.\"\"\"\n",
    "    fig = go.Figure()\n",
    "\n",
    "    # Colors for different attention types\n",
    "    colors = {\n",
    "        'regular': 'blue',\n",
    "        'flash': 'red'\n",
    "    }\n",
    "\n",
    "    # Plot: Time per Iteration vs Sequence Length\n",
    "    for att_type in df['Attention Type'].unique():\n",
    "        data = df[df['Attention Type'] == att_type]\n",
    "        fig.add_trace(\n",
    "            go.Scatter(\n",
    "                x=data['Sequence Length'],\n",
    "                y=data['Time per Iteration (ms)'],\n",
    "                name=f\"{att_type.title()} Time\",\n",
    "                line=dict(color=colors.get(att_type, 'black')),\n",
    "                mode='lines+markers'\n",
    "            )\n",
    "        )\n",
    "\n",
    "    # Update layout\n",
    "    fig.update_layout(\n",
    "        title='Attention Mechanism Benchmark Results',\n",
    "        xaxis_title='Sequence Length',\n",
    "        yaxis_title='Time per Iteration (ms)',\n",
    "        height=600,\n",
    "        showlegend=True,\n",
    "        hovermode='x unified'\n",
    "    )\n",
    "\n",
    "    return fig\n"
   ]
  },
  {
   "cell_type": "code",
   "execution_count": 108,
   "metadata": {
    "colab": {
     "base_uri": "https://localhost:8080/",
     "height": 617
    },
    "id": "kuthp_0CYw2V",
    "outputId": "29e421fc-0001-4534-accd-3a9d5630da73"
   },
   "outputs": [
    {
     "data": {
      "text/html": [
       "<html>\n",
       "<head><meta charset=\"utf-8\" /></head>\n",
       "<body>\n",
       "    <div>            <script src=\"https://cdnjs.cloudflare.com/ajax/libs/mathjax/2.7.5/MathJax.js?config=TeX-AMS-MML_SVG\"></script><script type=\"text/javascript\">if (window.MathJax && window.MathJax.Hub && window.MathJax.Hub.Config) {window.MathJax.Hub.Config({SVG: {font: \"STIX-Web\"}});}</script>                <script type=\"text/javascript\">window.PlotlyConfig = {MathJaxConfig: 'local'};</script>\n",
       "        <script charset=\"utf-8\" src=\"https://cdn.plot.ly/plotly-2.35.2.min.js\"></script>                <div id=\"82fd302e-2497-4cff-a08d-28b09aadd95c\" class=\"plotly-graph-div\" style=\"height:600px; width:100%;\"></div>            <script type=\"text/javascript\">                                    window.PLOTLYENV=window.PLOTLYENV || {};                                    if (document.getElementById(\"82fd302e-2497-4cff-a08d-28b09aadd95c\")) {                    Plotly.newPlot(                        \"82fd302e-2497-4cff-a08d-28b09aadd95c\",                        [{\"line\":{\"color\":\"blue\"},\"mode\":\"lines+markers\",\"name\":\"Regular Time\",\"x\":[128,256,512,1024,2048,4096,8192,16392],\"y\":[0.6005274280059893,0.587868459983838,0.6404353779998928,0.7682224160062106,1.4982964179907867,4.667513110000982,15.8986054720026,59.8287148579966],\"type\":\"scatter\"},{\"line\":{\"color\":\"red\"},\"mode\":\"lines+markers\",\"name\":\"Flash Time\",\"x\":[128,256,512,1024,2048,4096,8192,16392],\"y\":[0.6484955579908274,0.6463087240181267,0.6516533299982257,0.6007268059975104,0.6497618100120235,0.6532799499937028,0.827507572005743,2.01745577399015],\"type\":\"scatter\"}],                        {\"template\":{\"data\":{\"histogram2dcontour\":[{\"type\":\"histogram2dcontour\",\"colorbar\":{\"outlinewidth\":0,\"ticks\":\"\"},\"colorscale\":[[0.0,\"#0d0887\"],[0.1111111111111111,\"#46039f\"],[0.2222222222222222,\"#7201a8\"],[0.3333333333333333,\"#9c179e\"],[0.4444444444444444,\"#bd3786\"],[0.5555555555555556,\"#d8576b\"],[0.6666666666666666,\"#ed7953\"],[0.7777777777777778,\"#fb9f3a\"],[0.8888888888888888,\"#fdca26\"],[1.0,\"#f0f921\"]]}],\"choropleth\":[{\"type\":\"choropleth\",\"colorbar\":{\"outlinewidth\":0,\"ticks\":\"\"}}],\"histogram2d\":[{\"type\":\"histogram2d\",\"colorbar\":{\"outlinewidth\":0,\"ticks\":\"\"},\"colorscale\":[[0.0,\"#0d0887\"],[0.1111111111111111,\"#46039f\"],[0.2222222222222222,\"#7201a8\"],[0.3333333333333333,\"#9c179e\"],[0.4444444444444444,\"#bd3786\"],[0.5555555555555556,\"#d8576b\"],[0.6666666666666666,\"#ed7953\"],[0.7777777777777778,\"#fb9f3a\"],[0.8888888888888888,\"#fdca26\"],[1.0,\"#f0f921\"]]}],\"heatmap\":[{\"type\":\"heatmap\",\"colorbar\":{\"outlinewidth\":0,\"ticks\":\"\"},\"colorscale\":[[0.0,\"#0d0887\"],[0.1111111111111111,\"#46039f\"],[0.2222222222222222,\"#7201a8\"],[0.3333333333333333,\"#9c179e\"],[0.4444444444444444,\"#bd3786\"],[0.5555555555555556,\"#d8576b\"],[0.6666666666666666,\"#ed7953\"],[0.7777777777777778,\"#fb9f3a\"],[0.8888888888888888,\"#fdca26\"],[1.0,\"#f0f921\"]]}],\"heatmapgl\":[{\"type\":\"heatmapgl\",\"colorbar\":{\"outlinewidth\":0,\"ticks\":\"\"},\"colorscale\":[[0.0,\"#0d0887\"],[0.1111111111111111,\"#46039f\"],[0.2222222222222222,\"#7201a8\"],[0.3333333333333333,\"#9c179e\"],[0.4444444444444444,\"#bd3786\"],[0.5555555555555556,\"#d8576b\"],[0.6666666666666666,\"#ed7953\"],[0.7777777777777778,\"#fb9f3a\"],[0.8888888888888888,\"#fdca26\"],[1.0,\"#f0f921\"]]}],\"contourcarpet\":[{\"type\":\"contourcarpet\",\"colorbar\":{\"outlinewidth\":0,\"ticks\":\"\"}}],\"contour\":[{\"type\":\"contour\",\"colorbar\":{\"outlinewidth\":0,\"ticks\":\"\"},\"colorscale\":[[0.0,\"#0d0887\"],[0.1111111111111111,\"#46039f\"],[0.2222222222222222,\"#7201a8\"],[0.3333333333333333,\"#9c179e\"],[0.4444444444444444,\"#bd3786\"],[0.5555555555555556,\"#d8576b\"],[0.6666666666666666,\"#ed7953\"],[0.7777777777777778,\"#fb9f3a\"],[0.8888888888888888,\"#fdca26\"],[1.0,\"#f0f921\"]]}],\"surface\":[{\"type\":\"surface\",\"colorbar\":{\"outlinewidth\":0,\"ticks\":\"\"},\"colorscale\":[[0.0,\"#0d0887\"],[0.1111111111111111,\"#46039f\"],[0.2222222222222222,\"#7201a8\"],[0.3333333333333333,\"#9c179e\"],[0.4444444444444444,\"#bd3786\"],[0.5555555555555556,\"#d8576b\"],[0.6666666666666666,\"#ed7953\"],[0.7777777777777778,\"#fb9f3a\"],[0.8888888888888888,\"#fdca26\"],[1.0,\"#f0f921\"]]}],\"mesh3d\":[{\"type\":\"mesh3d\",\"colorbar\":{\"outlinewidth\":0,\"ticks\":\"\"}}],\"scatter\":[{\"fillpattern\":{\"fillmode\":\"overlay\",\"size\":10,\"solidity\":0.2},\"type\":\"scatter\"}],\"parcoords\":[{\"type\":\"parcoords\",\"line\":{\"colorbar\":{\"outlinewidth\":0,\"ticks\":\"\"}}}],\"scatterpolargl\":[{\"type\":\"scatterpolargl\",\"marker\":{\"colorbar\":{\"outlinewidth\":0,\"ticks\":\"\"}}}],\"bar\":[{\"error_x\":{\"color\":\"#2a3f5f\"},\"error_y\":{\"color\":\"#2a3f5f\"},\"marker\":{\"line\":{\"color\":\"#E5ECF6\",\"width\":0.5},\"pattern\":{\"fillmode\":\"overlay\",\"size\":10,\"solidity\":0.2}},\"type\":\"bar\"}],\"scattergeo\":[{\"type\":\"scattergeo\",\"marker\":{\"colorbar\":{\"outlinewidth\":0,\"ticks\":\"\"}}}],\"scatterpolar\":[{\"type\":\"scatterpolar\",\"marker\":{\"colorbar\":{\"outlinewidth\":0,\"ticks\":\"\"}}}],\"histogram\":[{\"marker\":{\"pattern\":{\"fillmode\":\"overlay\",\"size\":10,\"solidity\":0.2}},\"type\":\"histogram\"}],\"scattergl\":[{\"type\":\"scattergl\",\"marker\":{\"colorbar\":{\"outlinewidth\":0,\"ticks\":\"\"}}}],\"scatter3d\":[{\"type\":\"scatter3d\",\"line\":{\"colorbar\":{\"outlinewidth\":0,\"ticks\":\"\"}},\"marker\":{\"colorbar\":{\"outlinewidth\":0,\"ticks\":\"\"}}}],\"scattermapbox\":[{\"type\":\"scattermapbox\",\"marker\":{\"colorbar\":{\"outlinewidth\":0,\"ticks\":\"\"}}}],\"scatterternary\":[{\"type\":\"scatterternary\",\"marker\":{\"colorbar\":{\"outlinewidth\":0,\"ticks\":\"\"}}}],\"scattercarpet\":[{\"type\":\"scattercarpet\",\"marker\":{\"colorbar\":{\"outlinewidth\":0,\"ticks\":\"\"}}}],\"carpet\":[{\"aaxis\":{\"endlinecolor\":\"#2a3f5f\",\"gridcolor\":\"white\",\"linecolor\":\"white\",\"minorgridcolor\":\"white\",\"startlinecolor\":\"#2a3f5f\"},\"baxis\":{\"endlinecolor\":\"#2a3f5f\",\"gridcolor\":\"white\",\"linecolor\":\"white\",\"minorgridcolor\":\"white\",\"startlinecolor\":\"#2a3f5f\"},\"type\":\"carpet\"}],\"table\":[{\"cells\":{\"fill\":{\"color\":\"#EBF0F8\"},\"line\":{\"color\":\"white\"}},\"header\":{\"fill\":{\"color\":\"#C8D4E3\"},\"line\":{\"color\":\"white\"}},\"type\":\"table\"}],\"barpolar\":[{\"marker\":{\"line\":{\"color\":\"#E5ECF6\",\"width\":0.5},\"pattern\":{\"fillmode\":\"overlay\",\"size\":10,\"solidity\":0.2}},\"type\":\"barpolar\"}],\"pie\":[{\"automargin\":true,\"type\":\"pie\"}]},\"layout\":{\"autotypenumbers\":\"strict\",\"colorway\":[\"#636efa\",\"#EF553B\",\"#00cc96\",\"#ab63fa\",\"#FFA15A\",\"#19d3f3\",\"#FF6692\",\"#B6E880\",\"#FF97FF\",\"#FECB52\"],\"font\":{\"color\":\"#2a3f5f\"},\"hovermode\":\"closest\",\"hoverlabel\":{\"align\":\"left\"},\"paper_bgcolor\":\"white\",\"plot_bgcolor\":\"#E5ECF6\",\"polar\":{\"bgcolor\":\"#E5ECF6\",\"angularaxis\":{\"gridcolor\":\"white\",\"linecolor\":\"white\",\"ticks\":\"\"},\"radialaxis\":{\"gridcolor\":\"white\",\"linecolor\":\"white\",\"ticks\":\"\"}},\"ternary\":{\"bgcolor\":\"#E5ECF6\",\"aaxis\":{\"gridcolor\":\"white\",\"linecolor\":\"white\",\"ticks\":\"\"},\"baxis\":{\"gridcolor\":\"white\",\"linecolor\":\"white\",\"ticks\":\"\"},\"caxis\":{\"gridcolor\":\"white\",\"linecolor\":\"white\",\"ticks\":\"\"}},\"coloraxis\":{\"colorbar\":{\"outlinewidth\":0,\"ticks\":\"\"}},\"colorscale\":{\"sequential\":[[0.0,\"#0d0887\"],[0.1111111111111111,\"#46039f\"],[0.2222222222222222,\"#7201a8\"],[0.3333333333333333,\"#9c179e\"],[0.4444444444444444,\"#bd3786\"],[0.5555555555555556,\"#d8576b\"],[0.6666666666666666,\"#ed7953\"],[0.7777777777777778,\"#fb9f3a\"],[0.8888888888888888,\"#fdca26\"],[1.0,\"#f0f921\"]],\"sequentialminus\":[[0.0,\"#0d0887\"],[0.1111111111111111,\"#46039f\"],[0.2222222222222222,\"#7201a8\"],[0.3333333333333333,\"#9c179e\"],[0.4444444444444444,\"#bd3786\"],[0.5555555555555556,\"#d8576b\"],[0.6666666666666666,\"#ed7953\"],[0.7777777777777778,\"#fb9f3a\"],[0.8888888888888888,\"#fdca26\"],[1.0,\"#f0f921\"]],\"diverging\":[[0,\"#8e0152\"],[0.1,\"#c51b7d\"],[0.2,\"#de77ae\"],[0.3,\"#f1b6da\"],[0.4,\"#fde0ef\"],[0.5,\"#f7f7f7\"],[0.6,\"#e6f5d0\"],[0.7,\"#b8e186\"],[0.8,\"#7fbc41\"],[0.9,\"#4d9221\"],[1,\"#276419\"]]},\"xaxis\":{\"gridcolor\":\"white\",\"linecolor\":\"white\",\"ticks\":\"\",\"title\":{\"standoff\":15},\"zerolinecolor\":\"white\",\"automargin\":true,\"zerolinewidth\":2},\"yaxis\":{\"gridcolor\":\"white\",\"linecolor\":\"white\",\"ticks\":\"\",\"title\":{\"standoff\":15},\"zerolinecolor\":\"white\",\"automargin\":true,\"zerolinewidth\":2},\"scene\":{\"xaxis\":{\"backgroundcolor\":\"#E5ECF6\",\"gridcolor\":\"white\",\"linecolor\":\"white\",\"showbackground\":true,\"ticks\":\"\",\"zerolinecolor\":\"white\",\"gridwidth\":2},\"yaxis\":{\"backgroundcolor\":\"#E5ECF6\",\"gridcolor\":\"white\",\"linecolor\":\"white\",\"showbackground\":true,\"ticks\":\"\",\"zerolinecolor\":\"white\",\"gridwidth\":2},\"zaxis\":{\"backgroundcolor\":\"#E5ECF6\",\"gridcolor\":\"white\",\"linecolor\":\"white\",\"showbackground\":true,\"ticks\":\"\",\"zerolinecolor\":\"white\",\"gridwidth\":2}},\"shapedefaults\":{\"line\":{\"color\":\"#2a3f5f\"}},\"annotationdefaults\":{\"arrowcolor\":\"#2a3f5f\",\"arrowhead\":0,\"arrowwidth\":1},\"geo\":{\"bgcolor\":\"white\",\"landcolor\":\"#E5ECF6\",\"subunitcolor\":\"white\",\"showland\":true,\"showlakes\":true,\"lakecolor\":\"white\"},\"title\":{\"x\":0.05},\"mapbox\":{\"style\":\"light\"}}},\"title\":{\"text\":\"Attention Mechanism Benchmark Results\"},\"xaxis\":{\"title\":{\"text\":\"Sequence Length\"}},\"yaxis\":{\"title\":{\"text\":\"Time per Iteration (ms)\"}},\"height\":600,\"showlegend\":true,\"hovermode\":\"x unified\"},                        {\"responsive\": true}                    ).then(function(){\n",
       "                            \n",
       "var gd = document.getElementById('82fd302e-2497-4cff-a08d-28b09aadd95c');\n",
       "var x = new MutationObserver(function (mutations, observer) {{\n",
       "        var display = window.getComputedStyle(gd).display;\n",
       "        if (!display || display === 'none') {{\n",
       "            console.log([gd, 'removed!']);\n",
       "            Plotly.purge(gd);\n",
       "            observer.disconnect();\n",
       "        }}\n",
       "}});\n",
       "\n",
       "// Listen for the removal of the full notebook cells\n",
       "var notebookContainer = gd.closest('#notebook-container');\n",
       "if (notebookContainer) {{\n",
       "    x.observe(notebookContainer, {childList: true});\n",
       "}}\n",
       "\n",
       "// Listen for the clearing of the current output cell\n",
       "var outputEl = gd.closest('.output');\n",
       "if (outputEl) {{\n",
       "    x.observe(outputEl, {childList: true});\n",
       "}}\n",
       "\n",
       "                        })                };                            </script>        </div>\n",
       "</body>\n",
       "</html>"
      ]
     },
     "metadata": {},
     "output_type": "display_data"
    }
   ],
   "source": [
    "fig = plot_benchmark_results(results_df)\n",
    "fig.show()"
   ]
  },
  {
   "cell_type": "markdown",
   "metadata": {},
   "source": [
    "![benchmark results](./benchmark_results.png)"
   ]
  },
  {
   "cell_type": "markdown",
   "metadata": {
    "id": "mwaF3aa2GZNT"
   },
   "source": [
    "#### 👪❓Discussion Question 3:\n",
    "\n",
    "Explore with your group what these results show!\n",
    "\n",
    "\n",
    "#### Regular Attention\n",
    "The time taken for regular attention grows very quickly with sequence length in piecewise linear chunks, although the overall trend looks quadratic. As the sequence length increases, the time taken to compute attention also grows quickly.\n",
    "\n",
    "#### Flash Attention\n",
    "While the time taken for flash attention does grow with the sequence length, it grows much more slowly compared to linear attention. In fact on the comparative plot above, it *almost* looks flat (although it is growing)."
   ]
  },
  {
   "cell_type": "markdown",
   "metadata": {
    "id": "Z9Cofqp53bQB"
   },
   "source": [
    "#### Acknowledgements\n",
    "\n",
    "This notebook is heavily adapted from a number of incredible resources on Transformers, including but not limited to:\n",
    "\n",
    "- https://blog.floydhub.com/the-transformer-in-pytorch/\n",
    "- https://arxiv.org/pdf/1706.03762.pdf\n",
    "- https://txt.cohere.com/what-are-transformer-models/\n",
    "- https://jalammar.github.io/illustrated-transformer/"
   ]
  }
 ],
 "metadata": {
  "accelerator": "GPU",
  "colab": {
   "gpuType": "A100",
   "include_colab_link": true,
   "machine_shape": "hm",
   "provenance": []
  },
  "kernelspec": {
   "display_name": "Python 3 (ipykernel)",
   "language": "python",
   "name": "python3"
  },
  "language_info": {
   "codemirror_mode": {
    "name": "ipython",
    "version": 3
   },
   "file_extension": ".py",
   "mimetype": "text/x-python",
   "name": "python",
   "nbconvert_exporter": "python",
   "pygments_lexer": "ipython3",
   "version": "3.11.10"
  }
 },
 "nbformat": 4,
 "nbformat_minor": 4
}
